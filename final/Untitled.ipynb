{
 "cells": [
  {
   "cell_type": "code",
   "execution_count": 41,
   "metadata": {},
   "outputs": [],
   "source": [
    "# -*- coding: utf-8 -*-\n",
    "import libdtw as lib\n",
    "import pickle\n",
    "import numpy as np\n",
    "from sksurv.linear_model import CoxPHSurvivalAnalysis\n",
    "import matplotlib.pyplot as plt\n",
    "import pandas as pd\n",
    "from sklearn.preprocessing import MinMaxScaler\n",
    "from seaborn import kdeplot\n",
    "import pymc3\n",
    "\n",
    "data = lib.load_data(100)\n",
    "\n",
    "D = lib.Dtw(data)\n",
    "\n",
    "with open('dtwObjOptWeights16AllFeats.pickle', 'rb') as f:\n",
    "    D_weights = pickle.load(f)\n",
    "D.data['feat_weights'] = D_weights\n",
    "\n",
    "step_pattern = 'symmetricP2'"
   ]
  },
  {
   "cell_type": "code",
   "execution_count": 77,
   "metadata": {},
   "outputs": [
    {
     "name": "stderr",
     "output_type": "stream",
     "text": [
      "[Parallel(n_jobs=-1)]: Using backend LokyBackend with 8 concurrent workers.\n",
      "[Parallel(n_jobs=-1)]: Done   2 tasks      | elapsed:   14.3s\n",
      "[Parallel(n_jobs=-1)]: Done  56 tasks      | elapsed:   58.2s\n",
      "[Parallel(n_jobs=-1)]: Done 146 tasks      | elapsed:  2.3min\n",
      "[Parallel(n_jobs=-1)]: Done 272 tasks      | elapsed:  4.0min\n",
      "[Parallel(n_jobs=-1)]: Done 434 tasks      | elapsed:  6.4min\n",
      "[Parallel(n_jobs=-1)]: Done 500 out of 500 | elapsed:  7.3min finished\n"
     ]
    }
   ],
   "source": [
    "data_set = D.generate_train_set(500, step_pattern, n_jobs = -1)\n",
    "data_set.drop(columns = ['step_pattern'])\n",
    "\n",
    "def build_structured_array(data_set):\n",
    "    output = list()\n",
    "    for idx, row in data_set.iterrows():\n",
    "        survival_time = row['true_length'] - row['length']\n",
    "        output.append((True, survival_time))\n",
    "    res = np.array(output, dtype = [('status', bool), ('time_remaining', 'f8')])\n",
    "    return res\n",
    "\n",
    "data_y = build_structured_array(data_set)"
   ]
  },
  {
   "cell_type": "code",
   "execution_count": 79,
   "metadata": {},
   "outputs": [
    {
     "name": "stdout",
     "output_type": "stream",
     "text": [
      "(500, 13) \n",
      " Index(['DTW_distance', 'length', 'query_id', 'step_pattern', 'ba_FQK6C3k2v6Z',\n",
      "       'ba_FQ2Qyx', 'ba_FQADMQfb0z', 'ba_FQYXdr6Q0', 'ba_FQNOJG',\n",
      "       'ba_FQnZKYLSO02xLf', 'ba_FQ68FvvUHzgUeA', 'ba_FQfXW5EZxRg3',\n",
      "       'ba_FQPDzN'],\n",
      "      dtype='object')\n"
     ]
    }
   ],
   "source": [
    "for idx, row in data_set.iterrows():\n",
    "    _id = row['query_id']\n",
    "    batch = D.data['queries'][_id]\n",
    "    length = row['length']\n",
    "    for pv in batch:\n",
    "        data_set.at[idx, pv['name']] = pv['values'][length - 1]\n",
    "        \n",
    "corr_matrix = data_set.corr().abs()\n",
    "corr_matrix.fillna(1, inplace = True)\n",
    "# Select upper triangle of correlation matrix\n",
    "upper = corr_matrix.where(np.triu(np.ones(corr_matrix.shape), k=1).astype(np.bool))\n",
    "\n",
    "# Find index of feature columns with correlation greater than 0.95\n",
    "to_drop = [column for column in upper.columns if any(upper[column] > 0.95)]\n",
    "\n",
    "# Drop features \n",
    "data_set.drop(columns = to_drop, inplace = True)\n",
    "print(data_set.shape, '\\n', data_set.columns)"
   ]
  },
  {
   "cell_type": "code",
   "execution_count": 89,
   "metadata": {},
   "outputs": [
    {
     "ename": "ValueError",
     "evalue": "could not convert string to float: 'symmetricP2'",
     "output_type": "error",
     "traceback": [
      "\u001b[1;31m---------------------------------------------------------------------------\u001b[0m",
      "\u001b[1;31mValueError\u001b[0m                                Traceback (most recent call last)",
      "\u001b[1;32m<ipython-input-89-5ca5d265c7a4>\u001b[0m in \u001b[0;36m<module>\u001b[1;34m()\u001b[0m\n\u001b[0;32m      1\u001b[0m \u001b[0mscale_dataset\u001b[0m \u001b[1;33m=\u001b[0m \u001b[0mMinMaxScaler\u001b[0m\u001b[1;33m(\u001b[0m\u001b[1;33m)\u001b[0m\u001b[1;33m\u001b[0m\u001b[0m\n\u001b[1;32m----> 2\u001b[1;33m \u001b[0mdata_set\u001b[0m \u001b[1;33m=\u001b[0m \u001b[0mscaler\u001b[0m\u001b[1;33m.\u001b[0m\u001b[0mfit_transform\u001b[0m\u001b[1;33m(\u001b[0m\u001b[0mdata_set\u001b[0m\u001b[1;33m)\u001b[0m\u001b[1;33m\u001b[0m\u001b[0m\n\u001b[0m",
      "\u001b[1;32m~\\AppData\\Local\\Continuum\\anaconda3\\lib\\site-packages\\sklearn\\base.py\u001b[0m in \u001b[0;36mfit_transform\u001b[1;34m(self, X, y, **fit_params)\u001b[0m\n\u001b[0;32m    515\u001b[0m         \u001b[1;32mif\u001b[0m \u001b[0my\u001b[0m \u001b[1;32mis\u001b[0m \u001b[1;32mNone\u001b[0m\u001b[1;33m:\u001b[0m\u001b[1;33m\u001b[0m\u001b[0m\n\u001b[0;32m    516\u001b[0m             \u001b[1;31m# fit method of arity 1 (unsupervised transformation)\u001b[0m\u001b[1;33m\u001b[0m\u001b[1;33m\u001b[0m\u001b[0m\n\u001b[1;32m--> 517\u001b[1;33m             \u001b[1;32mreturn\u001b[0m \u001b[0mself\u001b[0m\u001b[1;33m.\u001b[0m\u001b[0mfit\u001b[0m\u001b[1;33m(\u001b[0m\u001b[0mX\u001b[0m\u001b[1;33m,\u001b[0m \u001b[1;33m**\u001b[0m\u001b[0mfit_params\u001b[0m\u001b[1;33m)\u001b[0m\u001b[1;33m.\u001b[0m\u001b[0mtransform\u001b[0m\u001b[1;33m(\u001b[0m\u001b[0mX\u001b[0m\u001b[1;33m)\u001b[0m\u001b[1;33m\u001b[0m\u001b[0m\n\u001b[0m\u001b[0;32m    518\u001b[0m         \u001b[1;32melse\u001b[0m\u001b[1;33m:\u001b[0m\u001b[1;33m\u001b[0m\u001b[0m\n\u001b[0;32m    519\u001b[0m             \u001b[1;31m# fit method of arity 2 (supervised transformation)\u001b[0m\u001b[1;33m\u001b[0m\u001b[1;33m\u001b[0m\u001b[0m\n",
      "\u001b[1;32m~\\AppData\\Local\\Continuum\\anaconda3\\lib\\site-packages\\sklearn\\preprocessing\\data.py\u001b[0m in \u001b[0;36mfit\u001b[1;34m(self, X, y)\u001b[0m\n\u001b[0;32m    306\u001b[0m         \u001b[1;31m# Reset internal state before fitting\u001b[0m\u001b[1;33m\u001b[0m\u001b[1;33m\u001b[0m\u001b[0m\n\u001b[0;32m    307\u001b[0m         \u001b[0mself\u001b[0m\u001b[1;33m.\u001b[0m\u001b[0m_reset\u001b[0m\u001b[1;33m(\u001b[0m\u001b[1;33m)\u001b[0m\u001b[1;33m\u001b[0m\u001b[0m\n\u001b[1;32m--> 308\u001b[1;33m         \u001b[1;32mreturn\u001b[0m \u001b[0mself\u001b[0m\u001b[1;33m.\u001b[0m\u001b[0mpartial_fit\u001b[0m\u001b[1;33m(\u001b[0m\u001b[0mX\u001b[0m\u001b[1;33m,\u001b[0m \u001b[0my\u001b[0m\u001b[1;33m)\u001b[0m\u001b[1;33m\u001b[0m\u001b[0m\n\u001b[0m\u001b[0;32m    309\u001b[0m \u001b[1;33m\u001b[0m\u001b[0m\n\u001b[0;32m    310\u001b[0m     \u001b[1;32mdef\u001b[0m \u001b[0mpartial_fit\u001b[0m\u001b[1;33m(\u001b[0m\u001b[0mself\u001b[0m\u001b[1;33m,\u001b[0m \u001b[0mX\u001b[0m\u001b[1;33m,\u001b[0m \u001b[0my\u001b[0m\u001b[1;33m=\u001b[0m\u001b[1;32mNone\u001b[0m\u001b[1;33m)\u001b[0m\u001b[1;33m:\u001b[0m\u001b[1;33m\u001b[0m\u001b[0m\n",
      "\u001b[1;32m~\\AppData\\Local\\Continuum\\anaconda3\\lib\\site-packages\\sklearn\\preprocessing\\data.py\u001b[0m in \u001b[0;36mpartial_fit\u001b[1;34m(self, X, y)\u001b[0m\n\u001b[0;32m    332\u001b[0m \u001b[1;33m\u001b[0m\u001b[0m\n\u001b[0;32m    333\u001b[0m         X = check_array(X, copy=self.copy, warn_on_dtype=True,\n\u001b[1;32m--> 334\u001b[1;33m                         estimator=self, dtype=FLOAT_DTYPES)\n\u001b[0m\u001b[0;32m    335\u001b[0m \u001b[1;33m\u001b[0m\u001b[0m\n\u001b[0;32m    336\u001b[0m         \u001b[0mdata_min\u001b[0m \u001b[1;33m=\u001b[0m \u001b[0mnp\u001b[0m\u001b[1;33m.\u001b[0m\u001b[0mmin\u001b[0m\u001b[1;33m(\u001b[0m\u001b[0mX\u001b[0m\u001b[1;33m,\u001b[0m \u001b[0maxis\u001b[0m\u001b[1;33m=\u001b[0m\u001b[1;36m0\u001b[0m\u001b[1;33m)\u001b[0m\u001b[1;33m\u001b[0m\u001b[0m\n",
      "\u001b[1;32m~\\AppData\\Local\\Continuum\\anaconda3\\lib\\site-packages\\sklearn\\utils\\validation.py\u001b[0m in \u001b[0;36mcheck_array\u001b[1;34m(array, accept_sparse, dtype, order, copy, force_all_finite, ensure_2d, allow_nd, ensure_min_samples, ensure_min_features, warn_on_dtype, estimator)\u001b[0m\n\u001b[0;32m    431\u001b[0m                                       force_all_finite)\n\u001b[0;32m    432\u001b[0m     \u001b[1;32melse\u001b[0m\u001b[1;33m:\u001b[0m\u001b[1;33m\u001b[0m\u001b[0m\n\u001b[1;32m--> 433\u001b[1;33m         \u001b[0marray\u001b[0m \u001b[1;33m=\u001b[0m \u001b[0mnp\u001b[0m\u001b[1;33m.\u001b[0m\u001b[0marray\u001b[0m\u001b[1;33m(\u001b[0m\u001b[0marray\u001b[0m\u001b[1;33m,\u001b[0m \u001b[0mdtype\u001b[0m\u001b[1;33m=\u001b[0m\u001b[0mdtype\u001b[0m\u001b[1;33m,\u001b[0m \u001b[0morder\u001b[0m\u001b[1;33m=\u001b[0m\u001b[0morder\u001b[0m\u001b[1;33m,\u001b[0m \u001b[0mcopy\u001b[0m\u001b[1;33m=\u001b[0m\u001b[0mcopy\u001b[0m\u001b[1;33m)\u001b[0m\u001b[1;33m\u001b[0m\u001b[0m\n\u001b[0m\u001b[0;32m    434\u001b[0m \u001b[1;33m\u001b[0m\u001b[0m\n\u001b[0;32m    435\u001b[0m         \u001b[1;32mif\u001b[0m \u001b[0mensure_2d\u001b[0m\u001b[1;33m:\u001b[0m\u001b[1;33m\u001b[0m\u001b[0m\n",
      "\u001b[1;31mValueError\u001b[0m: could not convert string to float: 'symmetricP2'"
     ]
    }
   ],
   "source": [
    "scale_dataset = MinMaxScaler()\n"
   ]
  },
  {
   "cell_type": "code",
   "execution_count": 120,
   "metadata": {},
   "outputs": [],
   "source": [
    "data_set_surv = data_set.drop(columns=['query_id', 'step_pattern'])"
   ]
  },
  {
   "cell_type": "code",
   "execution_count": 113,
   "metadata": {},
   "outputs": [],
   "source": [
    "query_id = '5260'\n",
    "true_length = len(data[query_id][0]['values'])"
   ]
  },
  {
   "cell_type": "code",
   "execution_count": 114,
   "metadata": {},
   "outputs": [
    {
     "name": "stderr",
     "output_type": "stream",
     "text": [
      "[Parallel(n_jobs=-1)]: Using backend LokyBackend with 8 concurrent workers.\n",
      "[Parallel(n_jobs=-1)]: Done   2 tasks      | elapsed:   11.2s\n",
      "[Parallel(n_jobs=-1)]: Done  56 tasks      | elapsed:   21.1s\n",
      "[Parallel(n_jobs=-1)]: Done 146 tasks      | elapsed:  1.1min\n",
      "[Parallel(n_jobs=-1)]: Done 272 tasks      | elapsed:  2.9min\n",
      "[Parallel(n_jobs=-1)]: Done 389 out of 389 | elapsed:  5.4min finished\n"
     ]
    }
   ],
   "source": [
    "online = D.generate_train_set(step_pattern=step_pattern, query_id=query_id, n_jobs = -1)"
   ]
  },
  {
   "cell_type": "code",
   "execution_count": 115,
   "metadata": {},
   "outputs": [],
   "source": [
    "for idx, row in online.iterrows():\n",
    "    _id = row['query_id']\n",
    "    batch = D.data['queries'][_id]\n",
    "    length = row['length']\n",
    "    for pv in batch:\n",
    "        online.at[idx, pv['name']] = pv['values'][length - 1]"
   ]
  },
  {
   "cell_type": "code",
   "execution_count": 121,
   "metadata": {},
   "outputs": [
    {
     "name": "stdout",
     "output_type": "stream",
     "text": [
      "[ -1.27988857 -10.17500574   0.07552403   0.21039655   0.51050771\n",
      "  -0.54129923  -0.31738736   0.46493691   0.62996944   0.35759347\n",
      "   0.20800867]\n",
      "[ 0.99452445 -4.77520102  0.08097863  0.14999939  0.65485296 -0.18094982\n",
      " -0.6171595   0.34177654  0.84733891 -0.70203093  0.24838024]\n",
      "[ 0.46896061 -1.92207513  0.02849105 -0.0029764   0.12546808  0.12690179\n",
      " -0.25007822 -0.06110352  0.36368482 -0.13583118  0.04126914]\n",
      "[ 0.06487791 -0.19011082  0.00527132  0.00170986  0.01400983  0.01567552\n",
      " -0.02942842 -0.00451733  0.03747644 -0.02094818  0.00130379]\n",
      "[ 8.94989859e-04 -1.67907694e-03  5.37013761e-05  1.13390986e-05\n",
      "  9.23456601e-05  2.15541246e-04 -2.83936228e-04 -1.79577617e-04\n",
      "  3.44693632e-04 -1.51858851e-04  3.22399852e-06]\n",
      "[ 1.45998937e-07 -1.38284073e-07  5.86852200e-09  8.34315123e-10\n",
      "  5.70621482e-09  2.34888827e-08 -2.40307438e-08 -3.76888143e-08\n",
      "  3.23528769e-08 -1.42690806e-08 -2.61062012e-10]\n"
     ]
    },
    {
     "data": {
      "text/plain": [
       "CoxPHSurvivalAnalysis(alpha=0, n_iter=100, tol=1e-09, verbose=0)"
      ]
     },
     "execution_count": 121,
     "metadata": {},
     "output_type": "execute_result"
    }
   ],
   "source": [
    "online_surv = online.loc[:, data_set_surv.columns]\n",
    "data_set_surv = pd.DataFrame(scale_dataset.fit_transform(data_set_surv), columns=data_set_surv.columns)\n",
    "online_surv = pd.DataFrame(scale_dataset.transform(online_surv), columns=data_set_surv.columns)\n",
    "estimator = CoxPHSurvivalAnalysis()\n",
    "estimator.fit(data_set_surv, data_y)"
   ]
  },
  {
   "cell_type": "code",
   "execution_count": 122,
   "metadata": {},
   "outputs": [
    {
     "data": {
      "text/html": [
       "<div>\n",
       "<style scoped>\n",
       "    .dataframe tbody tr th:only-of-type {\n",
       "        vertical-align: middle;\n",
       "    }\n",
       "\n",
       "    .dataframe tbody tr th {\n",
       "        vertical-align: top;\n",
       "    }\n",
       "\n",
       "    .dataframe thead th {\n",
       "        text-align: right;\n",
       "    }\n",
       "</style>\n",
       "<table border=\"1\" class=\"dataframe\">\n",
       "  <thead>\n",
       "    <tr style=\"text-align: right;\">\n",
       "      <th></th>\n",
       "      <th>DTW_distance</th>\n",
       "      <th>length</th>\n",
       "      <th>ba_FQK6C3k2v6Z</th>\n",
       "      <th>ba_FQ2Qyx</th>\n",
       "      <th>ba_FQADMQfb0z</th>\n",
       "      <th>ba_FQYXdr6Q0</th>\n",
       "      <th>ba_FQNOJG</th>\n",
       "      <th>ba_FQnZKYLSO02xLf</th>\n",
       "      <th>ba_FQ68FvvUHzgUeA</th>\n",
       "      <th>ba_FQfXW5EZxRg3</th>\n",
       "      <th>ba_FQPDzN</th>\n",
       "    </tr>\n",
       "  </thead>\n",
       "  <tbody>\n",
       "    <tr>\n",
       "      <th>0</th>\n",
       "      <td>0.321529</td>\n",
       "      <td>0.000000</td>\n",
       "      <td>0.999906</td>\n",
       "      <td>0.000089</td>\n",
       "      <td>0.202618</td>\n",
       "      <td>0.239465</td>\n",
       "      <td>0.002316</td>\n",
       "      <td>0.001669</td>\n",
       "      <td>0.896567</td>\n",
       "      <td>0.000219</td>\n",
       "      <td>0.008889</td>\n",
       "    </tr>\n",
       "    <tr>\n",
       "      <th>1</th>\n",
       "      <td>0.739820</td>\n",
       "      <td>0.002174</td>\n",
       "      <td>0.999906</td>\n",
       "      <td>0.000089</td>\n",
       "      <td>0.202618</td>\n",
       "      <td>0.239465</td>\n",
       "      <td>0.002316</td>\n",
       "      <td>0.001669</td>\n",
       "      <td>0.896567</td>\n",
       "      <td>0.000219</td>\n",
       "      <td>0.008889</td>\n",
       "    </tr>\n",
       "    <tr>\n",
       "      <th>2</th>\n",
       "      <td>0.797310</td>\n",
       "      <td>0.004348</td>\n",
       "      <td>0.999906</td>\n",
       "      <td>0.000089</td>\n",
       "      <td>0.202618</td>\n",
       "      <td>0.239465</td>\n",
       "      <td>0.002316</td>\n",
       "      <td>0.001669</td>\n",
       "      <td>0.896567</td>\n",
       "      <td>0.000219</td>\n",
       "      <td>0.008889</td>\n",
       "    </tr>\n",
       "    <tr>\n",
       "      <th>3</th>\n",
       "      <td>0.729169</td>\n",
       "      <td>0.006522</td>\n",
       "      <td>0.999906</td>\n",
       "      <td>0.000089</td>\n",
       "      <td>0.202618</td>\n",
       "      <td>0.239465</td>\n",
       "      <td>0.002316</td>\n",
       "      <td>0.001669</td>\n",
       "      <td>0.896567</td>\n",
       "      <td>0.000219</td>\n",
       "      <td>0.008889</td>\n",
       "    </tr>\n",
       "    <tr>\n",
       "      <th>4</th>\n",
       "      <td>0.789939</td>\n",
       "      <td>0.008696</td>\n",
       "      <td>0.999906</td>\n",
       "      <td>0.000089</td>\n",
       "      <td>0.202618</td>\n",
       "      <td>0.239465</td>\n",
       "      <td>0.002316</td>\n",
       "      <td>0.001669</td>\n",
       "      <td>0.896567</td>\n",
       "      <td>0.000219</td>\n",
       "      <td>0.008889</td>\n",
       "    </tr>\n",
       "  </tbody>\n",
       "</table>\n",
       "</div>"
      ],
      "text/plain": [
       "   DTW_distance    length  ba_FQK6C3k2v6Z  ba_FQ2Qyx  ba_FQADMQfb0z  \\\n",
       "0      0.321529  0.000000        0.999906   0.000089       0.202618   \n",
       "1      0.739820  0.002174        0.999906   0.000089       0.202618   \n",
       "2      0.797310  0.004348        0.999906   0.000089       0.202618   \n",
       "3      0.729169  0.006522        0.999906   0.000089       0.202618   \n",
       "4      0.789939  0.008696        0.999906   0.000089       0.202618   \n",
       "\n",
       "   ba_FQYXdr6Q0  ba_FQNOJG  ba_FQnZKYLSO02xLf  ba_FQ68FvvUHzgUeA  \\\n",
       "0      0.239465   0.002316           0.001669           0.896567   \n",
       "1      0.239465   0.002316           0.001669           0.896567   \n",
       "2      0.239465   0.002316           0.001669           0.896567   \n",
       "3      0.239465   0.002316           0.001669           0.896567   \n",
       "4      0.239465   0.002316           0.001669           0.896567   \n",
       "\n",
       "   ba_FQfXW5EZxRg3  ba_FQPDzN  \n",
       "0         0.000219   0.008889  \n",
       "1         0.000219   0.008889  \n",
       "2         0.000219   0.008889  \n",
       "3         0.000219   0.008889  \n",
       "4         0.000219   0.008889  "
      ]
     },
     "execution_count": 122,
     "metadata": {},
     "output_type": "execute_result"
    }
   ],
   "source": [
    "online_surv.head()"
   ]
  },
  {
   "cell_type": "code",
   "execution_count": null,
   "metadata": {},
   "outputs": [],
   "source": [
    "import time\n",
    "from IPython.display import clear_output"
   ]
  },
  {
   "cell_type": "code",
   "execution_count": 123,
   "metadata": {},
   "outputs": [
    {
     "data": {
      "image/png": "[encoded data removed]",
      "text/plain": [
       "<Figure size 432x288 with 1 Axes>"
      ]
     },
     "metadata": {},
     "output_type": "display_data"
    },
    {
     "ename": "KeyboardInterrupt",
     "evalue": "",
     "output_type": "error",
     "traceback": [
      "\u001b[1;31m---------------------------------------------------------------------------\u001b[0m",
      "\u001b[1;31mKeyboardInterrupt\u001b[0m                         Traceback (most recent call last)",
      "\u001b[1;32m<ipython-input-123-fbfc99440b1d>\u001b[0m in \u001b[0;36m<module>\u001b[1;34m()\u001b[0m\n\u001b[0;32m     23\u001b[0m     \u001b[0mplt\u001b[0m\u001b[1;33m.\u001b[0m\u001b[0mshow\u001b[0m\u001b[1;33m(\u001b[0m\u001b[1;33m)\u001b[0m\u001b[1;33m\u001b[0m\u001b[0m\n\u001b[0;32m     24\u001b[0m \u001b[1;33m\u001b[0m\u001b[0m\n\u001b[1;32m---> 25\u001b[1;33m     \u001b[0mtime\u001b[0m\u001b[1;33m.\u001b[0m\u001b[0msleep\u001b[0m\u001b[1;33m(\u001b[0m\u001b[1;36m2\u001b[0m\u001b[1;33m)\u001b[0m\u001b[1;33m\u001b[0m\u001b[0m\n\u001b[0m",
      "\u001b[1;31mKeyboardInterrupt\u001b[0m: "
     ]
    }
   ],
   "source": [
    "for i in online_surv.index[::5]:\n",
    "    \n",
    "    row = online_surv.loc[i]    \n",
    "    pred_surv = estimator.predict_survival_function(row)\n",
    "    x = np.array(pred_surv[0].x) + i+1 \n",
    "    y_weight = np.gradient(1 - pred_surv[0].y, x)\n",
    "    scaler = MinMaxScaler((0, 100))\n",
    "    y = np.floor(scaler.fit_transform(y_weight.reshape(-1, 1)).ravel())\n",
    "    x_data = list()\n",
    "    for j, n in zip(x, y):\n",
    "        for k in np.arange(n):\n",
    "            x_data.append(j)\n",
    "    low, high = np.quantile(x_data, [.025, .975])\n",
    "    clear_output()\n",
    "    kdeplot(x_data)\n",
    "    plt.ylabel(\"est. probability of survival $\\hat{S}(t)$\")\n",
    "    plt.xlabel(\"time $t$\")\n",
    "    plt.vlines(true_length, 0, 1)\n",
    "    plt.vlines(low, 0, 1, color = \"b\")\n",
    "    plt.vlines(high, 0, 1, color = \"b\")\n",
    "    plt.vlines(i, 0, 1, color = \"r\")\n",
    "    plt.xlim((0, 500))\n",
    "    plt.show()\n",
    "\n",
    "    time.sleep(2)"
   ]
  },
  {
   "cell_type": "code",
   "execution_count": 124,
   "metadata": {},
   "outputs": [
    {
     "data": {
      "image/png": "[encoded data removed]",
      "text/plain": [
       "<Figure size 432x288 with 1 Axes>"
      ]
     },
     "metadata": {},
     "output_type": "display_data"
    }
   ],
   "source": [
    "from scipy import stats\n",
    "for i in online_surv.index:\n",
    "    \n",
    "    row = online_surv.loc[i]    \n",
    "    pred_surv = estimator.predict_survival_function(row)\n",
    "    x = np.array(pred_surv[0].x) + i+1 \n",
    "    y_weight = np.gradient(1 - pred_surv[0].y, x)\n",
    "    scaler = MinMaxScaler((0, 100))\n",
    "    y = np.floor(scaler.fit_transform(y_weight.reshape(-1, 1)).ravel())\n",
    "    x_data = list()\n",
    "    for j, n in zip(x, y):\n",
    "        for k in np.arange(n):\n",
    "            x_data.append(j)\n",
    "    low95, high95 = np.quantile(x_data, [.025, .975])\n",
    "    low80, high80 = np.quantile(x_data, [.1, .9])\n",
    "    pred = stats.mode(x_data)[0]\n",
    "    #clear_output()\n",
    "    #kdeplot(x_data)\n",
    "    plt.fill_between([i], low95, high95, color = '#59b5e0')\n",
    "    plt.fill_between([i], low80, high80, color = '#0090d3')\n",
    "    plt.hlines(y=true_length, xmin=0,xmax=true_length,color='#000000')\n",
    "    plt.xlabel(\"ongoing time $t$\")\n",
    "    plt.legend(labels = ['95% confidence region', '80% confidence region'])\n",
    "    plt.scatter(i, pred, color = 'r')\n",
    "    #plt.vlines(true_length, 0, 1)\n",
    "    #plt.vlines(low, 0, 1, color = \"b\")\n",
    "    #plt.vlines(high, 0, 1, color = \"b\")\n",
    "    #plt.vlines(i, 0, 1, color = \"r\")\n",
    "    plt.ylim((300,500))\n",
    "    plt.xlim((0, true_length))\n",
    "    \n",
    "plt.hlines(y=true_length, xmin=0,xmax=true_length,color='#000000')\n",
    "plt.hlines(y=358, xmin=0,xmax=true_length,color='#a9acad')\n",
    "plt.hlines(y=474, xmin=0,xmax=true_length,color='#a9acad')\n",
    "\n",
    "plt.title(query_id)\n",
    "plt.show()\n",
    "\n",
    "   # time.sleep(2)"
   ]
  },
  {
   "cell_type": "code",
   "execution_count": 110,
   "metadata": {},
   "outputs": [
    {
     "data": {
      "text/plain": [
       "array([421.])"
      ]
     },
     "execution_count": 110,
     "metadata": {},
     "output_type": "execute_result"
    }
   ],
   "source": [
    "pred[0]"
   ]
  }
 ],
 "metadata": {
  "kernelspec": {
   "display_name": "Python 3",
   "language": "python",
   "name": "python3"
  },
  "language_info": {
   "codemirror_mode": {
    "name": "ipython",
    "version": 3
   },
   "file_extension": ".py",
   "mimetype": "text/x-python",
   "name": "python",
   "nbconvert_exporter": "python",
   "pygments_lexer": "ipython3",
   "version": "3.6.5"
  }
 },
 "nbformat": 4,
 "nbformat_minor": 2
}
