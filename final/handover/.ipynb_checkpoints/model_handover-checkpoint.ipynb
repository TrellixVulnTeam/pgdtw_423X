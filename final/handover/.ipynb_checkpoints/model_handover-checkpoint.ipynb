{
 "cells": [
  {
   "cell_type": "markdown",
   "metadata": {},
   "source": [
    "This notebook presents the various elements of the predictive model built. The corresponding file is `model.py`\n",
    "\n",
    "The module contains two functions:\n",
    "- `build_structured_array`\n",
    "- `generate_dataset_xy`\n",
    "\n",
    "and one class:\n",
    "- `Estimator`\n",
    "\n",
    "The two functions make the data available to the estimator object.\n",
    "\n",
    "---\n",
    "`build_structured_array(data_set)` shapes the output variable, the survival time of a batch, as a structured array, that is the data structure accepted by the model in the `sksurv` package that is used in this estimator"
   ]
  },
  {
   "cell_type": "code",
   "execution_count": null,
   "metadata": {},
   "outputs": [],
   "source": [
    "def build_structured_array(data_set):\n",
    "    output = list()\n",
    "    for idx, row in data_set.iterrows():\n",
    "        survival_time = row['true_length'] - row['length']\n",
    "        output.append((True, survival_time))\n",
    "    res = np.array(output, dtype = [('status', bool), ('time_remaining', 'f8')])\n",
    "    return res"
   ]
  },
  {
   "cell_type": "markdown",
   "metadata": {},
   "source": []
  },
  {
   "cell_type": "code",
   "execution_count": null,
   "metadata": {},
   "outputs": [],
   "source": []
  }
 ],
 "metadata": {
  "kernelspec": {
   "display_name": "Python 3",
   "language": "python",
   "name": "python3"
  },
  "language_info": {
   "codemirror_mode": {
    "name": "ipython",
    "version": 3
   },
   "file_extension": ".py",
   "mimetype": "text/x-python",
   "name": "python",
   "nbconvert_exporter": "python",
   "pygments_lexer": "ipython3",
   "version": "3.6.5"
  }
 },
 "nbformat": 4,
 "nbformat_minor": 2
}
