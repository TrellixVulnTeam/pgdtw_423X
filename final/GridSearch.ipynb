{
 "cells": [
  {
   "cell_type": "code",
   "execution_count": 1,
   "metadata": {},
   "outputs": [
    {
     "name": "stderr",
     "output_type": "stream",
     "text": [
      "C:\\Users\\DEPAGRA\\AppData\\Local\\Continuum\\anaconda3\\lib\\site-packages\\sklearn\\ensemble\\weight_boosting.py:29: DeprecationWarning: numpy.core.umath_tests is an internal NumPy module and should not be imported. It will be removed in a future NumPy release.\n",
      "  from numpy.core.umath_tests import inner1d\n"
     ]
    },
    {
     "data": {
      "application/vnd.jupyter.widget-view+json": {
       "model_id": "ab392ae329af4fa68aa2f77b7b327618",
       "version_major": 2,
       "version_minor": 0
      },
      "text/plain": [
       "HBox(children=(IntProgress(value=0, description='Time loop', max=415), HTML(value='')))"
      ]
     },
     "metadata": {},
     "output_type": "display_data"
    },
    {
     "data": {
      "application/vnd.jupyter.widget-view+json": {
       "model_id": "",
       "version_major": 2,
       "version_minor": 0
      },
      "text/plain": [
       "HBox(children=(IntProgress(value=0, description='Parameter Loop', max=1), HTML(value='')))"
      ]
     },
     "metadata": {},
     "output_type": "display_data"
    },
    {
     "data": {
      "application/vnd.jupyter.widget-view+json": {
       "model_id": "",
       "version_major": 2,
       "version_minor": 0
      },
      "text/plain": [
       "HBox(children=(IntProgress(value=1, bar_style='info', description='CV loop', max=1), HTML(value='')))"
      ]
     },
     "metadata": {},
     "output_type": "display_data"
    },
    {
     "data": {
      "application/vnd.jupyter.widget-view+json": {
       "model_id": "",
       "version_major": 2,
       "version_minor": 0
      },
      "text/plain": [
       "HBox(children=(IntProgress(value=0, description='Parameter Loop', max=1), HTML(value='')))"
      ]
     },
     "metadata": {},
     "output_type": "display_data"
    },
    {
     "data": {
      "application/vnd.jupyter.widget-view+json": {
       "model_id": "",
       "version_major": 2,
       "version_minor": 0
      },
      "text/plain": [
       "HBox(children=(IntProgress(value=1, bar_style='info', description='CV loop', max=1), HTML(value='')))"
      ]
     },
     "metadata": {},
     "output_type": "display_data"
    },
    {
     "data": {
      "application/vnd.jupyter.widget-view+json": {
       "model_id": "",
       "version_major": 2,
       "version_minor": 0
      },
      "text/plain": [
       "HBox(children=(IntProgress(value=0, description='Parameter Loop', max=1), HTML(value='')))"
      ]
     },
     "metadata": {},
     "output_type": "display_data"
    },
    {
     "data": {
      "application/vnd.jupyter.widget-view+json": {
       "model_id": "",
       "version_major": 2,
       "version_minor": 0
      },
      "text/plain": [
       "HBox(children=(IntProgress(value=1, bar_style='info', description='CV loop', max=1), HTML(value='')))"
      ]
     },
     "metadata": {},
     "output_type": "display_data"
    },
    {
     "data": {
      "application/vnd.jupyter.widget-view+json": {
       "model_id": "",
       "version_major": 2,
       "version_minor": 0
      },
      "text/plain": [
       "HBox(children=(IntProgress(value=0, description='Parameter Loop', max=1), HTML(value='')))"
      ]
     },
     "metadata": {},
     "output_type": "display_data"
    },
    {
     "data": {
      "application/vnd.jupyter.widget-view+json": {
       "model_id": "",
       "version_major": 2,
       "version_minor": 0
      },
      "text/plain": [
       "HBox(children=(IntProgress(value=1, bar_style='info', description='CV loop', max=1), HTML(value='')))"
      ]
     },
     "metadata": {},
     "output_type": "display_data"
    },
    {
     "data": {
      "application/vnd.jupyter.widget-view+json": {
       "model_id": "",
       "version_major": 2,
       "version_minor": 0
      },
      "text/plain": [
       "HBox(children=(IntProgress(value=0, description='Parameter Loop', max=1), HTML(value='')))"
      ]
     },
     "metadata": {},
     "output_type": "display_data"
    },
    {
     "data": {
      "application/vnd.jupyter.widget-view+json": {
       "model_id": "",
       "version_major": 2,
       "version_minor": 0
      },
      "text/plain": [
       "HBox(children=(IntProgress(value=1, bar_style='info', description='CV loop', max=1), HTML(value='')))"
      ]
     },
     "metadata": {},
     "output_type": "display_data"
    },
    {
     "data": {
      "application/vnd.jupyter.widget-view+json": {
       "model_id": "",
       "version_major": 2,
       "version_minor": 0
      },
      "text/plain": [
       "HBox(children=(IntProgress(value=0, description='Parameter Loop', max=1), HTML(value='')))"
      ]
     },
     "metadata": {},
     "output_type": "display_data"
    },
    {
     "data": {
      "application/vnd.jupyter.widget-view+json": {
       "model_id": "",
       "version_major": 2,
       "version_minor": 0
      },
      "text/plain": [
       "HBox(children=(IntProgress(value=1, bar_style='info', description='CV loop', max=1), HTML(value='')))"
      ]
     },
     "metadata": {},
     "output_type": "display_data"
    },
    {
     "data": {
      "application/vnd.jupyter.widget-view+json": {
       "model_id": "",
       "version_major": 2,
       "version_minor": 0
      },
      "text/plain": [
       "HBox(children=(IntProgress(value=0, description='Parameter Loop', max=1), HTML(value='')))"
      ]
     },
     "metadata": {},
     "output_type": "display_data"
    },
    {
     "data": {
      "application/vnd.jupyter.widget-view+json": {
       "model_id": "",
       "version_major": 2,
       "version_minor": 0
      },
      "text/plain": [
       "HBox(children=(IntProgress(value=1, bar_style='info', description='CV loop', max=1), HTML(value='')))"
      ]
     },
     "metadata": {},
     "output_type": "display_data"
    },
    {
     "data": {
      "application/vnd.jupyter.widget-view+json": {
       "model_id": "",
       "version_major": 2,
       "version_minor": 0
      },
      "text/plain": [
       "HBox(children=(IntProgress(value=0, description='Parameter Loop', max=1), HTML(value='')))"
      ]
     },
     "metadata": {},
     "output_type": "display_data"
    },
    {
     "data": {
      "application/vnd.jupyter.widget-view+json": {
       "model_id": "",
       "version_major": 2,
       "version_minor": 0
      },
      "text/plain": [
       "HBox(children=(IntProgress(value=1, bar_style='info', description='CV loop', max=1), HTML(value='')))"
      ]
     },
     "metadata": {},
     "output_type": "display_data"
    },
    {
     "data": {
      "application/vnd.jupyter.widget-view+json": {
       "model_id": "",
       "version_major": 2,
       "version_minor": 0
      },
      "text/plain": [
       "HBox(children=(IntProgress(value=0, description='Parameter Loop', max=1), HTML(value='')))"
      ]
     },
     "metadata": {},
     "output_type": "display_data"
    },
    {
     "data": {
      "application/vnd.jupyter.widget-view+json": {
       "model_id": "",
       "version_major": 2,
       "version_minor": 0
      },
      "text/plain": [
       "HBox(children=(IntProgress(value=1, bar_style='info', description='CV loop', max=1), HTML(value='')))"
      ]
     },
     "metadata": {},
     "output_type": "display_data"
    },
    {
     "data": {
      "application/vnd.jupyter.widget-view+json": {
       "model_id": "",
       "version_major": 2,
       "version_minor": 0
      },
      "text/plain": [
       "HBox(children=(IntProgress(value=0, description='Parameter Loop', max=1), HTML(value='')))"
      ]
     },
     "metadata": {},
     "output_type": "display_data"
    },
    {
     "data": {
      "application/vnd.jupyter.widget-view+json": {
       "model_id": "",
       "version_major": 2,
       "version_minor": 0
      },
      "text/plain": [
       "HBox(children=(IntProgress(value=1, bar_style='info', description='CV loop', max=1), HTML(value='')))"
      ]
     },
     "metadata": {},
     "output_type": "display_data"
    },
    {
     "data": {
      "application/vnd.jupyter.widget-view+json": {
       "model_id": "",
       "version_major": 2,
       "version_minor": 0
      },
      "text/plain": [
       "HBox(children=(IntProgress(value=0, description='Parameter Loop', max=1), HTML(value='')))"
      ]
     },
     "metadata": {},
     "output_type": "display_data"
    },
    {
     "data": {
      "application/vnd.jupyter.widget-view+json": {
       "model_id": "",
       "version_major": 2,
       "version_minor": 0
      },
      "text/plain": [
       "HBox(children=(IntProgress(value=1, bar_style='info', description='CV loop', max=1), HTML(value='')))"
      ]
     },
     "metadata": {},
     "output_type": "display_data"
    },
    {
     "data": {
      "application/vnd.jupyter.widget-view+json": {
       "model_id": "",
       "version_major": 2,
       "version_minor": 0
      },
      "text/plain": [
       "HBox(children=(IntProgress(value=0, description='Parameter Loop', max=1), HTML(value='')))"
      ]
     },
     "metadata": {},
     "output_type": "display_data"
    },
    {
     "data": {
      "application/vnd.jupyter.widget-view+json": {
       "model_id": "",
       "version_major": 2,
       "version_minor": 0
      },
      "text/plain": [
       "HBox(children=(IntProgress(value=1, bar_style='info', description='CV loop', max=1), HTML(value='')))"
      ]
     },
     "metadata": {},
     "output_type": "display_data"
    },
    {
     "data": {
      "application/vnd.jupyter.widget-view+json": {
       "model_id": "",
       "version_major": 2,
       "version_minor": 0
      },
      "text/plain": [
       "HBox(children=(IntProgress(value=0, description='Parameter Loop', max=1), HTML(value='')))"
      ]
     },
     "metadata": {},
     "output_type": "display_data"
    },
    {
     "data": {
      "application/vnd.jupyter.widget-view+json": {
       "model_id": "",
       "version_major": 2,
       "version_minor": 0
      },
      "text/plain": [
       "HBox(children=(IntProgress(value=1, bar_style='info', description='CV loop', max=1), HTML(value='')))"
      ]
     },
     "metadata": {},
     "output_type": "display_data"
    },
    {
     "data": {
      "application/vnd.jupyter.widget-view+json": {
       "model_id": "",
       "version_major": 2,
       "version_minor": 0
      },
      "text/plain": [
       "HBox(children=(IntProgress(value=0, description='Parameter Loop', max=1), HTML(value='')))"
      ]
     },
     "metadata": {},
     "output_type": "display_data"
    },
    {
     "data": {
      "application/vnd.jupyter.widget-view+json": {
       "model_id": "",
       "version_major": 2,
       "version_minor": 0
      },
      "text/plain": [
       "HBox(children=(IntProgress(value=1, bar_style='info', description='CV loop', max=1), HTML(value='')))"
      ]
     },
     "metadata": {},
     "output_type": "display_data"
    },
    {
     "data": {
      "application/vnd.jupyter.widget-view+json": {
       "model_id": "",
       "version_major": 2,
       "version_minor": 0
      },
      "text/plain": [
       "HBox(children=(IntProgress(value=0, description='Parameter Loop', max=1), HTML(value='')))"
      ]
     },
     "metadata": {},
     "output_type": "display_data"
    },
    {
     "data": {
      "application/vnd.jupyter.widget-view+json": {
       "model_id": "",
       "version_major": 2,
       "version_minor": 0
      },
      "text/plain": [
       "HBox(children=(IntProgress(value=1, bar_style='info', description='CV loop', max=1), HTML(value='')))"
      ]
     },
     "metadata": {},
     "output_type": "display_data"
    },
    {
     "data": {
      "application/vnd.jupyter.widget-view+json": {
       "model_id": "",
       "version_major": 2,
       "version_minor": 0
      },
      "text/plain": [
       "HBox(children=(IntProgress(value=0, description='Parameter Loop', max=1), HTML(value='')))"
      ]
     },
     "metadata": {},
     "output_type": "display_data"
    },
    {
     "data": {
      "application/vnd.jupyter.widget-view+json": {
       "model_id": "",
       "version_major": 2,
       "version_minor": 0
      },
      "text/plain": [
       "HBox(children=(IntProgress(value=1, bar_style='info', description='CV loop', max=1), HTML(value='')))"
      ]
     },
     "metadata": {},
     "output_type": "display_data"
    },
    {
     "data": {
      "application/vnd.jupyter.widget-view+json": {
       "model_id": "",
       "version_major": 2,
       "version_minor": 0
      },
      "text/plain": [
       "HBox(children=(IntProgress(value=0, description='Parameter Loop', max=1), HTML(value='')))"
      ]
     },
     "metadata": {},
     "output_type": "display_data"
    },
    {
     "data": {
      "application/vnd.jupyter.widget-view+json": {
       "model_id": "",
       "version_major": 2,
       "version_minor": 0
      },
      "text/plain": [
       "HBox(children=(IntProgress(value=1, bar_style='info', description='CV loop', max=1), HTML(value='')))"
      ]
     },
     "metadata": {},
     "output_type": "display_data"
    },
    {
     "data": {
      "application/vnd.jupyter.widget-view+json": {
       "model_id": "",
       "version_major": 2,
       "version_minor": 0
      },
      "text/plain": [
       "HBox(children=(IntProgress(value=0, description='Parameter Loop', max=1), HTML(value='')))"
      ]
     },
     "metadata": {},
     "output_type": "display_data"
    },
    {
     "data": {
      "application/vnd.jupyter.widget-view+json": {
       "model_id": "",
       "version_major": 2,
       "version_minor": 0
      },
      "text/plain": [
       "HBox(children=(IntProgress(value=1, bar_style='info', description='CV loop', max=1), HTML(value='')))"
      ]
     },
     "metadata": {},
     "output_type": "display_data"
    },
    {
     "data": {
      "application/vnd.jupyter.widget-view+json": {
       "model_id": "",
       "version_major": 2,
       "version_minor": 0
      },
      "text/plain": [
       "HBox(children=(IntProgress(value=0, description='Parameter Loop', max=1), HTML(value='')))"
      ]
     },
     "metadata": {},
     "output_type": "display_data"
    },
    {
     "data": {
      "application/vnd.jupyter.widget-view+json": {
       "model_id": "",
       "version_major": 2,
       "version_minor": 0
      },
      "text/plain": [
       "HBox(children=(IntProgress(value=1, bar_style='info', description='CV loop', max=1), HTML(value='')))"
      ]
     },
     "metadata": {},
     "output_type": "display_data"
    },
    {
     "data": {
      "application/vnd.jupyter.widget-view+json": {
       "model_id": "",
       "version_major": 2,
       "version_minor": 0
      },
      "text/plain": [
       "HBox(children=(IntProgress(value=0, description='Parameter Loop', max=1), HTML(value='')))"
      ]
     },
     "metadata": {},
     "output_type": "display_data"
    },
    {
     "data": {
      "application/vnd.jupyter.widget-view+json": {
       "model_id": "",
       "version_major": 2,
       "version_minor": 0
      },
      "text/plain": [
       "HBox(children=(IntProgress(value=1, bar_style='info', description='CV loop', max=1), HTML(value='')))"
      ]
     },
     "metadata": {},
     "output_type": "display_data"
    },
    {
     "data": {
      "application/vnd.jupyter.widget-view+json": {
       "model_id": "",
       "version_major": 2,
       "version_minor": 0
      },
      "text/plain": [
       "HBox(children=(IntProgress(value=0, description='Parameter Loop', max=1), HTML(value='')))"
      ]
     },
     "metadata": {},
     "output_type": "display_data"
    },
    {
     "data": {
      "application/vnd.jupyter.widget-view+json": {
       "model_id": "",
       "version_major": 2,
       "version_minor": 0
      },
      "text/plain": [
       "HBox(children=(IntProgress(value=1, bar_style='info', description='CV loop', max=1), HTML(value='')))"
      ]
     },
     "metadata": {},
     "output_type": "display_data"
    },
    {
     "data": {
      "application/vnd.jupyter.widget-view+json": {
       "model_id": "",
       "version_major": 2,
       "version_minor": 0
      },
      "text/plain": [
       "HBox(children=(IntProgress(value=0, description='Parameter Loop', max=1), HTML(value='')))"
      ]
     },
     "metadata": {},
     "output_type": "display_data"
    },
    {
     "data": {
      "application/vnd.jupyter.widget-view+json": {
       "model_id": "",
       "version_major": 2,
       "version_minor": 0
      },
      "text/plain": [
       "HBox(children=(IntProgress(value=1, bar_style='info', description='CV loop', max=1), HTML(value='')))"
      ]
     },
     "metadata": {},
     "output_type": "display_data"
    },
    {
     "data": {
      "application/vnd.jupyter.widget-view+json": {
       "model_id": "",
       "version_major": 2,
       "version_minor": 0
      },
      "text/plain": [
       "HBox(children=(IntProgress(value=0, description='Parameter Loop', max=1), HTML(value='')))"
      ]
     },
     "metadata": {},
     "output_type": "display_data"
    },
    {
     "data": {
      "application/vnd.jupyter.widget-view+json": {
       "model_id": "",
       "version_major": 2,
       "version_minor": 0
      },
      "text/plain": [
       "HBox(children=(IntProgress(value=1, bar_style='info', description='CV loop', max=1), HTML(value='')))"
      ]
     },
     "metadata": {},
     "output_type": "display_data"
    },
    {
     "data": {
      "application/vnd.jupyter.widget-view+json": {
       "model_id": "",
       "version_major": 2,
       "version_minor": 0
      },
      "text/plain": [
       "HBox(children=(IntProgress(value=0, description='Parameter Loop', max=1), HTML(value='')))"
      ]
     },
     "metadata": {},
     "output_type": "display_data"
    },
    {
     "data": {
      "application/vnd.jupyter.widget-view+json": {
       "model_id": "",
       "version_major": 2,
       "version_minor": 0
      },
      "text/plain": [
       "HBox(children=(IntProgress(value=1, bar_style='info', description='CV loop', max=1), HTML(value='')))"
      ]
     },
     "metadata": {},
     "output_type": "display_data"
    },
    {
     "data": {
      "application/vnd.jupyter.widget-view+json": {
       "model_id": "",
       "version_major": 2,
       "version_minor": 0
      },
      "text/plain": [
       "HBox(children=(IntProgress(value=0, description='Parameter Loop', max=1), HTML(value='')))"
      ]
     },
     "metadata": {},
     "output_type": "display_data"
    },
    {
     "data": {
      "application/vnd.jupyter.widget-view+json": {
       "model_id": "",
       "version_major": 2,
       "version_minor": 0
      },
      "text/plain": [
       "HBox(children=(IntProgress(value=1, bar_style='info', description='CV loop', max=1), HTML(value='')))"
      ]
     },
     "metadata": {},
     "output_type": "display_data"
    },
    {
     "data": {
      "application/vnd.jupyter.widget-view+json": {
       "model_id": "",
       "version_major": 2,
       "version_minor": 0
      },
      "text/plain": [
       "HBox(children=(IntProgress(value=0, description='Parameter Loop', max=1), HTML(value='')))"
      ]
     },
     "metadata": {},
     "output_type": "display_data"
    },
    {
     "data": {
      "application/vnd.jupyter.widget-view+json": {
       "model_id": "",
       "version_major": 2,
       "version_minor": 0
      },
      "text/plain": [
       "HBox(children=(IntProgress(value=1, bar_style='info', description='CV loop', max=1), HTML(value='')))"
      ]
     },
     "metadata": {},
     "output_type": "display_data"
    },
    {
     "data": {
      "application/vnd.jupyter.widget-view+json": {
       "model_id": "",
       "version_major": 2,
       "version_minor": 0
      },
      "text/plain": [
       "HBox(children=(IntProgress(value=0, description='Parameter Loop', max=1), HTML(value='')))"
      ]
     },
     "metadata": {},
     "output_type": "display_data"
    },
    {
     "data": {
      "application/vnd.jupyter.widget-view+json": {
       "model_id": "",
       "version_major": 2,
       "version_minor": 0
      },
      "text/plain": [
       "HBox(children=(IntProgress(value=1, bar_style='info', description='CV loop', max=1), HTML(value='')))"
      ]
     },
     "metadata": {},
     "output_type": "display_data"
    },
    {
     "data": {
      "application/vnd.jupyter.widget-view+json": {
       "model_id": "",
       "version_major": 2,
       "version_minor": 0
      },
      "text/plain": [
       "HBox(children=(IntProgress(value=0, description='Parameter Loop', max=1), HTML(value='')))"
      ]
     },
     "metadata": {},
     "output_type": "display_data"
    },
    {
     "data": {
      "application/vnd.jupyter.widget-view+json": {
       "model_id": "",
       "version_major": 2,
       "version_minor": 0
      },
      "text/plain": [
       "HBox(children=(IntProgress(value=1, bar_style='info', description='CV loop', max=1), HTML(value='')))"
      ]
     },
     "metadata": {},
     "output_type": "display_data"
    },
    {
     "data": {
      "application/vnd.jupyter.widget-view+json": {
       "model_id": "",
       "version_major": 2,
       "version_minor": 0
      },
      "text/plain": [
       "HBox(children=(IntProgress(value=0, description='Parameter Loop', max=1), HTML(value='')))"
      ]
     },
     "metadata": {},
     "output_type": "display_data"
    },
    {
     "data": {
      "application/vnd.jupyter.widget-view+json": {
       "model_id": "",
       "version_major": 2,
       "version_minor": 0
      },
      "text/plain": [
       "HBox(children=(IntProgress(value=1, bar_style='info', description='CV loop', max=1), HTML(value='')))"
      ]
     },
     "metadata": {},
     "output_type": "display_data"
    },
    {
     "data": {
      "application/vnd.jupyter.widget-view+json": {
       "model_id": "",
       "version_major": 2,
       "version_minor": 0
      },
      "text/plain": [
       "HBox(children=(IntProgress(value=0, description='Parameter Loop', max=1), HTML(value='')))"
      ]
     },
     "metadata": {},
     "output_type": "display_data"
    },
    {
     "data": {
      "application/vnd.jupyter.widget-view+json": {
       "model_id": "",
       "version_major": 2,
       "version_minor": 0
      },
      "text/plain": [
       "HBox(children=(IntProgress(value=1, bar_style='info', description='CV loop', max=1), HTML(value='')))"
      ]
     },
     "metadata": {},
     "output_type": "display_data"
    },
    {
     "data": {
      "application/vnd.jupyter.widget-view+json": {
       "model_id": "",
       "version_major": 2,
       "version_minor": 0
      },
      "text/plain": [
       "HBox(children=(IntProgress(value=0, description='Parameter Loop', max=1), HTML(value='')))"
      ]
     },
     "metadata": {},
     "output_type": "display_data"
    },
    {
     "data": {
      "application/vnd.jupyter.widget-view+json": {
       "model_id": "",
       "version_major": 2,
       "version_minor": 0
      },
      "text/plain": [
       "HBox(children=(IntProgress(value=1, bar_style='info', description='CV loop', max=1), HTML(value='')))"
      ]
     },
     "metadata": {},
     "output_type": "display_data"
    },
    {
     "data": {
      "application/vnd.jupyter.widget-view+json": {
       "model_id": "",
       "version_major": 2,
       "version_minor": 0
      },
      "text/plain": [
       "HBox(children=(IntProgress(value=0, description='Parameter Loop', max=1), HTML(value='')))"
      ]
     },
     "metadata": {},
     "output_type": "display_data"
    },
    {
     "data": {
      "application/vnd.jupyter.widget-view+json": {
       "model_id": "",
       "version_major": 2,
       "version_minor": 0
      },
      "text/plain": [
       "HBox(children=(IntProgress(value=1, bar_style='info', description='CV loop', max=1), HTML(value='')))"
      ]
     },
     "metadata": {},
     "output_type": "display_data"
    },
    {
     "data": {
      "application/vnd.jupyter.widget-view+json": {
       "model_id": "",
       "version_major": 2,
       "version_minor": 0
      },
      "text/plain": [
       "HBox(children=(IntProgress(value=0, description='Parameter Loop', max=1), HTML(value='')))"
      ]
     },
     "metadata": {},
     "output_type": "display_data"
    },
    {
     "data": {
      "application/vnd.jupyter.widget-view+json": {
       "model_id": "",
       "version_major": 2,
       "version_minor": 0
      },
      "text/plain": [
       "HBox(children=(IntProgress(value=1, bar_style='info', description='CV loop', max=1), HTML(value='')))"
      ]
     },
     "metadata": {},
     "output_type": "display_data"
    },
    {
     "data": {
      "application/vnd.jupyter.widget-view+json": {
       "model_id": "",
       "version_major": 2,
       "version_minor": 0
      },
      "text/plain": [
       "HBox(children=(IntProgress(value=0, description='Parameter Loop', max=1), HTML(value='')))"
      ]
     },
     "metadata": {},
     "output_type": "display_data"
    },
    {
     "data": {
      "application/vnd.jupyter.widget-view+json": {
       "model_id": "",
       "version_major": 2,
       "version_minor": 0
      },
      "text/plain": [
       "HBox(children=(IntProgress(value=1, bar_style='info', description='CV loop', max=1), HTML(value='')))"
      ]
     },
     "metadata": {},
     "output_type": "display_data"
    },
    {
     "data": {
      "application/vnd.jupyter.widget-view+json": {
       "model_id": "",
       "version_major": 2,
       "version_minor": 0
      },
      "text/plain": [
       "HBox(children=(IntProgress(value=0, description='Parameter Loop', max=1), HTML(value='')))"
      ]
     },
     "metadata": {},
     "output_type": "display_data"
    },
    {
     "data": {
      "application/vnd.jupyter.widget-view+json": {
       "model_id": "",
       "version_major": 2,
       "version_minor": 0
      },
      "text/plain": [
       "HBox(children=(IntProgress(value=1, bar_style='info', description='CV loop', max=1), HTML(value='')))"
      ]
     },
     "metadata": {},
     "output_type": "display_data"
    },
    {
     "data": {
      "application/vnd.jupyter.widget-view+json": {
       "model_id": "",
       "version_major": 2,
       "version_minor": 0
      },
      "text/plain": [
       "HBox(children=(IntProgress(value=0, description='Parameter Loop', max=1), HTML(value='')))"
      ]
     },
     "metadata": {},
     "output_type": "display_data"
    },
    {
     "data": {
      "application/vnd.jupyter.widget-view+json": {
       "model_id": "",
       "version_major": 2,
       "version_minor": 0
      },
      "text/plain": [
       "HBox(children=(IntProgress(value=1, bar_style='info', description='CV loop', max=1), HTML(value='')))"
      ]
     },
     "metadata": {},
     "output_type": "display_data"
    },
    {
     "data": {
      "application/vnd.jupyter.widget-view+json": {
       "model_id": "",
       "version_major": 2,
       "version_minor": 0
      },
      "text/plain": [
       "HBox(children=(IntProgress(value=0, description='Parameter Loop', max=1), HTML(value='')))"
      ]
     },
     "metadata": {},
     "output_type": "display_data"
    },
    {
     "data": {
      "application/vnd.jupyter.widget-view+json": {
       "model_id": "",
       "version_major": 2,
       "version_minor": 0
      },
      "text/plain": [
       "HBox(children=(IntProgress(value=1, bar_style='info', description='CV loop', max=1), HTML(value='')))"
      ]
     },
     "metadata": {},
     "output_type": "display_data"
    },
    {
     "data": {
      "application/vnd.jupyter.widget-view+json": {
       "model_id": "",
       "version_major": 2,
       "version_minor": 0
      },
      "text/plain": [
       "HBox(children=(IntProgress(value=0, description='Parameter Loop', max=1), HTML(value='')))"
      ]
     },
     "metadata": {},
     "output_type": "display_data"
    },
    {
     "data": {
      "application/vnd.jupyter.widget-view+json": {
       "model_id": "",
       "version_major": 2,
       "version_minor": 0
      },
      "text/plain": [
       "HBox(children=(IntProgress(value=1, bar_style='info', description='CV loop', max=1), HTML(value='')))"
      ]
     },
     "metadata": {},
     "output_type": "display_data"
    },
    {
     "data": {
      "application/vnd.jupyter.widget-view+json": {
       "model_id": "",
       "version_major": 2,
       "version_minor": 0
      },
      "text/plain": [
       "HBox(children=(IntProgress(value=0, description='Parameter Loop', max=1), HTML(value='')))"
      ]
     },
     "metadata": {},
     "output_type": "display_data"
    },
    {
     "data": {
      "application/vnd.jupyter.widget-view+json": {
       "model_id": "",
       "version_major": 2,
       "version_minor": 0
      },
      "text/plain": [
       "HBox(children=(IntProgress(value=1, bar_style='info', description='CV loop', max=1), HTML(value='')))"
      ]
     },
     "metadata": {},
     "output_type": "display_data"
    },
    {
     "data": {
      "application/vnd.jupyter.widget-view+json": {
       "model_id": "",
       "version_major": 2,
       "version_minor": 0
      },
      "text/plain": [
       "HBox(children=(IntProgress(value=0, description='Parameter Loop', max=1), HTML(value='')))"
      ]
     },
     "metadata": {},
     "output_type": "display_data"
    },
    {
     "data": {
      "application/vnd.jupyter.widget-view+json": {
       "model_id": "",
       "version_major": 2,
       "version_minor": 0
      },
      "text/plain": [
       "HBox(children=(IntProgress(value=1, bar_style='info', description='CV loop', max=1), HTML(value='')))"
      ]
     },
     "metadata": {},
     "output_type": "display_data"
    },
    {
     "data": {
      "application/vnd.jupyter.widget-view+json": {
       "model_id": "",
       "version_major": 2,
       "version_minor": 0
      },
      "text/plain": [
       "HBox(children=(IntProgress(value=0, description='Parameter Loop', max=1), HTML(value='')))"
      ]
     },
     "metadata": {},
     "output_type": "display_data"
    },
    {
     "data": {
      "application/vnd.jupyter.widget-view+json": {
       "model_id": "",
       "version_major": 2,
       "version_minor": 0
      },
      "text/plain": [
       "HBox(children=(IntProgress(value=1, bar_style='info', description='CV loop', max=1), HTML(value='')))"
      ]
     },
     "metadata": {},
     "output_type": "display_data"
    },
    {
     "data": {
      "application/vnd.jupyter.widget-view+json": {
       "model_id": "",
       "version_major": 2,
       "version_minor": 0
      },
      "text/plain": [
       "HBox(children=(IntProgress(value=0, description='Parameter Loop', max=1), HTML(value='')))"
      ]
     },
     "metadata": {},
     "output_type": "display_data"
    },
    {
     "data": {
      "application/vnd.jupyter.widget-view+json": {
       "model_id": "",
       "version_major": 2,
       "version_minor": 0
      },
      "text/plain": [
       "HBox(children=(IntProgress(value=1, bar_style='info', description='CV loop', max=1), HTML(value='')))"
      ]
     },
     "metadata": {},
     "output_type": "display_data"
    },
    {
     "data": {
      "application/vnd.jupyter.widget-view+json": {
       "model_id": "",
       "version_major": 2,
       "version_minor": 0
      },
      "text/plain": [
       "HBox(children=(IntProgress(value=0, description='Parameter Loop', max=1), HTML(value='')))"
      ]
     },
     "metadata": {},
     "output_type": "display_data"
    },
    {
     "data": {
      "application/vnd.jupyter.widget-view+json": {
       "model_id": "",
       "version_major": 2,
       "version_minor": 0
      },
      "text/plain": [
       "HBox(children=(IntProgress(value=1, bar_style='info', description='CV loop', max=1), HTML(value='')))"
      ]
     },
     "metadata": {},
     "output_type": "display_data"
    },
    {
     "data": {
      "application/vnd.jupyter.widget-view+json": {
       "model_id": "",
       "version_major": 2,
       "version_minor": 0
      },
      "text/plain": [
       "HBox(children=(IntProgress(value=0, description='Parameter Loop', max=1), HTML(value='')))"
      ]
     },
     "metadata": {},
     "output_type": "display_data"
    },
    {
     "data": {
      "application/vnd.jupyter.widget-view+json": {
       "model_id": "",
       "version_major": 2,
       "version_minor": 0
      },
      "text/plain": [
       "HBox(children=(IntProgress(value=1, bar_style='info', description='CV loop', max=1), HTML(value='')))"
      ]
     },
     "metadata": {},
     "output_type": "display_data"
    },
    {
     "data": {
      "application/vnd.jupyter.widget-view+json": {
       "model_id": "",
       "version_major": 2,
       "version_minor": 0
      },
      "text/plain": [
       "HBox(children=(IntProgress(value=0, description='Parameter Loop', max=1), HTML(value='')))"
      ]
     },
     "metadata": {},
     "output_type": "display_data"
    },
    {
     "data": {
      "application/vnd.jupyter.widget-view+json": {
       "model_id": "",
       "version_major": 2,
       "version_minor": 0
      },
      "text/plain": [
       "HBox(children=(IntProgress(value=1, bar_style='info', description='CV loop', max=1), HTML(value='')))"
      ]
     },
     "metadata": {},
     "output_type": "display_data"
    },
    {
     "data": {
      "application/vnd.jupyter.widget-view+json": {
       "model_id": "",
       "version_major": 2,
       "version_minor": 0
      },
      "text/plain": [
       "HBox(children=(IntProgress(value=0, description='Parameter Loop', max=1), HTML(value='')))"
      ]
     },
     "metadata": {},
     "output_type": "display_data"
    },
    {
     "data": {
      "application/vnd.jupyter.widget-view+json": {
       "model_id": "",
       "version_major": 2,
       "version_minor": 0
      },
      "text/plain": [
       "HBox(children=(IntProgress(value=1, bar_style='info', description='CV loop', max=1), HTML(value='')))"
      ]
     },
     "metadata": {},
     "output_type": "display_data"
    },
    {
     "data": {
      "application/vnd.jupyter.widget-view+json": {
       "model_id": "",
       "version_major": 2,
       "version_minor": 0
      },
      "text/plain": [
       "HBox(children=(IntProgress(value=0, description='Parameter Loop', max=1), HTML(value='')))"
      ]
     },
     "metadata": {},
     "output_type": "display_data"
    },
    {
     "data": {
      "application/vnd.jupyter.widget-view+json": {
       "model_id": "",
       "version_major": 2,
       "version_minor": 0
      },
      "text/plain": [
       "HBox(children=(IntProgress(value=1, bar_style='info', description='CV loop', max=1), HTML(value='')))"
      ]
     },
     "metadata": {},
     "output_type": "display_data"
    },
    {
     "data": {
      "application/vnd.jupyter.widget-view+json": {
       "model_id": "",
       "version_major": 2,
       "version_minor": 0
      },
      "text/plain": [
       "HBox(children=(IntProgress(value=0, description='Parameter Loop', max=1), HTML(value='')))"
      ]
     },
     "metadata": {},
     "output_type": "display_data"
    },
    {
     "data": {
      "application/vnd.jupyter.widget-view+json": {
       "model_id": "",
       "version_major": 2,
       "version_minor": 0
      },
      "text/plain": [
       "HBox(children=(IntProgress(value=1, bar_style='info', description='CV loop', max=1), HTML(value='')))"
      ]
     },
     "metadata": {},
     "output_type": "display_data"
    },
    {
     "data": {
      "application/vnd.jupyter.widget-view+json": {
       "model_id": "",
       "version_major": 2,
       "version_minor": 0
      },
      "text/plain": [
       "HBox(children=(IntProgress(value=0, description='Parameter Loop', max=1), HTML(value='')))"
      ]
     },
     "metadata": {},
     "output_type": "display_data"
    },
    {
     "data": {
      "application/vnd.jupyter.widget-view+json": {
       "model_id": "",
       "version_major": 2,
       "version_minor": 0
      },
      "text/plain": [
       "HBox(children=(IntProgress(value=1, bar_style='info', description='CV loop', max=1), HTML(value='')))"
      ]
     },
     "metadata": {},
     "output_type": "display_data"
    },
    {
     "data": {
      "application/vnd.jupyter.widget-view+json": {
       "model_id": "",
       "version_major": 2,
       "version_minor": 0
      },
      "text/plain": [
       "HBox(children=(IntProgress(value=0, description='Parameter Loop', max=1), HTML(value='')))"
      ]
     },
     "metadata": {},
     "output_type": "display_data"
    },
    {
     "data": {
      "application/vnd.jupyter.widget-view+json": {
       "model_id": "",
       "version_major": 2,
       "version_minor": 0
      },
      "text/plain": [
       "HBox(children=(IntProgress(value=1, bar_style='info', description='CV loop', max=1), HTML(value='')))"
      ]
     },
     "metadata": {},
     "output_type": "display_data"
    },
    {
     "data": {
      "application/vnd.jupyter.widget-view+json": {
       "model_id": "",
       "version_major": 2,
       "version_minor": 0
      },
      "text/plain": [
       "HBox(children=(IntProgress(value=0, description='Parameter Loop', max=1), HTML(value='')))"
      ]
     },
     "metadata": {},
     "output_type": "display_data"
    },
    {
     "data": {
      "application/vnd.jupyter.widget-view+json": {
       "model_id": "",
       "version_major": 2,
       "version_minor": 0
      },
      "text/plain": [
       "HBox(children=(IntProgress(value=1, bar_style='info', description='CV loop', max=1), HTML(value='')))"
      ]
     },
     "metadata": {},
     "output_type": "display_data"
    },
    {
     "data": {
      "application/vnd.jupyter.widget-view+json": {
       "model_id": "",
       "version_major": 2,
       "version_minor": 0
      },
      "text/plain": [
       "HBox(children=(IntProgress(value=0, description='Parameter Loop', max=1), HTML(value='')))"
      ]
     },
     "metadata": {},
     "output_type": "display_data"
    },
    {
     "data": {
      "application/vnd.jupyter.widget-view+json": {
       "model_id": "",
       "version_major": 2,
       "version_minor": 0
      },
      "text/plain": [
       "HBox(children=(IntProgress(value=1, bar_style='info', description='CV loop', max=1), HTML(value='')))"
      ]
     },
     "metadata": {},
     "output_type": "display_data"
    },
    {
     "data": {
      "application/vnd.jupyter.widget-view+json": {
       "model_id": "",
       "version_major": 2,
       "version_minor": 0
      },
      "text/plain": [
       "HBox(children=(IntProgress(value=0, description='Parameter Loop', max=1), HTML(value='')))"
      ]
     },
     "metadata": {},
     "output_type": "display_data"
    },
    {
     "data": {
      "application/vnd.jupyter.widget-view+json": {
       "model_id": "",
       "version_major": 2,
       "version_minor": 0
      },
      "text/plain": [
       "HBox(children=(IntProgress(value=1, bar_style='info', description='CV loop', max=1), HTML(value='')))"
      ]
     },
     "metadata": {},
     "output_type": "display_data"
    },
    {
     "data": {
      "application/vnd.jupyter.widget-view+json": {
       "model_id": "",
       "version_major": 2,
       "version_minor": 0
      },
      "text/plain": [
       "HBox(children=(IntProgress(value=0, description='Parameter Loop', max=1), HTML(value='')))"
      ]
     },
     "metadata": {},
     "output_type": "display_data"
    },
    {
     "data": {
      "application/vnd.jupyter.widget-view+json": {
       "model_id": "",
       "version_major": 2,
       "version_minor": 0
      },
      "text/plain": [
       "HBox(children=(IntProgress(value=1, bar_style='info', description='CV loop', max=1), HTML(value='')))"
      ]
     },
     "metadata": {},
     "output_type": "display_data"
    },
    {
     "data": {
      "application/vnd.jupyter.widget-view+json": {
       "model_id": "",
       "version_major": 2,
       "version_minor": 0
      },
      "text/plain": [
       "HBox(children=(IntProgress(value=0, description='Parameter Loop', max=1), HTML(value='')))"
      ]
     },
     "metadata": {},
     "output_type": "display_data"
    },
    {
     "data": {
      "application/vnd.jupyter.widget-view+json": {
       "model_id": "",
       "version_major": 2,
       "version_minor": 0
      },
      "text/plain": [
       "HBox(children=(IntProgress(value=1, bar_style='info', description='CV loop', max=1), HTML(value='')))"
      ]
     },
     "metadata": {},
     "output_type": "display_data"
    },
    {
     "data": {
      "application/vnd.jupyter.widget-view+json": {
       "model_id": "",
       "version_major": 2,
       "version_minor": 0
      },
      "text/plain": [
       "HBox(children=(IntProgress(value=0, description='Parameter Loop', max=1), HTML(value='')))"
      ]
     },
     "metadata": {},
     "output_type": "display_data"
    },
    {
     "data": {
      "application/vnd.jupyter.widget-view+json": {
       "model_id": "",
       "version_major": 2,
       "version_minor": 0
      },
      "text/plain": [
       "HBox(children=(IntProgress(value=1, bar_style='info', description='CV loop', max=1), HTML(value='')))"
      ]
     },
     "metadata": {},
     "output_type": "display_data"
    },
    {
     "data": {
      "application/vnd.jupyter.widget-view+json": {
       "model_id": "",
       "version_major": 2,
       "version_minor": 0
      },
      "text/plain": [
       "HBox(children=(IntProgress(value=0, description='Parameter Loop', max=1), HTML(value='')))"
      ]
     },
     "metadata": {},
     "output_type": "display_data"
    },
    {
     "data": {
      "application/vnd.jupyter.widget-view+json": {
       "model_id": "",
       "version_major": 2,
       "version_minor": 0
      },
      "text/plain": [
       "HBox(children=(IntProgress(value=1, bar_style='info', description='CV loop', max=1), HTML(value='')))"
      ]
     },
     "metadata": {},
     "output_type": "display_data"
    },
    {
     "data": {
      "application/vnd.jupyter.widget-view+json": {
       "model_id": "",
       "version_major": 2,
       "version_minor": 0
      },
      "text/plain": [
       "HBox(children=(IntProgress(value=0, description='Parameter Loop', max=1), HTML(value='')))"
      ]
     },
     "metadata": {},
     "output_type": "display_data"
    },
    {
     "data": {
      "application/vnd.jupyter.widget-view+json": {
       "model_id": "",
       "version_major": 2,
       "version_minor": 0
      },
      "text/plain": [
       "HBox(children=(IntProgress(value=1, bar_style='info', description='CV loop', max=1), HTML(value='')))"
      ]
     },
     "metadata": {},
     "output_type": "display_data"
    },
    {
     "data": {
      "application/vnd.jupyter.widget-view+json": {
       "model_id": "",
       "version_major": 2,
       "version_minor": 0
      },
      "text/plain": [
       "HBox(children=(IntProgress(value=0, description='Parameter Loop', max=1), HTML(value='')))"
      ]
     },
     "metadata": {},
     "output_type": "display_data"
    },
    {
     "data": {
      "application/vnd.jupyter.widget-view+json": {
       "model_id": "",
       "version_major": 2,
       "version_minor": 0
      },
      "text/plain": [
       "HBox(children=(IntProgress(value=1, bar_style='info', description='CV loop', max=1), HTML(value='')))"
      ]
     },
     "metadata": {},
     "output_type": "display_data"
    },
    {
     "data": {
      "application/vnd.jupyter.widget-view+json": {
       "model_id": "",
       "version_major": 2,
       "version_minor": 0
      },
      "text/plain": [
       "HBox(children=(IntProgress(value=0, description='Parameter Loop', max=1), HTML(value='')))"
      ]
     },
     "metadata": {},
     "output_type": "display_data"
    },
    {
     "data": {
      "application/vnd.jupyter.widget-view+json": {
       "model_id": "",
       "version_major": 2,
       "version_minor": 0
      },
      "text/plain": [
       "HBox(children=(IntProgress(value=1, bar_style='info', description='CV loop', max=1), HTML(value='')))"
      ]
     },
     "metadata": {},
     "output_type": "display_data"
    },
    {
     "data": {
      "application/vnd.jupyter.widget-view+json": {
       "model_id": "",
       "version_major": 2,
       "version_minor": 0
      },
      "text/plain": [
       "HBox(children=(IntProgress(value=0, description='Parameter Loop', max=1), HTML(value='')))"
      ]
     },
     "metadata": {},
     "output_type": "display_data"
    },
    {
     "data": {
      "application/vnd.jupyter.widget-view+json": {
       "model_id": "",
       "version_major": 2,
       "version_minor": 0
      },
      "text/plain": [
       "HBox(children=(IntProgress(value=1, bar_style='info', description='CV loop', max=1), HTML(value='')))"
      ]
     },
     "metadata": {},
     "output_type": "display_data"
    },
    {
     "data": {
      "application/vnd.jupyter.widget-view+json": {
       "model_id": "",
       "version_major": 2,
       "version_minor": 0
      },
      "text/plain": [
       "HBox(children=(IntProgress(value=0, description='Parameter Loop', max=1), HTML(value='')))"
      ]
     },
     "metadata": {},
     "output_type": "display_data"
    },
    {
     "data": {
      "application/vnd.jupyter.widget-view+json": {
       "model_id": "",
       "version_major": 2,
       "version_minor": 0
      },
      "text/plain": [
       "HBox(children=(IntProgress(value=1, bar_style='info', description='CV loop', max=1), HTML(value='')))"
      ]
     },
     "metadata": {},
     "output_type": "display_data"
    },
    {
     "data": {
      "application/vnd.jupyter.widget-view+json": {
       "model_id": "",
       "version_major": 2,
       "version_minor": 0
      },
      "text/plain": [
       "HBox(children=(IntProgress(value=0, description='Parameter Loop', max=1), HTML(value='')))"
      ]
     },
     "metadata": {},
     "output_type": "display_data"
    },
    {
     "data": {
      "application/vnd.jupyter.widget-view+json": {
       "model_id": "",
       "version_major": 2,
       "version_minor": 0
      },
      "text/plain": [
       "HBox(children=(IntProgress(value=1, bar_style='info', description='CV loop', max=1), HTML(value='')))"
      ]
     },
     "metadata": {},
     "output_type": "display_data"
    },
    {
     "data": {
      "application/vnd.jupyter.widget-view+json": {
       "model_id": "",
       "version_major": 2,
       "version_minor": 0
      },
      "text/plain": [
       "HBox(children=(IntProgress(value=0, description='Parameter Loop', max=1), HTML(value='')))"
      ]
     },
     "metadata": {},
     "output_type": "display_data"
    },
    {
     "data": {
      "application/vnd.jupyter.widget-view+json": {
       "model_id": "",
       "version_major": 2,
       "version_minor": 0
      },
      "text/plain": [
       "HBox(children=(IntProgress(value=1, bar_style='info', description='CV loop', max=1), HTML(value='')))"
      ]
     },
     "metadata": {},
     "output_type": "display_data"
    },
    {
     "data": {
      "application/vnd.jupyter.widget-view+json": {
       "model_id": "",
       "version_major": 2,
       "version_minor": 0
      },
      "text/plain": [
       "HBox(children=(IntProgress(value=0, description='Parameter Loop', max=1), HTML(value='')))"
      ]
     },
     "metadata": {},
     "output_type": "display_data"
    },
    {
     "data": {
      "application/vnd.jupyter.widget-view+json": {
       "model_id": "",
       "version_major": 2,
       "version_minor": 0
      },
      "text/plain": [
       "HBox(children=(IntProgress(value=1, bar_style='info', description='CV loop', max=1), HTML(value='')))"
      ]
     },
     "metadata": {},
     "output_type": "display_data"
    },
    {
     "data": {
      "application/vnd.jupyter.widget-view+json": {
       "model_id": "",
       "version_major": 2,
       "version_minor": 0
      },
      "text/plain": [
       "HBox(children=(IntProgress(value=0, description='Parameter Loop', max=1), HTML(value='')))"
      ]
     },
     "metadata": {},
     "output_type": "display_data"
    },
    {
     "data": {
      "application/vnd.jupyter.widget-view+json": {
       "model_id": "",
       "version_major": 2,
       "version_minor": 0
      },
      "text/plain": [
       "HBox(children=(IntProgress(value=1, bar_style='info', description='CV loop', max=1), HTML(value='')))"
      ]
     },
     "metadata": {},
     "output_type": "display_data"
    },
    {
     "data": {
      "application/vnd.jupyter.widget-view+json": {
       "model_id": "",
       "version_major": 2,
       "version_minor": 0
      },
      "text/plain": [
       "HBox(children=(IntProgress(value=0, description='Parameter Loop', max=1), HTML(value='')))"
      ]
     },
     "metadata": {},
     "output_type": "display_data"
    },
    {
     "data": {
      "application/vnd.jupyter.widget-view+json": {
       "model_id": "",
       "version_major": 2,
       "version_minor": 0
      },
      "text/plain": [
       "HBox(children=(IntProgress(value=1, bar_style='info', description='CV loop', max=1), HTML(value='')))"
      ]
     },
     "metadata": {},
     "output_type": "display_data"
    },
    {
     "data": {
      "application/vnd.jupyter.widget-view+json": {
       "model_id": "",
       "version_major": 2,
       "version_minor": 0
      },
      "text/plain": [
       "HBox(children=(IntProgress(value=0, description='Parameter Loop', max=1), HTML(value='')))"
      ]
     },
     "metadata": {},
     "output_type": "display_data"
    },
    {
     "data": {
      "application/vnd.jupyter.widget-view+json": {
       "model_id": "",
       "version_major": 2,
       "version_minor": 0
      },
      "text/plain": [
       "HBox(children=(IntProgress(value=1, bar_style='info', description='CV loop', max=1), HTML(value='')))"
      ]
     },
     "metadata": {},
     "output_type": "display_data"
    },
    {
     "data": {
      "application/vnd.jupyter.widget-view+json": {
       "model_id": "",
       "version_major": 2,
       "version_minor": 0
      },
      "text/plain": [
       "HBox(children=(IntProgress(value=0, description='Parameter Loop', max=1), HTML(value='')))"
      ]
     },
     "metadata": {},
     "output_type": "display_data"
    },
    {
     "data": {
      "application/vnd.jupyter.widget-view+json": {
       "model_id": "",
       "version_major": 2,
       "version_minor": 0
      },
      "text/plain": [
       "HBox(children=(IntProgress(value=1, bar_style='info', description='CV loop', max=1), HTML(value='')))"
      ]
     },
     "metadata": {},
     "output_type": "display_data"
    },
    {
     "data": {
      "application/vnd.jupyter.widget-view+json": {
       "model_id": "",
       "version_major": 2,
       "version_minor": 0
      },
      "text/plain": [
       "HBox(children=(IntProgress(value=0, description='Parameter Loop', max=1), HTML(value='')))"
      ]
     },
     "metadata": {},
     "output_type": "display_data"
    },
    {
     "data": {
      "application/vnd.jupyter.widget-view+json": {
       "model_id": "",
       "version_major": 2,
       "version_minor": 0
      },
      "text/plain": [
       "HBox(children=(IntProgress(value=1, bar_style='info', description='CV loop', max=1), HTML(value='')))"
      ]
     },
     "metadata": {},
     "output_type": "display_data"
    },
    {
     "data": {
      "application/vnd.jupyter.widget-view+json": {
       "model_id": "",
       "version_major": 2,
       "version_minor": 0
      },
      "text/plain": [
       "HBox(children=(IntProgress(value=0, description='Parameter Loop', max=1), HTML(value='')))"
      ]
     },
     "metadata": {},
     "output_type": "display_data"
    },
    {
     "data": {
      "application/vnd.jupyter.widget-view+json": {
       "model_id": "",
       "version_major": 2,
       "version_minor": 0
      },
      "text/plain": [
       "HBox(children=(IntProgress(value=1, bar_style='info', description='CV loop', max=1), HTML(value='')))"
      ]
     },
     "metadata": {},
     "output_type": "display_data"
    },
    {
     "data": {
      "application/vnd.jupyter.widget-view+json": {
       "model_id": "",
       "version_major": 2,
       "version_minor": 0
      },
      "text/plain": [
       "HBox(children=(IntProgress(value=0, description='Parameter Loop', max=1), HTML(value='')))"
      ]
     },
     "metadata": {},
     "output_type": "display_data"
    },
    {
     "data": {
      "application/vnd.jupyter.widget-view+json": {
       "model_id": "",
       "version_major": 2,
       "version_minor": 0
      },
      "text/plain": [
       "HBox(children=(IntProgress(value=1, bar_style='info', description='CV loop', max=1), HTML(value='')))"
      ]
     },
     "metadata": {},
     "output_type": "display_data"
    },
    {
     "data": {
      "application/vnd.jupyter.widget-view+json": {
       "model_id": "",
       "version_major": 2,
       "version_minor": 0
      },
      "text/plain": [
       "HBox(children=(IntProgress(value=0, description='Parameter Loop', max=1), HTML(value='')))"
      ]
     },
     "metadata": {},
     "output_type": "display_data"
    },
    {
     "data": {
      "application/vnd.jupyter.widget-view+json": {
       "model_id": "",
       "version_major": 2,
       "version_minor": 0
      },
      "text/plain": [
       "HBox(children=(IntProgress(value=1, bar_style='info', description='CV loop', max=1), HTML(value='')))"
      ]
     },
     "metadata": {},
     "output_type": "display_data"
    },
    {
     "data": {
      "application/vnd.jupyter.widget-view+json": {
       "model_id": "",
       "version_major": 2,
       "version_minor": 0
      },
      "text/plain": [
       "HBox(children=(IntProgress(value=0, description='Parameter Loop', max=1), HTML(value='')))"
      ]
     },
     "metadata": {},
     "output_type": "display_data"
    },
    {
     "data": {
      "application/vnd.jupyter.widget-view+json": {
       "model_id": "",
       "version_major": 2,
       "version_minor": 0
      },
      "text/plain": [
       "HBox(children=(IntProgress(value=1, bar_style='info', description='CV loop', max=1), HTML(value='')))"
      ]
     },
     "metadata": {},
     "output_type": "display_data"
    },
    {
     "data": {
      "application/vnd.jupyter.widget-view+json": {
       "model_id": "",
       "version_major": 2,
       "version_minor": 0
      },
      "text/plain": [
       "HBox(children=(IntProgress(value=0, description='Parameter Loop', max=1), HTML(value='')))"
      ]
     },
     "metadata": {},
     "output_type": "display_data"
    },
    {
     "data": {
      "application/vnd.jupyter.widget-view+json": {
       "model_id": "",
       "version_major": 2,
       "version_minor": 0
      },
      "text/plain": [
       "HBox(children=(IntProgress(value=1, bar_style='info', description='CV loop', max=1), HTML(value='')))"
      ]
     },
     "metadata": {},
     "output_type": "display_data"
    },
    {
     "data": {
      "application/vnd.jupyter.widget-view+json": {
       "model_id": "",
       "version_major": 2,
       "version_minor": 0
      },
      "text/plain": [
       "HBox(children=(IntProgress(value=0, description='Parameter Loop', max=1), HTML(value='')))"
      ]
     },
     "metadata": {},
     "output_type": "display_data"
    },
    {
     "data": {
      "application/vnd.jupyter.widget-view+json": {
       "model_id": "",
       "version_major": 2,
       "version_minor": 0
      },
      "text/plain": [
       "HBox(children=(IntProgress(value=1, bar_style='info', description='CV loop', max=1), HTML(value='')))"
      ]
     },
     "metadata": {},
     "output_type": "display_data"
    },
    {
     "data": {
      "application/vnd.jupyter.widget-view+json": {
       "model_id": "",
       "version_major": 2,
       "version_minor": 0
      },
      "text/plain": [
       "HBox(children=(IntProgress(value=0, description='Parameter Loop', max=1), HTML(value='')))"
      ]
     },
     "metadata": {},
     "output_type": "display_data"
    },
    {
     "data": {
      "application/vnd.jupyter.widget-view+json": {
       "model_id": "",
       "version_major": 2,
       "version_minor": 0
      },
      "text/plain": [
       "HBox(children=(IntProgress(value=1, bar_style='info', description='CV loop', max=1), HTML(value='')))"
      ]
     },
     "metadata": {},
     "output_type": "display_data"
    },
    {
     "data": {
      "application/vnd.jupyter.widget-view+json": {
       "model_id": "",
       "version_major": 2,
       "version_minor": 0
      },
      "text/plain": [
       "HBox(children=(IntProgress(value=0, description='Parameter Loop', max=1), HTML(value='')))"
      ]
     },
     "metadata": {},
     "output_type": "display_data"
    },
    {
     "data": {
      "application/vnd.jupyter.widget-view+json": {
       "model_id": "",
       "version_major": 2,
       "version_minor": 0
      },
      "text/plain": [
       "HBox(children=(IntProgress(value=1, bar_style='info', description='CV loop', max=1), HTML(value='')))"
      ]
     },
     "metadata": {},
     "output_type": "display_data"
    },
    {
     "data": {
      "application/vnd.jupyter.widget-view+json": {
       "model_id": "",
       "version_major": 2,
       "version_minor": 0
      },
      "text/plain": [
       "HBox(children=(IntProgress(value=0, description='Parameter Loop', max=1), HTML(value='')))"
      ]
     },
     "metadata": {},
     "output_type": "display_data"
    },
    {
     "data": {
      "application/vnd.jupyter.widget-view+json": {
       "model_id": "",
       "version_major": 2,
       "version_minor": 0
      },
      "text/plain": [
       "HBox(children=(IntProgress(value=1, bar_style='info', description='CV loop', max=1), HTML(value='')))"
      ]
     },
     "metadata": {},
     "output_type": "display_data"
    },
    {
     "data": {
      "application/vnd.jupyter.widget-view+json": {
       "model_id": "",
       "version_major": 2,
       "version_minor": 0
      },
      "text/plain": [
       "HBox(children=(IntProgress(value=0, description='Parameter Loop', max=1), HTML(value='')))"
      ]
     },
     "metadata": {},
     "output_type": "display_data"
    },
    {
     "data": {
      "application/vnd.jupyter.widget-view+json": {
       "model_id": "",
       "version_major": 2,
       "version_minor": 0
      },
      "text/plain": [
       "HBox(children=(IntProgress(value=1, bar_style='info', description='CV loop', max=1), HTML(value='')))"
      ]
     },
     "metadata": {},
     "output_type": "display_data"
    },
    {
     "data": {
      "application/vnd.jupyter.widget-view+json": {
       "model_id": "",
       "version_major": 2,
       "version_minor": 0
      },
      "text/plain": [
       "HBox(children=(IntProgress(value=0, description='Parameter Loop', max=1), HTML(value='')))"
      ]
     },
     "metadata": {},
     "output_type": "display_data"
    },
    {
     "data": {
      "application/vnd.jupyter.widget-view+json": {
       "model_id": "",
       "version_major": 2,
       "version_minor": 0
      },
      "text/plain": [
       "HBox(children=(IntProgress(value=1, bar_style='info', description='CV loop', max=1), HTML(value='')))"
      ]
     },
     "metadata": {},
     "output_type": "display_data"
    },
    {
     "data": {
      "application/vnd.jupyter.widget-view+json": {
       "model_id": "",
       "version_major": 2,
       "version_minor": 0
      },
      "text/plain": [
       "HBox(children=(IntProgress(value=0, description='Parameter Loop', max=1), HTML(value='')))"
      ]
     },
     "metadata": {},
     "output_type": "display_data"
    },
    {
     "data": {
      "application/vnd.jupyter.widget-view+json": {
       "model_id": "",
       "version_major": 2,
       "version_minor": 0
      },
      "text/plain": [
       "HBox(children=(IntProgress(value=1, bar_style='info', description='CV loop', max=1), HTML(value='')))"
      ]
     },
     "metadata": {},
     "output_type": "display_data"
    },
    {
     "data": {
      "application/vnd.jupyter.widget-view+json": {
       "model_id": "",
       "version_major": 2,
       "version_minor": 0
      },
      "text/plain": [
       "HBox(children=(IntProgress(value=0, description='Parameter Loop', max=1), HTML(value='')))"
      ]
     },
     "metadata": {},
     "output_type": "display_data"
    },
    {
     "data": {
      "application/vnd.jupyter.widget-view+json": {
       "model_id": "",
       "version_major": 2,
       "version_minor": 0
      },
      "text/plain": [
       "HBox(children=(IntProgress(value=1, bar_style='info', description='CV loop', max=1), HTML(value='')))"
      ]
     },
     "metadata": {},
     "output_type": "display_data"
    },
    {
     "data": {
      "application/vnd.jupyter.widget-view+json": {
       "model_id": "",
       "version_major": 2,
       "version_minor": 0
      },
      "text/plain": [
       "HBox(children=(IntProgress(value=0, description='Parameter Loop', max=1), HTML(value='')))"
      ]
     },
     "metadata": {},
     "output_type": "display_data"
    },
    {
     "data": {
      "application/vnd.jupyter.widget-view+json": {
       "model_id": "",
       "version_major": 2,
       "version_minor": 0
      },
      "text/plain": [
       "HBox(children=(IntProgress(value=1, bar_style='info', description='CV loop', max=1), HTML(value='')))"
      ]
     },
     "metadata": {},
     "output_type": "display_data"
    },
    {
     "data": {
      "application/vnd.jupyter.widget-view+json": {
       "model_id": "",
       "version_major": 2,
       "version_minor": 0
      },
      "text/plain": [
       "HBox(children=(IntProgress(value=0, description='Parameter Loop', max=1), HTML(value='')))"
      ]
     },
     "metadata": {},
     "output_type": "display_data"
    },
    {
     "data": {
      "application/vnd.jupyter.widget-view+json": {
       "model_id": "",
       "version_major": 2,
       "version_minor": 0
      },
      "text/plain": [
       "HBox(children=(IntProgress(value=1, bar_style='info', description='CV loop', max=1), HTML(value='')))"
      ]
     },
     "metadata": {},
     "output_type": "display_data"
    },
    {
     "data": {
      "application/vnd.jupyter.widget-view+json": {
       "model_id": "",
       "version_major": 2,
       "version_minor": 0
      },
      "text/plain": [
       "HBox(children=(IntProgress(value=0, description='Parameter Loop', max=1), HTML(value='')))"
      ]
     },
     "metadata": {},
     "output_type": "display_data"
    },
    {
     "data": {
      "application/vnd.jupyter.widget-view+json": {
       "model_id": "",
       "version_major": 2,
       "version_minor": 0
      },
      "text/plain": [
       "HBox(children=(IntProgress(value=1, bar_style='info', description='CV loop', max=1), HTML(value='')))"
      ]
     },
     "metadata": {},
     "output_type": "display_data"
    },
    {
     "data": {
      "application/vnd.jupyter.widget-view+json": {
       "model_id": "",
       "version_major": 2,
       "version_minor": 0
      },
      "text/plain": [
       "HBox(children=(IntProgress(value=0, description='Parameter Loop', max=1), HTML(value='')))"
      ]
     },
     "metadata": {},
     "output_type": "display_data"
    },
    {
     "data": {
      "application/vnd.jupyter.widget-view+json": {
       "model_id": "",
       "version_major": 2,
       "version_minor": 0
      },
      "text/plain": [
       "HBox(children=(IntProgress(value=1, bar_style='info', description='CV loop', max=1), HTML(value='')))"
      ]
     },
     "metadata": {},
     "output_type": "display_data"
    },
    {
     "data": {
      "application/vnd.jupyter.widget-view+json": {
       "model_id": "",
       "version_major": 2,
       "version_minor": 0
      },
      "text/plain": [
       "HBox(children=(IntProgress(value=0, description='Parameter Loop', max=1), HTML(value='')))"
      ]
     },
     "metadata": {},
     "output_type": "display_data"
    },
    {
     "data": {
      "application/vnd.jupyter.widget-view+json": {
       "model_id": "",
       "version_major": 2,
       "version_minor": 0
      },
      "text/plain": [
       "HBox(children=(IntProgress(value=1, bar_style='info', description='CV loop', max=1), HTML(value='')))"
      ]
     },
     "metadata": {},
     "output_type": "display_data"
    },
    {
     "data": {
      "application/vnd.jupyter.widget-view+json": {
       "model_id": "",
       "version_major": 2,
       "version_minor": 0
      },
      "text/plain": [
       "HBox(children=(IntProgress(value=0, description='Parameter Loop', max=1), HTML(value='')))"
      ]
     },
     "metadata": {},
     "output_type": "display_data"
    },
    {
     "data": {
      "application/vnd.jupyter.widget-view+json": {
       "model_id": "",
       "version_major": 2,
       "version_minor": 0
      },
      "text/plain": [
       "HBox(children=(IntProgress(value=1, bar_style='info', description='CV loop', max=1), HTML(value='')))"
      ]
     },
     "metadata": {},
     "output_type": "display_data"
    },
    {
     "data": {
      "application/vnd.jupyter.widget-view+json": {
       "model_id": "",
       "version_major": 2,
       "version_minor": 0
      },
      "text/plain": [
       "HBox(children=(IntProgress(value=0, description='Parameter Loop', max=1), HTML(value='')))"
      ]
     },
     "metadata": {},
     "output_type": "display_data"
    },
    {
     "data": {
      "application/vnd.jupyter.widget-view+json": {
       "model_id": "",
       "version_major": 2,
       "version_minor": 0
      },
      "text/plain": [
       "HBox(children=(IntProgress(value=1, bar_style='info', description='CV loop', max=1), HTML(value='')))"
      ]
     },
     "metadata": {},
     "output_type": "display_data"
    },
    {
     "data": {
      "application/vnd.jupyter.widget-view+json": {
       "model_id": "",
       "version_major": 2,
       "version_minor": 0
      },
      "text/plain": [
       "HBox(children=(IntProgress(value=0, description='Parameter Loop', max=1), HTML(value='')))"
      ]
     },
     "metadata": {},
     "output_type": "display_data"
    },
    {
     "data": {
      "application/vnd.jupyter.widget-view+json": {
       "model_id": "",
       "version_major": 2,
       "version_minor": 0
      },
      "text/plain": [
       "HBox(children=(IntProgress(value=1, bar_style='info', description='CV loop', max=1), HTML(value='')))"
      ]
     },
     "metadata": {},
     "output_type": "display_data"
    },
    {
     "data": {
      "application/vnd.jupyter.widget-view+json": {
       "model_id": "",
       "version_major": 2,
       "version_minor": 0
      },
      "text/plain": [
       "HBox(children=(IntProgress(value=0, description='Parameter Loop', max=1), HTML(value='')))"
      ]
     },
     "metadata": {},
     "output_type": "display_data"
    },
    {
     "data": {
      "application/vnd.jupyter.widget-view+json": {
       "model_id": "",
       "version_major": 2,
       "version_minor": 0
      },
      "text/plain": [
       "HBox(children=(IntProgress(value=1, bar_style='info', description='CV loop', max=1), HTML(value='')))"
      ]
     },
     "metadata": {},
     "output_type": "display_data"
    },
    {
     "data": {
      "application/vnd.jupyter.widget-view+json": {
       "model_id": "",
       "version_major": 2,
       "version_minor": 0
      },
      "text/plain": [
       "HBox(children=(IntProgress(value=0, description='Parameter Loop', max=1), HTML(value='')))"
      ]
     },
     "metadata": {},
     "output_type": "display_data"
    },
    {
     "data": {
      "application/vnd.jupyter.widget-view+json": {
       "model_id": "",
       "version_major": 2,
       "version_minor": 0
      },
      "text/plain": [
       "HBox(children=(IntProgress(value=1, bar_style='info', description='CV loop', max=1), HTML(value='')))"
      ]
     },
     "metadata": {},
     "output_type": "display_data"
    },
    {
     "data": {
      "application/vnd.jupyter.widget-view+json": {
       "model_id": "",
       "version_major": 2,
       "version_minor": 0
      },
      "text/plain": [
       "HBox(children=(IntProgress(value=0, description='Parameter Loop', max=1), HTML(value='')))"
      ]
     },
     "metadata": {},
     "output_type": "display_data"
    },
    {
     "data": {
      "application/vnd.jupyter.widget-view+json": {
       "model_id": "",
       "version_major": 2,
       "version_minor": 0
      },
      "text/plain": [
       "HBox(children=(IntProgress(value=1, bar_style='info', description='CV loop', max=1), HTML(value='')))"
      ]
     },
     "metadata": {},
     "output_type": "display_data"
    },
    {
     "data": {
      "application/vnd.jupyter.widget-view+json": {
       "model_id": "",
       "version_major": 2,
       "version_minor": 0
      },
      "text/plain": [
       "HBox(children=(IntProgress(value=0, description='Parameter Loop', max=1), HTML(value='')))"
      ]
     },
     "metadata": {},
     "output_type": "display_data"
    },
    {
     "data": {
      "application/vnd.jupyter.widget-view+json": {
       "model_id": "",
       "version_major": 2,
       "version_minor": 0
      },
      "text/plain": [
       "HBox(children=(IntProgress(value=1, bar_style='info', description='CV loop', max=1), HTML(value='')))"
      ]
     },
     "metadata": {},
     "output_type": "display_data"
    },
    {
     "data": {
      "application/vnd.jupyter.widget-view+json": {
       "model_id": "",
       "version_major": 2,
       "version_minor": 0
      },
      "text/plain": [
       "HBox(children=(IntProgress(value=0, description='Parameter Loop', max=1), HTML(value='')))"
      ]
     },
     "metadata": {},
     "output_type": "display_data"
    },
    {
     "data": {
      "application/vnd.jupyter.widget-view+json": {
       "model_id": "",
       "version_major": 2,
       "version_minor": 0
      },
      "text/plain": [
       "HBox(children=(IntProgress(value=1, bar_style='info', description='CV loop', max=1), HTML(value='')))"
      ]
     },
     "metadata": {},
     "output_type": "display_data"
    },
    {
     "data": {
      "application/vnd.jupyter.widget-view+json": {
       "model_id": "",
       "version_major": 2,
       "version_minor": 0
      },
      "text/plain": [
       "HBox(children=(IntProgress(value=0, description='Parameter Loop', max=1), HTML(value='')))"
      ]
     },
     "metadata": {},
     "output_type": "display_data"
    },
    {
     "data": {
      "application/vnd.jupyter.widget-view+json": {
       "model_id": "",
       "version_major": 2,
       "version_minor": 0
      },
      "text/plain": [
       "HBox(children=(IntProgress(value=1, bar_style='info', description='CV loop', max=1), HTML(value='')))"
      ]
     },
     "metadata": {},
     "output_type": "display_data"
    },
    {
     "data": {
      "application/vnd.jupyter.widget-view+json": {
       "model_id": "",
       "version_major": 2,
       "version_minor": 0
      },
      "text/plain": [
       "HBox(children=(IntProgress(value=0, description='Parameter Loop', max=1), HTML(value='')))"
      ]
     },
     "metadata": {},
     "output_type": "display_data"
    },
    {
     "data": {
      "application/vnd.jupyter.widget-view+json": {
       "model_id": "",
       "version_major": 2,
       "version_minor": 0
      },
      "text/plain": [
       "HBox(children=(IntProgress(value=1, bar_style='info', description='CV loop', max=1), HTML(value='')))"
      ]
     },
     "metadata": {},
     "output_type": "display_data"
    },
    {
     "data": {
      "application/vnd.jupyter.widget-view+json": {
       "model_id": "",
       "version_major": 2,
       "version_minor": 0
      },
      "text/plain": [
       "HBox(children=(IntProgress(value=0, description='Parameter Loop', max=1), HTML(value='')))"
      ]
     },
     "metadata": {},
     "output_type": "display_data"
    },
    {
     "data": {
      "application/vnd.jupyter.widget-view+json": {
       "model_id": "",
       "version_major": 2,
       "version_minor": 0
      },
      "text/plain": [
       "HBox(children=(IntProgress(value=1, bar_style='info', description='CV loop', max=1), HTML(value='')))"
      ]
     },
     "metadata": {},
     "output_type": "display_data"
    },
    {
     "data": {
      "application/vnd.jupyter.widget-view+json": {
       "model_id": "",
       "version_major": 2,
       "version_minor": 0
      },
      "text/plain": [
       "HBox(children=(IntProgress(value=0, description='Parameter Loop', max=1), HTML(value='')))"
      ]
     },
     "metadata": {},
     "output_type": "display_data"
    },
    {
     "data": {
      "application/vnd.jupyter.widget-view+json": {
       "model_id": "",
       "version_major": 2,
       "version_minor": 0
      },
      "text/plain": [
       "HBox(children=(IntProgress(value=1, bar_style='info', description='CV loop', max=1), HTML(value='')))"
      ]
     },
     "metadata": {},
     "output_type": "display_data"
    },
    {
     "data": {
      "application/vnd.jupyter.widget-view+json": {
       "model_id": "",
       "version_major": 2,
       "version_minor": 0
      },
      "text/plain": [
       "HBox(children=(IntProgress(value=0, description='Parameter Loop', max=1), HTML(value='')))"
      ]
     },
     "metadata": {},
     "output_type": "display_data"
    },
    {
     "data": {
      "application/vnd.jupyter.widget-view+json": {
       "model_id": "",
       "version_major": 2,
       "version_minor": 0
      },
      "text/plain": [
       "HBox(children=(IntProgress(value=1, bar_style='info', description='CV loop', max=1), HTML(value='')))"
      ]
     },
     "metadata": {},
     "output_type": "display_data"
    },
    {
     "data": {
      "application/vnd.jupyter.widget-view+json": {
       "model_id": "",
       "version_major": 2,
       "version_minor": 0
      },
      "text/plain": [
       "HBox(children=(IntProgress(value=0, description='Parameter Loop', max=1), HTML(value='')))"
      ]
     },
     "metadata": {},
     "output_type": "display_data"
    },
    {
     "data": {
      "application/vnd.jupyter.widget-view+json": {
       "model_id": "",
       "version_major": 2,
       "version_minor": 0
      },
      "text/plain": [
       "HBox(children=(IntProgress(value=1, bar_style='info', description='CV loop', max=1), HTML(value='')))"
      ]
     },
     "metadata": {},
     "output_type": "display_data"
    },
    {
     "data": {
      "application/vnd.jupyter.widget-view+json": {
       "model_id": "",
       "version_major": 2,
       "version_minor": 0
      },
      "text/plain": [
       "HBox(children=(IntProgress(value=0, description='Parameter Loop', max=1), HTML(value='')))"
      ]
     },
     "metadata": {},
     "output_type": "display_data"
    },
    {
     "data": {
      "application/vnd.jupyter.widget-view+json": {
       "model_id": "",
       "version_major": 2,
       "version_minor": 0
      },
      "text/plain": [
       "HBox(children=(IntProgress(value=1, bar_style='info', description='CV loop', max=1), HTML(value='')))"
      ]
     },
     "metadata": {},
     "output_type": "display_data"
    },
    {
     "data": {
      "application/vnd.jupyter.widget-view+json": {
       "model_id": "",
       "version_major": 2,
       "version_minor": 0
      },
      "text/plain": [
       "HBox(children=(IntProgress(value=0, description='Parameter Loop', max=1), HTML(value='')))"
      ]
     },
     "metadata": {},
     "output_type": "display_data"
    },
    {
     "data": {
      "application/vnd.jupyter.widget-view+json": {
       "model_id": "",
       "version_major": 2,
       "version_minor": 0
      },
      "text/plain": [
       "HBox(children=(IntProgress(value=1, bar_style='info', description='CV loop', max=1), HTML(value='')))"
      ]
     },
     "metadata": {},
     "output_type": "display_data"
    },
    {
     "data": {
      "application/vnd.jupyter.widget-view+json": {
       "model_id": "",
       "version_major": 2,
       "version_minor": 0
      },
      "text/plain": [
       "HBox(children=(IntProgress(value=0, description='Parameter Loop', max=1), HTML(value='')))"
      ]
     },
     "metadata": {},
     "output_type": "display_data"
    },
    {
     "data": {
      "application/vnd.jupyter.widget-view+json": {
       "model_id": "",
       "version_major": 2,
       "version_minor": 0
      },
      "text/plain": [
       "HBox(children=(IntProgress(value=1, bar_style='info', description='CV loop', max=1), HTML(value='')))"
      ]
     },
     "metadata": {},
     "output_type": "display_data"
    },
    {
     "data": {
      "application/vnd.jupyter.widget-view+json": {
       "model_id": "",
       "version_major": 2,
       "version_minor": 0
      },
      "text/plain": [
       "HBox(children=(IntProgress(value=0, description='Parameter Loop', max=1), HTML(value='')))"
      ]
     },
     "metadata": {},
     "output_type": "display_data"
    },
    {
     "data": {
      "application/vnd.jupyter.widget-view+json": {
       "model_id": "",
       "version_major": 2,
       "version_minor": 0
      },
      "text/plain": [
       "HBox(children=(IntProgress(value=1, bar_style='info', description='CV loop', max=1), HTML(value='')))"
      ]
     },
     "metadata": {},
     "output_type": "display_data"
    },
    {
     "data": {
      "application/vnd.jupyter.widget-view+json": {
       "model_id": "",
       "version_major": 2,
       "version_minor": 0
      },
      "text/plain": [
       "HBox(children=(IntProgress(value=0, description='Parameter Loop', max=1), HTML(value='')))"
      ]
     },
     "metadata": {},
     "output_type": "display_data"
    },
    {
     "data": {
      "application/vnd.jupyter.widget-view+json": {
       "model_id": "",
       "version_major": 2,
       "version_minor": 0
      },
      "text/plain": [
       "HBox(children=(IntProgress(value=1, bar_style='info', description='CV loop', max=1), HTML(value='')))"
      ]
     },
     "metadata": {},
     "output_type": "display_data"
    },
    {
     "data": {
      "application/vnd.jupyter.widget-view+json": {
       "model_id": "",
       "version_major": 2,
       "version_minor": 0
      },
      "text/plain": [
       "HBox(children=(IntProgress(value=0, description='Parameter Loop', max=1), HTML(value='')))"
      ]
     },
     "metadata": {},
     "output_type": "display_data"
    },
    {
     "data": {
      "application/vnd.jupyter.widget-view+json": {
       "model_id": "",
       "version_major": 2,
       "version_minor": 0
      },
      "text/plain": [
       "HBox(children=(IntProgress(value=1, bar_style='info', description='CV loop', max=1), HTML(value='')))"
      ]
     },
     "metadata": {},
     "output_type": "display_data"
    },
    {
     "data": {
      "application/vnd.jupyter.widget-view+json": {
       "model_id": "",
       "version_major": 2,
       "version_minor": 0
      },
      "text/plain": [
       "HBox(children=(IntProgress(value=0, description='Parameter Loop', max=1), HTML(value='')))"
      ]
     },
     "metadata": {},
     "output_type": "display_data"
    },
    {
     "data": {
      "application/vnd.jupyter.widget-view+json": {
       "model_id": "",
       "version_major": 2,
       "version_minor": 0
      },
      "text/plain": [
       "HBox(children=(IntProgress(value=1, bar_style='info', description='CV loop', max=1), HTML(value='')))"
      ]
     },
     "metadata": {},
     "output_type": "display_data"
    },
    {
     "data": {
      "application/vnd.jupyter.widget-view+json": {
       "model_id": "",
       "version_major": 2,
       "version_minor": 0
      },
      "text/plain": [
       "HBox(children=(IntProgress(value=0, description='Parameter Loop', max=1), HTML(value='')))"
      ]
     },
     "metadata": {},
     "output_type": "display_data"
    },
    {
     "data": {
      "application/vnd.jupyter.widget-view+json": {
       "model_id": "",
       "version_major": 2,
       "version_minor": 0
      },
      "text/plain": [
       "HBox(children=(IntProgress(value=1, bar_style='info', description='CV loop', max=1), HTML(value='')))"
      ]
     },
     "metadata": {},
     "output_type": "display_data"
    },
    {
     "data": {
      "application/vnd.jupyter.widget-view+json": {
       "model_id": "",
       "version_major": 2,
       "version_minor": 0
      },
      "text/plain": [
       "HBox(children=(IntProgress(value=0, description='Parameter Loop', max=1), HTML(value='')))"
      ]
     },
     "metadata": {},
     "output_type": "display_data"
    },
    {
     "data": {
      "application/vnd.jupyter.widget-view+json": {
       "model_id": "",
       "version_major": 2,
       "version_minor": 0
      },
      "text/plain": [
       "HBox(children=(IntProgress(value=1, bar_style='info', description='CV loop', max=1), HTML(value='')))"
      ]
     },
     "metadata": {},
     "output_type": "display_data"
    },
    {
     "data": {
      "application/vnd.jupyter.widget-view+json": {
       "model_id": "",
       "version_major": 2,
       "version_minor": 0
      },
      "text/plain": [
       "HBox(children=(IntProgress(value=0, description='Parameter Loop', max=1), HTML(value='')))"
      ]
     },
     "metadata": {},
     "output_type": "display_data"
    },
    {
     "data": {
      "application/vnd.jupyter.widget-view+json": {
       "model_id": "",
       "version_major": 2,
       "version_minor": 0
      },
      "text/plain": [
       "HBox(children=(IntProgress(value=1, bar_style='info', description='CV loop', max=1), HTML(value='')))"
      ]
     },
     "metadata": {},
     "output_type": "display_data"
    },
    {
     "data": {
      "application/vnd.jupyter.widget-view+json": {
       "model_id": "",
       "version_major": 2,
       "version_minor": 0
      },
      "text/plain": [
       "HBox(children=(IntProgress(value=0, description='Parameter Loop', max=1), HTML(value='')))"
      ]
     },
     "metadata": {},
     "output_type": "display_data"
    },
    {
     "data": {
      "application/vnd.jupyter.widget-view+json": {
       "model_id": "",
       "version_major": 2,
       "version_minor": 0
      },
      "text/plain": [
       "HBox(children=(IntProgress(value=1, bar_style='info', description='CV loop', max=1), HTML(value='')))"
      ]
     },
     "metadata": {},
     "output_type": "display_data"
    },
    {
     "data": {
      "application/vnd.jupyter.widget-view+json": {
       "model_id": "",
       "version_major": 2,
       "version_minor": 0
      },
      "text/plain": [
       "HBox(children=(IntProgress(value=0, description='Parameter Loop', max=1), HTML(value='')))"
      ]
     },
     "metadata": {},
     "output_type": "display_data"
    },
    {
     "data": {
      "application/vnd.jupyter.widget-view+json": {
       "model_id": "",
       "version_major": 2,
       "version_minor": 0
      },
      "text/plain": [
       "HBox(children=(IntProgress(value=1, bar_style='info', description='CV loop', max=1), HTML(value='')))"
      ]
     },
     "metadata": {},
     "output_type": "display_data"
    },
    {
     "data": {
      "application/vnd.jupyter.widget-view+json": {
       "model_id": "",
       "version_major": 2,
       "version_minor": 0
      },
      "text/plain": [
       "HBox(children=(IntProgress(value=0, description='Parameter Loop', max=1), HTML(value='')))"
      ]
     },
     "metadata": {},
     "output_type": "display_data"
    },
    {
     "data": {
      "application/vnd.jupyter.widget-view+json": {
       "model_id": "",
       "version_major": 2,
       "version_minor": 0
      },
      "text/plain": [
       "HBox(children=(IntProgress(value=1, bar_style='info', description='CV loop', max=1), HTML(value='')))"
      ]
     },
     "metadata": {},
     "output_type": "display_data"
    },
    {
     "data": {
      "application/vnd.jupyter.widget-view+json": {
       "model_id": "",
       "version_major": 2,
       "version_minor": 0
      },
      "text/plain": [
       "HBox(children=(IntProgress(value=0, description='Parameter Loop', max=1), HTML(value='')))"
      ]
     },
     "metadata": {},
     "output_type": "display_data"
    },
    {
     "data": {
      "application/vnd.jupyter.widget-view+json": {
       "model_id": "",
       "version_major": 2,
       "version_minor": 0
      },
      "text/plain": [
       "HBox(children=(IntProgress(value=1, bar_style='info', description='CV loop', max=1), HTML(value='')))"
      ]
     },
     "metadata": {},
     "output_type": "display_data"
    },
    {
     "data": {
      "application/vnd.jupyter.widget-view+json": {
       "model_id": "",
       "version_major": 2,
       "version_minor": 0
      },
      "text/plain": [
       "HBox(children=(IntProgress(value=0, description='Parameter Loop', max=1), HTML(value='')))"
      ]
     },
     "metadata": {},
     "output_type": "display_data"
    },
    {
     "data": {
      "application/vnd.jupyter.widget-view+json": {
       "model_id": "",
       "version_major": 2,
       "version_minor": 0
      },
      "text/plain": [
       "HBox(children=(IntProgress(value=1, bar_style='info', description='CV loop', max=1), HTML(value='')))"
      ]
     },
     "metadata": {},
     "output_type": "display_data"
    },
    {
     "data": {
      "application/vnd.jupyter.widget-view+json": {
       "model_id": "",
       "version_major": 2,
       "version_minor": 0
      },
      "text/plain": [
       "HBox(children=(IntProgress(value=0, description='Parameter Loop', max=1), HTML(value='')))"
      ]
     },
     "metadata": {},
     "output_type": "display_data"
    },
    {
     "data": {
      "application/vnd.jupyter.widget-view+json": {
       "model_id": "",
       "version_major": 2,
       "version_minor": 0
      },
      "text/plain": [
       "HBox(children=(IntProgress(value=1, bar_style='info', description='CV loop', max=1), HTML(value='')))"
      ]
     },
     "metadata": {},
     "output_type": "display_data"
    },
    {
     "data": {
      "application/vnd.jupyter.widget-view+json": {
       "model_id": "",
       "version_major": 2,
       "version_minor": 0
      },
      "text/plain": [
       "HBox(children=(IntProgress(value=0, description='Parameter Loop', max=1), HTML(value='')))"
      ]
     },
     "metadata": {},
     "output_type": "display_data"
    },
    {
     "data": {
      "application/vnd.jupyter.widget-view+json": {
       "model_id": "",
       "version_major": 2,
       "version_minor": 0
      },
      "text/plain": [
       "HBox(children=(IntProgress(value=1, bar_style='info', description='CV loop', max=1), HTML(value='')))"
      ]
     },
     "metadata": {},
     "output_type": "display_data"
    },
    {
     "data": {
      "application/vnd.jupyter.widget-view+json": {
       "model_id": "",
       "version_major": 2,
       "version_minor": 0
      },
      "text/plain": [
       "HBox(children=(IntProgress(value=0, description='Parameter Loop', max=1), HTML(value='')))"
      ]
     },
     "metadata": {},
     "output_type": "display_data"
    },
    {
     "data": {
      "application/vnd.jupyter.widget-view+json": {
       "model_id": "",
       "version_major": 2,
       "version_minor": 0
      },
      "text/plain": [
       "HBox(children=(IntProgress(value=1, bar_style='info', description='CV loop', max=1), HTML(value='')))"
      ]
     },
     "metadata": {},
     "output_type": "display_data"
    },
    {
     "data": {
      "application/vnd.jupyter.widget-view+json": {
       "model_id": "",
       "version_major": 2,
       "version_minor": 0
      },
      "text/plain": [
       "HBox(children=(IntProgress(value=0, description='Parameter Loop', max=1), HTML(value='')))"
      ]
     },
     "metadata": {},
     "output_type": "display_data"
    },
    {
     "data": {
      "application/vnd.jupyter.widget-view+json": {
       "model_id": "",
       "version_major": 2,
       "version_minor": 0
      },
      "text/plain": [
       "HBox(children=(IntProgress(value=1, bar_style='info', description='CV loop', max=1), HTML(value='')))"
      ]
     },
     "metadata": {},
     "output_type": "display_data"
    },
    {
     "data": {
      "application/vnd.jupyter.widget-view+json": {
       "model_id": "",
       "version_major": 2,
       "version_minor": 0
      },
      "text/plain": [
       "HBox(children=(IntProgress(value=0, description='Parameter Loop', max=1), HTML(value='')))"
      ]
     },
     "metadata": {},
     "output_type": "display_data"
    },
    {
     "data": {
      "application/vnd.jupyter.widget-view+json": {
       "model_id": "",
       "version_major": 2,
       "version_minor": 0
      },
      "text/plain": [
       "HBox(children=(IntProgress(value=1, bar_style='info', description='CV loop', max=1), HTML(value='')))"
      ]
     },
     "metadata": {},
     "output_type": "display_data"
    },
    {
     "data": {
      "application/vnd.jupyter.widget-view+json": {
       "model_id": "",
       "version_major": 2,
       "version_minor": 0
      },
      "text/plain": [
       "HBox(children=(IntProgress(value=0, description='Parameter Loop', max=1), HTML(value='')))"
      ]
     },
     "metadata": {},
     "output_type": "display_data"
    },
    {
     "data": {
      "application/vnd.jupyter.widget-view+json": {
       "model_id": "",
       "version_major": 2,
       "version_minor": 0
      },
      "text/plain": [
       "HBox(children=(IntProgress(value=1, bar_style='info', description='CV loop', max=1), HTML(value='')))"
      ]
     },
     "metadata": {},
     "output_type": "display_data"
    },
    {
     "data": {
      "application/vnd.jupyter.widget-view+json": {
       "model_id": "",
       "version_major": 2,
       "version_minor": 0
      },
      "text/plain": [
       "HBox(children=(IntProgress(value=0, description='Parameter Loop', max=1), HTML(value='')))"
      ]
     },
     "metadata": {},
     "output_type": "display_data"
    },
    {
     "data": {
      "application/vnd.jupyter.widget-view+json": {
       "model_id": "",
       "version_major": 2,
       "version_minor": 0
      },
      "text/plain": [
       "HBox(children=(IntProgress(value=1, bar_style='info', description='CV loop', max=1), HTML(value='')))"
      ]
     },
     "metadata": {},
     "output_type": "display_data"
    },
    {
     "data": {
      "application/vnd.jupyter.widget-view+json": {
       "model_id": "",
       "version_major": 2,
       "version_minor": 0
      },
      "text/plain": [
       "HBox(children=(IntProgress(value=0, description='Parameter Loop', max=1), HTML(value='')))"
      ]
     },
     "metadata": {},
     "output_type": "display_data"
    },
    {
     "data": {
      "application/vnd.jupyter.widget-view+json": {
       "model_id": "",
       "version_major": 2,
       "version_minor": 0
      },
      "text/plain": [
       "HBox(children=(IntProgress(value=1, bar_style='info', description='CV loop', max=1), HTML(value='')))"
      ]
     },
     "metadata": {},
     "output_type": "display_data"
    },
    {
     "data": {
      "application/vnd.jupyter.widget-view+json": {
       "model_id": "",
       "version_major": 2,
       "version_minor": 0
      },
      "text/plain": [
       "HBox(children=(IntProgress(value=0, description='Parameter Loop', max=1), HTML(value='')))"
      ]
     },
     "metadata": {},
     "output_type": "display_data"
    },
    {
     "data": {
      "application/vnd.jupyter.widget-view+json": {
       "model_id": "",
       "version_major": 2,
       "version_minor": 0
      },
      "text/plain": [
       "HBox(children=(IntProgress(value=1, bar_style='info', description='CV loop', max=1), HTML(value='')))"
      ]
     },
     "metadata": {},
     "output_type": "display_data"
    },
    {
     "data": {
      "application/vnd.jupyter.widget-view+json": {
       "model_id": "",
       "version_major": 2,
       "version_minor": 0
      },
      "text/plain": [
       "HBox(children=(IntProgress(value=0, description='Parameter Loop', max=1), HTML(value='')))"
      ]
     },
     "metadata": {},
     "output_type": "display_data"
    },
    {
     "data": {
      "application/vnd.jupyter.widget-view+json": {
       "model_id": "",
       "version_major": 2,
       "version_minor": 0
      },
      "text/plain": [
       "HBox(children=(IntProgress(value=1, bar_style='info', description='CV loop', max=1), HTML(value='')))"
      ]
     },
     "metadata": {},
     "output_type": "display_data"
    },
    {
     "data": {
      "application/vnd.jupyter.widget-view+json": {
       "model_id": "",
       "version_major": 2,
       "version_minor": 0
      },
      "text/plain": [
       "HBox(children=(IntProgress(value=0, description='Parameter Loop', max=1), HTML(value='')))"
      ]
     },
     "metadata": {},
     "output_type": "display_data"
    },
    {
     "data": {
      "application/vnd.jupyter.widget-view+json": {
       "model_id": "",
       "version_major": 2,
       "version_minor": 0
      },
      "text/plain": [
       "HBox(children=(IntProgress(value=1, bar_style='info', description='CV loop', max=1), HTML(value='')))"
      ]
     },
     "metadata": {},
     "output_type": "display_data"
    },
    {
     "data": {
      "application/vnd.jupyter.widget-view+json": {
       "model_id": "",
       "version_major": 2,
       "version_minor": 0
      },
      "text/plain": [
       "HBox(children=(IntProgress(value=0, description='Parameter Loop', max=1), HTML(value='')))"
      ]
     },
     "metadata": {},
     "output_type": "display_data"
    },
    {
     "data": {
      "application/vnd.jupyter.widget-view+json": {
       "model_id": "",
       "version_major": 2,
       "version_minor": 0
      },
      "text/plain": [
       "HBox(children=(IntProgress(value=1, bar_style='info', description='CV loop', max=1), HTML(value='')))"
      ]
     },
     "metadata": {},
     "output_type": "display_data"
    },
    {
     "data": {
      "application/vnd.jupyter.widget-view+json": {
       "model_id": "",
       "version_major": 2,
       "version_minor": 0
      },
      "text/plain": [
       "HBox(children=(IntProgress(value=0, description='Parameter Loop', max=1), HTML(value='')))"
      ]
     },
     "metadata": {},
     "output_type": "display_data"
    },
    {
     "data": {
      "application/vnd.jupyter.widget-view+json": {
       "model_id": "",
       "version_major": 2,
       "version_minor": 0
      },
      "text/plain": [
       "HBox(children=(IntProgress(value=1, bar_style='info', description='CV loop', max=1), HTML(value='')))"
      ]
     },
     "metadata": {},
     "output_type": "display_data"
    },
    {
     "data": {
      "application/vnd.jupyter.widget-view+json": {
       "model_id": "",
       "version_major": 2,
       "version_minor": 0
      },
      "text/plain": [
       "HBox(children=(IntProgress(value=0, description='Parameter Loop', max=1), HTML(value='')))"
      ]
     },
     "metadata": {},
     "output_type": "display_data"
    },
    {
     "data": {
      "application/vnd.jupyter.widget-view+json": {
       "model_id": "",
       "version_major": 2,
       "version_minor": 0
      },
      "text/plain": [
       "HBox(children=(IntProgress(value=1, bar_style='info', description='CV loop', max=1), HTML(value='')))"
      ]
     },
     "metadata": {},
     "output_type": "display_data"
    },
    {
     "data": {
      "application/vnd.jupyter.widget-view+json": {
       "model_id": "",
       "version_major": 2,
       "version_minor": 0
      },
      "text/plain": [
       "HBox(children=(IntProgress(value=0, description='Parameter Loop', max=1), HTML(value='')))"
      ]
     },
     "metadata": {},
     "output_type": "display_data"
    },
    {
     "data": {
      "application/vnd.jupyter.widget-view+json": {
       "model_id": "",
       "version_major": 2,
       "version_minor": 0
      },
      "text/plain": [
       "HBox(children=(IntProgress(value=1, bar_style='info', description='CV loop', max=1), HTML(value='')))"
      ]
     },
     "metadata": {},
     "output_type": "display_data"
    },
    {
     "data": {
      "application/vnd.jupyter.widget-view+json": {
       "model_id": "",
       "version_major": 2,
       "version_minor": 0
      },
      "text/plain": [
       "HBox(children=(IntProgress(value=0, description='Parameter Loop', max=1), HTML(value='')))"
      ]
     },
     "metadata": {},
     "output_type": "display_data"
    },
    {
     "data": {
      "application/vnd.jupyter.widget-view+json": {
       "model_id": "",
       "version_major": 2,
       "version_minor": 0
      },
      "text/plain": [
       "HBox(children=(IntProgress(value=1, bar_style='info', description='CV loop', max=1), HTML(value='')))"
      ]
     },
     "metadata": {},
     "output_type": "display_data"
    },
    {
     "data": {
      "application/vnd.jupyter.widget-view+json": {
       "model_id": "",
       "version_major": 2,
       "version_minor": 0
      },
      "text/plain": [
       "HBox(children=(IntProgress(value=0, description='Parameter Loop', max=1), HTML(value='')))"
      ]
     },
     "metadata": {},
     "output_type": "display_data"
    },
    {
     "data": {
      "application/vnd.jupyter.widget-view+json": {
       "model_id": "",
       "version_major": 2,
       "version_minor": 0
      },
      "text/plain": [
       "HBox(children=(IntProgress(value=1, bar_style='info', description='CV loop', max=1), HTML(value='')))"
      ]
     },
     "metadata": {},
     "output_type": "display_data"
    },
    {
     "data": {
      "application/vnd.jupyter.widget-view+json": {
       "model_id": "",
       "version_major": 2,
       "version_minor": 0
      },
      "text/plain": [
       "HBox(children=(IntProgress(value=0, description='Parameter Loop', max=1), HTML(value='')))"
      ]
     },
     "metadata": {},
     "output_type": "display_data"
    },
    {
     "data": {
      "application/vnd.jupyter.widget-view+json": {
       "model_id": "",
       "version_major": 2,
       "version_minor": 0
      },
      "text/plain": [
       "HBox(children=(IntProgress(value=1, bar_style='info', description='CV loop', max=1), HTML(value='')))"
      ]
     },
     "metadata": {},
     "output_type": "display_data"
    },
    {
     "data": {
      "application/vnd.jupyter.widget-view+json": {
       "model_id": "",
       "version_major": 2,
       "version_minor": 0
      },
      "text/plain": [
       "HBox(children=(IntProgress(value=0, description='Parameter Loop', max=1), HTML(value='')))"
      ]
     },
     "metadata": {},
     "output_type": "display_data"
    },
    {
     "data": {
      "application/vnd.jupyter.widget-view+json": {
       "model_id": "",
       "version_major": 2,
       "version_minor": 0
      },
      "text/plain": [
       "HBox(children=(IntProgress(value=1, bar_style='info', description='CV loop', max=1), HTML(value='')))"
      ]
     },
     "metadata": {},
     "output_type": "display_data"
    },
    {
     "data": {
      "application/vnd.jupyter.widget-view+json": {
       "model_id": "",
       "version_major": 2,
       "version_minor": 0
      },
      "text/plain": [
       "HBox(children=(IntProgress(value=0, description='Parameter Loop', max=1), HTML(value='')))"
      ]
     },
     "metadata": {},
     "output_type": "display_data"
    },
    {
     "data": {
      "application/vnd.jupyter.widget-view+json": {
       "model_id": "",
       "version_major": 2,
       "version_minor": 0
      },
      "text/plain": [
       "HBox(children=(IntProgress(value=1, bar_style='info', description='CV loop', max=1), HTML(value='')))"
      ]
     },
     "metadata": {},
     "output_type": "display_data"
    },
    {
     "data": {
      "application/vnd.jupyter.widget-view+json": {
       "model_id": "",
       "version_major": 2,
       "version_minor": 0
      },
      "text/plain": [
       "HBox(children=(IntProgress(value=0, description='Parameter Loop', max=1), HTML(value='')))"
      ]
     },
     "metadata": {},
     "output_type": "display_data"
    },
    {
     "data": {
      "application/vnd.jupyter.widget-view+json": {
       "model_id": "",
       "version_major": 2,
       "version_minor": 0
      },
      "text/plain": [
       "HBox(children=(IntProgress(value=1, bar_style='info', description='CV loop', max=1), HTML(value='')))"
      ]
     },
     "metadata": {},
     "output_type": "display_data"
    },
    {
     "data": {
      "application/vnd.jupyter.widget-view+json": {
       "model_id": "",
       "version_major": 2,
       "version_minor": 0
      },
      "text/plain": [
       "HBox(children=(IntProgress(value=0, description='Parameter Loop', max=1), HTML(value='')))"
      ]
     },
     "metadata": {},
     "output_type": "display_data"
    },
    {
     "data": {
      "application/vnd.jupyter.widget-view+json": {
       "model_id": "",
       "version_major": 2,
       "version_minor": 0
      },
      "text/plain": [
       "HBox(children=(IntProgress(value=1, bar_style='info', description='CV loop', max=1), HTML(value='')))"
      ]
     },
     "metadata": {},
     "output_type": "display_data"
    },
    {
     "data": {
      "application/vnd.jupyter.widget-view+json": {
       "model_id": "",
       "version_major": 2,
       "version_minor": 0
      },
      "text/plain": [
       "HBox(children=(IntProgress(value=0, description='Parameter Loop', max=1), HTML(value='')))"
      ]
     },
     "metadata": {},
     "output_type": "display_data"
    },
    {
     "data": {
      "application/vnd.jupyter.widget-view+json": {
       "model_id": "",
       "version_major": 2,
       "version_minor": 0
      },
      "text/plain": [
       "HBox(children=(IntProgress(value=1, bar_style='info', description='CV loop', max=1), HTML(value='')))"
      ]
     },
     "metadata": {},
     "output_type": "display_data"
    },
    {
     "data": {
      "application/vnd.jupyter.widget-view+json": {
       "model_id": "",
       "version_major": 2,
       "version_minor": 0
      },
      "text/plain": [
       "HBox(children=(IntProgress(value=0, description='Parameter Loop', max=1), HTML(value='')))"
      ]
     },
     "metadata": {},
     "output_type": "display_data"
    },
    {
     "data": {
      "application/vnd.jupyter.widget-view+json": {
       "model_id": "",
       "version_major": 2,
       "version_minor": 0
      },
      "text/plain": [
       "HBox(children=(IntProgress(value=1, bar_style='info', description='CV loop', max=1), HTML(value='')))"
      ]
     },
     "metadata": {},
     "output_type": "display_data"
    },
    {
     "data": {
      "application/vnd.jupyter.widget-view+json": {
       "model_id": "",
       "version_major": 2,
       "version_minor": 0
      },
      "text/plain": [
       "HBox(children=(IntProgress(value=0, description='Parameter Loop', max=1), HTML(value='')))"
      ]
     },
     "metadata": {},
     "output_type": "display_data"
    },
    {
     "data": {
      "application/vnd.jupyter.widget-view+json": {
       "model_id": "",
       "version_major": 2,
       "version_minor": 0
      },
      "text/plain": [
       "HBox(children=(IntProgress(value=1, bar_style='info', description='CV loop', max=1), HTML(value='')))"
      ]
     },
     "metadata": {},
     "output_type": "display_data"
    },
    {
     "data": {
      "application/vnd.jupyter.widget-view+json": {
       "model_id": "",
       "version_major": 2,
       "version_minor": 0
      },
      "text/plain": [
       "HBox(children=(IntProgress(value=0, description='Parameter Loop', max=1), HTML(value='')))"
      ]
     },
     "metadata": {},
     "output_type": "display_data"
    },
    {
     "data": {
      "application/vnd.jupyter.widget-view+json": {
       "model_id": "",
       "version_major": 2,
       "version_minor": 0
      },
      "text/plain": [
       "HBox(children=(IntProgress(value=1, bar_style='info', description='CV loop', max=1), HTML(value='')))"
      ]
     },
     "metadata": {},
     "output_type": "display_data"
    },
    {
     "data": {
      "application/vnd.jupyter.widget-view+json": {
       "model_id": "",
       "version_major": 2,
       "version_minor": 0
      },
      "text/plain": [
       "HBox(children=(IntProgress(value=0, description='Parameter Loop', max=1), HTML(value='')))"
      ]
     },
     "metadata": {},
     "output_type": "display_data"
    },
    {
     "data": {
      "application/vnd.jupyter.widget-view+json": {
       "model_id": "",
       "version_major": 2,
       "version_minor": 0
      },
      "text/plain": [
       "HBox(children=(IntProgress(value=1, bar_style='info', description='CV loop', max=1), HTML(value='')))"
      ]
     },
     "metadata": {},
     "output_type": "display_data"
    },
    {
     "data": {
      "application/vnd.jupyter.widget-view+json": {
       "model_id": "",
       "version_major": 2,
       "version_minor": 0
      },
      "text/plain": [
       "HBox(children=(IntProgress(value=0, description='Parameter Loop', max=1), HTML(value='')))"
      ]
     },
     "metadata": {},
     "output_type": "display_data"
    },
    {
     "data": {
      "application/vnd.jupyter.widget-view+json": {
       "model_id": "",
       "version_major": 2,
       "version_minor": 0
      },
      "text/plain": [
       "HBox(children=(IntProgress(value=1, bar_style='info', description='CV loop', max=1), HTML(value='')))"
      ]
     },
     "metadata": {},
     "output_type": "display_data"
    },
    {
     "data": {
      "application/vnd.jupyter.widget-view+json": {
       "model_id": "",
       "version_major": 2,
       "version_minor": 0
      },
      "text/plain": [
       "HBox(children=(IntProgress(value=0, description='Parameter Loop', max=1), HTML(value='')))"
      ]
     },
     "metadata": {},
     "output_type": "display_data"
    },
    {
     "data": {
      "application/vnd.jupyter.widget-view+json": {
       "model_id": "",
       "version_major": 2,
       "version_minor": 0
      },
      "text/plain": [
       "HBox(children=(IntProgress(value=1, bar_style='info', description='CV loop', max=1), HTML(value='')))"
      ]
     },
     "metadata": {},
     "output_type": "display_data"
    },
    {
     "data": {
      "application/vnd.jupyter.widget-view+json": {
       "model_id": "",
       "version_major": 2,
       "version_minor": 0
      },
      "text/plain": [
       "HBox(children=(IntProgress(value=0, description='Parameter Loop', max=1), HTML(value='')))"
      ]
     },
     "metadata": {},
     "output_type": "display_data"
    },
    {
     "data": {
      "application/vnd.jupyter.widget-view+json": {
       "model_id": "",
       "version_major": 2,
       "version_minor": 0
      },
      "text/plain": [
       "HBox(children=(IntProgress(value=1, bar_style='info', description='CV loop', max=1), HTML(value='')))"
      ]
     },
     "metadata": {},
     "output_type": "display_data"
    },
    {
     "data": {
      "application/vnd.jupyter.widget-view+json": {
       "model_id": "",
       "version_major": 2,
       "version_minor": 0
      },
      "text/plain": [
       "HBox(children=(IntProgress(value=0, description='Parameter Loop', max=1), HTML(value='')))"
      ]
     },
     "metadata": {},
     "output_type": "display_data"
    },
    {
     "data": {
      "application/vnd.jupyter.widget-view+json": {
       "model_id": "",
       "version_major": 2,
       "version_minor": 0
      },
      "text/plain": [
       "HBox(children=(IntProgress(value=1, bar_style='info', description='CV loop', max=1), HTML(value='')))"
      ]
     },
     "metadata": {},
     "output_type": "display_data"
    },
    {
     "data": {
      "application/vnd.jupyter.widget-view+json": {
       "model_id": "",
       "version_major": 2,
       "version_minor": 0
      },
      "text/plain": [
       "HBox(children=(IntProgress(value=0, description='Parameter Loop', max=1), HTML(value='')))"
      ]
     },
     "metadata": {},
     "output_type": "display_data"
    },
    {
     "data": {
      "application/vnd.jupyter.widget-view+json": {
       "model_id": "",
       "version_major": 2,
       "version_minor": 0
      },
      "text/plain": [
       "HBox(children=(IntProgress(value=1, bar_style='info', description='CV loop', max=1), HTML(value='')))"
      ]
     },
     "metadata": {},
     "output_type": "display_data"
    },
    {
     "data": {
      "application/vnd.jupyter.widget-view+json": {
       "model_id": "",
       "version_major": 2,
       "version_minor": 0
      },
      "text/plain": [
       "HBox(children=(IntProgress(value=0, description='Parameter Loop', max=1), HTML(value='')))"
      ]
     },
     "metadata": {},
     "output_type": "display_data"
    },
    {
     "data": {
      "application/vnd.jupyter.widget-view+json": {
       "model_id": "",
       "version_major": 2,
       "version_minor": 0
      },
      "text/plain": [
       "HBox(children=(IntProgress(value=1, bar_style='info', description='CV loop', max=1), HTML(value='')))"
      ]
     },
     "metadata": {},
     "output_type": "display_data"
    },
    {
     "data": {
      "application/vnd.jupyter.widget-view+json": {
       "model_id": "",
       "version_major": 2,
       "version_minor": 0
      },
      "text/plain": [
       "HBox(children=(IntProgress(value=0, description='Parameter Loop', max=1), HTML(value='')))"
      ]
     },
     "metadata": {},
     "output_type": "display_data"
    },
    {
     "data": {
      "application/vnd.jupyter.widget-view+json": {
       "model_id": "",
       "version_major": 2,
       "version_minor": 0
      },
      "text/plain": [
       "HBox(children=(IntProgress(value=1, bar_style='info', description='CV loop', max=1), HTML(value='')))"
      ]
     },
     "metadata": {},
     "output_type": "display_data"
    },
    {
     "data": {
      "application/vnd.jupyter.widget-view+json": {
       "model_id": "",
       "version_major": 2,
       "version_minor": 0
      },
      "text/plain": [
       "HBox(children=(IntProgress(value=0, description='Parameter Loop', max=1), HTML(value='')))"
      ]
     },
     "metadata": {},
     "output_type": "display_data"
    },
    {
     "data": {
      "application/vnd.jupyter.widget-view+json": {
       "model_id": "",
       "version_major": 2,
       "version_minor": 0
      },
      "text/plain": [
       "HBox(children=(IntProgress(value=1, bar_style='info', description='CV loop', max=1), HTML(value='')))"
      ]
     },
     "metadata": {},
     "output_type": "display_data"
    },
    {
     "data": {
      "application/vnd.jupyter.widget-view+json": {
       "model_id": "",
       "version_major": 2,
       "version_minor": 0
      },
      "text/plain": [
       "HBox(children=(IntProgress(value=0, description='Parameter Loop', max=1), HTML(value='')))"
      ]
     },
     "metadata": {},
     "output_type": "display_data"
    },
    {
     "data": {
      "application/vnd.jupyter.widget-view+json": {
       "model_id": "",
       "version_major": 2,
       "version_minor": 0
      },
      "text/plain": [
       "HBox(children=(IntProgress(value=1, bar_style='info', description='CV loop', max=1), HTML(value='')))"
      ]
     },
     "metadata": {},
     "output_type": "display_data"
    },
    {
     "data": {
      "application/vnd.jupyter.widget-view+json": {
       "model_id": "",
       "version_major": 2,
       "version_minor": 0
      },
      "text/plain": [
       "HBox(children=(IntProgress(value=0, description='Parameter Loop', max=1), HTML(value='')))"
      ]
     },
     "metadata": {},
     "output_type": "display_data"
    },
    {
     "data": {
      "application/vnd.jupyter.widget-view+json": {
       "model_id": "",
       "version_major": 2,
       "version_minor": 0
      },
      "text/plain": [
       "HBox(children=(IntProgress(value=1, bar_style='info', description='CV loop', max=1), HTML(value='')))"
      ]
     },
     "metadata": {},
     "output_type": "display_data"
    },
    {
     "data": {
      "application/vnd.jupyter.widget-view+json": {
       "model_id": "",
       "version_major": 2,
       "version_minor": 0
      },
      "text/plain": [
       "HBox(children=(IntProgress(value=0, description='Parameter Loop', max=1), HTML(value='')))"
      ]
     },
     "metadata": {},
     "output_type": "display_data"
    },
    {
     "data": {
      "application/vnd.jupyter.widget-view+json": {
       "model_id": "",
       "version_major": 2,
       "version_minor": 0
      },
      "text/plain": [
       "HBox(children=(IntProgress(value=1, bar_style='info', description='CV loop', max=1), HTML(value='')))"
      ]
     },
     "metadata": {},
     "output_type": "display_data"
    },
    {
     "data": {
      "application/vnd.jupyter.widget-view+json": {
       "model_id": "",
       "version_major": 2,
       "version_minor": 0
      },
      "text/plain": [
       "HBox(children=(IntProgress(value=0, description='Parameter Loop', max=1), HTML(value='')))"
      ]
     },
     "metadata": {},
     "output_type": "display_data"
    },
    {
     "data": {
      "application/vnd.jupyter.widget-view+json": {
       "model_id": "",
       "version_major": 2,
       "version_minor": 0
      },
      "text/plain": [
       "HBox(children=(IntProgress(value=1, bar_style='info', description='CV loop', max=1), HTML(value='')))"
      ]
     },
     "metadata": {},
     "output_type": "display_data"
    },
    {
     "data": {
      "application/vnd.jupyter.widget-view+json": {
       "model_id": "",
       "version_major": 2,
       "version_minor": 0
      },
      "text/plain": [
       "HBox(children=(IntProgress(value=0, description='Parameter Loop', max=1), HTML(value='')))"
      ]
     },
     "metadata": {},
     "output_type": "display_data"
    },
    {
     "data": {
      "application/vnd.jupyter.widget-view+json": {
       "model_id": "",
       "version_major": 2,
       "version_minor": 0
      },
      "text/plain": [
       "HBox(children=(IntProgress(value=1, bar_style='info', description='CV loop', max=1), HTML(value='')))"
      ]
     },
     "metadata": {},
     "output_type": "display_data"
    },
    {
     "data": {
      "application/vnd.jupyter.widget-view+json": {
       "model_id": "",
       "version_major": 2,
       "version_minor": 0
      },
      "text/plain": [
       "HBox(children=(IntProgress(value=0, description='Parameter Loop', max=1), HTML(value='')))"
      ]
     },
     "metadata": {},
     "output_type": "display_data"
    },
    {
     "data": {
      "application/vnd.jupyter.widget-view+json": {
       "model_id": "",
       "version_major": 2,
       "version_minor": 0
      },
      "text/plain": [
       "HBox(children=(IntProgress(value=1, bar_style='info', description='CV loop', max=1), HTML(value='')))"
      ]
     },
     "metadata": {},
     "output_type": "display_data"
    },
    {
     "data": {
      "application/vnd.jupyter.widget-view+json": {
       "model_id": "",
       "version_major": 2,
       "version_minor": 0
      },
      "text/plain": [
       "HBox(children=(IntProgress(value=0, description='Parameter Loop', max=1), HTML(value='')))"
      ]
     },
     "metadata": {},
     "output_type": "display_data"
    },
    {
     "data": {
      "application/vnd.jupyter.widget-view+json": {
       "model_id": "",
       "version_major": 2,
       "version_minor": 0
      },
      "text/plain": [
       "HBox(children=(IntProgress(value=1, bar_style='info', description='CV loop', max=1), HTML(value='')))"
      ]
     },
     "metadata": {},
     "output_type": "display_data"
    },
    {
     "data": {
      "application/vnd.jupyter.widget-view+json": {
       "model_id": "",
       "version_major": 2,
       "version_minor": 0
      },
      "text/plain": [
       "HBox(children=(IntProgress(value=0, description='Parameter Loop', max=1), HTML(value='')))"
      ]
     },
     "metadata": {},
     "output_type": "display_data"
    },
    {
     "data": {
      "application/vnd.jupyter.widget-view+json": {
       "model_id": "",
       "version_major": 2,
       "version_minor": 0
      },
      "text/plain": [
       "HBox(children=(IntProgress(value=1, bar_style='info', description='CV loop', max=1), HTML(value='')))"
      ]
     },
     "metadata": {},
     "output_type": "display_data"
    },
    {
     "data": {
      "application/vnd.jupyter.widget-view+json": {
       "model_id": "",
       "version_major": 2,
       "version_minor": 0
      },
      "text/plain": [
       "HBox(children=(IntProgress(value=0, description='Parameter Loop', max=1), HTML(value='')))"
      ]
     },
     "metadata": {},
     "output_type": "display_data"
    },
    {
     "data": {
      "application/vnd.jupyter.widget-view+json": {
       "model_id": "",
       "version_major": 2,
       "version_minor": 0
      },
      "text/plain": [
       "HBox(children=(IntProgress(value=1, bar_style='info', description='CV loop', max=1), HTML(value='')))"
      ]
     },
     "metadata": {},
     "output_type": "display_data"
    },
    {
     "data": {
      "application/vnd.jupyter.widget-view+json": {
       "model_id": "",
       "version_major": 2,
       "version_minor": 0
      },
      "text/plain": [
       "HBox(children=(IntProgress(value=0, description='Parameter Loop', max=1), HTML(value='')))"
      ]
     },
     "metadata": {},
     "output_type": "display_data"
    },
    {
     "data": {
      "application/vnd.jupyter.widget-view+json": {
       "model_id": "",
       "version_major": 2,
       "version_minor": 0
      },
      "text/plain": [
       "HBox(children=(IntProgress(value=1, bar_style='info', description='CV loop', max=1), HTML(value='')))"
      ]
     },
     "metadata": {},
     "output_type": "display_data"
    },
    {
     "data": {
      "application/vnd.jupyter.widget-view+json": {
       "model_id": "",
       "version_major": 2,
       "version_minor": 0
      },
      "text/plain": [
       "HBox(children=(IntProgress(value=0, description='Parameter Loop', max=1), HTML(value='')))"
      ]
     },
     "metadata": {},
     "output_type": "display_data"
    },
    {
     "data": {
      "application/vnd.jupyter.widget-view+json": {
       "model_id": "",
       "version_major": 2,
       "version_minor": 0
      },
      "text/plain": [
       "HBox(children=(IntProgress(value=1, bar_style='info', description='CV loop', max=1), HTML(value='')))"
      ]
     },
     "metadata": {},
     "output_type": "display_data"
    },
    {
     "data": {
      "application/vnd.jupyter.widget-view+json": {
       "model_id": "",
       "version_major": 2,
       "version_minor": 0
      },
      "text/plain": [
       "HBox(children=(IntProgress(value=0, description='Parameter Loop', max=1), HTML(value='')))"
      ]
     },
     "metadata": {},
     "output_type": "display_data"
    },
    {
     "data": {
      "application/vnd.jupyter.widget-view+json": {
       "model_id": "",
       "version_major": 2,
       "version_minor": 0
      },
      "text/plain": [
       "HBox(children=(IntProgress(value=1, bar_style='info', description='CV loop', max=1), HTML(value='')))"
      ]
     },
     "metadata": {},
     "output_type": "display_data"
    },
    {
     "data": {
      "application/vnd.jupyter.widget-view+json": {
       "model_id": "",
       "version_major": 2,
       "version_minor": 0
      },
      "text/plain": [
       "HBox(children=(IntProgress(value=0, description='Parameter Loop', max=1), HTML(value='')))"
      ]
     },
     "metadata": {},
     "output_type": "display_data"
    },
    {
     "data": {
      "application/vnd.jupyter.widget-view+json": {
       "model_id": "",
       "version_major": 2,
       "version_minor": 0
      },
      "text/plain": [
       "HBox(children=(IntProgress(value=1, bar_style='info', description='CV loop', max=1), HTML(value='')))"
      ]
     },
     "metadata": {},
     "output_type": "display_data"
    },
    {
     "data": {
      "application/vnd.jupyter.widget-view+json": {
       "model_id": "",
       "version_major": 2,
       "version_minor": 0
      },
      "text/plain": [
       "HBox(children=(IntProgress(value=0, description='Parameter Loop', max=1), HTML(value='')))"
      ]
     },
     "metadata": {},
     "output_type": "display_data"
    },
    {
     "data": {
      "application/vnd.jupyter.widget-view+json": {
       "model_id": "",
       "version_major": 2,
       "version_minor": 0
      },
      "text/plain": [
       "HBox(children=(IntProgress(value=1, bar_style='info', description='CV loop', max=1), HTML(value='')))"
      ]
     },
     "metadata": {},
     "output_type": "display_data"
    },
    {
     "data": {
      "application/vnd.jupyter.widget-view+json": {
       "model_id": "",
       "version_major": 2,
       "version_minor": 0
      },
      "text/plain": [
       "HBox(children=(IntProgress(value=0, description='Parameter Loop', max=1), HTML(value='')))"
      ]
     },
     "metadata": {},
     "output_type": "display_data"
    },
    {
     "data": {
      "application/vnd.jupyter.widget-view+json": {
       "model_id": "",
       "version_major": 2,
       "version_minor": 0
      },
      "text/plain": [
       "HBox(children=(IntProgress(value=1, bar_style='info', description='CV loop', max=1), HTML(value='')))"
      ]
     },
     "metadata": {},
     "output_type": "display_data"
    },
    {
     "data": {
      "application/vnd.jupyter.widget-view+json": {
       "model_id": "",
       "version_major": 2,
       "version_minor": 0
      },
      "text/plain": [
       "HBox(children=(IntProgress(value=0, description='Parameter Loop', max=1), HTML(value='')))"
      ]
     },
     "metadata": {},
     "output_type": "display_data"
    },
    {
     "data": {
      "application/vnd.jupyter.widget-view+json": {
       "model_id": "",
       "version_major": 2,
       "version_minor": 0
      },
      "text/plain": [
       "HBox(children=(IntProgress(value=1, bar_style='info', description='CV loop', max=1), HTML(value='')))"
      ]
     },
     "metadata": {},
     "output_type": "display_data"
    },
    {
     "data": {
      "application/vnd.jupyter.widget-view+json": {
       "model_id": "",
       "version_major": 2,
       "version_minor": 0
      },
      "text/plain": [
       "HBox(children=(IntProgress(value=0, description='Parameter Loop', max=1), HTML(value='')))"
      ]
     },
     "metadata": {},
     "output_type": "display_data"
    },
    {
     "data": {
      "application/vnd.jupyter.widget-view+json": {
       "model_id": "",
       "version_major": 2,
       "version_minor": 0
      },
      "text/plain": [
       "HBox(children=(IntProgress(value=1, bar_style='info', description='CV loop', max=1), HTML(value='')))"
      ]
     },
     "metadata": {},
     "output_type": "display_data"
    },
    {
     "data": {
      "application/vnd.jupyter.widget-view+json": {
       "model_id": "",
       "version_major": 2,
       "version_minor": 0
      },
      "text/plain": [
       "HBox(children=(IntProgress(value=0, description='Parameter Loop', max=1), HTML(value='')))"
      ]
     },
     "metadata": {},
     "output_type": "display_data"
    },
    {
     "data": {
      "application/vnd.jupyter.widget-view+json": {
       "model_id": "",
       "version_major": 2,
       "version_minor": 0
      },
      "text/plain": [
       "HBox(children=(IntProgress(value=1, bar_style='info', description='CV loop', max=1), HTML(value='')))"
      ]
     },
     "metadata": {},
     "output_type": "display_data"
    },
    {
     "data": {
      "application/vnd.jupyter.widget-view+json": {
       "model_id": "",
       "version_major": 2,
       "version_minor": 0
      },
      "text/plain": [
       "HBox(children=(IntProgress(value=0, description='Parameter Loop', max=1), HTML(value='')))"
      ]
     },
     "metadata": {},
     "output_type": "display_data"
    },
    {
     "data": {
      "application/vnd.jupyter.widget-view+json": {
       "model_id": "",
       "version_major": 2,
       "version_minor": 0
      },
      "text/plain": [
       "HBox(children=(IntProgress(value=1, bar_style='info', description='CV loop', max=1), HTML(value='')))"
      ]
     },
     "metadata": {},
     "output_type": "display_data"
    },
    {
     "data": {
      "application/vnd.jupyter.widget-view+json": {
       "model_id": "",
       "version_major": 2,
       "version_minor": 0
      },
      "text/plain": [
       "HBox(children=(IntProgress(value=0, description='Parameter Loop', max=1), HTML(value='')))"
      ]
     },
     "metadata": {},
     "output_type": "display_data"
    },
    {
     "data": {
      "application/vnd.jupyter.widget-view+json": {
       "model_id": "",
       "version_major": 2,
       "version_minor": 0
      },
      "text/plain": [
       "HBox(children=(IntProgress(value=1, bar_style='info', description='CV loop', max=1), HTML(value='')))"
      ]
     },
     "metadata": {},
     "output_type": "display_data"
    },
    {
     "data": {
      "application/vnd.jupyter.widget-view+json": {
       "model_id": "",
       "version_major": 2,
       "version_minor": 0
      },
      "text/plain": [
       "HBox(children=(IntProgress(value=0, description='Parameter Loop', max=1), HTML(value='')))"
      ]
     },
     "metadata": {},
     "output_type": "display_data"
    },
    {
     "data": {
      "application/vnd.jupyter.widget-view+json": {
       "model_id": "",
       "version_major": 2,
       "version_minor": 0
      },
      "text/plain": [
       "HBox(children=(IntProgress(value=1, bar_style='info', description='CV loop', max=1), HTML(value='')))"
      ]
     },
     "metadata": {},
     "output_type": "display_data"
    },
    {
     "data": {
      "application/vnd.jupyter.widget-view+json": {
       "model_id": "",
       "version_major": 2,
       "version_minor": 0
      },
      "text/plain": [
       "HBox(children=(IntProgress(value=0, description='Parameter Loop', max=1), HTML(value='')))"
      ]
     },
     "metadata": {},
     "output_type": "display_data"
    },
    {
     "data": {
      "application/vnd.jupyter.widget-view+json": {
       "model_id": "",
       "version_major": 2,
       "version_minor": 0
      },
      "text/plain": [
       "HBox(children=(IntProgress(value=1, bar_style='info', description='CV loop', max=1), HTML(value='')))"
      ]
     },
     "metadata": {},
     "output_type": "display_data"
    },
    {
     "data": {
      "application/vnd.jupyter.widget-view+json": {
       "model_id": "",
       "version_major": 2,
       "version_minor": 0
      },
      "text/plain": [
       "HBox(children=(IntProgress(value=0, description='Parameter Loop', max=1), HTML(value='')))"
      ]
     },
     "metadata": {},
     "output_type": "display_data"
    },
    {
     "data": {
      "application/vnd.jupyter.widget-view+json": {
       "model_id": "",
       "version_major": 2,
       "version_minor": 0
      },
      "text/plain": [
       "HBox(children=(IntProgress(value=1, bar_style='info', description='CV loop', max=1), HTML(value='')))"
      ]
     },
     "metadata": {},
     "output_type": "display_data"
    },
    {
     "data": {
      "application/vnd.jupyter.widget-view+json": {
       "model_id": "",
       "version_major": 2,
       "version_minor": 0
      },
      "text/plain": [
       "HBox(children=(IntProgress(value=0, description='Parameter Loop', max=1), HTML(value='')))"
      ]
     },
     "metadata": {},
     "output_type": "display_data"
    },
    {
     "data": {
      "application/vnd.jupyter.widget-view+json": {
       "model_id": "",
       "version_major": 2,
       "version_minor": 0
      },
      "text/plain": [
       "HBox(children=(IntProgress(value=1, bar_style='info', description='CV loop', max=1), HTML(value='')))"
      ]
     },
     "metadata": {},
     "output_type": "display_data"
    },
    {
     "data": {
      "application/vnd.jupyter.widget-view+json": {
       "model_id": "",
       "version_major": 2,
       "version_minor": 0
      },
      "text/plain": [
       "HBox(children=(IntProgress(value=0, description='Parameter Loop', max=1), HTML(value='')))"
      ]
     },
     "metadata": {},
     "output_type": "display_data"
    },
    {
     "data": {
      "application/vnd.jupyter.widget-view+json": {
       "model_id": "",
       "version_major": 2,
       "version_minor": 0
      },
      "text/plain": [
       "HBox(children=(IntProgress(value=1, bar_style='info', description='CV loop', max=1), HTML(value='')))"
      ]
     },
     "metadata": {},
     "output_type": "display_data"
    },
    {
     "data": {
      "application/vnd.jupyter.widget-view+json": {
       "model_id": "",
       "version_major": 2,
       "version_minor": 0
      },
      "text/plain": [
       "HBox(children=(IntProgress(value=0, description='Parameter Loop', max=1), HTML(value='')))"
      ]
     },
     "metadata": {},
     "output_type": "display_data"
    },
    {
     "data": {
      "application/vnd.jupyter.widget-view+json": {
       "model_id": "",
       "version_major": 2,
       "version_minor": 0
      },
      "text/plain": [
       "HBox(children=(IntProgress(value=1, bar_style='info', description='CV loop', max=1), HTML(value='')))"
      ]
     },
     "metadata": {},
     "output_type": "display_data"
    },
    {
     "data": {
      "application/vnd.jupyter.widget-view+json": {
       "model_id": "",
       "version_major": 2,
       "version_minor": 0
      },
      "text/plain": [
       "HBox(children=(IntProgress(value=0, description='Parameter Loop', max=1), HTML(value='')))"
      ]
     },
     "metadata": {},
     "output_type": "display_data"
    },
    {
     "data": {
      "application/vnd.jupyter.widget-view+json": {
       "model_id": "",
       "version_major": 2,
       "version_minor": 0
      },
      "text/plain": [
       "HBox(children=(IntProgress(value=1, bar_style='info', description='CV loop', max=1), HTML(value='')))"
      ]
     },
     "metadata": {},
     "output_type": "display_data"
    },
    {
     "data": {
      "application/vnd.jupyter.widget-view+json": {
       "model_id": "",
       "version_major": 2,
       "version_minor": 0
      },
      "text/plain": [
       "HBox(children=(IntProgress(value=0, description='Parameter Loop', max=1), HTML(value='')))"
      ]
     },
     "metadata": {},
     "output_type": "display_data"
    },
    {
     "data": {
      "application/vnd.jupyter.widget-view+json": {
       "model_id": "",
       "version_major": 2,
       "version_minor": 0
      },
      "text/plain": [
       "HBox(children=(IntProgress(value=1, bar_style='info', description='CV loop', max=1), HTML(value='')))"
      ]
     },
     "metadata": {},
     "output_type": "display_data"
    },
    {
     "data": {
      "application/vnd.jupyter.widget-view+json": {
       "model_id": "",
       "version_major": 2,
       "version_minor": 0
      },
      "text/plain": [
       "HBox(children=(IntProgress(value=0, description='Parameter Loop', max=1), HTML(value='')))"
      ]
     },
     "metadata": {},
     "output_type": "display_data"
    },
    {
     "data": {
      "application/vnd.jupyter.widget-view+json": {
       "model_id": "",
       "version_major": 2,
       "version_minor": 0
      },
      "text/plain": [
       "HBox(children=(IntProgress(value=1, bar_style='info', description='CV loop', max=1), HTML(value='')))"
      ]
     },
     "metadata": {},
     "output_type": "display_data"
    },
    {
     "data": {
      "application/vnd.jupyter.widget-view+json": {
       "model_id": "",
       "version_major": 2,
       "version_minor": 0
      },
      "text/plain": [
       "HBox(children=(IntProgress(value=0, description='Parameter Loop', max=1), HTML(value='')))"
      ]
     },
     "metadata": {},
     "output_type": "display_data"
    },
    {
     "data": {
      "application/vnd.jupyter.widget-view+json": {
       "model_id": "",
       "version_major": 2,
       "version_minor": 0
      },
      "text/plain": [
       "HBox(children=(IntProgress(value=1, bar_style='info', description='CV loop', max=1), HTML(value='')))"
      ]
     },
     "metadata": {},
     "output_type": "display_data"
    },
    {
     "data": {
      "application/vnd.jupyter.widget-view+json": {
       "model_id": "",
       "version_major": 2,
       "version_minor": 0
      },
      "text/plain": [
       "HBox(children=(IntProgress(value=0, description='Parameter Loop', max=1), HTML(value='')))"
      ]
     },
     "metadata": {},
     "output_type": "display_data"
    },
    {
     "data": {
      "application/vnd.jupyter.widget-view+json": {
       "model_id": "",
       "version_major": 2,
       "version_minor": 0
      },
      "text/plain": [
       "HBox(children=(IntProgress(value=1, bar_style='info', description='CV loop', max=1), HTML(value='')))"
      ]
     },
     "metadata": {},
     "output_type": "display_data"
    },
    {
     "data": {
      "application/vnd.jupyter.widget-view+json": {
       "model_id": "",
       "version_major": 2,
       "version_minor": 0
      },
      "text/plain": [
       "HBox(children=(IntProgress(value=0, description='Parameter Loop', max=1), HTML(value='')))"
      ]
     },
     "metadata": {},
     "output_type": "display_data"
    },
    {
     "data": {
      "application/vnd.jupyter.widget-view+json": {
       "model_id": "",
       "version_major": 2,
       "version_minor": 0
      },
      "text/plain": [
       "HBox(children=(IntProgress(value=1, bar_style='info', description='CV loop', max=1), HTML(value='')))"
      ]
     },
     "metadata": {},
     "output_type": "display_data"
    },
    {
     "data": {
      "application/vnd.jupyter.widget-view+json": {
       "model_id": "",
       "version_major": 2,
       "version_minor": 0
      },
      "text/plain": [
       "HBox(children=(IntProgress(value=0, description='Parameter Loop', max=1), HTML(value='')))"
      ]
     },
     "metadata": {},
     "output_type": "display_data"
    },
    {
     "data": {
      "application/vnd.jupyter.widget-view+json": {
       "model_id": "",
       "version_major": 2,
       "version_minor": 0
      },
      "text/plain": [
       "HBox(children=(IntProgress(value=1, bar_style='info', description='CV loop', max=1), HTML(value='')))"
      ]
     },
     "metadata": {},
     "output_type": "display_data"
    },
    {
     "data": {
      "application/vnd.jupyter.widget-view+json": {
       "model_id": "",
       "version_major": 2,
       "version_minor": 0
      },
      "text/plain": [
       "HBox(children=(IntProgress(value=0, description='Parameter Loop', max=1), HTML(value='')))"
      ]
     },
     "metadata": {},
     "output_type": "display_data"
    },
    {
     "data": {
      "application/vnd.jupyter.widget-view+json": {
       "model_id": "",
       "version_major": 2,
       "version_minor": 0
      },
      "text/plain": [
       "HBox(children=(IntProgress(value=1, bar_style='info', description='CV loop', max=1), HTML(value='')))"
      ]
     },
     "metadata": {},
     "output_type": "display_data"
    },
    {
     "data": {
      "application/vnd.jupyter.widget-view+json": {
       "model_id": "",
       "version_major": 2,
       "version_minor": 0
      },
      "text/plain": [
       "HBox(children=(IntProgress(value=0, description='Parameter Loop', max=1), HTML(value='')))"
      ]
     },
     "metadata": {},
     "output_type": "display_data"
    },
    {
     "data": {
      "application/vnd.jupyter.widget-view+json": {
       "model_id": "",
       "version_major": 2,
       "version_minor": 0
      },
      "text/plain": [
       "HBox(children=(IntProgress(value=1, bar_style='info', description='CV loop', max=1), HTML(value='')))"
      ]
     },
     "metadata": {},
     "output_type": "display_data"
    },
    {
     "data": {
      "application/vnd.jupyter.widget-view+json": {
       "model_id": "",
       "version_major": 2,
       "version_minor": 0
      },
      "text/plain": [
       "HBox(children=(IntProgress(value=0, description='Parameter Loop', max=1), HTML(value='')))"
      ]
     },
     "metadata": {},
     "output_type": "display_data"
    },
    {
     "data": {
      "application/vnd.jupyter.widget-view+json": {
       "model_id": "",
       "version_major": 2,
       "version_minor": 0
      },
      "text/plain": [
       "HBox(children=(IntProgress(value=1, bar_style='info', description='CV loop', max=1), HTML(value='')))"
      ]
     },
     "metadata": {},
     "output_type": "display_data"
    },
    {
     "data": {
      "application/vnd.jupyter.widget-view+json": {
       "model_id": "",
       "version_major": 2,
       "version_minor": 0
      },
      "text/plain": [
       "HBox(children=(IntProgress(value=0, description='Parameter Loop', max=1), HTML(value='')))"
      ]
     },
     "metadata": {},
     "output_type": "display_data"
    },
    {
     "data": {
      "application/vnd.jupyter.widget-view+json": {
       "model_id": "",
       "version_major": 2,
       "version_minor": 0
      },
      "text/plain": [
       "HBox(children=(IntProgress(value=1, bar_style='info', description='CV loop', max=1), HTML(value='')))"
      ]
     },
     "metadata": {},
     "output_type": "display_data"
    },
    {
     "data": {
      "application/vnd.jupyter.widget-view+json": {
       "model_id": "",
       "version_major": 2,
       "version_minor": 0
      },
      "text/plain": [
       "HBox(children=(IntProgress(value=0, description='Parameter Loop', max=1), HTML(value='')))"
      ]
     },
     "metadata": {},
     "output_type": "display_data"
    },
    {
     "data": {
      "application/vnd.jupyter.widget-view+json": {
       "model_id": "",
       "version_major": 2,
       "version_minor": 0
      },
      "text/plain": [
       "HBox(children=(IntProgress(value=1, bar_style='info', description='CV loop', max=1), HTML(value='')))"
      ]
     },
     "metadata": {},
     "output_type": "display_data"
    },
    {
     "data": {
      "application/vnd.jupyter.widget-view+json": {
       "model_id": "",
       "version_major": 2,
       "version_minor": 0
      },
      "text/plain": [
       "HBox(children=(IntProgress(value=0, description='Parameter Loop', max=1), HTML(value='')))"
      ]
     },
     "metadata": {},
     "output_type": "display_data"
    },
    {
     "data": {
      "application/vnd.jupyter.widget-view+json": {
       "model_id": "",
       "version_major": 2,
       "version_minor": 0
      },
      "text/plain": [
       "HBox(children=(IntProgress(value=1, bar_style='info', description='CV loop', max=1), HTML(value='')))"
      ]
     },
     "metadata": {},
     "output_type": "display_data"
    },
    {
     "data": {
      "application/vnd.jupyter.widget-view+json": {
       "model_id": "",
       "version_major": 2,
       "version_minor": 0
      },
      "text/plain": [
       "HBox(children=(IntProgress(value=0, description='Parameter Loop', max=1), HTML(value='')))"
      ]
     },
     "metadata": {},
     "output_type": "display_data"
    },
    {
     "data": {
      "application/vnd.jupyter.widget-view+json": {
       "model_id": "",
       "version_major": 2,
       "version_minor": 0
      },
      "text/plain": [
       "HBox(children=(IntProgress(value=1, bar_style='info', description='CV loop', max=1), HTML(value='')))"
      ]
     },
     "metadata": {},
     "output_type": "display_data"
    },
    {
     "data": {
      "application/vnd.jupyter.widget-view+json": {
       "model_id": "",
       "version_major": 2,
       "version_minor": 0
      },
      "text/plain": [
       "HBox(children=(IntProgress(value=0, description='Parameter Loop', max=1), HTML(value='')))"
      ]
     },
     "metadata": {},
     "output_type": "display_data"
    },
    {
     "data": {
      "application/vnd.jupyter.widget-view+json": {
       "model_id": "",
       "version_major": 2,
       "version_minor": 0
      },
      "text/plain": [
       "HBox(children=(IntProgress(value=1, bar_style='info', description='CV loop', max=1), HTML(value='')))"
      ]
     },
     "metadata": {},
     "output_type": "display_data"
    },
    {
     "data": {
      "application/vnd.jupyter.widget-view+json": {
       "model_id": "",
       "version_major": 2,
       "version_minor": 0
      },
      "text/plain": [
       "HBox(children=(IntProgress(value=0, description='Parameter Loop', max=1), HTML(value='')))"
      ]
     },
     "metadata": {},
     "output_type": "display_data"
    },
    {
     "data": {
      "application/vnd.jupyter.widget-view+json": {
       "model_id": "",
       "version_major": 2,
       "version_minor": 0
      },
      "text/plain": [
       "HBox(children=(IntProgress(value=1, bar_style='info', description='CV loop', max=1), HTML(value='')))"
      ]
     },
     "metadata": {},
     "output_type": "display_data"
    },
    {
     "data": {
      "application/vnd.jupyter.widget-view+json": {
       "model_id": "",
       "version_major": 2,
       "version_minor": 0
      },
      "text/plain": [
       "HBox(children=(IntProgress(value=0, description='Parameter Loop', max=1), HTML(value='')))"
      ]
     },
     "metadata": {},
     "output_type": "display_data"
    },
    {
     "data": {
      "application/vnd.jupyter.widget-view+json": {
       "model_id": "",
       "version_major": 2,
       "version_minor": 0
      },
      "text/plain": [
       "HBox(children=(IntProgress(value=1, bar_style='info', description='CV loop', max=1), HTML(value='')))"
      ]
     },
     "metadata": {},
     "output_type": "display_data"
    },
    {
     "data": {
      "application/vnd.jupyter.widget-view+json": {
       "model_id": "",
       "version_major": 2,
       "version_minor": 0
      },
      "text/plain": [
       "HBox(children=(IntProgress(value=0, description='Parameter Loop', max=1), HTML(value='')))"
      ]
     },
     "metadata": {},
     "output_type": "display_data"
    },
    {
     "data": {
      "application/vnd.jupyter.widget-view+json": {
       "model_id": "",
       "version_major": 2,
       "version_minor": 0
      },
      "text/plain": [
       "HBox(children=(IntProgress(value=1, bar_style='info', description='CV loop', max=1), HTML(value='')))"
      ]
     },
     "metadata": {},
     "output_type": "display_data"
    },
    {
     "data": {
      "application/vnd.jupyter.widget-view+json": {
       "model_id": "",
       "version_major": 2,
       "version_minor": 0
      },
      "text/plain": [
       "HBox(children=(IntProgress(value=0, description='Parameter Loop', max=1), HTML(value='')))"
      ]
     },
     "metadata": {},
     "output_type": "display_data"
    },
    {
     "data": {
      "application/vnd.jupyter.widget-view+json": {
       "model_id": "",
       "version_major": 2,
       "version_minor": 0
      },
      "text/plain": [
       "HBox(children=(IntProgress(value=1, bar_style='info', description='CV loop', max=1), HTML(value='')))"
      ]
     },
     "metadata": {},
     "output_type": "display_data"
    },
    {
     "data": {
      "application/vnd.jupyter.widget-view+json": {
       "model_id": "",
       "version_major": 2,
       "version_minor": 0
      },
      "text/plain": [
       "HBox(children=(IntProgress(value=0, description='Parameter Loop', max=1), HTML(value='')))"
      ]
     },
     "metadata": {},
     "output_type": "display_data"
    },
    {
     "data": {
      "application/vnd.jupyter.widget-view+json": {
       "model_id": "",
       "version_major": 2,
       "version_minor": 0
      },
      "text/plain": [
       "HBox(children=(IntProgress(value=1, bar_style='info', description='CV loop', max=1), HTML(value='')))"
      ]
     },
     "metadata": {},
     "output_type": "display_data"
    },
    {
     "data": {
      "application/vnd.jupyter.widget-view+json": {
       "model_id": "",
       "version_major": 2,
       "version_minor": 0
      },
      "text/plain": [
       "HBox(children=(IntProgress(value=0, description='Parameter Loop', max=1), HTML(value='')))"
      ]
     },
     "metadata": {},
     "output_type": "display_data"
    },
    {
     "data": {
      "application/vnd.jupyter.widget-view+json": {
       "model_id": "",
       "version_major": 2,
       "version_minor": 0
      },
      "text/plain": [
       "HBox(children=(IntProgress(value=1, bar_style='info', description='CV loop', max=1), HTML(value='')))"
      ]
     },
     "metadata": {},
     "output_type": "display_data"
    },
    {
     "data": {
      "application/vnd.jupyter.widget-view+json": {
       "model_id": "",
       "version_major": 2,
       "version_minor": 0
      },
      "text/plain": [
       "HBox(children=(IntProgress(value=0, description='Parameter Loop', max=1), HTML(value='')))"
      ]
     },
     "metadata": {},
     "output_type": "display_data"
    },
    {
     "data": {
      "application/vnd.jupyter.widget-view+json": {
       "model_id": "",
       "version_major": 2,
       "version_minor": 0
      },
      "text/plain": [
       "HBox(children=(IntProgress(value=1, bar_style='info', description='CV loop', max=1), HTML(value='')))"
      ]
     },
     "metadata": {},
     "output_type": "display_data"
    },
    {
     "data": {
      "application/vnd.jupyter.widget-view+json": {
       "model_id": "",
       "version_major": 2,
       "version_minor": 0
      },
      "text/plain": [
       "HBox(children=(IntProgress(value=0, description='Parameter Loop', max=1), HTML(value='')))"
      ]
     },
     "metadata": {},
     "output_type": "display_data"
    },
    {
     "data": {
      "application/vnd.jupyter.widget-view+json": {
       "model_id": "",
       "version_major": 2,
       "version_minor": 0
      },
      "text/plain": [
       "HBox(children=(IntProgress(value=1, bar_style='info', description='CV loop', max=1), HTML(value='')))"
      ]
     },
     "metadata": {},
     "output_type": "display_data"
    },
    {
     "data": {
      "application/vnd.jupyter.widget-view+json": {
       "model_id": "",
       "version_major": 2,
       "version_minor": 0
      },
      "text/plain": [
       "HBox(children=(IntProgress(value=0, description='Parameter Loop', max=1), HTML(value='')))"
      ]
     },
     "metadata": {},
     "output_type": "display_data"
    },
    {
     "data": {
      "application/vnd.jupyter.widget-view+json": {
       "model_id": "",
       "version_major": 2,
       "version_minor": 0
      },
      "text/plain": [
       "HBox(children=(IntProgress(value=1, bar_style='info', description='CV loop', max=1), HTML(value='')))"
      ]
     },
     "metadata": {},
     "output_type": "display_data"
    },
    {
     "data": {
      "application/vnd.jupyter.widget-view+json": {
       "model_id": "",
       "version_major": 2,
       "version_minor": 0
      },
      "text/plain": [
       "HBox(children=(IntProgress(value=0, description='Parameter Loop', max=1), HTML(value='')))"
      ]
     },
     "metadata": {},
     "output_type": "display_data"
    },
    {
     "data": {
      "application/vnd.jupyter.widget-view+json": {
       "model_id": "",
       "version_major": 2,
       "version_minor": 0
      },
      "text/plain": [
       "HBox(children=(IntProgress(value=1, bar_style='info', description='CV loop', max=1), HTML(value='')))"
      ]
     },
     "metadata": {},
     "output_type": "display_data"
    },
    {
     "data": {
      "application/vnd.jupyter.widget-view+json": {
       "model_id": "",
       "version_major": 2,
       "version_minor": 0
      },
      "text/plain": [
       "HBox(children=(IntProgress(value=0, description='Parameter Loop', max=1), HTML(value='')))"
      ]
     },
     "metadata": {},
     "output_type": "display_data"
    },
    {
     "data": {
      "application/vnd.jupyter.widget-view+json": {
       "model_id": "",
       "version_major": 2,
       "version_minor": 0
      },
      "text/plain": [
       "HBox(children=(IntProgress(value=1, bar_style='info', description='CV loop', max=1), HTML(value='')))"
      ]
     },
     "metadata": {},
     "output_type": "display_data"
    },
    {
     "data": {
      "application/vnd.jupyter.widget-view+json": {
       "model_id": "",
       "version_major": 2,
       "version_minor": 0
      },
      "text/plain": [
       "HBox(children=(IntProgress(value=0, description='Parameter Loop', max=1), HTML(value='')))"
      ]
     },
     "metadata": {},
     "output_type": "display_data"
    },
    {
     "data": {
      "application/vnd.jupyter.widget-view+json": {
       "model_id": "",
       "version_major": 2,
       "version_minor": 0
      },
      "text/plain": [
       "HBox(children=(IntProgress(value=1, bar_style='info', description='CV loop', max=1), HTML(value='')))"
      ]
     },
     "metadata": {},
     "output_type": "display_data"
    },
    {
     "data": {
      "application/vnd.jupyter.widget-view+json": {
       "model_id": "",
       "version_major": 2,
       "version_minor": 0
      },
      "text/plain": [
       "HBox(children=(IntProgress(value=0, description='Parameter Loop', max=1), HTML(value='')))"
      ]
     },
     "metadata": {},
     "output_type": "display_data"
    },
    {
     "data": {
      "application/vnd.jupyter.widget-view+json": {
       "model_id": "",
       "version_major": 2,
       "version_minor": 0
      },
      "text/plain": [
       "HBox(children=(IntProgress(value=1, bar_style='info', description='CV loop', max=1), HTML(value='')))"
      ]
     },
     "metadata": {},
     "output_type": "display_data"
    },
    {
     "data": {
      "application/vnd.jupyter.widget-view+json": {
       "model_id": "",
       "version_major": 2,
       "version_minor": 0
      },
      "text/plain": [
       "HBox(children=(IntProgress(value=0, description='Parameter Loop', max=1), HTML(value='')))"
      ]
     },
     "metadata": {},
     "output_type": "display_data"
    },
    {
     "data": {
      "application/vnd.jupyter.widget-view+json": {
       "model_id": "",
       "version_major": 2,
       "version_minor": 0
      },
      "text/plain": [
       "HBox(children=(IntProgress(value=1, bar_style='info', description='CV loop', max=1), HTML(value='')))"
      ]
     },
     "metadata": {},
     "output_type": "display_data"
    },
    {
     "data": {
      "application/vnd.jupyter.widget-view+json": {
       "model_id": "",
       "version_major": 2,
       "version_minor": 0
      },
      "text/plain": [
       "HBox(children=(IntProgress(value=0, description='Parameter Loop', max=1), HTML(value='')))"
      ]
     },
     "metadata": {},
     "output_type": "display_data"
    },
    {
     "data": {
      "application/vnd.jupyter.widget-view+json": {
       "model_id": "",
       "version_major": 2,
       "version_minor": 0
      },
      "text/plain": [
       "HBox(children=(IntProgress(value=1, bar_style='info', description='CV loop', max=1), HTML(value='')))"
      ]
     },
     "metadata": {},
     "output_type": "display_data"
    },
    {
     "data": {
      "application/vnd.jupyter.widget-view+json": {
       "model_id": "",
       "version_major": 2,
       "version_minor": 0
      },
      "text/plain": [
       "HBox(children=(IntProgress(value=0, description='Parameter Loop', max=1), HTML(value='')))"
      ]
     },
     "metadata": {},
     "output_type": "display_data"
    },
    {
     "data": {
      "application/vnd.jupyter.widget-view+json": {
       "model_id": "",
       "version_major": 2,
       "version_minor": 0
      },
      "text/plain": [
       "HBox(children=(IntProgress(value=1, bar_style='info', description='CV loop', max=1), HTML(value='')))"
      ]
     },
     "metadata": {},
     "output_type": "display_data"
    },
    {
     "data": {
      "application/vnd.jupyter.widget-view+json": {
       "model_id": "",
       "version_major": 2,
       "version_minor": 0
      },
      "text/plain": [
       "HBox(children=(IntProgress(value=0, description='Parameter Loop', max=1), HTML(value='')))"
      ]
     },
     "metadata": {},
     "output_type": "display_data"
    },
    {
     "data": {
      "application/vnd.jupyter.widget-view+json": {
       "model_id": "",
       "version_major": 2,
       "version_minor": 0
      },
      "text/plain": [
       "HBox(children=(IntProgress(value=1, bar_style='info', description='CV loop', max=1), HTML(value='')))"
      ]
     },
     "metadata": {},
     "output_type": "display_data"
    },
    {
     "data": {
      "application/vnd.jupyter.widget-view+json": {
       "model_id": "",
       "version_major": 2,
       "version_minor": 0
      },
      "text/plain": [
       "HBox(children=(IntProgress(value=0, description='Parameter Loop', max=1), HTML(value='')))"
      ]
     },
     "metadata": {},
     "output_type": "display_data"
    },
    {
     "data": {
      "application/vnd.jupyter.widget-view+json": {
       "model_id": "",
       "version_major": 2,
       "version_minor": 0
      },
      "text/plain": [
       "HBox(children=(IntProgress(value=1, bar_style='info', description='CV loop', max=1), HTML(value='')))"
      ]
     },
     "metadata": {},
     "output_type": "display_data"
    },
    {
     "data": {
      "application/vnd.jupyter.widget-view+json": {
       "model_id": "",
       "version_major": 2,
       "version_minor": 0
      },
      "text/plain": [
       "HBox(children=(IntProgress(value=0, description='Parameter Loop', max=1), HTML(value='')))"
      ]
     },
     "metadata": {},
     "output_type": "display_data"
    },
    {
     "data": {
      "application/vnd.jupyter.widget-view+json": {
       "model_id": "",
       "version_major": 2,
       "version_minor": 0
      },
      "text/plain": [
       "HBox(children=(IntProgress(value=1, bar_style='info', description='CV loop', max=1), HTML(value='')))"
      ]
     },
     "metadata": {},
     "output_type": "display_data"
    },
    {
     "data": {
      "application/vnd.jupyter.widget-view+json": {
       "model_id": "",
       "version_major": 2,
       "version_minor": 0
      },
      "text/plain": [
       "HBox(children=(IntProgress(value=0, description='Parameter Loop', max=1), HTML(value='')))"
      ]
     },
     "metadata": {},
     "output_type": "display_data"
    },
    {
     "data": {
      "application/vnd.jupyter.widget-view+json": {
       "model_id": "",
       "version_major": 2,
       "version_minor": 0
      },
      "text/plain": [
       "HBox(children=(IntProgress(value=1, bar_style='info', description='CV loop', max=1), HTML(value='')))"
      ]
     },
     "metadata": {},
     "output_type": "display_data"
    },
    {
     "data": {
      "application/vnd.jupyter.widget-view+json": {
       "model_id": "",
       "version_major": 2,
       "version_minor": 0
      },
      "text/plain": [
       "HBox(children=(IntProgress(value=0, description='Parameter Loop', max=1), HTML(value='')))"
      ]
     },
     "metadata": {},
     "output_type": "display_data"
    },
    {
     "data": {
      "application/vnd.jupyter.widget-view+json": {
       "model_id": "",
       "version_major": 2,
       "version_minor": 0
      },
      "text/plain": [
       "HBox(children=(IntProgress(value=1, bar_style='info', description='CV loop', max=1), HTML(value='')))"
      ]
     },
     "metadata": {},
     "output_type": "display_data"
    },
    {
     "data": {
      "application/vnd.jupyter.widget-view+json": {
       "model_id": "",
       "version_major": 2,
       "version_minor": 0
      },
      "text/plain": [
       "HBox(children=(IntProgress(value=0, description='Parameter Loop', max=1), HTML(value='')))"
      ]
     },
     "metadata": {},
     "output_type": "display_data"
    },
    {
     "data": {
      "application/vnd.jupyter.widget-view+json": {
       "model_id": "",
       "version_major": 2,
       "version_minor": 0
      },
      "text/plain": [
       "HBox(children=(IntProgress(value=1, bar_style='info', description='CV loop', max=1), HTML(value='')))"
      ]
     },
     "metadata": {},
     "output_type": "display_data"
    },
    {
     "data": {
      "application/vnd.jupyter.widget-view+json": {
       "model_id": "",
       "version_major": 2,
       "version_minor": 0
      },
      "text/plain": [
       "HBox(children=(IntProgress(value=0, description='Parameter Loop', max=1), HTML(value='')))"
      ]
     },
     "metadata": {},
     "output_type": "display_data"
    },
    {
     "data": {
      "application/vnd.jupyter.widget-view+json": {
       "model_id": "",
       "version_major": 2,
       "version_minor": 0
      },
      "text/plain": [
       "HBox(children=(IntProgress(value=1, bar_style='info', description='CV loop', max=1), HTML(value='')))"
      ]
     },
     "metadata": {},
     "output_type": "display_data"
    },
    {
     "data": {
      "application/vnd.jupyter.widget-view+json": {
       "model_id": "",
       "version_major": 2,
       "version_minor": 0
      },
      "text/plain": [
       "HBox(children=(IntProgress(value=0, description='Parameter Loop', max=1), HTML(value='')))"
      ]
     },
     "metadata": {},
     "output_type": "display_data"
    },
    {
     "data": {
      "application/vnd.jupyter.widget-view+json": {
       "model_id": "",
       "version_major": 2,
       "version_minor": 0
      },
      "text/plain": [
       "HBox(children=(IntProgress(value=1, bar_style='info', description='CV loop', max=1), HTML(value='')))"
      ]
     },
     "metadata": {},
     "output_type": "display_data"
    },
    {
     "data": {
      "application/vnd.jupyter.widget-view+json": {
       "model_id": "",
       "version_major": 2,
       "version_minor": 0
      },
      "text/plain": [
       "HBox(children=(IntProgress(value=0, description='Parameter Loop', max=1), HTML(value='')))"
      ]
     },
     "metadata": {},
     "output_type": "display_data"
    },
    {
     "data": {
      "application/vnd.jupyter.widget-view+json": {
       "model_id": "",
       "version_major": 2,
       "version_minor": 0
      },
      "text/plain": [
       "HBox(children=(IntProgress(value=1, bar_style='info', description='CV loop', max=1), HTML(value='')))"
      ]
     },
     "metadata": {},
     "output_type": "display_data"
    },
    {
     "data": {
      "application/vnd.jupyter.widget-view+json": {
       "model_id": "",
       "version_major": 2,
       "version_minor": 0
      },
      "text/plain": [
       "HBox(children=(IntProgress(value=0, description='Parameter Loop', max=1), HTML(value='')))"
      ]
     },
     "metadata": {},
     "output_type": "display_data"
    },
    {
     "data": {
      "application/vnd.jupyter.widget-view+json": {
       "model_id": "",
       "version_major": 2,
       "version_minor": 0
      },
      "text/plain": [
       "HBox(children=(IntProgress(value=1, bar_style='info', description='CV loop', max=1), HTML(value='')))"
      ]
     },
     "metadata": {},
     "output_type": "display_data"
    },
    {
     "data": {
      "application/vnd.jupyter.widget-view+json": {
       "model_id": "",
       "version_major": 2,
       "version_minor": 0
      },
      "text/plain": [
       "HBox(children=(IntProgress(value=0, description='Parameter Loop', max=1), HTML(value='')))"
      ]
     },
     "metadata": {},
     "output_type": "display_data"
    },
    {
     "data": {
      "application/vnd.jupyter.widget-view+json": {
       "model_id": "",
       "version_major": 2,
       "version_minor": 0
      },
      "text/plain": [
       "HBox(children=(IntProgress(value=1, bar_style='info', description='CV loop', max=1), HTML(value='')))"
      ]
     },
     "metadata": {},
     "output_type": "display_data"
    },
    {
     "data": {
      "application/vnd.jupyter.widget-view+json": {
       "model_id": "",
       "version_major": 2,
       "version_minor": 0
      },
      "text/plain": [
       "HBox(children=(IntProgress(value=0, description='Parameter Loop', max=1), HTML(value='')))"
      ]
     },
     "metadata": {},
     "output_type": "display_data"
    },
    {
     "data": {
      "application/vnd.jupyter.widget-view+json": {
       "model_id": "",
       "version_major": 2,
       "version_minor": 0
      },
      "text/plain": [
       "HBox(children=(IntProgress(value=1, bar_style='info', description='CV loop', max=1), HTML(value='')))"
      ]
     },
     "metadata": {},
     "output_type": "display_data"
    },
    {
     "data": {
      "application/vnd.jupyter.widget-view+json": {
       "model_id": "",
       "version_major": 2,
       "version_minor": 0
      },
      "text/plain": [
       "HBox(children=(IntProgress(value=0, description='Parameter Loop', max=1), HTML(value='')))"
      ]
     },
     "metadata": {},
     "output_type": "display_data"
    },
    {
     "data": {
      "application/vnd.jupyter.widget-view+json": {
       "model_id": "",
       "version_major": 2,
       "version_minor": 0
      },
      "text/plain": [
       "HBox(children=(IntProgress(value=1, bar_style='info', description='CV loop', max=1), HTML(value='')))"
      ]
     },
     "metadata": {},
     "output_type": "display_data"
    },
    {
     "data": {
      "application/vnd.jupyter.widget-view+json": {
       "model_id": "",
       "version_major": 2,
       "version_minor": 0
      },
      "text/plain": [
       "HBox(children=(IntProgress(value=0, description='Parameter Loop', max=1), HTML(value='')))"
      ]
     },
     "metadata": {},
     "output_type": "display_data"
    },
    {
     "data": {
      "application/vnd.jupyter.widget-view+json": {
       "model_id": "",
       "version_major": 2,
       "version_minor": 0
      },
      "text/plain": [
       "HBox(children=(IntProgress(value=1, bar_style='info', description='CV loop', max=1), HTML(value='')))"
      ]
     },
     "metadata": {},
     "output_type": "display_data"
    },
    {
     "data": {
      "application/vnd.jupyter.widget-view+json": {
       "model_id": "",
       "version_major": 2,
       "version_minor": 0
      },
      "text/plain": [
       "HBox(children=(IntProgress(value=0, description='Parameter Loop', max=1), HTML(value='')))"
      ]
     },
     "metadata": {},
     "output_type": "display_data"
    },
    {
     "data": {
      "application/vnd.jupyter.widget-view+json": {
       "model_id": "",
       "version_major": 2,
       "version_minor": 0
      },
      "text/plain": [
       "HBox(children=(IntProgress(value=1, bar_style='info', description='CV loop', max=1), HTML(value='')))"
      ]
     },
     "metadata": {},
     "output_type": "display_data"
    },
    {
     "data": {
      "application/vnd.jupyter.widget-view+json": {
       "model_id": "",
       "version_major": 2,
       "version_minor": 0
      },
      "text/plain": [
       "HBox(children=(IntProgress(value=0, description='Parameter Loop', max=1), HTML(value='')))"
      ]
     },
     "metadata": {},
     "output_type": "display_data"
    },
    {
     "data": {
      "application/vnd.jupyter.widget-view+json": {
       "model_id": "",
       "version_major": 2,
       "version_minor": 0
      },
      "text/plain": [
       "HBox(children=(IntProgress(value=1, bar_style='info', description='CV loop', max=1), HTML(value='')))"
      ]
     },
     "metadata": {},
     "output_type": "display_data"
    },
    {
     "data": {
      "application/vnd.jupyter.widget-view+json": {
       "model_id": "",
       "version_major": 2,
       "version_minor": 0
      },
      "text/plain": [
       "HBox(children=(IntProgress(value=0, description='Parameter Loop', max=1), HTML(value='')))"
      ]
     },
     "metadata": {},
     "output_type": "display_data"
    },
    {
     "data": {
      "application/vnd.jupyter.widget-view+json": {
       "model_id": "",
       "version_major": 2,
       "version_minor": 0
      },
      "text/plain": [
       "HBox(children=(IntProgress(value=1, bar_style='info', description='CV loop', max=1), HTML(value='')))"
      ]
     },
     "metadata": {},
     "output_type": "display_data"
    },
    {
     "data": {
      "application/vnd.jupyter.widget-view+json": {
       "model_id": "",
       "version_major": 2,
       "version_minor": 0
      },
      "text/plain": [
       "HBox(children=(IntProgress(value=0, description='Parameter Loop', max=1), HTML(value='')))"
      ]
     },
     "metadata": {},
     "output_type": "display_data"
    },
    {
     "data": {
      "application/vnd.jupyter.widget-view+json": {
       "model_id": "",
       "version_major": 2,
       "version_minor": 0
      },
      "text/plain": [
       "HBox(children=(IntProgress(value=1, bar_style='info', description='CV loop', max=1), HTML(value='')))"
      ]
     },
     "metadata": {},
     "output_type": "display_data"
    },
    {
     "data": {
      "application/vnd.jupyter.widget-view+json": {
       "model_id": "",
       "version_major": 2,
       "version_minor": 0
      },
      "text/plain": [
       "HBox(children=(IntProgress(value=0, description='Parameter Loop', max=1), HTML(value='')))"
      ]
     },
     "metadata": {},
     "output_type": "display_data"
    },
    {
     "data": {
      "application/vnd.jupyter.widget-view+json": {
       "model_id": "",
       "version_major": 2,
       "version_minor": 0
      },
      "text/plain": [
       "HBox(children=(IntProgress(value=1, bar_style='info', description='CV loop', max=1), HTML(value='')))"
      ]
     },
     "metadata": {},
     "output_type": "display_data"
    },
    {
     "data": {
      "application/vnd.jupyter.widget-view+json": {
       "model_id": "",
       "version_major": 2,
       "version_minor": 0
      },
      "text/plain": [
       "HBox(children=(IntProgress(value=0, description='Parameter Loop', max=1), HTML(value='')))"
      ]
     },
     "metadata": {},
     "output_type": "display_data"
    },
    {
     "data": {
      "application/vnd.jupyter.widget-view+json": {
       "model_id": "",
       "version_major": 2,
       "version_minor": 0
      },
      "text/plain": [
       "HBox(children=(IntProgress(value=1, bar_style='info', description='CV loop', max=1), HTML(value='')))"
      ]
     },
     "metadata": {},
     "output_type": "display_data"
    },
    {
     "data": {
      "application/vnd.jupyter.widget-view+json": {
       "model_id": "",
       "version_major": 2,
       "version_minor": 0
      },
      "text/plain": [
       "HBox(children=(IntProgress(value=0, description='Parameter Loop', max=1), HTML(value='')))"
      ]
     },
     "metadata": {},
     "output_type": "display_data"
    },
    {
     "data": {
      "application/vnd.jupyter.widget-view+json": {
       "model_id": "",
       "version_major": 2,
       "version_minor": 0
      },
      "text/plain": [
       "HBox(children=(IntProgress(value=1, bar_style='info', description='CV loop', max=1), HTML(value='')))"
      ]
     },
     "metadata": {},
     "output_type": "display_data"
    },
    {
     "data": {
      "application/vnd.jupyter.widget-view+json": {
       "model_id": "",
       "version_major": 2,
       "version_minor": 0
      },
      "text/plain": [
       "HBox(children=(IntProgress(value=0, description='Parameter Loop', max=1), HTML(value='')))"
      ]
     },
     "metadata": {},
     "output_type": "display_data"
    },
    {
     "data": {
      "application/vnd.jupyter.widget-view+json": {
       "model_id": "",
       "version_major": 2,
       "version_minor": 0
      },
      "text/plain": [
       "HBox(children=(IntProgress(value=1, bar_style='info', description='CV loop', max=1), HTML(value='')))"
      ]
     },
     "metadata": {},
     "output_type": "display_data"
    },
    {
     "data": {
      "application/vnd.jupyter.widget-view+json": {
       "model_id": "",
       "version_major": 2,
       "version_minor": 0
      },
      "text/plain": [
       "HBox(children=(IntProgress(value=0, description='Parameter Loop', max=1), HTML(value='')))"
      ]
     },
     "metadata": {},
     "output_type": "display_data"
    },
    {
     "data": {
      "application/vnd.jupyter.widget-view+json": {
       "model_id": "",
       "version_major": 2,
       "version_minor": 0
      },
      "text/plain": [
       "HBox(children=(IntProgress(value=1, bar_style='info', description='CV loop', max=1), HTML(value='')))"
      ]
     },
     "metadata": {},
     "output_type": "display_data"
    },
    {
     "data": {
      "application/vnd.jupyter.widget-view+json": {
       "model_id": "",
       "version_major": 2,
       "version_minor": 0
      },
      "text/plain": [
       "HBox(children=(IntProgress(value=0, description='Parameter Loop', max=1), HTML(value='')))"
      ]
     },
     "metadata": {},
     "output_type": "display_data"
    },
    {
     "data": {
      "application/vnd.jupyter.widget-view+json": {
       "model_id": "",
       "version_major": 2,
       "version_minor": 0
      },
      "text/plain": [
       "HBox(children=(IntProgress(value=1, bar_style='info', description='CV loop', max=1), HTML(value='')))"
      ]
     },
     "metadata": {},
     "output_type": "display_data"
    },
    {
     "data": {
      "application/vnd.jupyter.widget-view+json": {
       "model_id": "",
       "version_major": 2,
       "version_minor": 0
      },
      "text/plain": [
       "HBox(children=(IntProgress(value=0, description='Parameter Loop', max=1), HTML(value='')))"
      ]
     },
     "metadata": {},
     "output_type": "display_data"
    },
    {
     "data": {
      "application/vnd.jupyter.widget-view+json": {
       "model_id": "",
       "version_major": 2,
       "version_minor": 0
      },
      "text/plain": [
       "HBox(children=(IntProgress(value=1, bar_style='info', description='CV loop', max=1), HTML(value='')))"
      ]
     },
     "metadata": {},
     "output_type": "display_data"
    },
    {
     "data": {
      "application/vnd.jupyter.widget-view+json": {
       "model_id": "",
       "version_major": 2,
       "version_minor": 0
      },
      "text/plain": [
       "HBox(children=(IntProgress(value=0, description='Parameter Loop', max=1), HTML(value='')))"
      ]
     },
     "metadata": {},
     "output_type": "display_data"
    },
    {
     "data": {
      "application/vnd.jupyter.widget-view+json": {
       "model_id": "",
       "version_major": 2,
       "version_minor": 0
      },
      "text/plain": [
       "HBox(children=(IntProgress(value=1, bar_style='info', description='CV loop', max=1), HTML(value='')))"
      ]
     },
     "metadata": {},
     "output_type": "display_data"
    },
    {
     "data": {
      "application/vnd.jupyter.widget-view+json": {
       "model_id": "",
       "version_major": 2,
       "version_minor": 0
      },
      "text/plain": [
       "HBox(children=(IntProgress(value=0, description='Parameter Loop', max=1), HTML(value='')))"
      ]
     },
     "metadata": {},
     "output_type": "display_data"
    },
    {
     "data": {
      "application/vnd.jupyter.widget-view+json": {
       "model_id": "",
       "version_major": 2,
       "version_minor": 0
      },
      "text/plain": [
       "HBox(children=(IntProgress(value=1, bar_style='info', description='CV loop', max=1), HTML(value='')))"
      ]
     },
     "metadata": {},
     "output_type": "display_data"
    },
    {
     "data": {
      "application/vnd.jupyter.widget-view+json": {
       "model_id": "",
       "version_major": 2,
       "version_minor": 0
      },
      "text/plain": [
       "HBox(children=(IntProgress(value=0, description='Parameter Loop', max=1), HTML(value='')))"
      ]
     },
     "metadata": {},
     "output_type": "display_data"
    },
    {
     "data": {
      "application/vnd.jupyter.widget-view+json": {
       "model_id": "",
       "version_major": 2,
       "version_minor": 0
      },
      "text/plain": [
       "HBox(children=(IntProgress(value=1, bar_style='info', description='CV loop', max=1), HTML(value='')))"
      ]
     },
     "metadata": {},
     "output_type": "display_data"
    },
    {
     "data": {
      "application/vnd.jupyter.widget-view+json": {
       "model_id": "",
       "version_major": 2,
       "version_minor": 0
      },
      "text/plain": [
       "HBox(children=(IntProgress(value=0, description='Parameter Loop', max=1), HTML(value='')))"
      ]
     },
     "metadata": {},
     "output_type": "display_data"
    },
    {
     "data": {
      "application/vnd.jupyter.widget-view+json": {
       "model_id": "",
       "version_major": 2,
       "version_minor": 0
      },
      "text/plain": [
       "HBox(children=(IntProgress(value=1, bar_style='info', description='CV loop', max=1), HTML(value='')))"
      ]
     },
     "metadata": {},
     "output_type": "display_data"
    },
    {
     "data": {
      "application/vnd.jupyter.widget-view+json": {
       "model_id": "",
       "version_major": 2,
       "version_minor": 0
      },
      "text/plain": [
       "HBox(children=(IntProgress(value=0, description='Parameter Loop', max=1), HTML(value='')))"
      ]
     },
     "metadata": {},
     "output_type": "display_data"
    },
    {
     "data": {
      "application/vnd.jupyter.widget-view+json": {
       "model_id": "",
       "version_major": 2,
       "version_minor": 0
      },
      "text/plain": [
       "HBox(children=(IntProgress(value=1, bar_style='info', description='CV loop', max=1), HTML(value='')))"
      ]
     },
     "metadata": {},
     "output_type": "display_data"
    },
    {
     "data": {
      "application/vnd.jupyter.widget-view+json": {
       "model_id": "",
       "version_major": 2,
       "version_minor": 0
      },
      "text/plain": [
       "HBox(children=(IntProgress(value=0, description='Parameter Loop', max=1), HTML(value='')))"
      ]
     },
     "metadata": {},
     "output_type": "display_data"
    },
    {
     "data": {
      "application/vnd.jupyter.widget-view+json": {
       "model_id": "",
       "version_major": 2,
       "version_minor": 0
      },
      "text/plain": [
       "HBox(children=(IntProgress(value=1, bar_style='info', description='CV loop', max=1), HTML(value='')))"
      ]
     },
     "metadata": {},
     "output_type": "display_data"
    },
    {
     "data": {
      "application/vnd.jupyter.widget-view+json": {
       "model_id": "",
       "version_major": 2,
       "version_minor": 0
      },
      "text/plain": [
       "HBox(children=(IntProgress(value=0, description='Parameter Loop', max=1), HTML(value='')))"
      ]
     },
     "metadata": {},
     "output_type": "display_data"
    },
    {
     "data": {
      "application/vnd.jupyter.widget-view+json": {
       "model_id": "",
       "version_major": 2,
       "version_minor": 0
      },
      "text/plain": [
       "HBox(children=(IntProgress(value=1, bar_style='info', description='CV loop', max=1), HTML(value='')))"
      ]
     },
     "metadata": {},
     "output_type": "display_data"
    },
    {
     "data": {
      "application/vnd.jupyter.widget-view+json": {
       "model_id": "",
       "version_major": 2,
       "version_minor": 0
      },
      "text/plain": [
       "HBox(children=(IntProgress(value=0, description='Parameter Loop', max=1), HTML(value='')))"
      ]
     },
     "metadata": {},
     "output_type": "display_data"
    },
    {
     "data": {
      "application/vnd.jupyter.widget-view+json": {
       "model_id": "",
       "version_major": 2,
       "version_minor": 0
      },
      "text/plain": [
       "HBox(children=(IntProgress(value=1, bar_style='info', description='CV loop', max=1), HTML(value='')))"
      ]
     },
     "metadata": {},
     "output_type": "display_data"
    },
    {
     "data": {
      "application/vnd.jupyter.widget-view+json": {
       "model_id": "",
       "version_major": 2,
       "version_minor": 0
      },
      "text/plain": [
       "HBox(children=(IntProgress(value=0, description='Parameter Loop', max=1), HTML(value='')))"
      ]
     },
     "metadata": {},
     "output_type": "display_data"
    },
    {
     "data": {
      "application/vnd.jupyter.widget-view+json": {
       "model_id": "",
       "version_major": 2,
       "version_minor": 0
      },
      "text/plain": [
       "HBox(children=(IntProgress(value=1, bar_style='info', description='CV loop', max=1), HTML(value='')))"
      ]
     },
     "metadata": {},
     "output_type": "display_data"
    },
    {
     "data": {
      "application/vnd.jupyter.widget-view+json": {
       "model_id": "",
       "version_major": 2,
       "version_minor": 0
      },
      "text/plain": [
       "HBox(children=(IntProgress(value=0, description='Parameter Loop', max=1), HTML(value='')))"
      ]
     },
     "metadata": {},
     "output_type": "display_data"
    },
    {
     "data": {
      "application/vnd.jupyter.widget-view+json": {
       "model_id": "",
       "version_major": 2,
       "version_minor": 0
      },
      "text/plain": [
       "HBox(children=(IntProgress(value=1, bar_style='info', description='CV loop', max=1), HTML(value='')))"
      ]
     },
     "metadata": {},
     "output_type": "display_data"
    },
    {
     "data": {
      "application/vnd.jupyter.widget-view+json": {
       "model_id": "",
       "version_major": 2,
       "version_minor": 0
      },
      "text/plain": [
       "HBox(children=(IntProgress(value=0, description='Parameter Loop', max=1), HTML(value='')))"
      ]
     },
     "metadata": {},
     "output_type": "display_data"
    },
    {
     "data": {
      "application/vnd.jupyter.widget-view+json": {
       "model_id": "",
       "version_major": 2,
       "version_minor": 0
      },
      "text/plain": [
       "HBox(children=(IntProgress(value=1, bar_style='info', description='CV loop', max=1), HTML(value='')))"
      ]
     },
     "metadata": {},
     "output_type": "display_data"
    },
    {
     "data": {
      "application/vnd.jupyter.widget-view+json": {
       "model_id": "",
       "version_major": 2,
       "version_minor": 0
      },
      "text/plain": [
       "HBox(children=(IntProgress(value=0, description='Parameter Loop', max=1), HTML(value='')))"
      ]
     },
     "metadata": {},
     "output_type": "display_data"
    },
    {
     "data": {
      "application/vnd.jupyter.widget-view+json": {
       "model_id": "",
       "version_major": 2,
       "version_minor": 0
      },
      "text/plain": [
       "HBox(children=(IntProgress(value=1, bar_style='info', description='CV loop', max=1), HTML(value='')))"
      ]
     },
     "metadata": {},
     "output_type": "display_data"
    },
    {
     "data": {
      "application/vnd.jupyter.widget-view+json": {
       "model_id": "",
       "version_major": 2,
       "version_minor": 0
      },
      "text/plain": [
       "HBox(children=(IntProgress(value=0, description='Parameter Loop', max=1), HTML(value='')))"
      ]
     },
     "metadata": {},
     "output_type": "display_data"
    },
    {
     "data": {
      "application/vnd.jupyter.widget-view+json": {
       "model_id": "",
       "version_major": 2,
       "version_minor": 0
      },
      "text/plain": [
       "HBox(children=(IntProgress(value=1, bar_style='info', description='CV loop', max=1), HTML(value='')))"
      ]
     },
     "metadata": {},
     "output_type": "display_data"
    },
    {
     "data": {
      "application/vnd.jupyter.widget-view+json": {
       "model_id": "",
       "version_major": 2,
       "version_minor": 0
      },
      "text/plain": [
       "HBox(children=(IntProgress(value=0, description='Parameter Loop', max=1), HTML(value='')))"
      ]
     },
     "metadata": {},
     "output_type": "display_data"
    },
    {
     "data": {
      "application/vnd.jupyter.widget-view+json": {
       "model_id": "",
       "version_major": 2,
       "version_minor": 0
      },
      "text/plain": [
       "HBox(children=(IntProgress(value=1, bar_style='info', description='CV loop', max=1), HTML(value='')))"
      ]
     },
     "metadata": {},
     "output_type": "display_data"
    },
    {
     "data": {
      "application/vnd.jupyter.widget-view+json": {
       "model_id": "",
       "version_major": 2,
       "version_minor": 0
      },
      "text/plain": [
       "HBox(children=(IntProgress(value=0, description='Parameter Loop', max=1), HTML(value='')))"
      ]
     },
     "metadata": {},
     "output_type": "display_data"
    },
    {
     "data": {
      "application/vnd.jupyter.widget-view+json": {
       "model_id": "",
       "version_major": 2,
       "version_minor": 0
      },
      "text/plain": [
       "HBox(children=(IntProgress(value=1, bar_style='info', description='CV loop', max=1), HTML(value='')))"
      ]
     },
     "metadata": {},
     "output_type": "display_data"
    },
    {
     "data": {
      "application/vnd.jupyter.widget-view+json": {
       "model_id": "",
       "version_major": 2,
       "version_minor": 0
      },
      "text/plain": [
       "HBox(children=(IntProgress(value=0, description='Parameter Loop', max=1), HTML(value='')))"
      ]
     },
     "metadata": {},
     "output_type": "display_data"
    },
    {
     "data": {
      "application/vnd.jupyter.widget-view+json": {
       "model_id": "",
       "version_major": 2,
       "version_minor": 0
      },
      "text/plain": [
       "HBox(children=(IntProgress(value=1, bar_style='info', description='CV loop', max=1), HTML(value='')))"
      ]
     },
     "metadata": {},
     "output_type": "display_data"
    },
    {
     "data": {
      "application/vnd.jupyter.widget-view+json": {
       "model_id": "",
       "version_major": 2,
       "version_minor": 0
      },
      "text/plain": [
       "HBox(children=(IntProgress(value=0, description='Parameter Loop', max=1), HTML(value='')))"
      ]
     },
     "metadata": {},
     "output_type": "display_data"
    },
    {
     "data": {
      "application/vnd.jupyter.widget-view+json": {
       "model_id": "",
       "version_major": 2,
       "version_minor": 0
      },
      "text/plain": [
       "HBox(children=(IntProgress(value=1, bar_style='info', description='CV loop', max=1), HTML(value='')))"
      ]
     },
     "metadata": {},
     "output_type": "display_data"
    },
    {
     "data": {
      "application/vnd.jupyter.widget-view+json": {
       "model_id": "",
       "version_major": 2,
       "version_minor": 0
      },
      "text/plain": [
       "HBox(children=(IntProgress(value=0, description='Parameter Loop', max=1), HTML(value='')))"
      ]
     },
     "metadata": {},
     "output_type": "display_data"
    },
    {
     "data": {
      "application/vnd.jupyter.widget-view+json": {
       "model_id": "",
       "version_major": 2,
       "version_minor": 0
      },
      "text/plain": [
       "HBox(children=(IntProgress(value=1, bar_style='info', description='CV loop', max=1), HTML(value='')))"
      ]
     },
     "metadata": {},
     "output_type": "display_data"
    },
    {
     "data": {
      "application/vnd.jupyter.widget-view+json": {
       "model_id": "",
       "version_major": 2,
       "version_minor": 0
      },
      "text/plain": [
       "HBox(children=(IntProgress(value=0, description='Parameter Loop', max=1), HTML(value='')))"
      ]
     },
     "metadata": {},
     "output_type": "display_data"
    },
    {
     "data": {
      "application/vnd.jupyter.widget-view+json": {
       "model_id": "",
       "version_major": 2,
       "version_minor": 0
      },
      "text/plain": [
       "HBox(children=(IntProgress(value=1, bar_style='info', description='CV loop', max=1), HTML(value='')))"
      ]
     },
     "metadata": {},
     "output_type": "display_data"
    },
    {
     "data": {
      "application/vnd.jupyter.widget-view+json": {
       "model_id": "",
       "version_major": 2,
       "version_minor": 0
      },
      "text/plain": [
       "HBox(children=(IntProgress(value=0, description='Parameter Loop', max=1), HTML(value='')))"
      ]
     },
     "metadata": {},
     "output_type": "display_data"
    },
    {
     "data": {
      "application/vnd.jupyter.widget-view+json": {
       "model_id": "",
       "version_major": 2,
       "version_minor": 0
      },
      "text/plain": [
       "HBox(children=(IntProgress(value=1, bar_style='info', description='CV loop', max=1), HTML(value='')))"
      ]
     },
     "metadata": {},
     "output_type": "display_data"
    },
    {
     "data": {
      "application/vnd.jupyter.widget-view+json": {
       "model_id": "",
       "version_major": 2,
       "version_minor": 0
      },
      "text/plain": [
       "HBox(children=(IntProgress(value=0, description='Parameter Loop', max=1), HTML(value='')))"
      ]
     },
     "metadata": {},
     "output_type": "display_data"
    },
    {
     "data": {
      "application/vnd.jupyter.widget-view+json": {
       "model_id": "",
       "version_major": 2,
       "version_minor": 0
      },
      "text/plain": [
       "HBox(children=(IntProgress(value=1, bar_style='info', description='CV loop', max=1), HTML(value='')))"
      ]
     },
     "metadata": {},
     "output_type": "display_data"
    },
    {
     "data": {
      "application/vnd.jupyter.widget-view+json": {
       "model_id": "",
       "version_major": 2,
       "version_minor": 0
      },
      "text/plain": [
       "HBox(children=(IntProgress(value=0, description='Parameter Loop', max=1), HTML(value='')))"
      ]
     },
     "metadata": {},
     "output_type": "display_data"
    },
    {
     "data": {
      "application/vnd.jupyter.widget-view+json": {
       "model_id": "",
       "version_major": 2,
       "version_minor": 0
      },
      "text/plain": [
       "HBox(children=(IntProgress(value=1, bar_style='info', description='CV loop', max=1), HTML(value='')))"
      ]
     },
     "metadata": {},
     "output_type": "display_data"
    },
    {
     "data": {
      "application/vnd.jupyter.widget-view+json": {
       "model_id": "",
       "version_major": 2,
       "version_minor": 0
      },
      "text/plain": [
       "HBox(children=(IntProgress(value=0, description='Parameter Loop', max=1), HTML(value='')))"
      ]
     },
     "metadata": {},
     "output_type": "display_data"
    },
    {
     "data": {
      "application/vnd.jupyter.widget-view+json": {
       "model_id": "",
       "version_major": 2,
       "version_minor": 0
      },
      "text/plain": [
       "HBox(children=(IntProgress(value=1, bar_style='info', description='CV loop', max=1), HTML(value='')))"
      ]
     },
     "metadata": {},
     "output_type": "display_data"
    },
    {
     "data": {
      "application/vnd.jupyter.widget-view+json": {
       "model_id": "",
       "version_major": 2,
       "version_minor": 0
      },
      "text/plain": [
       "HBox(children=(IntProgress(value=0, description='Parameter Loop', max=1), HTML(value='')))"
      ]
     },
     "metadata": {},
     "output_type": "display_data"
    },
    {
     "data": {
      "application/vnd.jupyter.widget-view+json": {
       "model_id": "",
       "version_major": 2,
       "version_minor": 0
      },
      "text/plain": [
       "HBox(children=(IntProgress(value=1, bar_style='info', description='CV loop', max=1), HTML(value='')))"
      ]
     },
     "metadata": {},
     "output_type": "display_data"
    },
    {
     "data": {
      "application/vnd.jupyter.widget-view+json": {
       "model_id": "",
       "version_major": 2,
       "version_minor": 0
      },
      "text/plain": [
       "HBox(children=(IntProgress(value=0, description='Parameter Loop', max=1), HTML(value='')))"
      ]
     },
     "metadata": {},
     "output_type": "display_data"
    },
    {
     "data": {
      "application/vnd.jupyter.widget-view+json": {
       "model_id": "",
       "version_major": 2,
       "version_minor": 0
      },
      "text/plain": [
       "HBox(children=(IntProgress(value=1, bar_style='info', description='CV loop', max=1), HTML(value='')))"
      ]
     },
     "metadata": {},
     "output_type": "display_data"
    },
    {
     "data": {
      "application/vnd.jupyter.widget-view+json": {
       "model_id": "",
       "version_major": 2,
       "version_minor": 0
      },
      "text/plain": [
       "HBox(children=(IntProgress(value=0, description='Parameter Loop', max=1), HTML(value='')))"
      ]
     },
     "metadata": {},
     "output_type": "display_data"
    },
    {
     "data": {
      "application/vnd.jupyter.widget-view+json": {
       "model_id": "",
       "version_major": 2,
       "version_minor": 0
      },
      "text/plain": [
       "HBox(children=(IntProgress(value=1, bar_style='info', description='CV loop', max=1), HTML(value='')))"
      ]
     },
     "metadata": {},
     "output_type": "display_data"
    },
    {
     "data": {
      "application/vnd.jupyter.widget-view+json": {
       "model_id": "",
       "version_major": 2,
       "version_minor": 0
      },
      "text/plain": [
       "HBox(children=(IntProgress(value=0, description='Parameter Loop', max=1), HTML(value='')))"
      ]
     },
     "metadata": {},
     "output_type": "display_data"
    },
    {
     "data": {
      "application/vnd.jupyter.widget-view+json": {
       "model_id": "",
       "version_major": 2,
       "version_minor": 0
      },
      "text/plain": [
       "HBox(children=(IntProgress(value=1, bar_style='info', description='CV loop', max=1), HTML(value='')))"
      ]
     },
     "metadata": {},
     "output_type": "display_data"
    },
    {
     "data": {
      "application/vnd.jupyter.widget-view+json": {
       "model_id": "",
       "version_major": 2,
       "version_minor": 0
      },
      "text/plain": [
       "HBox(children=(IntProgress(value=0, description='Parameter Loop', max=1), HTML(value='')))"
      ]
     },
     "metadata": {},
     "output_type": "display_data"
    },
    {
     "data": {
      "application/vnd.jupyter.widget-view+json": {
       "model_id": "",
       "version_major": 2,
       "version_minor": 0
      },
      "text/plain": [
       "HBox(children=(IntProgress(value=1, bar_style='info', description='CV loop', max=1), HTML(value='')))"
      ]
     },
     "metadata": {},
     "output_type": "display_data"
    },
    {
     "data": {
      "application/vnd.jupyter.widget-view+json": {
       "model_id": "",
       "version_major": 2,
       "version_minor": 0
      },
      "text/plain": [
       "HBox(children=(IntProgress(value=0, description='Parameter Loop', max=1), HTML(value='')))"
      ]
     },
     "metadata": {},
     "output_type": "display_data"
    },
    {
     "data": {
      "application/vnd.jupyter.widget-view+json": {
       "model_id": "",
       "version_major": 2,
       "version_minor": 0
      },
      "text/plain": [
       "HBox(children=(IntProgress(value=1, bar_style='info', description='CV loop', max=1), HTML(value='')))"
      ]
     },
     "metadata": {},
     "output_type": "display_data"
    },
    {
     "data": {
      "application/vnd.jupyter.widget-view+json": {
       "model_id": "",
       "version_major": 2,
       "version_minor": 0
      },
      "text/plain": [
       "HBox(children=(IntProgress(value=0, description='Parameter Loop', max=1), HTML(value='')))"
      ]
     },
     "metadata": {},
     "output_type": "display_data"
    },
    {
     "data": {
      "application/vnd.jupyter.widget-view+json": {
       "model_id": "",
       "version_major": 2,
       "version_minor": 0
      },
      "text/plain": [
       "HBox(children=(IntProgress(value=1, bar_style='info', description='CV loop', max=1), HTML(value='')))"
      ]
     },
     "metadata": {},
     "output_type": "display_data"
    },
    {
     "data": {
      "application/vnd.jupyter.widget-view+json": {
       "model_id": "",
       "version_major": 2,
       "version_minor": 0
      },
      "text/plain": [
       "HBox(children=(IntProgress(value=0, description='Parameter Loop', max=1), HTML(value='')))"
      ]
     },
     "metadata": {},
     "output_type": "display_data"
    },
    {
     "data": {
      "application/vnd.jupyter.widget-view+json": {
       "model_id": "",
       "version_major": 2,
       "version_minor": 0
      },
      "text/plain": [
       "HBox(children=(IntProgress(value=1, bar_style='info', description='CV loop', max=1), HTML(value='')))"
      ]
     },
     "metadata": {},
     "output_type": "display_data"
    },
    {
     "data": {
      "application/vnd.jupyter.widget-view+json": {
       "model_id": "",
       "version_major": 2,
       "version_minor": 0
      },
      "text/plain": [
       "HBox(children=(IntProgress(value=0, description='Parameter Loop', max=1), HTML(value='')))"
      ]
     },
     "metadata": {},
     "output_type": "display_data"
    },
    {
     "data": {
      "application/vnd.jupyter.widget-view+json": {
       "model_id": "",
       "version_major": 2,
       "version_minor": 0
      },
      "text/plain": [
       "HBox(children=(IntProgress(value=1, bar_style='info', description='CV loop', max=1), HTML(value='')))"
      ]
     },
     "metadata": {},
     "output_type": "display_data"
    },
    {
     "data": {
      "application/vnd.jupyter.widget-view+json": {
       "model_id": "",
       "version_major": 2,
       "version_minor": 0
      },
      "text/plain": [
       "HBox(children=(IntProgress(value=0, description='Parameter Loop', max=1), HTML(value='')))"
      ]
     },
     "metadata": {},
     "output_type": "display_data"
    },
    {
     "data": {
      "application/vnd.jupyter.widget-view+json": {
       "model_id": "",
       "version_major": 2,
       "version_minor": 0
      },
      "text/plain": [
       "HBox(children=(IntProgress(value=1, bar_style='info', description='CV loop', max=1), HTML(value='')))"
      ]
     },
     "metadata": {},
     "output_type": "display_data"
    },
    {
     "data": {
      "application/vnd.jupyter.widget-view+json": {
       "model_id": "",
       "version_major": 2,
       "version_minor": 0
      },
      "text/plain": [
       "HBox(children=(IntProgress(value=0, description='Parameter Loop', max=1), HTML(value='')))"
      ]
     },
     "metadata": {},
     "output_type": "display_data"
    },
    {
     "data": {
      "application/vnd.jupyter.widget-view+json": {
       "model_id": "",
       "version_major": 2,
       "version_minor": 0
      },
      "text/plain": [
       "HBox(children=(IntProgress(value=1, bar_style='info', description='CV loop', max=1), HTML(value='')))"
      ]
     },
     "metadata": {},
     "output_type": "display_data"
    },
    {
     "data": {
      "application/vnd.jupyter.widget-view+json": {
       "model_id": "",
       "version_major": 2,
       "version_minor": 0
      },
      "text/plain": [
       "HBox(children=(IntProgress(value=0, description='Parameter Loop', max=1), HTML(value='')))"
      ]
     },
     "metadata": {},
     "output_type": "display_data"
    },
    {
     "data": {
      "application/vnd.jupyter.widget-view+json": {
       "model_id": "",
       "version_major": 2,
       "version_minor": 0
      },
      "text/plain": [
       "HBox(children=(IntProgress(value=1, bar_style='info', description='CV loop', max=1), HTML(value='')))"
      ]
     },
     "metadata": {},
     "output_type": "display_data"
    },
    {
     "data": {
      "application/vnd.jupyter.widget-view+json": {
       "model_id": "",
       "version_major": 2,
       "version_minor": 0
      },
      "text/plain": [
       "HBox(children=(IntProgress(value=0, description='Parameter Loop', max=1), HTML(value='')))"
      ]
     },
     "metadata": {},
     "output_type": "display_data"
    },
    {
     "data": {
      "application/vnd.jupyter.widget-view+json": {
       "model_id": "",
       "version_major": 2,
       "version_minor": 0
      },
      "text/plain": [
       "HBox(children=(IntProgress(value=1, bar_style='info', description='CV loop', max=1), HTML(value='')))"
      ]
     },
     "metadata": {},
     "output_type": "display_data"
    },
    {
     "data": {
      "application/vnd.jupyter.widget-view+json": {
       "model_id": "",
       "version_major": 2,
       "version_minor": 0
      },
      "text/plain": [
       "HBox(children=(IntProgress(value=0, description='Parameter Loop', max=1), HTML(value='')))"
      ]
     },
     "metadata": {},
     "output_type": "display_data"
    },
    {
     "data": {
      "application/vnd.jupyter.widget-view+json": {
       "model_id": "",
       "version_major": 2,
       "version_minor": 0
      },
      "text/plain": [
       "HBox(children=(IntProgress(value=1, bar_style='info', description='CV loop', max=1), HTML(value='')))"
      ]
     },
     "metadata": {},
     "output_type": "display_data"
    },
    {
     "data": {
      "application/vnd.jupyter.widget-view+json": {
       "model_id": "",
       "version_major": 2,
       "version_minor": 0
      },
      "text/plain": [
       "HBox(children=(IntProgress(value=0, description='Parameter Loop', max=1), HTML(value='')))"
      ]
     },
     "metadata": {},
     "output_type": "display_data"
    },
    {
     "data": {
      "application/vnd.jupyter.widget-view+json": {
       "model_id": "",
       "version_major": 2,
       "version_minor": 0
      },
      "text/plain": [
       "HBox(children=(IntProgress(value=1, bar_style='info', description='CV loop', max=1), HTML(value='')))"
      ]
     },
     "metadata": {},
     "output_type": "display_data"
    },
    {
     "data": {
      "application/vnd.jupyter.widget-view+json": {
       "model_id": "",
       "version_major": 2,
       "version_minor": 0
      },
      "text/plain": [
       "HBox(children=(IntProgress(value=0, description='Parameter Loop', max=1), HTML(value='')))"
      ]
     },
     "metadata": {},
     "output_type": "display_data"
    },
    {
     "data": {
      "application/vnd.jupyter.widget-view+json": {
       "model_id": "",
       "version_major": 2,
       "version_minor": 0
      },
      "text/plain": [
       "HBox(children=(IntProgress(value=1, bar_style='info', description='CV loop', max=1), HTML(value='')))"
      ]
     },
     "metadata": {},
     "output_type": "display_data"
    },
    {
     "data": {
      "application/vnd.jupyter.widget-view+json": {
       "model_id": "",
       "version_major": 2,
       "version_minor": 0
      },
      "text/plain": [
       "HBox(children=(IntProgress(value=0, description='Parameter Loop', max=1), HTML(value='')))"
      ]
     },
     "metadata": {},
     "output_type": "display_data"
    },
    {
     "data": {
      "application/vnd.jupyter.widget-view+json": {
       "model_id": "",
       "version_major": 2,
       "version_minor": 0
      },
      "text/plain": [
       "HBox(children=(IntProgress(value=1, bar_style='info', description='CV loop', max=1), HTML(value='')))"
      ]
     },
     "metadata": {},
     "output_type": "display_data"
    },
    {
     "data": {
      "application/vnd.jupyter.widget-view+json": {
       "model_id": "",
       "version_major": 2,
       "version_minor": 0
      },
      "text/plain": [
       "HBox(children=(IntProgress(value=0, description='Parameter Loop', max=1), HTML(value='')))"
      ]
     },
     "metadata": {},
     "output_type": "display_data"
    },
    {
     "data": {
      "application/vnd.jupyter.widget-view+json": {
       "model_id": "",
       "version_major": 2,
       "version_minor": 0
      },
      "text/plain": [
       "HBox(children=(IntProgress(value=1, bar_style='info', description='CV loop', max=1), HTML(value='')))"
      ]
     },
     "metadata": {},
     "output_type": "display_data"
    },
    {
     "data": {
      "application/vnd.jupyter.widget-view+json": {
       "model_id": "",
       "version_major": 2,
       "version_minor": 0
      },
      "text/plain": [
       "HBox(children=(IntProgress(value=0, description='Parameter Loop', max=1), HTML(value='')))"
      ]
     },
     "metadata": {},
     "output_type": "display_data"
    },
    {
     "data": {
      "application/vnd.jupyter.widget-view+json": {
       "model_id": "",
       "version_major": 2,
       "version_minor": 0
      },
      "text/plain": [
       "HBox(children=(IntProgress(value=1, bar_style='info', description='CV loop', max=1), HTML(value='')))"
      ]
     },
     "metadata": {},
     "output_type": "display_data"
    },
    {
     "data": {
      "application/vnd.jupyter.widget-view+json": {
       "model_id": "",
       "version_major": 2,
       "version_minor": 0
      },
      "text/plain": [
       "HBox(children=(IntProgress(value=0, description='Parameter Loop', max=1), HTML(value='')))"
      ]
     },
     "metadata": {},
     "output_type": "display_data"
    },
    {
     "data": {
      "application/vnd.jupyter.widget-view+json": {
       "model_id": "",
       "version_major": 2,
       "version_minor": 0
      },
      "text/plain": [
       "HBox(children=(IntProgress(value=1, bar_style='info', description='CV loop', max=1), HTML(value='')))"
      ]
     },
     "metadata": {},
     "output_type": "display_data"
    },
    {
     "data": {
      "application/vnd.jupyter.widget-view+json": {
       "model_id": "",
       "version_major": 2,
       "version_minor": 0
      },
      "text/plain": [
       "HBox(children=(IntProgress(value=0, description='Parameter Loop', max=1), HTML(value='')))"
      ]
     },
     "metadata": {},
     "output_type": "display_data"
    },
    {
     "data": {
      "application/vnd.jupyter.widget-view+json": {
       "model_id": "",
       "version_major": 2,
       "version_minor": 0
      },
      "text/plain": [
       "HBox(children=(IntProgress(value=1, bar_style='info', description='CV loop', max=1), HTML(value='')))"
      ]
     },
     "metadata": {},
     "output_type": "display_data"
    },
    {
     "data": {
      "application/vnd.jupyter.widget-view+json": {
       "model_id": "",
       "version_major": 2,
       "version_minor": 0
      },
      "text/plain": [
       "HBox(children=(IntProgress(value=0, description='Parameter Loop', max=1), HTML(value='')))"
      ]
     },
     "metadata": {},
     "output_type": "display_data"
    },
    {
     "data": {
      "application/vnd.jupyter.widget-view+json": {
       "model_id": "",
       "version_major": 2,
       "version_minor": 0
      },
      "text/plain": [
       "HBox(children=(IntProgress(value=1, bar_style='info', description='CV loop', max=1), HTML(value='')))"
      ]
     },
     "metadata": {},
     "output_type": "display_data"
    },
    {
     "data": {
      "application/vnd.jupyter.widget-view+json": {
       "model_id": "",
       "version_major": 2,
       "version_minor": 0
      },
      "text/plain": [
       "HBox(children=(IntProgress(value=0, description='Parameter Loop', max=1), HTML(value='')))"
      ]
     },
     "metadata": {},
     "output_type": "display_data"
    },
    {
     "data": {
      "application/vnd.jupyter.widget-view+json": {
       "model_id": "",
       "version_major": 2,
       "version_minor": 0
      },
      "text/plain": [
       "HBox(children=(IntProgress(value=1, bar_style='info', description='CV loop', max=1), HTML(value='')))"
      ]
     },
     "metadata": {},
     "output_type": "display_data"
    },
    {
     "data": {
      "application/vnd.jupyter.widget-view+json": {
       "model_id": "",
       "version_major": 2,
       "version_minor": 0
      },
      "text/plain": [
       "HBox(children=(IntProgress(value=0, description='Parameter Loop', max=1), HTML(value='')))"
      ]
     },
     "metadata": {},
     "output_type": "display_data"
    },
    {
     "data": {
      "application/vnd.jupyter.widget-view+json": {
       "model_id": "",
       "version_major": 2,
       "version_minor": 0
      },
      "text/plain": [
       "HBox(children=(IntProgress(value=1, bar_style='info', description='CV loop', max=1), HTML(value='')))"
      ]
     },
     "metadata": {},
     "output_type": "display_data"
    },
    {
     "data": {
      "application/vnd.jupyter.widget-view+json": {
       "model_id": "",
       "version_major": 2,
       "version_minor": 0
      },
      "text/plain": [
       "HBox(children=(IntProgress(value=0, description='Parameter Loop', max=1), HTML(value='')))"
      ]
     },
     "metadata": {},
     "output_type": "display_data"
    },
    {
     "data": {
      "application/vnd.jupyter.widget-view+json": {
       "model_id": "",
       "version_major": 2,
       "version_minor": 0
      },
      "text/plain": [
       "HBox(children=(IntProgress(value=1, bar_style='info', description='CV loop', max=1), HTML(value='')))"
      ]
     },
     "metadata": {},
     "output_type": "display_data"
    },
    {
     "data": {
      "application/vnd.jupyter.widget-view+json": {
       "model_id": "",
       "version_major": 2,
       "version_minor": 0
      },
      "text/plain": [
       "HBox(children=(IntProgress(value=0, description='Parameter Loop', max=1), HTML(value='')))"
      ]
     },
     "metadata": {},
     "output_type": "display_data"
    },
    {
     "data": {
      "application/vnd.jupyter.widget-view+json": {
       "model_id": "",
       "version_major": 2,
       "version_minor": 0
      },
      "text/plain": [
       "HBox(children=(IntProgress(value=1, bar_style='info', description='CV loop', max=1), HTML(value='')))"
      ]
     },
     "metadata": {},
     "output_type": "display_data"
    },
    {
     "data": {
      "application/vnd.jupyter.widget-view+json": {
       "model_id": "",
       "version_major": 2,
       "version_minor": 0
      },
      "text/plain": [
       "HBox(children=(IntProgress(value=0, description='Parameter Loop', max=1), HTML(value='')))"
      ]
     },
     "metadata": {},
     "output_type": "display_data"
    },
    {
     "data": {
      "application/vnd.jupyter.widget-view+json": {
       "model_id": "",
       "version_major": 2,
       "version_minor": 0
      },
      "text/plain": [
       "HBox(children=(IntProgress(value=1, bar_style='info', description='CV loop', max=1), HTML(value='')))"
      ]
     },
     "metadata": {},
     "output_type": "display_data"
    },
    {
     "data": {
      "application/vnd.jupyter.widget-view+json": {
       "model_id": "",
       "version_major": 2,
       "version_minor": 0
      },
      "text/plain": [
       "HBox(children=(IntProgress(value=0, description='Parameter Loop', max=1), HTML(value='')))"
      ]
     },
     "metadata": {},
     "output_type": "display_data"
    },
    {
     "data": {
      "application/vnd.jupyter.widget-view+json": {
       "model_id": "",
       "version_major": 2,
       "version_minor": 0
      },
      "text/plain": [
       "HBox(children=(IntProgress(value=1, bar_style='info', description='CV loop', max=1), HTML(value='')))"
      ]
     },
     "metadata": {},
     "output_type": "display_data"
    },
    {
     "data": {
      "application/vnd.jupyter.widget-view+json": {
       "model_id": "",
       "version_major": 2,
       "version_minor": 0
      },
      "text/plain": [
       "HBox(children=(IntProgress(value=0, description='Parameter Loop', max=1), HTML(value='')))"
      ]
     },
     "metadata": {},
     "output_type": "display_data"
    },
    {
     "data": {
      "application/vnd.jupyter.widget-view+json": {
       "model_id": "",
       "version_major": 2,
       "version_minor": 0
      },
      "text/plain": [
       "HBox(children=(IntProgress(value=1, bar_style='info', description='CV loop', max=1), HTML(value='')))"
      ]
     },
     "metadata": {},
     "output_type": "display_data"
    },
    {
     "data": {
      "application/vnd.jupyter.widget-view+json": {
       "model_id": "",
       "version_major": 2,
       "version_minor": 0
      },
      "text/plain": [
       "HBox(children=(IntProgress(value=0, description='Parameter Loop', max=1), HTML(value='')))"
      ]
     },
     "metadata": {},
     "output_type": "display_data"
    },
    {
     "data": {
      "application/vnd.jupyter.widget-view+json": {
       "model_id": "",
       "version_major": 2,
       "version_minor": 0
      },
      "text/plain": [
       "HBox(children=(IntProgress(value=1, bar_style='info', description='CV loop', max=1), HTML(value='')))"
      ]
     },
     "metadata": {},
     "output_type": "display_data"
    },
    {
     "data": {
      "application/vnd.jupyter.widget-view+json": {
       "model_id": "",
       "version_major": 2,
       "version_minor": 0
      },
      "text/plain": [
       "HBox(children=(IntProgress(value=0, description='Parameter Loop', max=1), HTML(value='')))"
      ]
     },
     "metadata": {},
     "output_type": "display_data"
    },
    {
     "data": {
      "application/vnd.jupyter.widget-view+json": {
       "model_id": "",
       "version_major": 2,
       "version_minor": 0
      },
      "text/plain": [
       "HBox(children=(IntProgress(value=1, bar_style='info', description='CV loop', max=1), HTML(value='')))"
      ]
     },
     "metadata": {},
     "output_type": "display_data"
    },
    {
     "data": {
      "application/vnd.jupyter.widget-view+json": {
       "model_id": "",
       "version_major": 2,
       "version_minor": 0
      },
      "text/plain": [
       "HBox(children=(IntProgress(value=0, description='Parameter Loop', max=1), HTML(value='')))"
      ]
     },
     "metadata": {},
     "output_type": "display_data"
    },
    {
     "data": {
      "application/vnd.jupyter.widget-view+json": {
       "model_id": "",
       "version_major": 2,
       "version_minor": 0
      },
      "text/plain": [
       "HBox(children=(IntProgress(value=1, bar_style='info', description='CV loop', max=1), HTML(value='')))"
      ]
     },
     "metadata": {},
     "output_type": "display_data"
    },
    {
     "data": {
      "application/vnd.jupyter.widget-view+json": {
       "model_id": "",
       "version_major": 2,
       "version_minor": 0
      },
      "text/plain": [
       "HBox(children=(IntProgress(value=0, description='Parameter Loop', max=1), HTML(value='')))"
      ]
     },
     "metadata": {},
     "output_type": "display_data"
    },
    {
     "data": {
      "application/vnd.jupyter.widget-view+json": {
       "model_id": "",
       "version_major": 2,
       "version_minor": 0
      },
      "text/plain": [
       "HBox(children=(IntProgress(value=1, bar_style='info', description='CV loop', max=1), HTML(value='')))"
      ]
     },
     "metadata": {},
     "output_type": "display_data"
    },
    {
     "data": {
      "application/vnd.jupyter.widget-view+json": {
       "model_id": "",
       "version_major": 2,
       "version_minor": 0
      },
      "text/plain": [
       "HBox(children=(IntProgress(value=0, description='Parameter Loop', max=1), HTML(value='')))"
      ]
     },
     "metadata": {},
     "output_type": "display_data"
    },
    {
     "data": {
      "application/vnd.jupyter.widget-view+json": {
       "model_id": "",
       "version_major": 2,
       "version_minor": 0
      },
      "text/plain": [
       "HBox(children=(IntProgress(value=1, bar_style='info', description='CV loop', max=1), HTML(value='')))"
      ]
     },
     "metadata": {},
     "output_type": "display_data"
    },
    {
     "data": {
      "application/vnd.jupyter.widget-view+json": {
       "model_id": "",
       "version_major": 2,
       "version_minor": 0
      },
      "text/plain": [
       "HBox(children=(IntProgress(value=0, description='Parameter Loop', max=1), HTML(value='')))"
      ]
     },
     "metadata": {},
     "output_type": "display_data"
    },
    {
     "data": {
      "application/vnd.jupyter.widget-view+json": {
       "model_id": "",
       "version_major": 2,
       "version_minor": 0
      },
      "text/plain": [
       "HBox(children=(IntProgress(value=1, bar_style='info', description='CV loop', max=1), HTML(value='')))"
      ]
     },
     "metadata": {},
     "output_type": "display_data"
    },
    {
     "data": {
      "application/vnd.jupyter.widget-view+json": {
       "model_id": "",
       "version_major": 2,
       "version_minor": 0
      },
      "text/plain": [
       "HBox(children=(IntProgress(value=0, description='Parameter Loop', max=1), HTML(value='')))"
      ]
     },
     "metadata": {},
     "output_type": "display_data"
    },
    {
     "data": {
      "application/vnd.jupyter.widget-view+json": {
       "model_id": "",
       "version_major": 2,
       "version_minor": 0
      },
      "text/plain": [
       "HBox(children=(IntProgress(value=1, bar_style='info', description='CV loop', max=1), HTML(value='')))"
      ]
     },
     "metadata": {},
     "output_type": "display_data"
    },
    {
     "data": {
      "application/vnd.jupyter.widget-view+json": {
       "model_id": "",
       "version_major": 2,
       "version_minor": 0
      },
      "text/plain": [
       "HBox(children=(IntProgress(value=0, description='Parameter Loop', max=1), HTML(value='')))"
      ]
     },
     "metadata": {},
     "output_type": "display_data"
    },
    {
     "data": {
      "application/vnd.jupyter.widget-view+json": {
       "model_id": "",
       "version_major": 2,
       "version_minor": 0
      },
      "text/plain": [
       "HBox(children=(IntProgress(value=1, bar_style='info', description='CV loop', max=1), HTML(value='')))"
      ]
     },
     "metadata": {},
     "output_type": "display_data"
    },
    {
     "data": {
      "application/vnd.jupyter.widget-view+json": {
       "model_id": "",
       "version_major": 2,
       "version_minor": 0
      },
      "text/plain": [
       "HBox(children=(IntProgress(value=0, description='Parameter Loop', max=1), HTML(value='')))"
      ]
     },
     "metadata": {},
     "output_type": "display_data"
    },
    {
     "data": {
      "application/vnd.jupyter.widget-view+json": {
       "model_id": "",
       "version_major": 2,
       "version_minor": 0
      },
      "text/plain": [
       "HBox(children=(IntProgress(value=1, bar_style='info', description='CV loop', max=1), HTML(value='')))"
      ]
     },
     "metadata": {},
     "output_type": "display_data"
    },
    {
     "data": {
      "application/vnd.jupyter.widget-view+json": {
       "model_id": "",
       "version_major": 2,
       "version_minor": 0
      },
      "text/plain": [
       "HBox(children=(IntProgress(value=0, description='Parameter Loop', max=1), HTML(value='')))"
      ]
     },
     "metadata": {},
     "output_type": "display_data"
    },
    {
     "data": {
      "application/vnd.jupyter.widget-view+json": {
       "model_id": "",
       "version_major": 2,
       "version_minor": 0
      },
      "text/plain": [
       "HBox(children=(IntProgress(value=1, bar_style='info', description='CV loop', max=1), HTML(value='')))"
      ]
     },
     "metadata": {},
     "output_type": "display_data"
    },
    {
     "data": {
      "application/vnd.jupyter.widget-view+json": {
       "model_id": "",
       "version_major": 2,
       "version_minor": 0
      },
      "text/plain": [
       "HBox(children=(IntProgress(value=0, description='Parameter Loop', max=1), HTML(value='')))"
      ]
     },
     "metadata": {},
     "output_type": "display_data"
    },
    {
     "data": {
      "application/vnd.jupyter.widget-view+json": {
       "model_id": "",
       "version_major": 2,
       "version_minor": 0
      },
      "text/plain": [
       "HBox(children=(IntProgress(value=1, bar_style='info', description='CV loop', max=1), HTML(value='')))"
      ]
     },
     "metadata": {},
     "output_type": "display_data"
    },
    {
     "data": {
      "application/vnd.jupyter.widget-view+json": {
       "model_id": "",
       "version_major": 2,
       "version_minor": 0
      },
      "text/plain": [
       "HBox(children=(IntProgress(value=0, description='Parameter Loop', max=1), HTML(value='')))"
      ]
     },
     "metadata": {},
     "output_type": "display_data"
    },
    {
     "data": {
      "application/vnd.jupyter.widget-view+json": {
       "model_id": "",
       "version_major": 2,
       "version_minor": 0
      },
      "text/plain": [
       "HBox(children=(IntProgress(value=1, bar_style='info', description='CV loop', max=1), HTML(value='')))"
      ]
     },
     "metadata": {},
     "output_type": "display_data"
    },
    {
     "data": {
      "application/vnd.jupyter.widget-view+json": {
       "model_id": "",
       "version_major": 2,
       "version_minor": 0
      },
      "text/plain": [
       "HBox(children=(IntProgress(value=0, description='Parameter Loop', max=1), HTML(value='')))"
      ]
     },
     "metadata": {},
     "output_type": "display_data"
    },
    {
     "data": {
      "application/vnd.jupyter.widget-view+json": {
       "model_id": "",
       "version_major": 2,
       "version_minor": 0
      },
      "text/plain": [
       "HBox(children=(IntProgress(value=1, bar_style='info', description='CV loop', max=1), HTML(value='')))"
      ]
     },
     "metadata": {},
     "output_type": "display_data"
    },
    {
     "data": {
      "application/vnd.jupyter.widget-view+json": {
       "model_id": "",
       "version_major": 2,
       "version_minor": 0
      },
      "text/plain": [
       "HBox(children=(IntProgress(value=0, description='Parameter Loop', max=1), HTML(value='')))"
      ]
     },
     "metadata": {},
     "output_type": "display_data"
    },
    {
     "data": {
      "application/vnd.jupyter.widget-view+json": {
       "model_id": "",
       "version_major": 2,
       "version_minor": 0
      },
      "text/plain": [
       "HBox(children=(IntProgress(value=1, bar_style='info', description='CV loop', max=1), HTML(value='')))"
      ]
     },
     "metadata": {},
     "output_type": "display_data"
    },
    {
     "data": {
      "application/vnd.jupyter.widget-view+json": {
       "model_id": "",
       "version_major": 2,
       "version_minor": 0
      },
      "text/plain": [
       "HBox(children=(IntProgress(value=0, description='Parameter Loop', max=1), HTML(value='')))"
      ]
     },
     "metadata": {},
     "output_type": "display_data"
    },
    {
     "data": {
      "application/vnd.jupyter.widget-view+json": {
       "model_id": "",
       "version_major": 2,
       "version_minor": 0
      },
      "text/plain": [
       "HBox(children=(IntProgress(value=1, bar_style='info', description='CV loop', max=1), HTML(value='')))"
      ]
     },
     "metadata": {},
     "output_type": "display_data"
    },
    {
     "data": {
      "application/vnd.jupyter.widget-view+json": {
       "model_id": "",
       "version_major": 2,
       "version_minor": 0
      },
      "text/plain": [
       "HBox(children=(IntProgress(value=0, description='Parameter Loop', max=1), HTML(value='')))"
      ]
     },
     "metadata": {},
     "output_type": "display_data"
    },
    {
     "data": {
      "application/vnd.jupyter.widget-view+json": {
       "model_id": "",
       "version_major": 2,
       "version_minor": 0
      },
      "text/plain": [
       "HBox(children=(IntProgress(value=1, bar_style='info', description='CV loop', max=1), HTML(value='')))"
      ]
     },
     "metadata": {},
     "output_type": "display_data"
    },
    {
     "data": {
      "application/vnd.jupyter.widget-view+json": {
       "model_id": "",
       "version_major": 2,
       "version_minor": 0
      },
      "text/plain": [
       "HBox(children=(IntProgress(value=0, description='Parameter Loop', max=1), HTML(value='')))"
      ]
     },
     "metadata": {},
     "output_type": "display_data"
    },
    {
     "data": {
      "application/vnd.jupyter.widget-view+json": {
       "model_id": "",
       "version_major": 2,
       "version_minor": 0
      },
      "text/plain": [
       "HBox(children=(IntProgress(value=1, bar_style='info', description='CV loop', max=1), HTML(value='')))"
      ]
     },
     "metadata": {},
     "output_type": "display_data"
    },
    {
     "data": {
      "application/vnd.jupyter.widget-view+json": {
       "model_id": "",
       "version_major": 2,
       "version_minor": 0
      },
      "text/plain": [
       "HBox(children=(IntProgress(value=0, description='Parameter Loop', max=1), HTML(value='')))"
      ]
     },
     "metadata": {},
     "output_type": "display_data"
    },
    {
     "data": {
      "application/vnd.jupyter.widget-view+json": {
       "model_id": "",
       "version_major": 2,
       "version_minor": 0
      },
      "text/plain": [
       "HBox(children=(IntProgress(value=1, bar_style='info', description='CV loop', max=1), HTML(value='')))"
      ]
     },
     "metadata": {},
     "output_type": "display_data"
    },
    {
     "data": {
      "application/vnd.jupyter.widget-view+json": {
       "model_id": "",
       "version_major": 2,
       "version_minor": 0
      },
      "text/plain": [
       "HBox(children=(IntProgress(value=0, description='Parameter Loop', max=1), HTML(value='')))"
      ]
     },
     "metadata": {},
     "output_type": "display_data"
    },
    {
     "data": {
      "application/vnd.jupyter.widget-view+json": {
       "model_id": "",
       "version_major": 2,
       "version_minor": 0
      },
      "text/plain": [
       "HBox(children=(IntProgress(value=1, bar_style='info', description='CV loop', max=1), HTML(value='')))"
      ]
     },
     "metadata": {},
     "output_type": "display_data"
    },
    {
     "data": {
      "application/vnd.jupyter.widget-view+json": {
       "model_id": "",
       "version_major": 2,
       "version_minor": 0
      },
      "text/plain": [
       "HBox(children=(IntProgress(value=0, description='Parameter Loop', max=1), HTML(value='')))"
      ]
     },
     "metadata": {},
     "output_type": "display_data"
    },
    {
     "data": {
      "application/vnd.jupyter.widget-view+json": {
       "model_id": "",
       "version_major": 2,
       "version_minor": 0
      },
      "text/plain": [
       "HBox(children=(IntProgress(value=1, bar_style='info', description='CV loop', max=1), HTML(value='')))"
      ]
     },
     "metadata": {},
     "output_type": "display_data"
    },
    {
     "data": {
      "application/vnd.jupyter.widget-view+json": {
       "model_id": "",
       "version_major": 2,
       "version_minor": 0
      },
      "text/plain": [
       "HBox(children=(IntProgress(value=0, description='Parameter Loop', max=1), HTML(value='')))"
      ]
     },
     "metadata": {},
     "output_type": "display_data"
    },
    {
     "data": {
      "application/vnd.jupyter.widget-view+json": {
       "model_id": "",
       "version_major": 2,
       "version_minor": 0
      },
      "text/plain": [
       "HBox(children=(IntProgress(value=1, bar_style='info', description='CV loop', max=1), HTML(value='')))"
      ]
     },
     "metadata": {},
     "output_type": "display_data"
    },
    {
     "data": {
      "application/vnd.jupyter.widget-view+json": {
       "model_id": "",
       "version_major": 2,
       "version_minor": 0
      },
      "text/plain": [
       "HBox(children=(IntProgress(value=0, description='Parameter Loop', max=1), HTML(value='')))"
      ]
     },
     "metadata": {},
     "output_type": "display_data"
    },
    {
     "data": {
      "application/vnd.jupyter.widget-view+json": {
       "model_id": "",
       "version_major": 2,
       "version_minor": 0
      },
      "text/plain": [
       "HBox(children=(IntProgress(value=1, bar_style='info', description='CV loop', max=1), HTML(value='')))"
      ]
     },
     "metadata": {},
     "output_type": "display_data"
    },
    {
     "data": {
      "application/vnd.jupyter.widget-view+json": {
       "model_id": "",
       "version_major": 2,
       "version_minor": 0
      },
      "text/plain": [
       "HBox(children=(IntProgress(value=0, description='Parameter Loop', max=1), HTML(value='')))"
      ]
     },
     "metadata": {},
     "output_type": "display_data"
    },
    {
     "data": {
      "application/vnd.jupyter.widget-view+json": {
       "model_id": "",
       "version_major": 2,
       "version_minor": 0
      },
      "text/plain": [
       "HBox(children=(IntProgress(value=1, bar_style='info', description='CV loop', max=1), HTML(value='')))"
      ]
     },
     "metadata": {},
     "output_type": "display_data"
    },
    {
     "data": {
      "application/vnd.jupyter.widget-view+json": {
       "model_id": "",
       "version_major": 2,
       "version_minor": 0
      },
      "text/plain": [
       "HBox(children=(IntProgress(value=0, description='Parameter Loop', max=1), HTML(value='')))"
      ]
     },
     "metadata": {},
     "output_type": "display_data"
    },
    {
     "data": {
      "application/vnd.jupyter.widget-view+json": {
       "model_id": "",
       "version_major": 2,
       "version_minor": 0
      },
      "text/plain": [
       "HBox(children=(IntProgress(value=1, bar_style='info', description='CV loop', max=1), HTML(value='')))"
      ]
     },
     "metadata": {},
     "output_type": "display_data"
    },
    {
     "data": {
      "application/vnd.jupyter.widget-view+json": {
       "model_id": "",
       "version_major": 2,
       "version_minor": 0
      },
      "text/plain": [
       "HBox(children=(IntProgress(value=0, description='Parameter Loop', max=1), HTML(value='')))"
      ]
     },
     "metadata": {},
     "output_type": "display_data"
    },
    {
     "data": {
      "application/vnd.jupyter.widget-view+json": {
       "model_id": "",
       "version_major": 2,
       "version_minor": 0
      },
      "text/plain": [
       "HBox(children=(IntProgress(value=1, bar_style='info', description='CV loop', max=1), HTML(value='')))"
      ]
     },
     "metadata": {},
     "output_type": "display_data"
    },
    {
     "data": {
      "application/vnd.jupyter.widget-view+json": {
       "model_id": "",
       "version_major": 2,
       "version_minor": 0
      },
      "text/plain": [
       "HBox(children=(IntProgress(value=0, description='Parameter Loop', max=1), HTML(value='')))"
      ]
     },
     "metadata": {},
     "output_type": "display_data"
    },
    {
     "data": {
      "application/vnd.jupyter.widget-view+json": {
       "model_id": "",
       "version_major": 2,
       "version_minor": 0
      },
      "text/plain": [
       "HBox(children=(IntProgress(value=1, bar_style='info', description='CV loop', max=1), HTML(value='')))"
      ]
     },
     "metadata": {},
     "output_type": "display_data"
    },
    {
     "data": {
      "application/vnd.jupyter.widget-view+json": {
       "model_id": "",
       "version_major": 2,
       "version_minor": 0
      },
      "text/plain": [
       "HBox(children=(IntProgress(value=0, description='Parameter Loop', max=1), HTML(value='')))"
      ]
     },
     "metadata": {},
     "output_type": "display_data"
    },
    {
     "data": {
      "application/vnd.jupyter.widget-view+json": {
       "model_id": "",
       "version_major": 2,
       "version_minor": 0
      },
      "text/plain": [
       "HBox(children=(IntProgress(value=1, bar_style='info', description='CV loop', max=1), HTML(value='')))"
      ]
     },
     "metadata": {},
     "output_type": "display_data"
    },
    {
     "data": {
      "application/vnd.jupyter.widget-view+json": {
       "model_id": "",
       "version_major": 2,
       "version_minor": 0
      },
      "text/plain": [
       "HBox(children=(IntProgress(value=0, description='Parameter Loop', max=1), HTML(value='')))"
      ]
     },
     "metadata": {},
     "output_type": "display_data"
    },
    {
     "data": {
      "application/vnd.jupyter.widget-view+json": {
       "model_id": "",
       "version_major": 2,
       "version_minor": 0
      },
      "text/plain": [
       "HBox(children=(IntProgress(value=1, bar_style='info', description='CV loop', max=1), HTML(value='')))"
      ]
     },
     "metadata": {},
     "output_type": "display_data"
    },
    {
     "data": {
      "application/vnd.jupyter.widget-view+json": {
       "model_id": "",
       "version_major": 2,
       "version_minor": 0
      },
      "text/plain": [
       "HBox(children=(IntProgress(value=0, description='Parameter Loop', max=1), HTML(value='')))"
      ]
     },
     "metadata": {},
     "output_type": "display_data"
    },
    {
     "data": {
      "application/vnd.jupyter.widget-view+json": {
       "model_id": "",
       "version_major": 2,
       "version_minor": 0
      },
      "text/plain": [
       "HBox(children=(IntProgress(value=1, bar_style='info', description='CV loop', max=1), HTML(value='')))"
      ]
     },
     "metadata": {},
     "output_type": "display_data"
    },
    {
     "data": {
      "application/vnd.jupyter.widget-view+json": {
       "model_id": "",
       "version_major": 2,
       "version_minor": 0
      },
      "text/plain": [
       "HBox(children=(IntProgress(value=0, description='Parameter Loop', max=1), HTML(value='')))"
      ]
     },
     "metadata": {},
     "output_type": "display_data"
    },
    {
     "data": {
      "application/vnd.jupyter.widget-view+json": {
       "model_id": "",
       "version_major": 2,
       "version_minor": 0
      },
      "text/plain": [
       "HBox(children=(IntProgress(value=1, bar_style='info', description='CV loop', max=1), HTML(value='')))"
      ]
     },
     "metadata": {},
     "output_type": "display_data"
    },
    {
     "data": {
      "application/vnd.jupyter.widget-view+json": {
       "model_id": "",
       "version_major": 2,
       "version_minor": 0
      },
      "text/plain": [
       "HBox(children=(IntProgress(value=0, description='Parameter Loop', max=1), HTML(value='')))"
      ]
     },
     "metadata": {},
     "output_type": "display_data"
    },
    {
     "data": {
      "application/vnd.jupyter.widget-view+json": {
       "model_id": "",
       "version_major": 2,
       "version_minor": 0
      },
      "text/plain": [
       "HBox(children=(IntProgress(value=1, bar_style='info', description='CV loop', max=1), HTML(value='')))"
      ]
     },
     "metadata": {},
     "output_type": "display_data"
    },
    {
     "data": {
      "application/vnd.jupyter.widget-view+json": {
       "model_id": "",
       "version_major": 2,
       "version_minor": 0
      },
      "text/plain": [
       "HBox(children=(IntProgress(value=0, description='Parameter Loop', max=1), HTML(value='')))"
      ]
     },
     "metadata": {},
     "output_type": "display_data"
    },
    {
     "data": {
      "application/vnd.jupyter.widget-view+json": {
       "model_id": "",
       "version_major": 2,
       "version_minor": 0
      },
      "text/plain": [
       "HBox(children=(IntProgress(value=1, bar_style='info', description='CV loop', max=1), HTML(value='')))"
      ]
     },
     "metadata": {},
     "output_type": "display_data"
    },
    {
     "data": {
      "application/vnd.jupyter.widget-view+json": {
       "model_id": "",
       "version_major": 2,
       "version_minor": 0
      },
      "text/plain": [
       "HBox(children=(IntProgress(value=0, description='Parameter Loop', max=1), HTML(value='')))"
      ]
     },
     "metadata": {},
     "output_type": "display_data"
    },
    {
     "data": {
      "application/vnd.jupyter.widget-view+json": {
       "model_id": "",
       "version_major": 2,
       "version_minor": 0
      },
      "text/plain": [
       "HBox(children=(IntProgress(value=1, bar_style='info', description='CV loop', max=1), HTML(value='')))"
      ]
     },
     "metadata": {},
     "output_type": "display_data"
    },
    {
     "data": {
      "application/vnd.jupyter.widget-view+json": {
       "model_id": "",
       "version_major": 2,
       "version_minor": 0
      },
      "text/plain": [
       "HBox(children=(IntProgress(value=0, description='Parameter Loop', max=1), HTML(value='')))"
      ]
     },
     "metadata": {},
     "output_type": "display_data"
    },
    {
     "data": {
      "application/vnd.jupyter.widget-view+json": {
       "model_id": "",
       "version_major": 2,
       "version_minor": 0
      },
      "text/plain": [
       "HBox(children=(IntProgress(value=1, bar_style='info', description='CV loop', max=1), HTML(value='')))"
      ]
     },
     "metadata": {},
     "output_type": "display_data"
    },
    {
     "data": {
      "application/vnd.jupyter.widget-view+json": {
       "model_id": "",
       "version_major": 2,
       "version_minor": 0
      },
      "text/plain": [
       "HBox(children=(IntProgress(value=0, description='Parameter Loop', max=1), HTML(value='')))"
      ]
     },
     "metadata": {},
     "output_type": "display_data"
    },
    {
     "data": {
      "application/vnd.jupyter.widget-view+json": {
       "model_id": "",
       "version_major": 2,
       "version_minor": 0
      },
      "text/plain": [
       "HBox(children=(IntProgress(value=1, bar_style='info', description='CV loop', max=1), HTML(value='')))"
      ]
     },
     "metadata": {},
     "output_type": "display_data"
    },
    {
     "data": {
      "application/vnd.jupyter.widget-view+json": {
       "model_id": "",
       "version_major": 2,
       "version_minor": 0
      },
      "text/plain": [
       "HBox(children=(IntProgress(value=0, description='Parameter Loop', max=1), HTML(value='')))"
      ]
     },
     "metadata": {},
     "output_type": "display_data"
    },
    {
     "data": {
      "application/vnd.jupyter.widget-view+json": {
       "model_id": "",
       "version_major": 2,
       "version_minor": 0
      },
      "text/plain": [
       "HBox(children=(IntProgress(value=1, bar_style='info', description='CV loop', max=1), HTML(value='')))"
      ]
     },
     "metadata": {},
     "output_type": "display_data"
    },
    {
     "data": {
      "application/vnd.jupyter.widget-view+json": {
       "model_id": "",
       "version_major": 2,
       "version_minor": 0
      },
      "text/plain": [
       "HBox(children=(IntProgress(value=0, description='Parameter Loop', max=1), HTML(value='')))"
      ]
     },
     "metadata": {},
     "output_type": "display_data"
    },
    {
     "data": {
      "application/vnd.jupyter.widget-view+json": {
       "model_id": "",
       "version_major": 2,
       "version_minor": 0
      },
      "text/plain": [
       "HBox(children=(IntProgress(value=1, bar_style='info', description='CV loop', max=1), HTML(value='')))"
      ]
     },
     "metadata": {},
     "output_type": "display_data"
    },
    {
     "data": {
      "application/vnd.jupyter.widget-view+json": {
       "model_id": "",
       "version_major": 2,
       "version_minor": 0
      },
      "text/plain": [
       "HBox(children=(IntProgress(value=0, description='Parameter Loop', max=1), HTML(value='')))"
      ]
     },
     "metadata": {},
     "output_type": "display_data"
    },
    {
     "data": {
      "application/vnd.jupyter.widget-view+json": {
       "model_id": "",
       "version_major": 2,
       "version_minor": 0
      },
      "text/plain": [
       "HBox(children=(IntProgress(value=1, bar_style='info', description='CV loop', max=1), HTML(value='')))"
      ]
     },
     "metadata": {},
     "output_type": "display_data"
    },
    {
     "data": {
      "application/vnd.jupyter.widget-view+json": {
       "model_id": "",
       "version_major": 2,
       "version_minor": 0
      },
      "text/plain": [
       "HBox(children=(IntProgress(value=0, description='Parameter Loop', max=1), HTML(value='')))"
      ]
     },
     "metadata": {},
     "output_type": "display_data"
    },
    {
     "data": {
      "application/vnd.jupyter.widget-view+json": {
       "model_id": "",
       "version_major": 2,
       "version_minor": 0
      },
      "text/plain": [
       "HBox(children=(IntProgress(value=1, bar_style='info', description='CV loop', max=1), HTML(value='')))"
      ]
     },
     "metadata": {},
     "output_type": "display_data"
    },
    {
     "data": {
      "application/vnd.jupyter.widget-view+json": {
       "model_id": "",
       "version_major": 2,
       "version_minor": 0
      },
      "text/plain": [
       "HBox(children=(IntProgress(value=0, description='Parameter Loop', max=1), HTML(value='')))"
      ]
     },
     "metadata": {},
     "output_type": "display_data"
    },
    {
     "data": {
      "application/vnd.jupyter.widget-view+json": {
       "model_id": "",
       "version_major": 2,
       "version_minor": 0
      },
      "text/plain": [
       "HBox(children=(IntProgress(value=1, bar_style='info', description='CV loop', max=1), HTML(value='')))"
      ]
     },
     "metadata": {},
     "output_type": "display_data"
    },
    {
     "data": {
      "application/vnd.jupyter.widget-view+json": {
       "model_id": "",
       "version_major": 2,
       "version_minor": 0
      },
      "text/plain": [
       "HBox(children=(IntProgress(value=0, description='Parameter Loop', max=1), HTML(value='')))"
      ]
     },
     "metadata": {},
     "output_type": "display_data"
    },
    {
     "data": {
      "application/vnd.jupyter.widget-view+json": {
       "model_id": "",
       "version_major": 2,
       "version_minor": 0
      },
      "text/plain": [
       "HBox(children=(IntProgress(value=1, bar_style='info', description='CV loop', max=1), HTML(value='')))"
      ]
     },
     "metadata": {},
     "output_type": "display_data"
    },
    {
     "data": {
      "application/vnd.jupyter.widget-view+json": {
       "model_id": "",
       "version_major": 2,
       "version_minor": 0
      },
      "text/plain": [
       "HBox(children=(IntProgress(value=0, description='Parameter Loop', max=1), HTML(value='')))"
      ]
     },
     "metadata": {},
     "output_type": "display_data"
    },
    {
     "data": {
      "application/vnd.jupyter.widget-view+json": {
       "model_id": "",
       "version_major": 2,
       "version_minor": 0
      },
      "text/plain": [
       "HBox(children=(IntProgress(value=1, bar_style='info', description='CV loop', max=1), HTML(value='')))"
      ]
     },
     "metadata": {},
     "output_type": "display_data"
    },
    {
     "data": {
      "application/vnd.jupyter.widget-view+json": {
       "model_id": "",
       "version_major": 2,
       "version_minor": 0
      },
      "text/plain": [
       "HBox(children=(IntProgress(value=0, description='Parameter Loop', max=1), HTML(value='')))"
      ]
     },
     "metadata": {},
     "output_type": "display_data"
    },
    {
     "data": {
      "application/vnd.jupyter.widget-view+json": {
       "model_id": "",
       "version_major": 2,
       "version_minor": 0
      },
      "text/plain": [
       "HBox(children=(IntProgress(value=1, bar_style='info', description='CV loop', max=1), HTML(value='')))"
      ]
     },
     "metadata": {},
     "output_type": "display_data"
    },
    {
     "data": {
      "application/vnd.jupyter.widget-view+json": {
       "model_id": "",
       "version_major": 2,
       "version_minor": 0
      },
      "text/plain": [
       "HBox(children=(IntProgress(value=0, description='Parameter Loop', max=1), HTML(value='')))"
      ]
     },
     "metadata": {},
     "output_type": "display_data"
    },
    {
     "data": {
      "application/vnd.jupyter.widget-view+json": {
       "model_id": "",
       "version_major": 2,
       "version_minor": 0
      },
      "text/plain": [
       "HBox(children=(IntProgress(value=1, bar_style='info', description='CV loop', max=1), HTML(value='')))"
      ]
     },
     "metadata": {},
     "output_type": "display_data"
    },
    {
     "data": {
      "application/vnd.jupyter.widget-view+json": {
       "model_id": "",
       "version_major": 2,
       "version_minor": 0
      },
      "text/plain": [
       "HBox(children=(IntProgress(value=0, description='Parameter Loop', max=1), HTML(value='')))"
      ]
     },
     "metadata": {},
     "output_type": "display_data"
    },
    {
     "data": {
      "application/vnd.jupyter.widget-view+json": {
       "model_id": "",
       "version_major": 2,
       "version_minor": 0
      },
      "text/plain": [
       "HBox(children=(IntProgress(value=1, bar_style='info', description='CV loop', max=1), HTML(value='')))"
      ]
     },
     "metadata": {},
     "output_type": "display_data"
    },
    {
     "data": {
      "application/vnd.jupyter.widget-view+json": {
       "model_id": "",
       "version_major": 2,
       "version_minor": 0
      },
      "text/plain": [
       "HBox(children=(IntProgress(value=0, description='Parameter Loop', max=1), HTML(value='')))"
      ]
     },
     "metadata": {},
     "output_type": "display_data"
    },
    {
     "data": {
      "application/vnd.jupyter.widget-view+json": {
       "model_id": "",
       "version_major": 2,
       "version_minor": 0
      },
      "text/plain": [
       "HBox(children=(IntProgress(value=1, bar_style='info', description='CV loop', max=1), HTML(value='')))"
      ]
     },
     "metadata": {},
     "output_type": "display_data"
    },
    {
     "data": {
      "application/vnd.jupyter.widget-view+json": {
       "model_id": "",
       "version_major": 2,
       "version_minor": 0
      },
      "text/plain": [
       "HBox(children=(IntProgress(value=0, description='Parameter Loop', max=1), HTML(value='')))"
      ]
     },
     "metadata": {},
     "output_type": "display_data"
    },
    {
     "data": {
      "application/vnd.jupyter.widget-view+json": {
       "model_id": "",
       "version_major": 2,
       "version_minor": 0
      },
      "text/plain": [
       "HBox(children=(IntProgress(value=1, bar_style='info', description='CV loop', max=1), HTML(value='')))"
      ]
     },
     "metadata": {},
     "output_type": "display_data"
    },
    {
     "data": {
      "application/vnd.jupyter.widget-view+json": {
       "model_id": "",
       "version_major": 2,
       "version_minor": 0
      },
      "text/plain": [
       "HBox(children=(IntProgress(value=0, description='Parameter Loop', max=1), HTML(value='')))"
      ]
     },
     "metadata": {},
     "output_type": "display_data"
    },
    {
     "data": {
      "application/vnd.jupyter.widget-view+json": {
       "model_id": "",
       "version_major": 2,
       "version_minor": 0
      },
      "text/plain": [
       "HBox(children=(IntProgress(value=1, bar_style='info', description='CV loop', max=1), HTML(value='')))"
      ]
     },
     "metadata": {},
     "output_type": "display_data"
    },
    {
     "data": {
      "application/vnd.jupyter.widget-view+json": {
       "model_id": "",
       "version_major": 2,
       "version_minor": 0
      },
      "text/plain": [
       "HBox(children=(IntProgress(value=0, description='Parameter Loop', max=1), HTML(value='')))"
      ]
     },
     "metadata": {},
     "output_type": "display_data"
    },
    {
     "data": {
      "application/vnd.jupyter.widget-view+json": {
       "model_id": "",
       "version_major": 2,
       "version_minor": 0
      },
      "text/plain": [
       "HBox(children=(IntProgress(value=1, bar_style='info', description='CV loop', max=1), HTML(value='')))"
      ]
     },
     "metadata": {},
     "output_type": "display_data"
    },
    {
     "data": {
      "application/vnd.jupyter.widget-view+json": {
       "model_id": "",
       "version_major": 2,
       "version_minor": 0
      },
      "text/plain": [
       "HBox(children=(IntProgress(value=0, description='Parameter Loop', max=1), HTML(value='')))"
      ]
     },
     "metadata": {},
     "output_type": "display_data"
    },
    {
     "data": {
      "application/vnd.jupyter.widget-view+json": {
       "model_id": "",
       "version_major": 2,
       "version_minor": 0
      },
      "text/plain": [
       "HBox(children=(IntProgress(value=1, bar_style='info', description='CV loop', max=1), HTML(value='')))"
      ]
     },
     "metadata": {},
     "output_type": "display_data"
    },
    {
     "data": {
      "application/vnd.jupyter.widget-view+json": {
       "model_id": "",
       "version_major": 2,
       "version_minor": 0
      },
      "text/plain": [
       "HBox(children=(IntProgress(value=0, description='Parameter Loop', max=1), HTML(value='')))"
      ]
     },
     "metadata": {},
     "output_type": "display_data"
    },
    {
     "data": {
      "application/vnd.jupyter.widget-view+json": {
       "model_id": "",
       "version_major": 2,
       "version_minor": 0
      },
      "text/plain": [
       "HBox(children=(IntProgress(value=1, bar_style='info', description='CV loop', max=1), HTML(value='')))"
      ]
     },
     "metadata": {},
     "output_type": "display_data"
    },
    {
     "data": {
      "application/vnd.jupyter.widget-view+json": {
       "model_id": "",
       "version_major": 2,
       "version_minor": 0
      },
      "text/plain": [
       "HBox(children=(IntProgress(value=0, description='Parameter Loop', max=1), HTML(value='')))"
      ]
     },
     "metadata": {},
     "output_type": "display_data"
    },
    {
     "data": {
      "application/vnd.jupyter.widget-view+json": {
       "model_id": "",
       "version_major": 2,
       "version_minor": 0
      },
      "text/plain": [
       "HBox(children=(IntProgress(value=1, bar_style='info', description='CV loop', max=1), HTML(value='')))"
      ]
     },
     "metadata": {},
     "output_type": "display_data"
    },
    {
     "data": {
      "application/vnd.jupyter.widget-view+json": {
       "model_id": "",
       "version_major": 2,
       "version_minor": 0
      },
      "text/plain": [
       "HBox(children=(IntProgress(value=0, description='Parameter Loop', max=1), HTML(value='')))"
      ]
     },
     "metadata": {},
     "output_type": "display_data"
    },
    {
     "data": {
      "application/vnd.jupyter.widget-view+json": {
       "model_id": "",
       "version_major": 2,
       "version_minor": 0
      },
      "text/plain": [
       "HBox(children=(IntProgress(value=1, bar_style='info', description='CV loop', max=1), HTML(value='')))"
      ]
     },
     "metadata": {},
     "output_type": "display_data"
    },
    {
     "data": {
      "application/vnd.jupyter.widget-view+json": {
       "model_id": "",
       "version_major": 2,
       "version_minor": 0
      },
      "text/plain": [
       "HBox(children=(IntProgress(value=0, description='Parameter Loop', max=1), HTML(value='')))"
      ]
     },
     "metadata": {},
     "output_type": "display_data"
    },
    {
     "data": {
      "application/vnd.jupyter.widget-view+json": {
       "model_id": "",
       "version_major": 2,
       "version_minor": 0
      },
      "text/plain": [
       "HBox(children=(IntProgress(value=1, bar_style='info', description='CV loop', max=1), HTML(value='')))"
      ]
     },
     "metadata": {},
     "output_type": "display_data"
    },
    {
     "data": {
      "application/vnd.jupyter.widget-view+json": {
       "model_id": "",
       "version_major": 2,
       "version_minor": 0
      },
      "text/plain": [
       "HBox(children=(IntProgress(value=0, description='Parameter Loop', max=1), HTML(value='')))"
      ]
     },
     "metadata": {},
     "output_type": "display_data"
    },
    {
     "data": {
      "application/vnd.jupyter.widget-view+json": {
       "model_id": "",
       "version_major": 2,
       "version_minor": 0
      },
      "text/plain": [
       "HBox(children=(IntProgress(value=1, bar_style='info', description='CV loop', max=1), HTML(value='')))"
      ]
     },
     "metadata": {},
     "output_type": "display_data"
    },
    {
     "data": {
      "application/vnd.jupyter.widget-view+json": {
       "model_id": "",
       "version_major": 2,
       "version_minor": 0
      },
      "text/plain": [
       "HBox(children=(IntProgress(value=0, description='Parameter Loop', max=1), HTML(value='')))"
      ]
     },
     "metadata": {},
     "output_type": "display_data"
    },
    {
     "data": {
      "application/vnd.jupyter.widget-view+json": {
       "model_id": "",
       "version_major": 2,
       "version_minor": 0
      },
      "text/plain": [
       "HBox(children=(IntProgress(value=1, bar_style='info', description='CV loop', max=1), HTML(value='')))"
      ]
     },
     "metadata": {},
     "output_type": "display_data"
    },
    {
     "data": {
      "application/vnd.jupyter.widget-view+json": {
       "model_id": "",
       "version_major": 2,
       "version_minor": 0
      },
      "text/plain": [
       "HBox(children=(IntProgress(value=0, description='Parameter Loop', max=1), HTML(value='')))"
      ]
     },
     "metadata": {},
     "output_type": "display_data"
    },
    {
     "data": {
      "application/vnd.jupyter.widget-view+json": {
       "model_id": "",
       "version_major": 2,
       "version_minor": 0
      },
      "text/plain": [
       "HBox(children=(IntProgress(value=1, bar_style='info', description='CV loop', max=1), HTML(value='')))"
      ]
     },
     "metadata": {},
     "output_type": "display_data"
    },
    {
     "data": {
      "application/vnd.jupyter.widget-view+json": {
       "model_id": "",
       "version_major": 2,
       "version_minor": 0
      },
      "text/plain": [
       "HBox(children=(IntProgress(value=0, description='Parameter Loop', max=1), HTML(value='')))"
      ]
     },
     "metadata": {},
     "output_type": "display_data"
    },
    {
     "data": {
      "application/vnd.jupyter.widget-view+json": {
       "model_id": "",
       "version_major": 2,
       "version_minor": 0
      },
      "text/plain": [
       "HBox(children=(IntProgress(value=1, bar_style='info', description='CV loop', max=1), HTML(value='')))"
      ]
     },
     "metadata": {},
     "output_type": "display_data"
    },
    {
     "data": {
      "application/vnd.jupyter.widget-view+json": {
       "model_id": "",
       "version_major": 2,
       "version_minor": 0
      },
      "text/plain": [
       "HBox(children=(IntProgress(value=0, description='Parameter Loop', max=1), HTML(value='')))"
      ]
     },
     "metadata": {},
     "output_type": "display_data"
    },
    {
     "data": {
      "application/vnd.jupyter.widget-view+json": {
       "model_id": "",
       "version_major": 2,
       "version_minor": 0
      },
      "text/plain": [
       "HBox(children=(IntProgress(value=1, bar_style='info', description='CV loop', max=1), HTML(value='')))"
      ]
     },
     "metadata": {},
     "output_type": "display_data"
    },
    {
     "data": {
      "application/vnd.jupyter.widget-view+json": {
       "model_id": "",
       "version_major": 2,
       "version_minor": 0
      },
      "text/plain": [
       "HBox(children=(IntProgress(value=0, description='Parameter Loop', max=1), HTML(value='')))"
      ]
     },
     "metadata": {},
     "output_type": "display_data"
    },
    {
     "data": {
      "application/vnd.jupyter.widget-view+json": {
       "model_id": "",
       "version_major": 2,
       "version_minor": 0
      },
      "text/plain": [
       "HBox(children=(IntProgress(value=1, bar_style='info', description='CV loop', max=1), HTML(value='')))"
      ]
     },
     "metadata": {},
     "output_type": "display_data"
    },
    {
     "data": {
      "application/vnd.jupyter.widget-view+json": {
       "model_id": "",
       "version_major": 2,
       "version_minor": 0
      },
      "text/plain": [
       "HBox(children=(IntProgress(value=0, description='Parameter Loop', max=1), HTML(value='')))"
      ]
     },
     "metadata": {},
     "output_type": "display_data"
    },
    {
     "data": {
      "application/vnd.jupyter.widget-view+json": {
       "model_id": "",
       "version_major": 2,
       "version_minor": 0
      },
      "text/plain": [
       "HBox(children=(IntProgress(value=1, bar_style='info', description='CV loop', max=1), HTML(value='')))"
      ]
     },
     "metadata": {},
     "output_type": "display_data"
    },
    {
     "data": {
      "application/vnd.jupyter.widget-view+json": {
       "model_id": "",
       "version_major": 2,
       "version_minor": 0
      },
      "text/plain": [
       "HBox(children=(IntProgress(value=0, description='Parameter Loop', max=1), HTML(value='')))"
      ]
     },
     "metadata": {},
     "output_type": "display_data"
    },
    {
     "data": {
      "application/vnd.jupyter.widget-view+json": {
       "model_id": "",
       "version_major": 2,
       "version_minor": 0
      },
      "text/plain": [
       "HBox(children=(IntProgress(value=1, bar_style='info', description='CV loop', max=1), HTML(value='')))"
      ]
     },
     "metadata": {},
     "output_type": "display_data"
    },
    {
     "data": {
      "application/vnd.jupyter.widget-view+json": {
       "model_id": "",
       "version_major": 2,
       "version_minor": 0
      },
      "text/plain": [
       "HBox(children=(IntProgress(value=0, description='Parameter Loop', max=1), HTML(value='')))"
      ]
     },
     "metadata": {},
     "output_type": "display_data"
    },
    {
     "data": {
      "application/vnd.jupyter.widget-view+json": {
       "model_id": "",
       "version_major": 2,
       "version_minor": 0
      },
      "text/plain": [
       "HBox(children=(IntProgress(value=1, bar_style='info', description='CV loop', max=1), HTML(value='')))"
      ]
     },
     "metadata": {},
     "output_type": "display_data"
    },
    {
     "data": {
      "application/vnd.jupyter.widget-view+json": {
       "model_id": "",
       "version_major": 2,
       "version_minor": 0
      },
      "text/plain": [
       "HBox(children=(IntProgress(value=0, description='Parameter Loop', max=1), HTML(value='')))"
      ]
     },
     "metadata": {},
     "output_type": "display_data"
    },
    {
     "data": {
      "application/vnd.jupyter.widget-view+json": {
       "model_id": "",
       "version_major": 2,
       "version_minor": 0
      },
      "text/plain": [
       "HBox(children=(IntProgress(value=1, bar_style='info', description='CV loop', max=1), HTML(value='')))"
      ]
     },
     "metadata": {},
     "output_type": "display_data"
    },
    {
     "data": {
      "application/vnd.jupyter.widget-view+json": {
       "model_id": "",
       "version_major": 2,
       "version_minor": 0
      },
      "text/plain": [
       "HBox(children=(IntProgress(value=0, description='Parameter Loop', max=1), HTML(value='')))"
      ]
     },
     "metadata": {},
     "output_type": "display_data"
    },
    {
     "data": {
      "application/vnd.jupyter.widget-view+json": {
       "model_id": "",
       "version_major": 2,
       "version_minor": 0
      },
      "text/plain": [
       "HBox(children=(IntProgress(value=1, bar_style='info', description='CV loop', max=1), HTML(value='')))"
      ]
     },
     "metadata": {},
     "output_type": "display_data"
    },
    {
     "data": {
      "application/vnd.jupyter.widget-view+json": {
       "model_id": "",
       "version_major": 2,
       "version_minor": 0
      },
      "text/plain": [
       "HBox(children=(IntProgress(value=0, description='Parameter Loop', max=1), HTML(value='')))"
      ]
     },
     "metadata": {},
     "output_type": "display_data"
    },
    {
     "data": {
      "application/vnd.jupyter.widget-view+json": {
       "model_id": "",
       "version_major": 2,
       "version_minor": 0
      },
      "text/plain": [
       "HBox(children=(IntProgress(value=1, bar_style='info', description='CV loop', max=1), HTML(value='')))"
      ]
     },
     "metadata": {},
     "output_type": "display_data"
    },
    {
     "data": {
      "application/vnd.jupyter.widget-view+json": {
       "model_id": "",
       "version_major": 2,
       "version_minor": 0
      },
      "text/plain": [
       "HBox(children=(IntProgress(value=0, description='Parameter Loop', max=1), HTML(value='')))"
      ]
     },
     "metadata": {},
     "output_type": "display_data"
    },
    {
     "data": {
      "application/vnd.jupyter.widget-view+json": {
       "model_id": "",
       "version_major": 2,
       "version_minor": 0
      },
      "text/plain": [
       "HBox(children=(IntProgress(value=1, bar_style='info', description='CV loop', max=1), HTML(value='')))"
      ]
     },
     "metadata": {},
     "output_type": "display_data"
    },
    {
     "data": {
      "application/vnd.jupyter.widget-view+json": {
       "model_id": "",
       "version_major": 2,
       "version_minor": 0
      },
      "text/plain": [
       "HBox(children=(IntProgress(value=0, description='Parameter Loop', max=1), HTML(value='')))"
      ]
     },
     "metadata": {},
     "output_type": "display_data"
    },
    {
     "data": {
      "application/vnd.jupyter.widget-view+json": {
       "model_id": "",
       "version_major": 2,
       "version_minor": 0
      },
      "text/plain": [
       "HBox(children=(IntProgress(value=1, bar_style='info', description='CV loop', max=1), HTML(value='')))"
      ]
     },
     "metadata": {},
     "output_type": "display_data"
    },
    {
     "data": {
      "application/vnd.jupyter.widget-view+json": {
       "model_id": "",
       "version_major": 2,
       "version_minor": 0
      },
      "text/plain": [
       "HBox(children=(IntProgress(value=0, description='Parameter Loop', max=1), HTML(value='')))"
      ]
     },
     "metadata": {},
     "output_type": "display_data"
    },
    {
     "data": {
      "application/vnd.jupyter.widget-view+json": {
       "model_id": "",
       "version_major": 2,
       "version_minor": 0
      },
      "text/plain": [
       "HBox(children=(IntProgress(value=1, bar_style='info', description='CV loop', max=1), HTML(value='')))"
      ]
     },
     "metadata": {},
     "output_type": "display_data"
    },
    {
     "data": {
      "application/vnd.jupyter.widget-view+json": {
       "model_id": "",
       "version_major": 2,
       "version_minor": 0
      },
      "text/plain": [
       "HBox(children=(IntProgress(value=0, description='Parameter Loop', max=1), HTML(value='')))"
      ]
     },
     "metadata": {},
     "output_type": "display_data"
    },
    {
     "data": {
      "application/vnd.jupyter.widget-view+json": {
       "model_id": "",
       "version_major": 2,
       "version_minor": 0
      },
      "text/plain": [
       "HBox(children=(IntProgress(value=1, bar_style='info', description='CV loop', max=1), HTML(value='')))"
      ]
     },
     "metadata": {},
     "output_type": "display_data"
    },
    {
     "data": {
      "application/vnd.jupyter.widget-view+json": {
       "model_id": "",
       "version_major": 2,
       "version_minor": 0
      },
      "text/plain": [
       "HBox(children=(IntProgress(value=0, description='Parameter Loop', max=1), HTML(value='')))"
      ]
     },
     "metadata": {},
     "output_type": "display_data"
    },
    {
     "data": {
      "application/vnd.jupyter.widget-view+json": {
       "model_id": "",
       "version_major": 2,
       "version_minor": 0
      },
      "text/plain": [
       "HBox(children=(IntProgress(value=1, bar_style='info', description='CV loop', max=1), HTML(value='')))"
      ]
     },
     "metadata": {},
     "output_type": "display_data"
    },
    {
     "data": {
      "application/vnd.jupyter.widget-view+json": {
       "model_id": "",
       "version_major": 2,
       "version_minor": 0
      },
      "text/plain": [
       "HBox(children=(IntProgress(value=0, description='Parameter Loop', max=1), HTML(value='')))"
      ]
     },
     "metadata": {},
     "output_type": "display_data"
    },
    {
     "data": {
      "application/vnd.jupyter.widget-view+json": {
       "model_id": "",
       "version_major": 2,
       "version_minor": 0
      },
      "text/plain": [
       "HBox(children=(IntProgress(value=1, bar_style='info', description='CV loop', max=1), HTML(value='')))"
      ]
     },
     "metadata": {},
     "output_type": "display_data"
    },
    {
     "data": {
      "application/vnd.jupyter.widget-view+json": {
       "model_id": "",
       "version_major": 2,
       "version_minor": 0
      },
      "text/plain": [
       "HBox(children=(IntProgress(value=0, description='Parameter Loop', max=1), HTML(value='')))"
      ]
     },
     "metadata": {},
     "output_type": "display_data"
    },
    {
     "data": {
      "application/vnd.jupyter.widget-view+json": {
       "model_id": "",
       "version_major": 2,
       "version_minor": 0
      },
      "text/plain": [
       "HBox(children=(IntProgress(value=1, bar_style='info', description='CV loop', max=1), HTML(value='')))"
      ]
     },
     "metadata": {},
     "output_type": "display_data"
    },
    {
     "data": {
      "application/vnd.jupyter.widget-view+json": {
       "model_id": "",
       "version_major": 2,
       "version_minor": 0
      },
      "text/plain": [
       "HBox(children=(IntProgress(value=0, description='Parameter Loop', max=1), HTML(value='')))"
      ]
     },
     "metadata": {},
     "output_type": "display_data"
    },
    {
     "data": {
      "application/vnd.jupyter.widget-view+json": {
       "model_id": "",
       "version_major": 2,
       "version_minor": 0
      },
      "text/plain": [
       "HBox(children=(IntProgress(value=1, bar_style='info', description='CV loop', max=1), HTML(value='')))"
      ]
     },
     "metadata": {},
     "output_type": "display_data"
    },
    {
     "data": {
      "application/vnd.jupyter.widget-view+json": {
       "model_id": "",
       "version_major": 2,
       "version_minor": 0
      },
      "text/plain": [
       "HBox(children=(IntProgress(value=0, description='Parameter Loop', max=1), HTML(value='')))"
      ]
     },
     "metadata": {},
     "output_type": "display_data"
    },
    {
     "data": {
      "application/vnd.jupyter.widget-view+json": {
       "model_id": "",
       "version_major": 2,
       "version_minor": 0
      },
      "text/plain": [
       "HBox(children=(IntProgress(value=1, bar_style='info', description='CV loop', max=1), HTML(value='')))"
      ]
     },
     "metadata": {},
     "output_type": "display_data"
    },
    {
     "data": {
      "application/vnd.jupyter.widget-view+json": {
       "model_id": "",
       "version_major": 2,
       "version_minor": 0
      },
      "text/plain": [
       "HBox(children=(IntProgress(value=0, description='Parameter Loop', max=1), HTML(value='')))"
      ]
     },
     "metadata": {},
     "output_type": "display_data"
    },
    {
     "data": {
      "application/vnd.jupyter.widget-view+json": {
       "model_id": "",
       "version_major": 2,
       "version_minor": 0
      },
      "text/plain": [
       "HBox(children=(IntProgress(value=1, bar_style='info', description='CV loop', max=1), HTML(value='')))"
      ]
     },
     "metadata": {},
     "output_type": "display_data"
    },
    {
     "data": {
      "application/vnd.jupyter.widget-view+json": {
       "model_id": "",
       "version_major": 2,
       "version_minor": 0
      },
      "text/plain": [
       "HBox(children=(IntProgress(value=0, description='Parameter Loop', max=1), HTML(value='')))"
      ]
     },
     "metadata": {},
     "output_type": "display_data"
    },
    {
     "data": {
      "application/vnd.jupyter.widget-view+json": {
       "model_id": "",
       "version_major": 2,
       "version_minor": 0
      },
      "text/plain": [
       "HBox(children=(IntProgress(value=1, bar_style='info', description='CV loop', max=1), HTML(value='')))"
      ]
     },
     "metadata": {},
     "output_type": "display_data"
    },
    {
     "data": {
      "application/vnd.jupyter.widget-view+json": {
       "model_id": "",
       "version_major": 2,
       "version_minor": 0
      },
      "text/plain": [
       "HBox(children=(IntProgress(value=0, description='Parameter Loop', max=1), HTML(value='')))"
      ]
     },
     "metadata": {},
     "output_type": "display_data"
    },
    {
     "data": {
      "application/vnd.jupyter.widget-view+json": {
       "model_id": "",
       "version_major": 2,
       "version_minor": 0
      },
      "text/plain": [
       "HBox(children=(IntProgress(value=1, bar_style='info', description='CV loop', max=1), HTML(value='')))"
      ]
     },
     "metadata": {},
     "output_type": "display_data"
    },
    {
     "data": {
      "application/vnd.jupyter.widget-view+json": {
       "model_id": "",
       "version_major": 2,
       "version_minor": 0
      },
      "text/plain": [
       "HBox(children=(IntProgress(value=0, description='Parameter Loop', max=1), HTML(value='')))"
      ]
     },
     "metadata": {},
     "output_type": "display_data"
    },
    {
     "data": {
      "application/vnd.jupyter.widget-view+json": {
       "model_id": "",
       "version_major": 2,
       "version_minor": 0
      },
      "text/plain": [
       "HBox(children=(IntProgress(value=1, bar_style='info', description='CV loop', max=1), HTML(value='')))"
      ]
     },
     "metadata": {},
     "output_type": "display_data"
    },
    {
     "data": {
      "application/vnd.jupyter.widget-view+json": {
       "model_id": "",
       "version_major": 2,
       "version_minor": 0
      },
      "text/plain": [
       "HBox(children=(IntProgress(value=0, description='Parameter Loop', max=1), HTML(value='')))"
      ]
     },
     "metadata": {},
     "output_type": "display_data"
    },
    {
     "data": {
      "application/vnd.jupyter.widget-view+json": {
       "model_id": "",
       "version_major": 2,
       "version_minor": 0
      },
      "text/plain": [
       "HBox(children=(IntProgress(value=1, bar_style='info', description='CV loop', max=1), HTML(value='')))"
      ]
     },
     "metadata": {},
     "output_type": "display_data"
    },
    {
     "data": {
      "application/vnd.jupyter.widget-view+json": {
       "model_id": "",
       "version_major": 2,
       "version_minor": 0
      },
      "text/plain": [
       "HBox(children=(IntProgress(value=0, description='Parameter Loop', max=1), HTML(value='')))"
      ]
     },
     "metadata": {},
     "output_type": "display_data"
    },
    {
     "data": {
      "application/vnd.jupyter.widget-view+json": {
       "model_id": "",
       "version_major": 2,
       "version_minor": 0
      },
      "text/plain": [
       "HBox(children=(IntProgress(value=1, bar_style='info', description='CV loop', max=1), HTML(value='')))"
      ]
     },
     "metadata": {},
     "output_type": "display_data"
    },
    {
     "data": {
      "application/vnd.jupyter.widget-view+json": {
       "model_id": "",
       "version_major": 2,
       "version_minor": 0
      },
      "text/plain": [
       "HBox(children=(IntProgress(value=0, description='Parameter Loop', max=1), HTML(value='')))"
      ]
     },
     "metadata": {},
     "output_type": "display_data"
    },
    {
     "data": {
      "application/vnd.jupyter.widget-view+json": {
       "model_id": "",
       "version_major": 2,
       "version_minor": 0
      },
      "text/plain": [
       "HBox(children=(IntProgress(value=1, bar_style='info', description='CV loop', max=1), HTML(value='')))"
      ]
     },
     "metadata": {},
     "output_type": "display_data"
    },
    {
     "data": {
      "application/vnd.jupyter.widget-view+json": {
       "model_id": "",
       "version_major": 2,
       "version_minor": 0
      },
      "text/plain": [
       "HBox(children=(IntProgress(value=0, description='Parameter Loop', max=1), HTML(value='')))"
      ]
     },
     "metadata": {},
     "output_type": "display_data"
    },
    {
     "data": {
      "application/vnd.jupyter.widget-view+json": {
       "model_id": "",
       "version_major": 2,
       "version_minor": 0
      },
      "text/plain": [
       "HBox(children=(IntProgress(value=1, bar_style='info', description='CV loop', max=1), HTML(value='')))"
      ]
     },
     "metadata": {},
     "output_type": "display_data"
    },
    {
     "data": {
      "application/vnd.jupyter.widget-view+json": {
       "model_id": "",
       "version_major": 2,
       "version_minor": 0
      },
      "text/plain": [
       "HBox(children=(IntProgress(value=0, description='Parameter Loop', max=1), HTML(value='')))"
      ]
     },
     "metadata": {},
     "output_type": "display_data"
    },
    {
     "data": {
      "application/vnd.jupyter.widget-view+json": {
       "model_id": "",
       "version_major": 2,
       "version_minor": 0
      },
      "text/plain": [
       "HBox(children=(IntProgress(value=1, bar_style='info', description='CV loop', max=1), HTML(value='')))"
      ]
     },
     "metadata": {},
     "output_type": "display_data"
    },
    {
     "data": {
      "application/vnd.jupyter.widget-view+json": {
       "model_id": "",
       "version_major": 2,
       "version_minor": 0
      },
      "text/plain": [
       "HBox(children=(IntProgress(value=0, description='Parameter Loop', max=1), HTML(value='')))"
      ]
     },
     "metadata": {},
     "output_type": "display_data"
    },
    {
     "data": {
      "application/vnd.jupyter.widget-view+json": {
       "model_id": "",
       "version_major": 2,
       "version_minor": 0
      },
      "text/plain": [
       "HBox(children=(IntProgress(value=1, bar_style='info', description='CV loop', max=1), HTML(value='')))"
      ]
     },
     "metadata": {},
     "output_type": "display_data"
    },
    {
     "data": {
      "application/vnd.jupyter.widget-view+json": {
       "model_id": "",
       "version_major": 2,
       "version_minor": 0
      },
      "text/plain": [
       "HBox(children=(IntProgress(value=0, description='Parameter Loop', max=1), HTML(value='')))"
      ]
     },
     "metadata": {},
     "output_type": "display_data"
    },
    {
     "data": {
      "application/vnd.jupyter.widget-view+json": {
       "model_id": "",
       "version_major": 2,
       "version_minor": 0
      },
      "text/plain": [
       "HBox(children=(IntProgress(value=1, bar_style='info', description='CV loop', max=1), HTML(value='')))"
      ]
     },
     "metadata": {},
     "output_type": "display_data"
    },
    {
     "data": {
      "application/vnd.jupyter.widget-view+json": {
       "model_id": "",
       "version_major": 2,
       "version_minor": 0
      },
      "text/plain": [
       "HBox(children=(IntProgress(value=0, description='Parameter Loop', max=1), HTML(value='')))"
      ]
     },
     "metadata": {},
     "output_type": "display_data"
    },
    {
     "data": {
      "application/vnd.jupyter.widget-view+json": {
       "model_id": "",
       "version_major": 2,
       "version_minor": 0
      },
      "text/plain": [
       "HBox(children=(IntProgress(value=1, bar_style='info', description='CV loop', max=1), HTML(value='')))"
      ]
     },
     "metadata": {},
     "output_type": "display_data"
    },
    {
     "data": {
      "application/vnd.jupyter.widget-view+json": {
       "model_id": "",
       "version_major": 2,
       "version_minor": 0
      },
      "text/plain": [
       "HBox(children=(IntProgress(value=0, description='Parameter Loop', max=1), HTML(value='')))"
      ]
     },
     "metadata": {},
     "output_type": "display_data"
    },
    {
     "data": {
      "application/vnd.jupyter.widget-view+json": {
       "model_id": "",
       "version_major": 2,
       "version_minor": 0
      },
      "text/plain": [
       "HBox(children=(IntProgress(value=1, bar_style='info', description='CV loop', max=1), HTML(value='')))"
      ]
     },
     "metadata": {},
     "output_type": "display_data"
    },
    {
     "data": {
      "application/vnd.jupyter.widget-view+json": {
       "model_id": "",
       "version_major": 2,
       "version_minor": 0
      },
      "text/plain": [
       "HBox(children=(IntProgress(value=0, description='Parameter Loop', max=1), HTML(value='')))"
      ]
     },
     "metadata": {},
     "output_type": "display_data"
    },
    {
     "data": {
      "application/vnd.jupyter.widget-view+json": {
       "model_id": "",
       "version_major": 2,
       "version_minor": 0
      },
      "text/plain": [
       "HBox(children=(IntProgress(value=1, bar_style='info', description='CV loop', max=1), HTML(value='')))"
      ]
     },
     "metadata": {},
     "output_type": "display_data"
    },
    {
     "data": {
      "application/vnd.jupyter.widget-view+json": {
       "model_id": "",
       "version_major": 2,
       "version_minor": 0
      },
      "text/plain": [
       "HBox(children=(IntProgress(value=0, description='Parameter Loop', max=1), HTML(value='')))"
      ]
     },
     "metadata": {},
     "output_type": "display_data"
    },
    {
     "data": {
      "application/vnd.jupyter.widget-view+json": {
       "model_id": "",
       "version_major": 2,
       "version_minor": 0
      },
      "text/plain": [
       "HBox(children=(IntProgress(value=1, bar_style='info', description='CV loop', max=1), HTML(value='')))"
      ]
     },
     "metadata": {},
     "output_type": "display_data"
    },
    {
     "data": {
      "application/vnd.jupyter.widget-view+json": {
       "model_id": "",
       "version_major": 2,
       "version_minor": 0
      },
      "text/plain": [
       "HBox(children=(IntProgress(value=0, description='Parameter Loop', max=1), HTML(value='')))"
      ]
     },
     "metadata": {},
     "output_type": "display_data"
    },
    {
     "data": {
      "application/vnd.jupyter.widget-view+json": {
       "model_id": "",
       "version_major": 2,
       "version_minor": 0
      },
      "text/plain": [
       "HBox(children=(IntProgress(value=1, bar_style='info', description='CV loop', max=1), HTML(value='')))"
      ]
     },
     "metadata": {},
     "output_type": "display_data"
    },
    {
     "data": {
      "application/vnd.jupyter.widget-view+json": {
       "model_id": "",
       "version_major": 2,
       "version_minor": 0
      },
      "text/plain": [
       "HBox(children=(IntProgress(value=0, description='Parameter Loop', max=1), HTML(value='')))"
      ]
     },
     "metadata": {},
     "output_type": "display_data"
    },
    {
     "data": {
      "application/vnd.jupyter.widget-view+json": {
       "model_id": "",
       "version_major": 2,
       "version_minor": 0
      },
      "text/plain": [
       "HBox(children=(IntProgress(value=1, bar_style='info', description='CV loop', max=1), HTML(value='')))"
      ]
     },
     "metadata": {},
     "output_type": "display_data"
    },
    {
     "data": {
      "application/vnd.jupyter.widget-view+json": {
       "model_id": "",
       "version_major": 2,
       "version_minor": 0
      },
      "text/plain": [
       "HBox(children=(IntProgress(value=0, description='Parameter Loop', max=1), HTML(value='')))"
      ]
     },
     "metadata": {},
     "output_type": "display_data"
    },
    {
     "data": {
      "application/vnd.jupyter.widget-view+json": {
       "model_id": "",
       "version_major": 2,
       "version_minor": 0
      },
      "text/plain": [
       "HBox(children=(IntProgress(value=1, bar_style='info', description='CV loop', max=1), HTML(value='')))"
      ]
     },
     "metadata": {},
     "output_type": "display_data"
    },
    {
     "data": {
      "application/vnd.jupyter.widget-view+json": {
       "model_id": "",
       "version_major": 2,
       "version_minor": 0
      },
      "text/plain": [
       "HBox(children=(IntProgress(value=0, description='Parameter Loop', max=1), HTML(value='')))"
      ]
     },
     "metadata": {},
     "output_type": "display_data"
    },
    {
     "data": {
      "application/vnd.jupyter.widget-view+json": {
       "model_id": "",
       "version_major": 2,
       "version_minor": 0
      },
      "text/plain": [
       "HBox(children=(IntProgress(value=1, bar_style='info', description='CV loop', max=1), HTML(value='')))"
      ]
     },
     "metadata": {},
     "output_type": "display_data"
    },
    {
     "data": {
      "application/vnd.jupyter.widget-view+json": {
       "model_id": "",
       "version_major": 2,
       "version_minor": 0
      },
      "text/plain": [
       "HBox(children=(IntProgress(value=0, description='Parameter Loop', max=1), HTML(value='')))"
      ]
     },
     "metadata": {},
     "output_type": "display_data"
    },
    {
     "data": {
      "application/vnd.jupyter.widget-view+json": {
       "model_id": "",
       "version_major": 2,
       "version_minor": 0
      },
      "text/plain": [
       "HBox(children=(IntProgress(value=1, bar_style='info', description='CV loop', max=1), HTML(value='')))"
      ]
     },
     "metadata": {},
     "output_type": "display_data"
    },
    {
     "data": {
      "application/vnd.jupyter.widget-view+json": {
       "model_id": "",
       "version_major": 2,
       "version_minor": 0
      },
      "text/plain": [
       "HBox(children=(IntProgress(value=0, description='Parameter Loop', max=1), HTML(value='')))"
      ]
     },
     "metadata": {},
     "output_type": "display_data"
    },
    {
     "data": {
      "application/vnd.jupyter.widget-view+json": {
       "model_id": "",
       "version_major": 2,
       "version_minor": 0
      },
      "text/plain": [
       "HBox(children=(IntProgress(value=1, bar_style='info', description='CV loop', max=1), HTML(value='')))"
      ]
     },
     "metadata": {},
     "output_type": "display_data"
    },
    {
     "data": {
      "application/vnd.jupyter.widget-view+json": {
       "model_id": "",
       "version_major": 2,
       "version_minor": 0
      },
      "text/plain": [
       "HBox(children=(IntProgress(value=0, description='Parameter Loop', max=1), HTML(value='')))"
      ]
     },
     "metadata": {},
     "output_type": "display_data"
    },
    {
     "data": {
      "application/vnd.jupyter.widget-view+json": {
       "model_id": "",
       "version_major": 2,
       "version_minor": 0
      },
      "text/plain": [
       "HBox(children=(IntProgress(value=1, bar_style='info', description='CV loop', max=1), HTML(value='')))"
      ]
     },
     "metadata": {},
     "output_type": "display_data"
    },
    {
     "data": {
      "application/vnd.jupyter.widget-view+json": {
       "model_id": "",
       "version_major": 2,
       "version_minor": 0
      },
      "text/plain": [
       "HBox(children=(IntProgress(value=0, description='Parameter Loop', max=1), HTML(value='')))"
      ]
     },
     "metadata": {},
     "output_type": "display_data"
    },
    {
     "data": {
      "application/vnd.jupyter.widget-view+json": {
       "model_id": "",
       "version_major": 2,
       "version_minor": 0
      },
      "text/plain": [
       "HBox(children=(IntProgress(value=1, bar_style='info', description='CV loop', max=1), HTML(value='')))"
      ]
     },
     "metadata": {},
     "output_type": "display_data"
    },
    {
     "data": {
      "application/vnd.jupyter.widget-view+json": {
       "model_id": "",
       "version_major": 2,
       "version_minor": 0
      },
      "text/plain": [
       "HBox(children=(IntProgress(value=0, description='Parameter Loop', max=1), HTML(value='')))"
      ]
     },
     "metadata": {},
     "output_type": "display_data"
    },
    {
     "data": {
      "application/vnd.jupyter.widget-view+json": {
       "model_id": "",
       "version_major": 2,
       "version_minor": 0
      },
      "text/plain": [
       "HBox(children=(IntProgress(value=1, bar_style='info', description='CV loop', max=1), HTML(value='')))"
      ]
     },
     "metadata": {},
     "output_type": "display_data"
    },
    {
     "data": {
      "application/vnd.jupyter.widget-view+json": {
       "model_id": "",
       "version_major": 2,
       "version_minor": 0
      },
      "text/plain": [
       "HBox(children=(IntProgress(value=0, description='Parameter Loop', max=1), HTML(value='')))"
      ]
     },
     "metadata": {},
     "output_type": "display_data"
    },
    {
     "data": {
      "application/vnd.jupyter.widget-view+json": {
       "model_id": "",
       "version_major": 2,
       "version_minor": 0
      },
      "text/plain": [
       "HBox(children=(IntProgress(value=1, bar_style='info', description='CV loop', max=1), HTML(value='')))"
      ]
     },
     "metadata": {},
     "output_type": "display_data"
    },
    {
     "data": {
      "application/vnd.jupyter.widget-view+json": {
       "model_id": "",
       "version_major": 2,
       "version_minor": 0
      },
      "text/plain": [
       "HBox(children=(IntProgress(value=0, description='Parameter Loop', max=1), HTML(value='')))"
      ]
     },
     "metadata": {},
     "output_type": "display_data"
    },
    {
     "data": {
      "application/vnd.jupyter.widget-view+json": {
       "model_id": "",
       "version_major": 2,
       "version_minor": 0
      },
      "text/plain": [
       "HBox(children=(IntProgress(value=1, bar_style='info', description='CV loop', max=1), HTML(value='')))"
      ]
     },
     "metadata": {},
     "output_type": "display_data"
    },
    {
     "data": {
      "application/vnd.jupyter.widget-view+json": {
       "model_id": "",
       "version_major": 2,
       "version_minor": 0
      },
      "text/plain": [
       "HBox(children=(IntProgress(value=0, description='Parameter Loop', max=1), HTML(value='')))"
      ]
     },
     "metadata": {},
     "output_type": "display_data"
    },
    {
     "data": {
      "application/vnd.jupyter.widget-view+json": {
       "model_id": "",
       "version_major": 2,
       "version_minor": 0
      },
      "text/plain": [
       "HBox(children=(IntProgress(value=1, bar_style='info', description='CV loop', max=1), HTML(value='')))"
      ]
     },
     "metadata": {},
     "output_type": "display_data"
    },
    {
     "data": {
      "application/vnd.jupyter.widget-view+json": {
       "model_id": "",
       "version_major": 2,
       "version_minor": 0
      },
      "text/plain": [
       "HBox(children=(IntProgress(value=0, description='Parameter Loop', max=1), HTML(value='')))"
      ]
     },
     "metadata": {},
     "output_type": "display_data"
    },
    {
     "data": {
      "application/vnd.jupyter.widget-view+json": {
       "model_id": "",
       "version_major": 2,
       "version_minor": 0
      },
      "text/plain": [
       "HBox(children=(IntProgress(value=1, bar_style='info', description='CV loop', max=1), HTML(value='')))"
      ]
     },
     "metadata": {},
     "output_type": "display_data"
    },
    {
     "data": {
      "application/vnd.jupyter.widget-view+json": {
       "model_id": "",
       "version_major": 2,
       "version_minor": 0
      },
      "text/plain": [
       "HBox(children=(IntProgress(value=0, description='Parameter Loop', max=1), HTML(value='')))"
      ]
     },
     "metadata": {},
     "output_type": "display_data"
    },
    {
     "data": {
      "application/vnd.jupyter.widget-view+json": {
       "model_id": "",
       "version_major": 2,
       "version_minor": 0
      },
      "text/plain": [
       "HBox(children=(IntProgress(value=1, bar_style='info', description='CV loop', max=1), HTML(value='')))"
      ]
     },
     "metadata": {},
     "output_type": "display_data"
    },
    {
     "data": {
      "application/vnd.jupyter.widget-view+json": {
       "model_id": "",
       "version_major": 2,
       "version_minor": 0
      },
      "text/plain": [
       "HBox(children=(IntProgress(value=0, description='Parameter Loop', max=1), HTML(value='')))"
      ]
     },
     "metadata": {},
     "output_type": "display_data"
    },
    {
     "data": {
      "application/vnd.jupyter.widget-view+json": {
       "model_id": "",
       "version_major": 2,
       "version_minor": 0
      },
      "text/plain": [
       "HBox(children=(IntProgress(value=1, bar_style='info', description='CV loop', max=1), HTML(value='')))"
      ]
     },
     "metadata": {},
     "output_type": "display_data"
    },
    {
     "data": {
      "application/vnd.jupyter.widget-view+json": {
       "model_id": "",
       "version_major": 2,
       "version_minor": 0
      },
      "text/plain": [
       "HBox(children=(IntProgress(value=0, description='Parameter Loop', max=1), HTML(value='')))"
      ]
     },
     "metadata": {},
     "output_type": "display_data"
    },
    {
     "data": {
      "application/vnd.jupyter.widget-view+json": {
       "model_id": "",
       "version_major": 2,
       "version_minor": 0
      },
      "text/plain": [
       "HBox(children=(IntProgress(value=1, bar_style='info', description='CV loop', max=1), HTML(value='')))"
      ]
     },
     "metadata": {},
     "output_type": "display_data"
    },
    {
     "data": {
      "application/vnd.jupyter.widget-view+json": {
       "model_id": "",
       "version_major": 2,
       "version_minor": 0
      },
      "text/plain": [
       "HBox(children=(IntProgress(value=0, description='Parameter Loop', max=1), HTML(value='')))"
      ]
     },
     "metadata": {},
     "output_type": "display_data"
    },
    {
     "data": {
      "application/vnd.jupyter.widget-view+json": {
       "model_id": "",
       "version_major": 2,
       "version_minor": 0
      },
      "text/plain": [
       "HBox(children=(IntProgress(value=1, bar_style='info', description='CV loop', max=1), HTML(value='')))"
      ]
     },
     "metadata": {},
     "output_type": "display_data"
    },
    {
     "data": {
      "application/vnd.jupyter.widget-view+json": {
       "model_id": "",
       "version_major": 2,
       "version_minor": 0
      },
      "text/plain": [
       "HBox(children=(IntProgress(value=0, description='Parameter Loop', max=1), HTML(value='')))"
      ]
     },
     "metadata": {},
     "output_type": "display_data"
    },
    {
     "data": {
      "application/vnd.jupyter.widget-view+json": {
       "model_id": "",
       "version_major": 2,
       "version_minor": 0
      },
      "text/plain": [
       "HBox(children=(IntProgress(value=1, bar_style='info', description='CV loop', max=1), HTML(value='')))"
      ]
     },
     "metadata": {},
     "output_type": "display_data"
    },
    {
     "data": {
      "application/vnd.jupyter.widget-view+json": {
       "model_id": "",
       "version_major": 2,
       "version_minor": 0
      },
      "text/plain": [
       "HBox(children=(IntProgress(value=0, description='Parameter Loop', max=1), HTML(value='')))"
      ]
     },
     "metadata": {},
     "output_type": "display_data"
    },
    {
     "data": {
      "application/vnd.jupyter.widget-view+json": {
       "model_id": "",
       "version_major": 2,
       "version_minor": 0
      },
      "text/plain": [
       "HBox(children=(IntProgress(value=1, bar_style='info', description='CV loop', max=1), HTML(value='')))"
      ]
     },
     "metadata": {},
     "output_type": "display_data"
    },
    {
     "data": {
      "application/vnd.jupyter.widget-view+json": {
       "model_id": "",
       "version_major": 2,
       "version_minor": 0
      },
      "text/plain": [
       "HBox(children=(IntProgress(value=0, description='Parameter Loop', max=1), HTML(value='')))"
      ]
     },
     "metadata": {},
     "output_type": "display_data"
    },
    {
     "data": {
      "application/vnd.jupyter.widget-view+json": {
       "model_id": "",
       "version_major": 2,
       "version_minor": 0
      },
      "text/plain": [
       "HBox(children=(IntProgress(value=1, bar_style='info', description='CV loop', max=1), HTML(value='')))"
      ]
     },
     "metadata": {},
     "output_type": "display_data"
    },
    {
     "data": {
      "application/vnd.jupyter.widget-view+json": {
       "model_id": "",
       "version_major": 2,
       "version_minor": 0
      },
      "text/plain": [
       "HBox(children=(IntProgress(value=0, description='Parameter Loop', max=1), HTML(value='')))"
      ]
     },
     "metadata": {},
     "output_type": "display_data"
    },
    {
     "data": {
      "application/vnd.jupyter.widget-view+json": {
       "model_id": "",
       "version_major": 2,
       "version_minor": 0
      },
      "text/plain": [
       "HBox(children=(IntProgress(value=1, bar_style='info', description='CV loop', max=1), HTML(value='')))"
      ]
     },
     "metadata": {},
     "output_type": "display_data"
    },
    {
     "data": {
      "application/vnd.jupyter.widget-view+json": {
       "model_id": "",
       "version_major": 2,
       "version_minor": 0
      },
      "text/plain": [
       "HBox(children=(IntProgress(value=0, description='Parameter Loop', max=1), HTML(value='')))"
      ]
     },
     "metadata": {},
     "output_type": "display_data"
    },
    {
     "data": {
      "application/vnd.jupyter.widget-view+json": {
       "model_id": "",
       "version_major": 2,
       "version_minor": 0
      },
      "text/plain": [
       "HBox(children=(IntProgress(value=1, bar_style='info', description='CV loop', max=1), HTML(value='')))"
      ]
     },
     "metadata": {},
     "output_type": "display_data"
    },
    {
     "data": {
      "application/vnd.jupyter.widget-view+json": {
       "model_id": "",
       "version_major": 2,
       "version_minor": 0
      },
      "text/plain": [
       "HBox(children=(IntProgress(value=0, description='Parameter Loop', max=1), HTML(value='')))"
      ]
     },
     "metadata": {},
     "output_type": "display_data"
    },
    {
     "data": {
      "application/vnd.jupyter.widget-view+json": {
       "model_id": "",
       "version_major": 2,
       "version_minor": 0
      },
      "text/plain": [
       "HBox(children=(IntProgress(value=1, bar_style='info', description='CV loop', max=1), HTML(value='')))"
      ]
     },
     "metadata": {},
     "output_type": "display_data"
    },
    {
     "data": {
      "application/vnd.jupyter.widget-view+json": {
       "model_id": "",
       "version_major": 2,
       "version_minor": 0
      },
      "text/plain": [
       "HBox(children=(IntProgress(value=0, description='Parameter Loop', max=1), HTML(value='')))"
      ]
     },
     "metadata": {},
     "output_type": "display_data"
    },
    {
     "data": {
      "application/vnd.jupyter.widget-view+json": {
       "model_id": "",
       "version_major": 2,
       "version_minor": 0
      },
      "text/plain": [
       "HBox(children=(IntProgress(value=1, bar_style='info', description='CV loop', max=1), HTML(value='')))"
      ]
     },
     "metadata": {},
     "output_type": "display_data"
    },
    {
     "data": {
      "application/vnd.jupyter.widget-view+json": {
       "model_id": "",
       "version_major": 2,
       "version_minor": 0
      },
      "text/plain": [
       "HBox(children=(IntProgress(value=0, description='Parameter Loop', max=1), HTML(value='')))"
      ]
     },
     "metadata": {},
     "output_type": "display_data"
    },
    {
     "data": {
      "application/vnd.jupyter.widget-view+json": {
       "model_id": "",
       "version_major": 2,
       "version_minor": 0
      },
      "text/plain": [
       "HBox(children=(IntProgress(value=1, bar_style='info', description='CV loop', max=1), HTML(value='')))"
      ]
     },
     "metadata": {},
     "output_type": "display_data"
    },
    {
     "data": {
      "application/vnd.jupyter.widget-view+json": {
       "model_id": "",
       "version_major": 2,
       "version_minor": 0
      },
      "text/plain": [
       "HBox(children=(IntProgress(value=0, description='Parameter Loop', max=1), HTML(value='')))"
      ]
     },
     "metadata": {},
     "output_type": "display_data"
    },
    {
     "data": {
      "application/vnd.jupyter.widget-view+json": {
       "model_id": "",
       "version_major": 2,
       "version_minor": 0
      },
      "text/plain": [
       "HBox(children=(IntProgress(value=1, bar_style='info', description='CV loop', max=1), HTML(value='')))"
      ]
     },
     "metadata": {},
     "output_type": "display_data"
    },
    {
     "data": {
      "application/vnd.jupyter.widget-view+json": {
       "model_id": "",
       "version_major": 2,
       "version_minor": 0
      },
      "text/plain": [
       "HBox(children=(IntProgress(value=0, description='Parameter Loop', max=1), HTML(value='')))"
      ]
     },
     "metadata": {},
     "output_type": "display_data"
    },
    {
     "data": {
      "application/vnd.jupyter.widget-view+json": {
       "model_id": "",
       "version_major": 2,
       "version_minor": 0
      },
      "text/plain": [
       "HBox(children=(IntProgress(value=1, bar_style='info', description='CV loop', max=1), HTML(value='')))"
      ]
     },
     "metadata": {},
     "output_type": "display_data"
    },
    {
     "data": {
      "application/vnd.jupyter.widget-view+json": {
       "model_id": "",
       "version_major": 2,
       "version_minor": 0
      },
      "text/plain": [
       "HBox(children=(IntProgress(value=0, description='Parameter Loop', max=1), HTML(value='')))"
      ]
     },
     "metadata": {},
     "output_type": "display_data"
    },
    {
     "data": {
      "application/vnd.jupyter.widget-view+json": {
       "model_id": "",
       "version_major": 2,
       "version_minor": 0
      },
      "text/plain": [
       "HBox(children=(IntProgress(value=1, bar_style='info', description='CV loop', max=1), HTML(value='')))"
      ]
     },
     "metadata": {},
     "output_type": "display_data"
    },
    {
     "data": {
      "application/vnd.jupyter.widget-view+json": {
       "model_id": "",
       "version_major": 2,
       "version_minor": 0
      },
      "text/plain": [
       "HBox(children=(IntProgress(value=0, description='Parameter Loop', max=1), HTML(value='')))"
      ]
     },
     "metadata": {},
     "output_type": "display_data"
    },
    {
     "data": {
      "application/vnd.jupyter.widget-view+json": {
       "model_id": "",
       "version_major": 2,
       "version_minor": 0
      },
      "text/plain": [
       "HBox(children=(IntProgress(value=1, bar_style='info', description='CV loop', max=1), HTML(value='')))"
      ]
     },
     "metadata": {},
     "output_type": "display_data"
    },
    {
     "data": {
      "application/vnd.jupyter.widget-view+json": {
       "model_id": "",
       "version_major": 2,
       "version_minor": 0
      },
      "text/plain": [
       "HBox(children=(IntProgress(value=0, description='Parameter Loop', max=1), HTML(value='')))"
      ]
     },
     "metadata": {},
     "output_type": "display_data"
    },
    {
     "data": {
      "application/vnd.jupyter.widget-view+json": {
       "model_id": "",
       "version_major": 2,
       "version_minor": 0
      },
      "text/plain": [
       "HBox(children=(IntProgress(value=1, bar_style='info', description='CV loop', max=1), HTML(value='')))"
      ]
     },
     "metadata": {},
     "output_type": "display_data"
    },
    {
     "data": {
      "application/vnd.jupyter.widget-view+json": {
       "model_id": "",
       "version_major": 2,
       "version_minor": 0
      },
      "text/plain": [
       "HBox(children=(IntProgress(value=0, description='Parameter Loop', max=1), HTML(value='')))"
      ]
     },
     "metadata": {},
     "output_type": "display_data"
    },
    {
     "data": {
      "application/vnd.jupyter.widget-view+json": {
       "model_id": "",
       "version_major": 2,
       "version_minor": 0
      },
      "text/plain": [
       "HBox(children=(IntProgress(value=1, bar_style='info', description='CV loop', max=1), HTML(value='')))"
      ]
     },
     "metadata": {},
     "output_type": "display_data"
    },
    {
     "data": {
      "application/vnd.jupyter.widget-view+json": {
       "model_id": "",
       "version_major": 2,
       "version_minor": 0
      },
      "text/plain": [
       "HBox(children=(IntProgress(value=0, description='Parameter Loop', max=1), HTML(value='')))"
      ]
     },
     "metadata": {},
     "output_type": "display_data"
    },
    {
     "data": {
      "application/vnd.jupyter.widget-view+json": {
       "model_id": "",
       "version_major": 2,
       "version_minor": 0
      },
      "text/plain": [
       "HBox(children=(IntProgress(value=1, bar_style='info', description='CV loop', max=1), HTML(value='')))"
      ]
     },
     "metadata": {},
     "output_type": "display_data"
    },
    {
     "data": {
      "application/vnd.jupyter.widget-view+json": {
       "model_id": "",
       "version_major": 2,
       "version_minor": 0
      },
      "text/plain": [
       "HBox(children=(IntProgress(value=0, description='Parameter Loop', max=1), HTML(value='')))"
      ]
     },
     "metadata": {},
     "output_type": "display_data"
    },
    {
     "data": {
      "application/vnd.jupyter.widget-view+json": {
       "model_id": "",
       "version_major": 2,
       "version_minor": 0
      },
      "text/plain": [
       "HBox(children=(IntProgress(value=1, bar_style='info', description='CV loop', max=1), HTML(value='')))"
      ]
     },
     "metadata": {},
     "output_type": "display_data"
    },
    {
     "data": {
      "application/vnd.jupyter.widget-view+json": {
       "model_id": "",
       "version_major": 2,
       "version_minor": 0
      },
      "text/plain": [
       "HBox(children=(IntProgress(value=0, description='Parameter Loop', max=1), HTML(value='')))"
      ]
     },
     "metadata": {},
     "output_type": "display_data"
    },
    {
     "data": {
      "application/vnd.jupyter.widget-view+json": {
       "model_id": "",
       "version_major": 2,
       "version_minor": 0
      },
      "text/plain": [
       "HBox(children=(IntProgress(value=1, bar_style='info', description='CV loop', max=1), HTML(value='')))"
      ]
     },
     "metadata": {},
     "output_type": "display_data"
    },
    {
     "data": {
      "application/vnd.jupyter.widget-view+json": {
       "model_id": "",
       "version_major": 2,
       "version_minor": 0
      },
      "text/plain": [
       "HBox(children=(IntProgress(value=0, description='Parameter Loop', max=1), HTML(value='')))"
      ]
     },
     "metadata": {},
     "output_type": "display_data"
    },
    {
     "data": {
      "application/vnd.jupyter.widget-view+json": {
       "model_id": "",
       "version_major": 2,
       "version_minor": 0
      },
      "text/plain": [
       "HBox(children=(IntProgress(value=1, bar_style='info', description='CV loop', max=1), HTML(value='')))"
      ]
     },
     "metadata": {},
     "output_type": "display_data"
    },
    {
     "data": {
      "application/vnd.jupyter.widget-view+json": {
       "model_id": "",
       "version_major": 2,
       "version_minor": 0
      },
      "text/plain": [
       "HBox(children=(IntProgress(value=0, description='Parameter Loop', max=1), HTML(value='')))"
      ]
     },
     "metadata": {},
     "output_type": "display_data"
    },
    {
     "data": {
      "application/vnd.jupyter.widget-view+json": {
       "model_id": "",
       "version_major": 2,
       "version_minor": 0
      },
      "text/plain": [
       "HBox(children=(IntProgress(value=1, bar_style='info', description='CV loop', max=1), HTML(value='')))"
      ]
     },
     "metadata": {},
     "output_type": "display_data"
    },
    {
     "data": {
      "application/vnd.jupyter.widget-view+json": {
       "model_id": "",
       "version_major": 2,
       "version_minor": 0
      },
      "text/plain": [
       "HBox(children=(IntProgress(value=0, description='Parameter Loop', max=1), HTML(value='')))"
      ]
     },
     "metadata": {},
     "output_type": "display_data"
    },
    {
     "data": {
      "application/vnd.jupyter.widget-view+json": {
       "model_id": "",
       "version_major": 2,
       "version_minor": 0
      },
      "text/plain": [
       "HBox(children=(IntProgress(value=1, bar_style='info', description='CV loop', max=1), HTML(value='')))"
      ]
     },
     "metadata": {},
     "output_type": "display_data"
    },
    {
     "data": {
      "application/vnd.jupyter.widget-view+json": {
       "model_id": "",
       "version_major": 2,
       "version_minor": 0
      },
      "text/plain": [
       "HBox(children=(IntProgress(value=0, description='Parameter Loop', max=1), HTML(value='')))"
      ]
     },
     "metadata": {},
     "output_type": "display_data"
    },
    {
     "data": {
      "application/vnd.jupyter.widget-view+json": {
       "model_id": "",
       "version_major": 2,
       "version_minor": 0
      },
      "text/plain": [
       "HBox(children=(IntProgress(value=1, bar_style='info', description='CV loop', max=1), HTML(value='')))"
      ]
     },
     "metadata": {},
     "output_type": "display_data"
    },
    {
     "name": "stderr",
     "output_type": "stream",
     "text": [
      "C:\\Users\\DEPAGRA\\AppData\\Local\\Continuum\\anaconda3\\lib\\site-packages\\sksurv\\ensemble\\boosting.py:745: RuntimeWarning: divide by zero encountered in log\n",
      "  time = numpy.log(time)\n",
      "C:\\Users\\DEPAGRA\\AppData\\Local\\Continuum\\anaconda3\\lib\\site-packages\\sksurv\\ensemble\\survival_loss.py:79: RuntimeWarning: invalid value encountered in subtract\n",
      "  pred_time = y['time'] - y_pred.ravel()\n",
      "C:\\Users\\DEPAGRA\\AppData\\Local\\Continuum\\anaconda3\\lib\\site-packages\\sksurv\\ensemble\\survival_loss.py:80: RuntimeWarning: invalid value encountered in greater\n",
      "  mask = (pred_time > 0) | y['event']\n",
      "C:\\Users\\DEPAGRA\\AppData\\Local\\Continuum\\anaconda3\\lib\\site-packages\\sksurv\\ensemble\\survival_loss.py:93: RuntimeWarning: invalid value encountered in subtract\n",
      "  pred_time = y['time'] - y_pred.ravel()\n",
      "C:\\Users\\DEPAGRA\\AppData\\Local\\Continuum\\anaconda3\\lib\\site-packages\\sksurv\\ensemble\\survival_loss.py:94: RuntimeWarning: invalid value encountered in greater\n",
      "  mask = (pred_time > 0) | y['event']\n",
      "C:\\Users\\DEPAGRA\\AppData\\Local\\Continuum\\anaconda3\\lib\\site-packages\\sksurv\\ensemble\\boosting.py:745: RuntimeWarning: divide by zero encountered in log\n",
      "  time = numpy.log(time)\n",
      "C:\\Users\\DEPAGRA\\AppData\\Local\\Continuum\\anaconda3\\lib\\site-packages\\sksurv\\ensemble\\survival_loss.py:79: RuntimeWarning: invalid value encountered in subtract\n",
      "  pred_time = y['time'] - y_pred.ravel()\n",
      "C:\\Users\\DEPAGRA\\AppData\\Local\\Continuum\\anaconda3\\lib\\site-packages\\sksurv\\ensemble\\survival_loss.py:80: RuntimeWarning: invalid value encountered in greater\n",
      "  mask = (pred_time > 0) | y['event']\n",
      "C:\\Users\\DEPAGRA\\AppData\\Local\\Continuum\\anaconda3\\lib\\site-packages\\sksurv\\ensemble\\survival_loss.py:93: RuntimeWarning: invalid value encountered in subtract\n",
      "  pred_time = y['time'] - y_pred.ravel()\n",
      "C:\\Users\\DEPAGRA\\AppData\\Local\\Continuum\\anaconda3\\lib\\site-packages\\sksurv\\ensemble\\survival_loss.py:94: RuntimeWarning: invalid value encountered in greater\n",
      "  mask = (pred_time > 0) | y['event']\n",
      "C:\\Users\\DEPAGRA\\AppData\\Local\\Continuum\\anaconda3\\lib\\site-packages\\sksurv\\ensemble\\boosting.py:745: RuntimeWarning: divide by zero encountered in log\n",
      "  time = numpy.log(time)\n",
      "C:\\Users\\DEPAGRA\\AppData\\Local\\Continuum\\anaconda3\\lib\\site-packages\\sksurv\\ensemble\\survival_loss.py:79: RuntimeWarning: invalid value encountered in subtract\n",
      "  pred_time = y['time'] - y_pred.ravel()\n",
      "C:\\Users\\DEPAGRA\\AppData\\Local\\Continuum\\anaconda3\\lib\\site-packages\\sksurv\\ensemble\\survival_loss.py:80: RuntimeWarning: invalid value encountered in greater\n",
      "  mask = (pred_time > 0) | y['event']\n",
      "C:\\Users\\DEPAGRA\\AppData\\Local\\Continuum\\anaconda3\\lib\\site-packages\\sksurv\\ensemble\\survival_loss.py:93: RuntimeWarning: invalid value encountered in subtract\n",
      "  pred_time = y['time'] - y_pred.ravel()\n",
      "C:\\Users\\DEPAGRA\\AppData\\Local\\Continuum\\anaconda3\\lib\\site-packages\\sksurv\\ensemble\\survival_loss.py:94: RuntimeWarning: invalid value encountered in greater\n",
      "  mask = (pred_time > 0) | y['event']\n",
      "C:\\Users\\DEPAGRA\\AppData\\Local\\Continuum\\anaconda3\\lib\\site-packages\\sksurv\\ensemble\\boosting.py:745: RuntimeWarning: divide by zero encountered in log\n",
      "  time = numpy.log(time)\n",
      "C:\\Users\\DEPAGRA\\AppData\\Local\\Continuum\\anaconda3\\lib\\site-packages\\sksurv\\ensemble\\survival_loss.py:79: RuntimeWarning: invalid value encountered in subtract\n",
      "  pred_time = y['time'] - y_pred.ravel()\n",
      "C:\\Users\\DEPAGRA\\AppData\\Local\\Continuum\\anaconda3\\lib\\site-packages\\sksurv\\ensemble\\survival_loss.py:80: RuntimeWarning: invalid value encountered in greater\n",
      "  mask = (pred_time > 0) | y['event']\n",
      "C:\\Users\\DEPAGRA\\AppData\\Local\\Continuum\\anaconda3\\lib\\site-packages\\sksurv\\ensemble\\survival_loss.py:93: RuntimeWarning: invalid value encountered in subtract\n",
      "  pred_time = y['time'] - y_pred.ravel()\n",
      "C:\\Users\\DEPAGRA\\AppData\\Local\\Continuum\\anaconda3\\lib\\site-packages\\sksurv\\ensemble\\survival_loss.py:94: RuntimeWarning: invalid value encountered in greater\n",
      "  mask = (pred_time > 0) | y['event']\n",
      "C:\\Users\\DEPAGRA\\AppData\\Local\\Continuum\\anaconda3\\lib\\site-packages\\sksurv\\ensemble\\boosting.py:745: RuntimeWarning: divide by zero encountered in log\n",
      "  time = numpy.log(time)\n",
      "C:\\Users\\DEPAGRA\\AppData\\Local\\Continuum\\anaconda3\\lib\\site-packages\\sksurv\\ensemble\\survival_loss.py:79: RuntimeWarning: invalid value encountered in subtract\n",
      "  pred_time = y['time'] - y_pred.ravel()\n",
      "C:\\Users\\DEPAGRA\\AppData\\Local\\Continuum\\anaconda3\\lib\\site-packages\\sksurv\\ensemble\\survival_loss.py:80: RuntimeWarning: invalid value encountered in greater\n",
      "  mask = (pred_time > 0) | y['event']\n",
      "C:\\Users\\DEPAGRA\\AppData\\Local\\Continuum\\anaconda3\\lib\\site-packages\\sksurv\\ensemble\\survival_loss.py:93: RuntimeWarning: invalid value encountered in subtract\n",
      "  pred_time = y['time'] - y_pred.ravel()\n",
      "C:\\Users\\DEPAGRA\\AppData\\Local\\Continuum\\anaconda3\\lib\\site-packages\\sksurv\\ensemble\\survival_loss.py:94: RuntimeWarning: invalid value encountered in greater\n",
      "  mask = (pred_time > 0) | y['event']\n",
      "C:\\Users\\DEPAGRA\\AppData\\Local\\Continuum\\anaconda3\\lib\\site-packages\\sksurv\\ensemble\\boosting.py:745: RuntimeWarning: divide by zero encountered in log\n",
      "  time = numpy.log(time)\n",
      "C:\\Users\\DEPAGRA\\AppData\\Local\\Continuum\\anaconda3\\lib\\site-packages\\sksurv\\ensemble\\survival_loss.py:79: RuntimeWarning: invalid value encountered in subtract\n",
      "  pred_time = y['time'] - y_pred.ravel()\n",
      "C:\\Users\\DEPAGRA\\AppData\\Local\\Continuum\\anaconda3\\lib\\site-packages\\sksurv\\ensemble\\survival_loss.py:80: RuntimeWarning: invalid value encountered in greater\n",
      "  mask = (pred_time > 0) | y['event']\n",
      "C:\\Users\\DEPAGRA\\AppData\\Local\\Continuum\\anaconda3\\lib\\site-packages\\sksurv\\ensemble\\survival_loss.py:93: RuntimeWarning: invalid value encountered in subtract\n",
      "  pred_time = y['time'] - y_pred.ravel()\n",
      "C:\\Users\\DEPAGRA\\AppData\\Local\\Continuum\\anaconda3\\lib\\site-packages\\sksurv\\ensemble\\survival_loss.py:94: RuntimeWarning: invalid value encountered in greater\n",
      "  mask = (pred_time > 0) | y['event']\n",
      "C:\\Users\\DEPAGRA\\AppData\\Local\\Continuum\\anaconda3\\lib\\site-packages\\sksurv\\ensemble\\boosting.py:745: RuntimeWarning: divide by zero encountered in log\n",
      "  time = numpy.log(time)\n",
      "C:\\Users\\DEPAGRA\\AppData\\Local\\Continuum\\anaconda3\\lib\\site-packages\\sksurv\\ensemble\\survival_loss.py:79: RuntimeWarning: invalid value encountered in subtract\n",
      "  pred_time = y['time'] - y_pred.ravel()\n",
      "C:\\Users\\DEPAGRA\\AppData\\Local\\Continuum\\anaconda3\\lib\\site-packages\\sksurv\\ensemble\\survival_loss.py:80: RuntimeWarning: invalid value encountered in greater\n",
      "  mask = (pred_time > 0) | y['event']\n",
      "C:\\Users\\DEPAGRA\\AppData\\Local\\Continuum\\anaconda3\\lib\\site-packages\\sksurv\\ensemble\\survival_loss.py:93: RuntimeWarning: invalid value encountered in subtract\n",
      "  pred_time = y['time'] - y_pred.ravel()\n",
      "C:\\Users\\DEPAGRA\\AppData\\Local\\Continuum\\anaconda3\\lib\\site-packages\\sksurv\\ensemble\\survival_loss.py:94: RuntimeWarning: invalid value encountered in greater\n",
      "  mask = (pred_time > 0) | y['event']\n",
      "C:\\Users\\DEPAGRA\\AppData\\Local\\Continuum\\anaconda3\\lib\\site-packages\\sksurv\\ensemble\\boosting.py:745: RuntimeWarning: divide by zero encountered in log\n",
      "  time = numpy.log(time)\n",
      "C:\\Users\\DEPAGRA\\AppData\\Local\\Continuum\\anaconda3\\lib\\site-packages\\sksurv\\ensemble\\survival_loss.py:79: RuntimeWarning: invalid value encountered in subtract\n",
      "  pred_time = y['time'] - y_pred.ravel()\n",
      "C:\\Users\\DEPAGRA\\AppData\\Local\\Continuum\\anaconda3\\lib\\site-packages\\sksurv\\ensemble\\survival_loss.py:80: RuntimeWarning: invalid value encountered in greater\n",
      "  mask = (pred_time > 0) | y['event']\n",
      "C:\\Users\\DEPAGRA\\AppData\\Local\\Continuum\\anaconda3\\lib\\site-packages\\sksurv\\ensemble\\survival_loss.py:93: RuntimeWarning: invalid value encountered in subtract\n",
      "  pred_time = y['time'] - y_pred.ravel()\n",
      "C:\\Users\\DEPAGRA\\AppData\\Local\\Continuum\\anaconda3\\lib\\site-packages\\sksurv\\ensemble\\survival_loss.py:94: RuntimeWarning: invalid value encountered in greater\n",
      "  mask = (pred_time > 0) | y['event']\n",
      "C:\\Users\\DEPAGRA\\AppData\\Local\\Continuum\\anaconda3\\lib\\site-packages\\sksurv\\ensemble\\boosting.py:745: RuntimeWarning: divide by zero encountered in log\n",
      "  time = numpy.log(time)\n",
      "C:\\Users\\DEPAGRA\\AppData\\Local\\Continuum\\anaconda3\\lib\\site-packages\\sksurv\\ensemble\\survival_loss.py:79: RuntimeWarning: invalid value encountered in subtract\n",
      "  pred_time = y['time'] - y_pred.ravel()\n",
      "C:\\Users\\DEPAGRA\\AppData\\Local\\Continuum\\anaconda3\\lib\\site-packages\\sksurv\\ensemble\\survival_loss.py:80: RuntimeWarning: invalid value encountered in greater\n",
      "  mask = (pred_time > 0) | y['event']\n"
     ]
    },
    {
     "name": "stderr",
     "output_type": "stream",
     "text": [
      "C:\\Users\\DEPAGRA\\AppData\\Local\\Continuum\\anaconda3\\lib\\site-packages\\sksurv\\ensemble\\survival_loss.py:93: RuntimeWarning: invalid value encountered in subtract\n",
      "  pred_time = y['time'] - y_pred.ravel()\n",
      "C:\\Users\\DEPAGRA\\AppData\\Local\\Continuum\\anaconda3\\lib\\site-packages\\sksurv\\ensemble\\survival_loss.py:94: RuntimeWarning: invalid value encountered in greater\n",
      "  mask = (pred_time > 0) | y['event']\n",
      "C:\\Users\\DEPAGRA\\AppData\\Local\\Continuum\\anaconda3\\lib\\site-packages\\sksurv\\ensemble\\boosting.py:745: RuntimeWarning: divide by zero encountered in log\n",
      "  time = numpy.log(time)\n",
      "C:\\Users\\DEPAGRA\\AppData\\Local\\Continuum\\anaconda3\\lib\\site-packages\\sksurv\\ensemble\\survival_loss.py:79: RuntimeWarning: invalid value encountered in subtract\n",
      "  pred_time = y['time'] - y_pred.ravel()\n",
      "C:\\Users\\DEPAGRA\\AppData\\Local\\Continuum\\anaconda3\\lib\\site-packages\\sksurv\\ensemble\\survival_loss.py:80: RuntimeWarning: invalid value encountered in greater\n",
      "  mask = (pred_time > 0) | y['event']\n",
      "C:\\Users\\DEPAGRA\\AppData\\Local\\Continuum\\anaconda3\\lib\\site-packages\\sksurv\\ensemble\\survival_loss.py:93: RuntimeWarning: invalid value encountered in subtract\n",
      "  pred_time = y['time'] - y_pred.ravel()\n",
      "C:\\Users\\DEPAGRA\\AppData\\Local\\Continuum\\anaconda3\\lib\\site-packages\\sksurv\\ensemble\\survival_loss.py:94: RuntimeWarning: invalid value encountered in greater\n",
      "  mask = (pred_time > 0) | y['event']\n",
      "C:\\Users\\DEPAGRA\\AppData\\Local\\Continuum\\anaconda3\\lib\\site-packages\\sksurv\\ensemble\\boosting.py:745: RuntimeWarning: divide by zero encountered in log\n",
      "  time = numpy.log(time)\n",
      "C:\\Users\\DEPAGRA\\AppData\\Local\\Continuum\\anaconda3\\lib\\site-packages\\sksurv\\ensemble\\survival_loss.py:79: RuntimeWarning: invalid value encountered in subtract\n",
      "  pred_time = y['time'] - y_pred.ravel()\n",
      "C:\\Users\\DEPAGRA\\AppData\\Local\\Continuum\\anaconda3\\lib\\site-packages\\sksurv\\ensemble\\survival_loss.py:80: RuntimeWarning: invalid value encountered in greater\n",
      "  mask = (pred_time > 0) | y['event']\n",
      "C:\\Users\\DEPAGRA\\AppData\\Local\\Continuum\\anaconda3\\lib\\site-packages\\sksurv\\ensemble\\survival_loss.py:93: RuntimeWarning: invalid value encountered in subtract\n",
      "  pred_time = y['time'] - y_pred.ravel()\n",
      "C:\\Users\\DEPAGRA\\AppData\\Local\\Continuum\\anaconda3\\lib\\site-packages\\sksurv\\ensemble\\survival_loss.py:94: RuntimeWarning: invalid value encountered in greater\n",
      "  mask = (pred_time > 0) | y['event']\n",
      "C:\\Users\\DEPAGRA\\AppData\\Local\\Continuum\\anaconda3\\lib\\site-packages\\sksurv\\ensemble\\boosting.py:745: RuntimeWarning: divide by zero encountered in log\n",
      "  time = numpy.log(time)\n",
      "C:\\Users\\DEPAGRA\\AppData\\Local\\Continuum\\anaconda3\\lib\\site-packages\\sksurv\\ensemble\\survival_loss.py:79: RuntimeWarning: invalid value encountered in subtract\n",
      "  pred_time = y['time'] - y_pred.ravel()\n",
      "C:\\Users\\DEPAGRA\\AppData\\Local\\Continuum\\anaconda3\\lib\\site-packages\\sksurv\\ensemble\\survival_loss.py:80: RuntimeWarning: invalid value encountered in greater\n",
      "  mask = (pred_time > 0) | y['event']\n",
      "C:\\Users\\DEPAGRA\\AppData\\Local\\Continuum\\anaconda3\\lib\\site-packages\\sksurv\\ensemble\\survival_loss.py:93: RuntimeWarning: invalid value encountered in subtract\n",
      "  pred_time = y['time'] - y_pred.ravel()\n",
      "C:\\Users\\DEPAGRA\\AppData\\Local\\Continuum\\anaconda3\\lib\\site-packages\\sksurv\\ensemble\\survival_loss.py:94: RuntimeWarning: invalid value encountered in greater\n",
      "  mask = (pred_time > 0) | y['event']\n",
      "C:\\Users\\DEPAGRA\\AppData\\Local\\Continuum\\anaconda3\\lib\\site-packages\\sksurv\\ensemble\\boosting.py:745: RuntimeWarning: divide by zero encountered in log\n",
      "  time = numpy.log(time)\n",
      "C:\\Users\\DEPAGRA\\AppData\\Local\\Continuum\\anaconda3\\lib\\site-packages\\sksurv\\ensemble\\survival_loss.py:79: RuntimeWarning: invalid value encountered in subtract\n",
      "  pred_time = y['time'] - y_pred.ravel()\n",
      "C:\\Users\\DEPAGRA\\AppData\\Local\\Continuum\\anaconda3\\lib\\site-packages\\sksurv\\ensemble\\survival_loss.py:80: RuntimeWarning: invalid value encountered in greater\n",
      "  mask = (pred_time > 0) | y['event']\n",
      "C:\\Users\\DEPAGRA\\AppData\\Local\\Continuum\\anaconda3\\lib\\site-packages\\sksurv\\ensemble\\survival_loss.py:93: RuntimeWarning: invalid value encountered in subtract\n",
      "  pred_time = y['time'] - y_pred.ravel()\n",
      "C:\\Users\\DEPAGRA\\AppData\\Local\\Continuum\\anaconda3\\lib\\site-packages\\sksurv\\ensemble\\survival_loss.py:94: RuntimeWarning: invalid value encountered in greater\n",
      "  mask = (pred_time > 0) | y['event']\n",
      "C:\\Users\\DEPAGRA\\AppData\\Local\\Continuum\\anaconda3\\lib\\site-packages\\sksurv\\ensemble\\boosting.py:745: RuntimeWarning: divide by zero encountered in log\n",
      "  time = numpy.log(time)\n",
      "C:\\Users\\DEPAGRA\\AppData\\Local\\Continuum\\anaconda3\\lib\\site-packages\\sksurv\\ensemble\\survival_loss.py:79: RuntimeWarning: invalid value encountered in subtract\n",
      "  pred_time = y['time'] - y_pred.ravel()\n",
      "C:\\Users\\DEPAGRA\\AppData\\Local\\Continuum\\anaconda3\\lib\\site-packages\\sksurv\\ensemble\\survival_loss.py:80: RuntimeWarning: invalid value encountered in greater\n",
      "  mask = (pred_time > 0) | y['event']\n",
      "C:\\Users\\DEPAGRA\\AppData\\Local\\Continuum\\anaconda3\\lib\\site-packages\\sksurv\\ensemble\\survival_loss.py:93: RuntimeWarning: invalid value encountered in subtract\n",
      "  pred_time = y['time'] - y_pred.ravel()\n",
      "C:\\Users\\DEPAGRA\\AppData\\Local\\Continuum\\anaconda3\\lib\\site-packages\\sksurv\\ensemble\\survival_loss.py:94: RuntimeWarning: invalid value encountered in greater\n",
      "  mask = (pred_time > 0) | y['event']\n",
      "C:\\Users\\DEPAGRA\\AppData\\Local\\Continuum\\anaconda3\\lib\\site-packages\\sksurv\\ensemble\\boosting.py:745: RuntimeWarning: divide by zero encountered in log\n",
      "  time = numpy.log(time)\n",
      "C:\\Users\\DEPAGRA\\AppData\\Local\\Continuum\\anaconda3\\lib\\site-packages\\sksurv\\ensemble\\survival_loss.py:79: RuntimeWarning: invalid value encountered in subtract\n",
      "  pred_time = y['time'] - y_pred.ravel()\n",
      "C:\\Users\\DEPAGRA\\AppData\\Local\\Continuum\\anaconda3\\lib\\site-packages\\sksurv\\ensemble\\survival_loss.py:80: RuntimeWarning: invalid value encountered in greater\n",
      "  mask = (pred_time > 0) | y['event']\n",
      "C:\\Users\\DEPAGRA\\AppData\\Local\\Continuum\\anaconda3\\lib\\site-packages\\sksurv\\ensemble\\survival_loss.py:93: RuntimeWarning: invalid value encountered in subtract\n",
      "  pred_time = y['time'] - y_pred.ravel()\n",
      "C:\\Users\\DEPAGRA\\AppData\\Local\\Continuum\\anaconda3\\lib\\site-packages\\sksurv\\ensemble\\survival_loss.py:94: RuntimeWarning: invalid value encountered in greater\n",
      "  mask = (pred_time > 0) | y['event']\n",
      "C:\\Users\\DEPAGRA\\AppData\\Local\\Continuum\\anaconda3\\lib\\site-packages\\sksurv\\ensemble\\boosting.py:745: RuntimeWarning: divide by zero encountered in log\n",
      "  time = numpy.log(time)\n",
      "C:\\Users\\DEPAGRA\\AppData\\Local\\Continuum\\anaconda3\\lib\\site-packages\\sksurv\\ensemble\\survival_loss.py:79: RuntimeWarning: invalid value encountered in subtract\n",
      "  pred_time = y['time'] - y_pred.ravel()\n",
      "C:\\Users\\DEPAGRA\\AppData\\Local\\Continuum\\anaconda3\\lib\\site-packages\\sksurv\\ensemble\\survival_loss.py:80: RuntimeWarning: invalid value encountered in greater\n",
      "  mask = (pred_time > 0) | y['event']\n",
      "C:\\Users\\DEPAGRA\\AppData\\Local\\Continuum\\anaconda3\\lib\\site-packages\\sksurv\\ensemble\\survival_loss.py:93: RuntimeWarning: invalid value encountered in subtract\n",
      "  pred_time = y['time'] - y_pred.ravel()\n",
      "C:\\Users\\DEPAGRA\\AppData\\Local\\Continuum\\anaconda3\\lib\\site-packages\\sksurv\\ensemble\\survival_loss.py:94: RuntimeWarning: invalid value encountered in greater\n",
      "  mask = (pred_time > 0) | y['event']\n",
      "C:\\Users\\DEPAGRA\\AppData\\Local\\Continuum\\anaconda3\\lib\\site-packages\\sksurv\\ensemble\\boosting.py:745: RuntimeWarning: divide by zero encountered in log\n",
      "  time = numpy.log(time)\n",
      "C:\\Users\\DEPAGRA\\AppData\\Local\\Continuum\\anaconda3\\lib\\site-packages\\sksurv\\ensemble\\survival_loss.py:79: RuntimeWarning: invalid value encountered in subtract\n",
      "  pred_time = y['time'] - y_pred.ravel()\n",
      "C:\\Users\\DEPAGRA\\AppData\\Local\\Continuum\\anaconda3\\lib\\site-packages\\sksurv\\ensemble\\survival_loss.py:80: RuntimeWarning: invalid value encountered in greater\n",
      "  mask = (pred_time > 0) | y['event']\n",
      "C:\\Users\\DEPAGRA\\AppData\\Local\\Continuum\\anaconda3\\lib\\site-packages\\sksurv\\ensemble\\survival_loss.py:93: RuntimeWarning: invalid value encountered in subtract\n",
      "  pred_time = y['time'] - y_pred.ravel()\n",
      "C:\\Users\\DEPAGRA\\AppData\\Local\\Continuum\\anaconda3\\lib\\site-packages\\sksurv\\ensemble\\survival_loss.py:94: RuntimeWarning: invalid value encountered in greater\n",
      "  mask = (pred_time > 0) | y['event']\n",
      "C:\\Users\\DEPAGRA\\AppData\\Local\\Continuum\\anaconda3\\lib\\site-packages\\sksurv\\ensemble\\boosting.py:745: RuntimeWarning: divide by zero encountered in log\n",
      "  time = numpy.log(time)\n"
     ]
    },
    {
     "name": "stderr",
     "output_type": "stream",
     "text": [
      "C:\\Users\\DEPAGRA\\AppData\\Local\\Continuum\\anaconda3\\lib\\site-packages\\sksurv\\ensemble\\survival_loss.py:79: RuntimeWarning: invalid value encountered in subtract\n",
      "  pred_time = y['time'] - y_pred.ravel()\n",
      "C:\\Users\\DEPAGRA\\AppData\\Local\\Continuum\\anaconda3\\lib\\site-packages\\sksurv\\ensemble\\survival_loss.py:80: RuntimeWarning: invalid value encountered in greater\n",
      "  mask = (pred_time > 0) | y['event']\n",
      "C:\\Users\\DEPAGRA\\AppData\\Local\\Continuum\\anaconda3\\lib\\site-packages\\sksurv\\ensemble\\survival_loss.py:93: RuntimeWarning: invalid value encountered in subtract\n",
      "  pred_time = y['time'] - y_pred.ravel()\n",
      "C:\\Users\\DEPAGRA\\AppData\\Local\\Continuum\\anaconda3\\lib\\site-packages\\sksurv\\ensemble\\survival_loss.py:94: RuntimeWarning: invalid value encountered in greater\n",
      "  mask = (pred_time > 0) | y['event']\n",
      "C:\\Users\\DEPAGRA\\AppData\\Local\\Continuum\\anaconda3\\lib\\site-packages\\sksurv\\ensemble\\boosting.py:745: RuntimeWarning: divide by zero encountered in log\n",
      "  time = numpy.log(time)\n",
      "C:\\Users\\DEPAGRA\\AppData\\Local\\Continuum\\anaconda3\\lib\\site-packages\\sksurv\\ensemble\\survival_loss.py:79: RuntimeWarning: invalid value encountered in subtract\n",
      "  pred_time = y['time'] - y_pred.ravel()\n",
      "C:\\Users\\DEPAGRA\\AppData\\Local\\Continuum\\anaconda3\\lib\\site-packages\\sksurv\\ensemble\\survival_loss.py:80: RuntimeWarning: invalid value encountered in greater\n",
      "  mask = (pred_time > 0) | y['event']\n",
      "C:\\Users\\DEPAGRA\\AppData\\Local\\Continuum\\anaconda3\\lib\\site-packages\\sksurv\\ensemble\\survival_loss.py:93: RuntimeWarning: invalid value encountered in subtract\n",
      "  pred_time = y['time'] - y_pred.ravel()\n",
      "C:\\Users\\DEPAGRA\\AppData\\Local\\Continuum\\anaconda3\\lib\\site-packages\\sksurv\\ensemble\\survival_loss.py:94: RuntimeWarning: invalid value encountered in greater\n",
      "  mask = (pred_time > 0) | y['event']\n",
      "C:\\Users\\DEPAGRA\\AppData\\Local\\Continuum\\anaconda3\\lib\\site-packages\\sksurv\\ensemble\\boosting.py:745: RuntimeWarning: divide by zero encountered in log\n",
      "  time = numpy.log(time)\n",
      "C:\\Users\\DEPAGRA\\AppData\\Local\\Continuum\\anaconda3\\lib\\site-packages\\sksurv\\ensemble\\survival_loss.py:79: RuntimeWarning: invalid value encountered in subtract\n",
      "  pred_time = y['time'] - y_pred.ravel()\n",
      "C:\\Users\\DEPAGRA\\AppData\\Local\\Continuum\\anaconda3\\lib\\site-packages\\sksurv\\ensemble\\survival_loss.py:80: RuntimeWarning: invalid value encountered in greater\n",
      "  mask = (pred_time > 0) | y['event']\n",
      "C:\\Users\\DEPAGRA\\AppData\\Local\\Continuum\\anaconda3\\lib\\site-packages\\sksurv\\ensemble\\survival_loss.py:93: RuntimeWarning: invalid value encountered in subtract\n",
      "  pred_time = y['time'] - y_pred.ravel()\n",
      "C:\\Users\\DEPAGRA\\AppData\\Local\\Continuum\\anaconda3\\lib\\site-packages\\sksurv\\ensemble\\survival_loss.py:94: RuntimeWarning: invalid value encountered in greater\n",
      "  mask = (pred_time > 0) | y['event']\n",
      "C:\\Users\\DEPAGRA\\AppData\\Local\\Continuum\\anaconda3\\lib\\site-packages\\sksurv\\ensemble\\boosting.py:745: RuntimeWarning: divide by zero encountered in log\n",
      "  time = numpy.log(time)\n",
      "C:\\Users\\DEPAGRA\\AppData\\Local\\Continuum\\anaconda3\\lib\\site-packages\\sksurv\\ensemble\\survival_loss.py:79: RuntimeWarning: invalid value encountered in subtract\n",
      "  pred_time = y['time'] - y_pred.ravel()\n",
      "C:\\Users\\DEPAGRA\\AppData\\Local\\Continuum\\anaconda3\\lib\\site-packages\\sksurv\\ensemble\\survival_loss.py:80: RuntimeWarning: invalid value encountered in greater\n",
      "  mask = (pred_time > 0) | y['event']\n",
      "C:\\Users\\DEPAGRA\\AppData\\Local\\Continuum\\anaconda3\\lib\\site-packages\\sksurv\\ensemble\\survival_loss.py:93: RuntimeWarning: invalid value encountered in subtract\n",
      "  pred_time = y['time'] - y_pred.ravel()\n",
      "C:\\Users\\DEPAGRA\\AppData\\Local\\Continuum\\anaconda3\\lib\\site-packages\\sksurv\\ensemble\\survival_loss.py:94: RuntimeWarning: invalid value encountered in greater\n",
      "  mask = (pred_time > 0) | y['event']\n",
      "C:\\Users\\DEPAGRA\\AppData\\Local\\Continuum\\anaconda3\\lib\\site-packages\\sksurv\\ensemble\\boosting.py:745: RuntimeWarning: divide by zero encountered in log\n",
      "  time = numpy.log(time)\n",
      "C:\\Users\\DEPAGRA\\AppData\\Local\\Continuum\\anaconda3\\lib\\site-packages\\sksurv\\ensemble\\survival_loss.py:79: RuntimeWarning: invalid value encountered in subtract\n",
      "  pred_time = y['time'] - y_pred.ravel()\n",
      "C:\\Users\\DEPAGRA\\AppData\\Local\\Continuum\\anaconda3\\lib\\site-packages\\sksurv\\ensemble\\survival_loss.py:80: RuntimeWarning: invalid value encountered in greater\n",
      "  mask = (pred_time > 0) | y['event']\n",
      "C:\\Users\\DEPAGRA\\AppData\\Local\\Continuum\\anaconda3\\lib\\site-packages\\sksurv\\ensemble\\survival_loss.py:93: RuntimeWarning: invalid value encountered in subtract\n",
      "  pred_time = y['time'] - y_pred.ravel()\n",
      "C:\\Users\\DEPAGRA\\AppData\\Local\\Continuum\\anaconda3\\lib\\site-packages\\sksurv\\ensemble\\survival_loss.py:94: RuntimeWarning: invalid value encountered in greater\n",
      "  mask = (pred_time > 0) | y['event']\n",
      "C:\\Users\\DEPAGRA\\AppData\\Local\\Continuum\\anaconda3\\lib\\site-packages\\sksurv\\ensemble\\boosting.py:745: RuntimeWarning: divide by zero encountered in log\n",
      "  time = numpy.log(time)\n",
      "C:\\Users\\DEPAGRA\\AppData\\Local\\Continuum\\anaconda3\\lib\\site-packages\\sksurv\\ensemble\\survival_loss.py:79: RuntimeWarning: invalid value encountered in subtract\n",
      "  pred_time = y['time'] - y_pred.ravel()\n",
      "C:\\Users\\DEPAGRA\\AppData\\Local\\Continuum\\anaconda3\\lib\\site-packages\\sksurv\\ensemble\\survival_loss.py:80: RuntimeWarning: invalid value encountered in greater\n",
      "  mask = (pred_time > 0) | y['event']\n",
      "C:\\Users\\DEPAGRA\\AppData\\Local\\Continuum\\anaconda3\\lib\\site-packages\\sksurv\\ensemble\\survival_loss.py:93: RuntimeWarning: invalid value encountered in subtract\n",
      "  pred_time = y['time'] - y_pred.ravel()\n",
      "C:\\Users\\DEPAGRA\\AppData\\Local\\Continuum\\anaconda3\\lib\\site-packages\\sksurv\\ensemble\\survival_loss.py:94: RuntimeWarning: invalid value encountered in greater\n",
      "  mask = (pred_time > 0) | y['event']\n",
      "C:\\Users\\DEPAGRA\\AppData\\Local\\Continuum\\anaconda3\\lib\\site-packages\\sksurv\\ensemble\\boosting.py:745: RuntimeWarning: divide by zero encountered in log\n",
      "  time = numpy.log(time)\n",
      "C:\\Users\\DEPAGRA\\AppData\\Local\\Continuum\\anaconda3\\lib\\site-packages\\sksurv\\ensemble\\survival_loss.py:79: RuntimeWarning: invalid value encountered in subtract\n",
      "  pred_time = y['time'] - y_pred.ravel()\n",
      "C:\\Users\\DEPAGRA\\AppData\\Local\\Continuum\\anaconda3\\lib\\site-packages\\sksurv\\ensemble\\survival_loss.py:80: RuntimeWarning: invalid value encountered in greater\n",
      "  mask = (pred_time > 0) | y['event']\n",
      "C:\\Users\\DEPAGRA\\AppData\\Local\\Continuum\\anaconda3\\lib\\site-packages\\sksurv\\ensemble\\survival_loss.py:93: RuntimeWarning: invalid value encountered in subtract\n",
      "  pred_time = y['time'] - y_pred.ravel()\n",
      "C:\\Users\\DEPAGRA\\AppData\\Local\\Continuum\\anaconda3\\lib\\site-packages\\sksurv\\ensemble\\survival_loss.py:94: RuntimeWarning: invalid value encountered in greater\n",
      "  mask = (pred_time > 0) | y['event']\n",
      "C:\\Users\\DEPAGRA\\AppData\\Local\\Continuum\\anaconda3\\lib\\site-packages\\sksurv\\ensemble\\boosting.py:745: RuntimeWarning: divide by zero encountered in log\n",
      "  time = numpy.log(time)\n",
      "C:\\Users\\DEPAGRA\\AppData\\Local\\Continuum\\anaconda3\\lib\\site-packages\\sksurv\\ensemble\\survival_loss.py:79: RuntimeWarning: invalid value encountered in subtract\n",
      "  pred_time = y['time'] - y_pred.ravel()\n",
      "C:\\Users\\DEPAGRA\\AppData\\Local\\Continuum\\anaconda3\\lib\\site-packages\\sksurv\\ensemble\\survival_loss.py:80: RuntimeWarning: invalid value encountered in greater\n",
      "  mask = (pred_time > 0) | y['event']\n",
      "C:\\Users\\DEPAGRA\\AppData\\Local\\Continuum\\anaconda3\\lib\\site-packages\\sksurv\\ensemble\\survival_loss.py:93: RuntimeWarning: invalid value encountered in subtract\n",
      "  pred_time = y['time'] - y_pred.ravel()\n",
      "C:\\Users\\DEPAGRA\\AppData\\Local\\Continuum\\anaconda3\\lib\\site-packages\\sksurv\\ensemble\\survival_loss.py:94: RuntimeWarning: invalid value encountered in greater\n",
      "  mask = (pred_time > 0) | y['event']\n",
      "C:\\Users\\DEPAGRA\\AppData\\Local\\Continuum\\anaconda3\\lib\\site-packages\\sksurv\\ensemble\\boosting.py:745: RuntimeWarning: divide by zero encountered in log\n",
      "  time = numpy.log(time)\n",
      "C:\\Users\\DEPAGRA\\AppData\\Local\\Continuum\\anaconda3\\lib\\site-packages\\sksurv\\ensemble\\survival_loss.py:79: RuntimeWarning: invalid value encountered in subtract\n",
      "  pred_time = y['time'] - y_pred.ravel()\n",
      "C:\\Users\\DEPAGRA\\AppData\\Local\\Continuum\\anaconda3\\lib\\site-packages\\sksurv\\ensemble\\survival_loss.py:80: RuntimeWarning: invalid value encountered in greater\n",
      "  mask = (pred_time > 0) | y['event']\n",
      "C:\\Users\\DEPAGRA\\AppData\\Local\\Continuum\\anaconda3\\lib\\site-packages\\sksurv\\ensemble\\survival_loss.py:93: RuntimeWarning: invalid value encountered in subtract\n",
      "  pred_time = y['time'] - y_pred.ravel()\n"
     ]
    },
    {
     "name": "stderr",
     "output_type": "stream",
     "text": [
      "C:\\Users\\DEPAGRA\\AppData\\Local\\Continuum\\anaconda3\\lib\\site-packages\\sksurv\\ensemble\\survival_loss.py:94: RuntimeWarning: invalid value encountered in greater\n",
      "  mask = (pred_time > 0) | y['event']\n",
      "C:\\Users\\DEPAGRA\\AppData\\Local\\Continuum\\anaconda3\\lib\\site-packages\\sksurv\\ensemble\\boosting.py:745: RuntimeWarning: divide by zero encountered in log\n",
      "  time = numpy.log(time)\n",
      "C:\\Users\\DEPAGRA\\AppData\\Local\\Continuum\\anaconda3\\lib\\site-packages\\sksurv\\ensemble\\survival_loss.py:79: RuntimeWarning: invalid value encountered in subtract\n",
      "  pred_time = y['time'] - y_pred.ravel()\n",
      "C:\\Users\\DEPAGRA\\AppData\\Local\\Continuum\\anaconda3\\lib\\site-packages\\sksurv\\ensemble\\survival_loss.py:80: RuntimeWarning: invalid value encountered in greater\n",
      "  mask = (pred_time > 0) | y['event']\n",
      "C:\\Users\\DEPAGRA\\AppData\\Local\\Continuum\\anaconda3\\lib\\site-packages\\sksurv\\ensemble\\survival_loss.py:93: RuntimeWarning: invalid value encountered in subtract\n",
      "  pred_time = y['time'] - y_pred.ravel()\n",
      "C:\\Users\\DEPAGRA\\AppData\\Local\\Continuum\\anaconda3\\lib\\site-packages\\sksurv\\ensemble\\survival_loss.py:94: RuntimeWarning: invalid value encountered in greater\n",
      "  mask = (pred_time > 0) | y['event']\n",
      "C:\\Users\\DEPAGRA\\AppData\\Local\\Continuum\\anaconda3\\lib\\site-packages\\sksurv\\ensemble\\boosting.py:745: RuntimeWarning: divide by zero encountered in log\n",
      "  time = numpy.log(time)\n",
      "C:\\Users\\DEPAGRA\\AppData\\Local\\Continuum\\anaconda3\\lib\\site-packages\\sksurv\\ensemble\\survival_loss.py:79: RuntimeWarning: invalid value encountered in subtract\n",
      "  pred_time = y['time'] - y_pred.ravel()\n",
      "C:\\Users\\DEPAGRA\\AppData\\Local\\Continuum\\anaconda3\\lib\\site-packages\\sksurv\\ensemble\\survival_loss.py:80: RuntimeWarning: invalid value encountered in greater\n",
      "  mask = (pred_time > 0) | y['event']\n",
      "C:\\Users\\DEPAGRA\\AppData\\Local\\Continuum\\anaconda3\\lib\\site-packages\\sksurv\\ensemble\\survival_loss.py:93: RuntimeWarning: invalid value encountered in subtract\n",
      "  pred_time = y['time'] - y_pred.ravel()\n",
      "C:\\Users\\DEPAGRA\\AppData\\Local\\Continuum\\anaconda3\\lib\\site-packages\\sksurv\\ensemble\\survival_loss.py:94: RuntimeWarning: invalid value encountered in greater\n",
      "  mask = (pred_time > 0) | y['event']\n",
      "C:\\Users\\DEPAGRA\\AppData\\Local\\Continuum\\anaconda3\\lib\\site-packages\\sksurv\\ensemble\\boosting.py:745: RuntimeWarning: divide by zero encountered in log\n",
      "  time = numpy.log(time)\n",
      "C:\\Users\\DEPAGRA\\AppData\\Local\\Continuum\\anaconda3\\lib\\site-packages\\sksurv\\ensemble\\survival_loss.py:79: RuntimeWarning: invalid value encountered in subtract\n",
      "  pred_time = y['time'] - y_pred.ravel()\n",
      "C:\\Users\\DEPAGRA\\AppData\\Local\\Continuum\\anaconda3\\lib\\site-packages\\sksurv\\ensemble\\survival_loss.py:80: RuntimeWarning: invalid value encountered in greater\n",
      "  mask = (pred_time > 0) | y['event']\n",
      "C:\\Users\\DEPAGRA\\AppData\\Local\\Continuum\\anaconda3\\lib\\site-packages\\sksurv\\ensemble\\survival_loss.py:93: RuntimeWarning: invalid value encountered in subtract\n",
      "  pred_time = y['time'] - y_pred.ravel()\n",
      "C:\\Users\\DEPAGRA\\AppData\\Local\\Continuum\\anaconda3\\lib\\site-packages\\sksurv\\ensemble\\survival_loss.py:94: RuntimeWarning: invalid value encountered in greater\n",
      "  mask = (pred_time > 0) | y['event']\n",
      "C:\\Users\\DEPAGRA\\AppData\\Local\\Continuum\\anaconda3\\lib\\site-packages\\sksurv\\ensemble\\boosting.py:745: RuntimeWarning: divide by zero encountered in log\n",
      "  time = numpy.log(time)\n",
      "C:\\Users\\DEPAGRA\\AppData\\Local\\Continuum\\anaconda3\\lib\\site-packages\\sksurv\\ensemble\\survival_loss.py:79: RuntimeWarning: invalid value encountered in subtract\n",
      "  pred_time = y['time'] - y_pred.ravel()\n",
      "C:\\Users\\DEPAGRA\\AppData\\Local\\Continuum\\anaconda3\\lib\\site-packages\\sksurv\\ensemble\\survival_loss.py:80: RuntimeWarning: invalid value encountered in greater\n",
      "  mask = (pred_time > 0) | y['event']\n",
      "C:\\Users\\DEPAGRA\\AppData\\Local\\Continuum\\anaconda3\\lib\\site-packages\\sksurv\\ensemble\\survival_loss.py:93: RuntimeWarning: invalid value encountered in subtract\n",
      "  pred_time = y['time'] - y_pred.ravel()\n",
      "C:\\Users\\DEPAGRA\\AppData\\Local\\Continuum\\anaconda3\\lib\\site-packages\\sksurv\\ensemble\\survival_loss.py:94: RuntimeWarning: invalid value encountered in greater\n",
      "  mask = (pred_time > 0) | y['event']\n",
      "C:\\Users\\DEPAGRA\\AppData\\Local\\Continuum\\anaconda3\\lib\\site-packages\\sksurv\\ensemble\\boosting.py:745: RuntimeWarning: divide by zero encountered in log\n",
      "  time = numpy.log(time)\n",
      "C:\\Users\\DEPAGRA\\AppData\\Local\\Continuum\\anaconda3\\lib\\site-packages\\sksurv\\ensemble\\survival_loss.py:79: RuntimeWarning: invalid value encountered in subtract\n",
      "  pred_time = y['time'] - y_pred.ravel()\n",
      "C:\\Users\\DEPAGRA\\AppData\\Local\\Continuum\\anaconda3\\lib\\site-packages\\sksurv\\ensemble\\survival_loss.py:80: RuntimeWarning: invalid value encountered in greater\n",
      "  mask = (pred_time > 0) | y['event']\n",
      "C:\\Users\\DEPAGRA\\AppData\\Local\\Continuum\\anaconda3\\lib\\site-packages\\sksurv\\ensemble\\survival_loss.py:93: RuntimeWarning: invalid value encountered in subtract\n",
      "  pred_time = y['time'] - y_pred.ravel()\n",
      "C:\\Users\\DEPAGRA\\AppData\\Local\\Continuum\\anaconda3\\lib\\site-packages\\sksurv\\ensemble\\survival_loss.py:94: RuntimeWarning: invalid value encountered in greater\n",
      "  mask = (pred_time > 0) | y['event']\n",
      "C:\\Users\\DEPAGRA\\AppData\\Local\\Continuum\\anaconda3\\lib\\site-packages\\sksurv\\ensemble\\boosting.py:745: RuntimeWarning: divide by zero encountered in log\n",
      "  time = numpy.log(time)\n",
      "C:\\Users\\DEPAGRA\\AppData\\Local\\Continuum\\anaconda3\\lib\\site-packages\\sksurv\\ensemble\\survival_loss.py:79: RuntimeWarning: invalid value encountered in subtract\n",
      "  pred_time = y['time'] - y_pred.ravel()\n",
      "C:\\Users\\DEPAGRA\\AppData\\Local\\Continuum\\anaconda3\\lib\\site-packages\\sksurv\\ensemble\\survival_loss.py:80: RuntimeWarning: invalid value encountered in greater\n",
      "  mask = (pred_time > 0) | y['event']\n",
      "C:\\Users\\DEPAGRA\\AppData\\Local\\Continuum\\anaconda3\\lib\\site-packages\\sksurv\\ensemble\\survival_loss.py:93: RuntimeWarning: invalid value encountered in subtract\n",
      "  pred_time = y['time'] - y_pred.ravel()\n",
      "C:\\Users\\DEPAGRA\\AppData\\Local\\Continuum\\anaconda3\\lib\\site-packages\\sksurv\\ensemble\\survival_loss.py:94: RuntimeWarning: invalid value encountered in greater\n",
      "  mask = (pred_time > 0) | y['event']\n",
      "C:\\Users\\DEPAGRA\\AppData\\Local\\Continuum\\anaconda3\\lib\\site-packages\\sksurv\\ensemble\\boosting.py:745: RuntimeWarning: divide by zero encountered in log\n",
      "  time = numpy.log(time)\n",
      "C:\\Users\\DEPAGRA\\AppData\\Local\\Continuum\\anaconda3\\lib\\site-packages\\sksurv\\ensemble\\survival_loss.py:79: RuntimeWarning: invalid value encountered in subtract\n",
      "  pred_time = y['time'] - y_pred.ravel()\n",
      "C:\\Users\\DEPAGRA\\AppData\\Local\\Continuum\\anaconda3\\lib\\site-packages\\sksurv\\ensemble\\survival_loss.py:80: RuntimeWarning: invalid value encountered in greater\n",
      "  mask = (pred_time > 0) | y['event']\n",
      "C:\\Users\\DEPAGRA\\AppData\\Local\\Continuum\\anaconda3\\lib\\site-packages\\sksurv\\ensemble\\survival_loss.py:93: RuntimeWarning: invalid value encountered in subtract\n",
      "  pred_time = y['time'] - y_pred.ravel()\n",
      "C:\\Users\\DEPAGRA\\AppData\\Local\\Continuum\\anaconda3\\lib\\site-packages\\sksurv\\ensemble\\survival_loss.py:94: RuntimeWarning: invalid value encountered in greater\n",
      "  mask = (pred_time > 0) | y['event']\n",
      "C:\\Users\\DEPAGRA\\AppData\\Local\\Continuum\\anaconda3\\lib\\site-packages\\sksurv\\ensemble\\boosting.py:745: RuntimeWarning: divide by zero encountered in log\n",
      "  time = numpy.log(time)\n",
      "C:\\Users\\DEPAGRA\\AppData\\Local\\Continuum\\anaconda3\\lib\\site-packages\\sksurv\\ensemble\\survival_loss.py:79: RuntimeWarning: invalid value encountered in subtract\n",
      "  pred_time = y['time'] - y_pred.ravel()\n",
      "C:\\Users\\DEPAGRA\\AppData\\Local\\Continuum\\anaconda3\\lib\\site-packages\\sksurv\\ensemble\\survival_loss.py:80: RuntimeWarning: invalid value encountered in greater\n",
      "  mask = (pred_time > 0) | y['event']\n",
      "C:\\Users\\DEPAGRA\\AppData\\Local\\Continuum\\anaconda3\\lib\\site-packages\\sksurv\\ensemble\\survival_loss.py:93: RuntimeWarning: invalid value encountered in subtract\n",
      "  pred_time = y['time'] - y_pred.ravel()\n",
      "C:\\Users\\DEPAGRA\\AppData\\Local\\Continuum\\anaconda3\\lib\\site-packages\\sksurv\\ensemble\\survival_loss.py:94: RuntimeWarning: invalid value encountered in greater\n",
      "  mask = (pred_time > 0) | y['event']\n",
      "C:\\Users\\DEPAGRA\\AppData\\Local\\Continuum\\anaconda3\\lib\\site-packages\\sksurv\\ensemble\\boosting.py:745: RuntimeWarning: divide by zero encountered in log\n",
      "  time = numpy.log(time)\n",
      "C:\\Users\\DEPAGRA\\AppData\\Local\\Continuum\\anaconda3\\lib\\site-packages\\sksurv\\ensemble\\survival_loss.py:79: RuntimeWarning: invalid value encountered in subtract\n",
      "  pred_time = y['time'] - y_pred.ravel()\n"
     ]
    },
    {
     "name": "stderr",
     "output_type": "stream",
     "text": [
      "C:\\Users\\DEPAGRA\\AppData\\Local\\Continuum\\anaconda3\\lib\\site-packages\\sksurv\\ensemble\\survival_loss.py:80: RuntimeWarning: invalid value encountered in greater\n",
      "  mask = (pred_time > 0) | y['event']\n",
      "C:\\Users\\DEPAGRA\\AppData\\Local\\Continuum\\anaconda3\\lib\\site-packages\\sksurv\\ensemble\\survival_loss.py:93: RuntimeWarning: invalid value encountered in subtract\n",
      "  pred_time = y['time'] - y_pred.ravel()\n",
      "C:\\Users\\DEPAGRA\\AppData\\Local\\Continuum\\anaconda3\\lib\\site-packages\\sksurv\\ensemble\\survival_loss.py:94: RuntimeWarning: invalid value encountered in greater\n",
      "  mask = (pred_time > 0) | y['event']\n",
      "C:\\Users\\DEPAGRA\\AppData\\Local\\Continuum\\anaconda3\\lib\\site-packages\\sksurv\\ensemble\\boosting.py:745: RuntimeWarning: divide by zero encountered in log\n",
      "  time = numpy.log(time)\n",
      "C:\\Users\\DEPAGRA\\AppData\\Local\\Continuum\\anaconda3\\lib\\site-packages\\sksurv\\ensemble\\survival_loss.py:79: RuntimeWarning: invalid value encountered in subtract\n",
      "  pred_time = y['time'] - y_pred.ravel()\n",
      "C:\\Users\\DEPAGRA\\AppData\\Local\\Continuum\\anaconda3\\lib\\site-packages\\sksurv\\ensemble\\survival_loss.py:80: RuntimeWarning: invalid value encountered in greater\n",
      "  mask = (pred_time > 0) | y['event']\n",
      "C:\\Users\\DEPAGRA\\AppData\\Local\\Continuum\\anaconda3\\lib\\site-packages\\sksurv\\ensemble\\survival_loss.py:93: RuntimeWarning: invalid value encountered in subtract\n",
      "  pred_time = y['time'] - y_pred.ravel()\n",
      "C:\\Users\\DEPAGRA\\AppData\\Local\\Continuum\\anaconda3\\lib\\site-packages\\sksurv\\ensemble\\survival_loss.py:94: RuntimeWarning: invalid value encountered in greater\n",
      "  mask = (pred_time > 0) | y['event']\n",
      "C:\\Users\\DEPAGRA\\AppData\\Local\\Continuum\\anaconda3\\lib\\site-packages\\sksurv\\ensemble\\boosting.py:745: RuntimeWarning: divide by zero encountered in log\n",
      "  time = numpy.log(time)\n",
      "C:\\Users\\DEPAGRA\\AppData\\Local\\Continuum\\anaconda3\\lib\\site-packages\\sksurv\\ensemble\\survival_loss.py:79: RuntimeWarning: invalid value encountered in subtract\n",
      "  pred_time = y['time'] - y_pred.ravel()\n",
      "C:\\Users\\DEPAGRA\\AppData\\Local\\Continuum\\anaconda3\\lib\\site-packages\\sksurv\\ensemble\\survival_loss.py:80: RuntimeWarning: invalid value encountered in greater\n",
      "  mask = (pred_time > 0) | y['event']\n",
      "C:\\Users\\DEPAGRA\\AppData\\Local\\Continuum\\anaconda3\\lib\\site-packages\\sksurv\\ensemble\\survival_loss.py:93: RuntimeWarning: invalid value encountered in subtract\n",
      "  pred_time = y['time'] - y_pred.ravel()\n",
      "C:\\Users\\DEPAGRA\\AppData\\Local\\Continuum\\anaconda3\\lib\\site-packages\\sksurv\\ensemble\\survival_loss.py:94: RuntimeWarning: invalid value encountered in greater\n",
      "  mask = (pred_time > 0) | y['event']\n",
      "C:\\Users\\DEPAGRA\\AppData\\Local\\Continuum\\anaconda3\\lib\\site-packages\\sksurv\\ensemble\\boosting.py:745: RuntimeWarning: divide by zero encountered in log\n",
      "  time = numpy.log(time)\n",
      "C:\\Users\\DEPAGRA\\AppData\\Local\\Continuum\\anaconda3\\lib\\site-packages\\sksurv\\ensemble\\survival_loss.py:79: RuntimeWarning: invalid value encountered in subtract\n",
      "  pred_time = y['time'] - y_pred.ravel()\n",
      "C:\\Users\\DEPAGRA\\AppData\\Local\\Continuum\\anaconda3\\lib\\site-packages\\sksurv\\ensemble\\survival_loss.py:80: RuntimeWarning: invalid value encountered in greater\n",
      "  mask = (pred_time > 0) | y['event']\n",
      "C:\\Users\\DEPAGRA\\AppData\\Local\\Continuum\\anaconda3\\lib\\site-packages\\sksurv\\ensemble\\survival_loss.py:93: RuntimeWarning: invalid value encountered in subtract\n",
      "  pred_time = y['time'] - y_pred.ravel()\n",
      "C:\\Users\\DEPAGRA\\AppData\\Local\\Continuum\\anaconda3\\lib\\site-packages\\sksurv\\ensemble\\survival_loss.py:94: RuntimeWarning: invalid value encountered in greater\n",
      "  mask = (pred_time > 0) | y['event']\n",
      "C:\\Users\\DEPAGRA\\AppData\\Local\\Continuum\\anaconda3\\lib\\site-packages\\sksurv\\ensemble\\boosting.py:745: RuntimeWarning: divide by zero encountered in log\n",
      "  time = numpy.log(time)\n",
      "C:\\Users\\DEPAGRA\\AppData\\Local\\Continuum\\anaconda3\\lib\\site-packages\\sksurv\\ensemble\\survival_loss.py:79: RuntimeWarning: invalid value encountered in subtract\n",
      "  pred_time = y['time'] - y_pred.ravel()\n",
      "C:\\Users\\DEPAGRA\\AppData\\Local\\Continuum\\anaconda3\\lib\\site-packages\\sksurv\\ensemble\\survival_loss.py:80: RuntimeWarning: invalid value encountered in greater\n",
      "  mask = (pred_time > 0) | y['event']\n",
      "C:\\Users\\DEPAGRA\\AppData\\Local\\Continuum\\anaconda3\\lib\\site-packages\\sksurv\\ensemble\\survival_loss.py:93: RuntimeWarning: invalid value encountered in subtract\n",
      "  pred_time = y['time'] - y_pred.ravel()\n",
      "C:\\Users\\DEPAGRA\\AppData\\Local\\Continuum\\anaconda3\\lib\\site-packages\\sksurv\\ensemble\\survival_loss.py:94: RuntimeWarning: invalid value encountered in greater\n",
      "  mask = (pred_time > 0) | y['event']\n",
      "C:\\Users\\DEPAGRA\\AppData\\Local\\Continuum\\anaconda3\\lib\\site-packages\\sksurv\\ensemble\\boosting.py:745: RuntimeWarning: divide by zero encountered in log\n",
      "  time = numpy.log(time)\n",
      "C:\\Users\\DEPAGRA\\AppData\\Local\\Continuum\\anaconda3\\lib\\site-packages\\sksurv\\ensemble\\survival_loss.py:79: RuntimeWarning: invalid value encountered in subtract\n",
      "  pred_time = y['time'] - y_pred.ravel()\n",
      "C:\\Users\\DEPAGRA\\AppData\\Local\\Continuum\\anaconda3\\lib\\site-packages\\sksurv\\ensemble\\survival_loss.py:80: RuntimeWarning: invalid value encountered in greater\n",
      "  mask = (pred_time > 0) | y['event']\n",
      "C:\\Users\\DEPAGRA\\AppData\\Local\\Continuum\\anaconda3\\lib\\site-packages\\sksurv\\ensemble\\survival_loss.py:93: RuntimeWarning: invalid value encountered in subtract\n",
      "  pred_time = y['time'] - y_pred.ravel()\n",
      "C:\\Users\\DEPAGRA\\AppData\\Local\\Continuum\\anaconda3\\lib\\site-packages\\sksurv\\ensemble\\survival_loss.py:94: RuntimeWarning: invalid value encountered in greater\n",
      "  mask = (pred_time > 0) | y['event']\n",
      "C:\\Users\\DEPAGRA\\AppData\\Local\\Continuum\\anaconda3\\lib\\site-packages\\sksurv\\ensemble\\boosting.py:745: RuntimeWarning: divide by zero encountered in log\n",
      "  time = numpy.log(time)\n",
      "C:\\Users\\DEPAGRA\\AppData\\Local\\Continuum\\anaconda3\\lib\\site-packages\\sksurv\\ensemble\\survival_loss.py:79: RuntimeWarning: invalid value encountered in subtract\n",
      "  pred_time = y['time'] - y_pred.ravel()\n",
      "C:\\Users\\DEPAGRA\\AppData\\Local\\Continuum\\anaconda3\\lib\\site-packages\\sksurv\\ensemble\\survival_loss.py:80: RuntimeWarning: invalid value encountered in greater\n",
      "  mask = (pred_time > 0) | y['event']\n",
      "C:\\Users\\DEPAGRA\\AppData\\Local\\Continuum\\anaconda3\\lib\\site-packages\\sksurv\\ensemble\\survival_loss.py:93: RuntimeWarning: invalid value encountered in subtract\n",
      "  pred_time = y['time'] - y_pred.ravel()\n",
      "C:\\Users\\DEPAGRA\\AppData\\Local\\Continuum\\anaconda3\\lib\\site-packages\\sksurv\\ensemble\\survival_loss.py:94: RuntimeWarning: invalid value encountered in greater\n",
      "  mask = (pred_time > 0) | y['event']\n",
      "C:\\Users\\DEPAGRA\\AppData\\Local\\Continuum\\anaconda3\\lib\\site-packages\\sksurv\\ensemble\\boosting.py:745: RuntimeWarning: divide by zero encountered in log\n",
      "  time = numpy.log(time)\n",
      "C:\\Users\\DEPAGRA\\AppData\\Local\\Continuum\\anaconda3\\lib\\site-packages\\sksurv\\ensemble\\survival_loss.py:79: RuntimeWarning: invalid value encountered in subtract\n",
      "  pred_time = y['time'] - y_pred.ravel()\n",
      "C:\\Users\\DEPAGRA\\AppData\\Local\\Continuum\\anaconda3\\lib\\site-packages\\sksurv\\ensemble\\survival_loss.py:80: RuntimeWarning: invalid value encountered in greater\n",
      "  mask = (pred_time > 0) | y['event']\n",
      "C:\\Users\\DEPAGRA\\AppData\\Local\\Continuum\\anaconda3\\lib\\site-packages\\sksurv\\ensemble\\survival_loss.py:93: RuntimeWarning: invalid value encountered in subtract\n",
      "  pred_time = y['time'] - y_pred.ravel()\n",
      "C:\\Users\\DEPAGRA\\AppData\\Local\\Continuum\\anaconda3\\lib\\site-packages\\sksurv\\ensemble\\survival_loss.py:94: RuntimeWarning: invalid value encountered in greater\n",
      "  mask = (pred_time > 0) | y['event']\n",
      "C:\\Users\\DEPAGRA\\AppData\\Local\\Continuum\\anaconda3\\lib\\site-packages\\sksurv\\ensemble\\boosting.py:745: RuntimeWarning: divide by zero encountered in log\n",
      "  time = numpy.log(time)\n",
      "C:\\Users\\DEPAGRA\\AppData\\Local\\Continuum\\anaconda3\\lib\\site-packages\\sksurv\\ensemble\\survival_loss.py:79: RuntimeWarning: invalid value encountered in subtract\n",
      "  pred_time = y['time'] - y_pred.ravel()\n",
      "C:\\Users\\DEPAGRA\\AppData\\Local\\Continuum\\anaconda3\\lib\\site-packages\\sksurv\\ensemble\\survival_loss.py:80: RuntimeWarning: invalid value encountered in greater\n",
      "  mask = (pred_time > 0) | y['event']\n",
      "C:\\Users\\DEPAGRA\\AppData\\Local\\Continuum\\anaconda3\\lib\\site-packages\\sksurv\\ensemble\\survival_loss.py:93: RuntimeWarning: invalid value encountered in subtract\n",
      "  pred_time = y['time'] - y_pred.ravel()\n",
      "C:\\Users\\DEPAGRA\\AppData\\Local\\Continuum\\anaconda3\\lib\\site-packages\\sksurv\\ensemble\\survival_loss.py:94: RuntimeWarning: invalid value encountered in greater\n",
      "  mask = (pred_time > 0) | y['event']\n"
     ]
    },
    {
     "name": "stderr",
     "output_type": "stream",
     "text": [
      "C:\\Users\\DEPAGRA\\AppData\\Local\\Continuum\\anaconda3\\lib\\site-packages\\sksurv\\ensemble\\boosting.py:745: RuntimeWarning: divide by zero encountered in log\n",
      "  time = numpy.log(time)\n",
      "C:\\Users\\DEPAGRA\\AppData\\Local\\Continuum\\anaconda3\\lib\\site-packages\\sksurv\\ensemble\\survival_loss.py:79: RuntimeWarning: invalid value encountered in subtract\n",
      "  pred_time = y['time'] - y_pred.ravel()\n",
      "C:\\Users\\DEPAGRA\\AppData\\Local\\Continuum\\anaconda3\\lib\\site-packages\\sksurv\\ensemble\\survival_loss.py:80: RuntimeWarning: invalid value encountered in greater\n",
      "  mask = (pred_time > 0) | y['event']\n",
      "C:\\Users\\DEPAGRA\\AppData\\Local\\Continuum\\anaconda3\\lib\\site-packages\\sksurv\\ensemble\\survival_loss.py:93: RuntimeWarning: invalid value encountered in subtract\n",
      "  pred_time = y['time'] - y_pred.ravel()\n",
      "C:\\Users\\DEPAGRA\\AppData\\Local\\Continuum\\anaconda3\\lib\\site-packages\\sksurv\\ensemble\\survival_loss.py:94: RuntimeWarning: invalid value encountered in greater\n",
      "  mask = (pred_time > 0) | y['event']\n",
      "C:\\Users\\DEPAGRA\\AppData\\Local\\Continuum\\anaconda3\\lib\\site-packages\\sksurv\\ensemble\\boosting.py:745: RuntimeWarning: divide by zero encountered in log\n",
      "  time = numpy.log(time)\n",
      "C:\\Users\\DEPAGRA\\AppData\\Local\\Continuum\\anaconda3\\lib\\site-packages\\sksurv\\ensemble\\survival_loss.py:79: RuntimeWarning: invalid value encountered in subtract\n",
      "  pred_time = y['time'] - y_pred.ravel()\n",
      "C:\\Users\\DEPAGRA\\AppData\\Local\\Continuum\\anaconda3\\lib\\site-packages\\sksurv\\ensemble\\survival_loss.py:80: RuntimeWarning: invalid value encountered in greater\n",
      "  mask = (pred_time > 0) | y['event']\n",
      "C:\\Users\\DEPAGRA\\AppData\\Local\\Continuum\\anaconda3\\lib\\site-packages\\sksurv\\ensemble\\survival_loss.py:93: RuntimeWarning: invalid value encountered in subtract\n",
      "  pred_time = y['time'] - y_pred.ravel()\n",
      "C:\\Users\\DEPAGRA\\AppData\\Local\\Continuum\\anaconda3\\lib\\site-packages\\sksurv\\ensemble\\survival_loss.py:94: RuntimeWarning: invalid value encountered in greater\n",
      "  mask = (pred_time > 0) | y['event']\n",
      "C:\\Users\\DEPAGRA\\AppData\\Local\\Continuum\\anaconda3\\lib\\site-packages\\sksurv\\ensemble\\boosting.py:745: RuntimeWarning: divide by zero encountered in log\n",
      "  time = numpy.log(time)\n",
      "C:\\Users\\DEPAGRA\\AppData\\Local\\Continuum\\anaconda3\\lib\\site-packages\\sksurv\\ensemble\\survival_loss.py:79: RuntimeWarning: invalid value encountered in subtract\n",
      "  pred_time = y['time'] - y_pred.ravel()\n",
      "C:\\Users\\DEPAGRA\\AppData\\Local\\Continuum\\anaconda3\\lib\\site-packages\\sksurv\\ensemble\\survival_loss.py:80: RuntimeWarning: invalid value encountered in greater\n",
      "  mask = (pred_time > 0) | y['event']\n",
      "C:\\Users\\DEPAGRA\\AppData\\Local\\Continuum\\anaconda3\\lib\\site-packages\\sksurv\\ensemble\\survival_loss.py:93: RuntimeWarning: invalid value encountered in subtract\n",
      "  pred_time = y['time'] - y_pred.ravel()\n",
      "C:\\Users\\DEPAGRA\\AppData\\Local\\Continuum\\anaconda3\\lib\\site-packages\\sksurv\\ensemble\\survival_loss.py:94: RuntimeWarning: invalid value encountered in greater\n",
      "  mask = (pred_time > 0) | y['event']\n",
      "C:\\Users\\DEPAGRA\\AppData\\Local\\Continuum\\anaconda3\\lib\\site-packages\\sksurv\\ensemble\\boosting.py:745: RuntimeWarning: divide by zero encountered in log\n",
      "  time = numpy.log(time)\n",
      "C:\\Users\\DEPAGRA\\AppData\\Local\\Continuum\\anaconda3\\lib\\site-packages\\sksurv\\ensemble\\survival_loss.py:79: RuntimeWarning: invalid value encountered in subtract\n",
      "  pred_time = y['time'] - y_pred.ravel()\n",
      "C:\\Users\\DEPAGRA\\AppData\\Local\\Continuum\\anaconda3\\lib\\site-packages\\sksurv\\ensemble\\survival_loss.py:80: RuntimeWarning: invalid value encountered in greater\n",
      "  mask = (pred_time > 0) | y['event']\n",
      "C:\\Users\\DEPAGRA\\AppData\\Local\\Continuum\\anaconda3\\lib\\site-packages\\sksurv\\ensemble\\survival_loss.py:93: RuntimeWarning: invalid value encountered in subtract\n",
      "  pred_time = y['time'] - y_pred.ravel()\n",
      "C:\\Users\\DEPAGRA\\AppData\\Local\\Continuum\\anaconda3\\lib\\site-packages\\sksurv\\ensemble\\survival_loss.py:94: RuntimeWarning: invalid value encountered in greater\n",
      "  mask = (pred_time > 0) | y['event']\n",
      "C:\\Users\\DEPAGRA\\AppData\\Local\\Continuum\\anaconda3\\lib\\site-packages\\sksurv\\ensemble\\boosting.py:745: RuntimeWarning: divide by zero encountered in log\n",
      "  time = numpy.log(time)\n",
      "C:\\Users\\DEPAGRA\\AppData\\Local\\Continuum\\anaconda3\\lib\\site-packages\\sksurv\\ensemble\\survival_loss.py:79: RuntimeWarning: invalid value encountered in subtract\n",
      "  pred_time = y['time'] - y_pred.ravel()\n",
      "C:\\Users\\DEPAGRA\\AppData\\Local\\Continuum\\anaconda3\\lib\\site-packages\\sksurv\\ensemble\\survival_loss.py:80: RuntimeWarning: invalid value encountered in greater\n",
      "  mask = (pred_time > 0) | y['event']\n",
      "C:\\Users\\DEPAGRA\\AppData\\Local\\Continuum\\anaconda3\\lib\\site-packages\\sksurv\\ensemble\\survival_loss.py:93: RuntimeWarning: invalid value encountered in subtract\n",
      "  pred_time = y['time'] - y_pred.ravel()\n",
      "C:\\Users\\DEPAGRA\\AppData\\Local\\Continuum\\anaconda3\\lib\\site-packages\\sksurv\\ensemble\\survival_loss.py:94: RuntimeWarning: invalid value encountered in greater\n",
      "  mask = (pred_time > 0) | y['event']\n",
      "C:\\Users\\DEPAGRA\\AppData\\Local\\Continuum\\anaconda3\\lib\\site-packages\\sksurv\\ensemble\\boosting.py:745: RuntimeWarning: divide by zero encountered in log\n",
      "  time = numpy.log(time)\n",
      "C:\\Users\\DEPAGRA\\AppData\\Local\\Continuum\\anaconda3\\lib\\site-packages\\sksurv\\ensemble\\survival_loss.py:79: RuntimeWarning: invalid value encountered in subtract\n",
      "  pred_time = y['time'] - y_pred.ravel()\n",
      "C:\\Users\\DEPAGRA\\AppData\\Local\\Continuum\\anaconda3\\lib\\site-packages\\sksurv\\ensemble\\survival_loss.py:80: RuntimeWarning: invalid value encountered in greater\n",
      "  mask = (pred_time > 0) | y['event']\n",
      "C:\\Users\\DEPAGRA\\AppData\\Local\\Continuum\\anaconda3\\lib\\site-packages\\sksurv\\ensemble\\survival_loss.py:93: RuntimeWarning: invalid value encountered in subtract\n",
      "  pred_time = y['time'] - y_pred.ravel()\n",
      "C:\\Users\\DEPAGRA\\AppData\\Local\\Continuum\\anaconda3\\lib\\site-packages\\sksurv\\ensemble\\survival_loss.py:94: RuntimeWarning: invalid value encountered in greater\n",
      "  mask = (pred_time > 0) | y['event']\n",
      "C:\\Users\\DEPAGRA\\AppData\\Local\\Continuum\\anaconda3\\lib\\site-packages\\sksurv\\ensemble\\boosting.py:745: RuntimeWarning: divide by zero encountered in log\n",
      "  time = numpy.log(time)\n",
      "C:\\Users\\DEPAGRA\\AppData\\Local\\Continuum\\anaconda3\\lib\\site-packages\\sksurv\\ensemble\\survival_loss.py:79: RuntimeWarning: invalid value encountered in subtract\n",
      "  pred_time = y['time'] - y_pred.ravel()\n",
      "C:\\Users\\DEPAGRA\\AppData\\Local\\Continuum\\anaconda3\\lib\\site-packages\\sksurv\\ensemble\\survival_loss.py:80: RuntimeWarning: invalid value encountered in greater\n",
      "  mask = (pred_time > 0) | y['event']\n",
      "C:\\Users\\DEPAGRA\\AppData\\Local\\Continuum\\anaconda3\\lib\\site-packages\\sksurv\\ensemble\\survival_loss.py:93: RuntimeWarning: invalid value encountered in subtract\n",
      "  pred_time = y['time'] - y_pred.ravel()\n",
      "C:\\Users\\DEPAGRA\\AppData\\Local\\Continuum\\anaconda3\\lib\\site-packages\\sksurv\\ensemble\\survival_loss.py:94: RuntimeWarning: invalid value encountered in greater\n",
      "  mask = (pred_time > 0) | y['event']\n",
      "C:\\Users\\DEPAGRA\\AppData\\Local\\Continuum\\anaconda3\\lib\\site-packages\\sksurv\\ensemble\\boosting.py:745: RuntimeWarning: divide by zero encountered in log\n",
      "  time = numpy.log(time)\n",
      "C:\\Users\\DEPAGRA\\AppData\\Local\\Continuum\\anaconda3\\lib\\site-packages\\sksurv\\ensemble\\survival_loss.py:79: RuntimeWarning: invalid value encountered in subtract\n",
      "  pred_time = y['time'] - y_pred.ravel()\n",
      "C:\\Users\\DEPAGRA\\AppData\\Local\\Continuum\\anaconda3\\lib\\site-packages\\sksurv\\ensemble\\survival_loss.py:80: RuntimeWarning: invalid value encountered in greater\n",
      "  mask = (pred_time > 0) | y['event']\n",
      "C:\\Users\\DEPAGRA\\AppData\\Local\\Continuum\\anaconda3\\lib\\site-packages\\sksurv\\ensemble\\survival_loss.py:93: RuntimeWarning: invalid value encountered in subtract\n",
      "  pred_time = y['time'] - y_pred.ravel()\n",
      "C:\\Users\\DEPAGRA\\AppData\\Local\\Continuum\\anaconda3\\lib\\site-packages\\sksurv\\ensemble\\survival_loss.py:94: RuntimeWarning: invalid value encountered in greater\n",
      "  mask = (pred_time > 0) | y['event']\n",
      "C:\\Users\\DEPAGRA\\AppData\\Local\\Continuum\\anaconda3\\lib\\site-packages\\sksurv\\ensemble\\boosting.py:745: RuntimeWarning: divide by zero encountered in log\n",
      "  time = numpy.log(time)\n",
      "C:\\Users\\DEPAGRA\\AppData\\Local\\Continuum\\anaconda3\\lib\\site-packages\\sksurv\\ensemble\\survival_loss.py:79: RuntimeWarning: invalid value encountered in subtract\n",
      "  pred_time = y['time'] - y_pred.ravel()\n",
      "C:\\Users\\DEPAGRA\\AppData\\Local\\Continuum\\anaconda3\\lib\\site-packages\\sksurv\\ensemble\\survival_loss.py:80: RuntimeWarning: invalid value encountered in greater\n",
      "  mask = (pred_time > 0) | y['event']\n"
     ]
    },
    {
     "name": "stderr",
     "output_type": "stream",
     "text": [
      "C:\\Users\\DEPAGRA\\AppData\\Local\\Continuum\\anaconda3\\lib\\site-packages\\sksurv\\ensemble\\survival_loss.py:93: RuntimeWarning: invalid value encountered in subtract\n",
      "  pred_time = y['time'] - y_pred.ravel()\n",
      "C:\\Users\\DEPAGRA\\AppData\\Local\\Continuum\\anaconda3\\lib\\site-packages\\sksurv\\ensemble\\survival_loss.py:94: RuntimeWarning: invalid value encountered in greater\n",
      "  mask = (pred_time > 0) | y['event']\n",
      "C:\\Users\\DEPAGRA\\AppData\\Local\\Continuum\\anaconda3\\lib\\site-packages\\sksurv\\ensemble\\boosting.py:745: RuntimeWarning: divide by zero encountered in log\n",
      "  time = numpy.log(time)\n",
      "C:\\Users\\DEPAGRA\\AppData\\Local\\Continuum\\anaconda3\\lib\\site-packages\\sksurv\\ensemble\\survival_loss.py:79: RuntimeWarning: invalid value encountered in subtract\n",
      "  pred_time = y['time'] - y_pred.ravel()\n",
      "C:\\Users\\DEPAGRA\\AppData\\Local\\Continuum\\anaconda3\\lib\\site-packages\\sksurv\\ensemble\\survival_loss.py:80: RuntimeWarning: invalid value encountered in greater\n",
      "  mask = (pred_time > 0) | y['event']\n",
      "C:\\Users\\DEPAGRA\\AppData\\Local\\Continuum\\anaconda3\\lib\\site-packages\\sksurv\\ensemble\\survival_loss.py:93: RuntimeWarning: invalid value encountered in subtract\n",
      "  pred_time = y['time'] - y_pred.ravel()\n",
      "C:\\Users\\DEPAGRA\\AppData\\Local\\Continuum\\anaconda3\\lib\\site-packages\\sksurv\\ensemble\\survival_loss.py:94: RuntimeWarning: invalid value encountered in greater\n",
      "  mask = (pred_time > 0) | y['event']\n",
      "C:\\Users\\DEPAGRA\\AppData\\Local\\Continuum\\anaconda3\\lib\\site-packages\\sksurv\\ensemble\\boosting.py:745: RuntimeWarning: divide by zero encountered in log\n",
      "  time = numpy.log(time)\n",
      "C:\\Users\\DEPAGRA\\AppData\\Local\\Continuum\\anaconda3\\lib\\site-packages\\sksurv\\ensemble\\survival_loss.py:79: RuntimeWarning: invalid value encountered in subtract\n",
      "  pred_time = y['time'] - y_pred.ravel()\n",
      "C:\\Users\\DEPAGRA\\AppData\\Local\\Continuum\\anaconda3\\lib\\site-packages\\sksurv\\ensemble\\survival_loss.py:80: RuntimeWarning: invalid value encountered in greater\n",
      "  mask = (pred_time > 0) | y['event']\n",
      "C:\\Users\\DEPAGRA\\AppData\\Local\\Continuum\\anaconda3\\lib\\site-packages\\sksurv\\ensemble\\survival_loss.py:93: RuntimeWarning: invalid value encountered in subtract\n",
      "  pred_time = y['time'] - y_pred.ravel()\n",
      "C:\\Users\\DEPAGRA\\AppData\\Local\\Continuum\\anaconda3\\lib\\site-packages\\sksurv\\ensemble\\survival_loss.py:94: RuntimeWarning: invalid value encountered in greater\n",
      "  mask = (pred_time > 0) | y['event']\n",
      "C:\\Users\\DEPAGRA\\AppData\\Local\\Continuum\\anaconda3\\lib\\site-packages\\sksurv\\ensemble\\boosting.py:745: RuntimeWarning: divide by zero encountered in log\n",
      "  time = numpy.log(time)\n",
      "C:\\Users\\DEPAGRA\\AppData\\Local\\Continuum\\anaconda3\\lib\\site-packages\\sksurv\\ensemble\\survival_loss.py:79: RuntimeWarning: invalid value encountered in subtract\n",
      "  pred_time = y['time'] - y_pred.ravel()\n",
      "C:\\Users\\DEPAGRA\\AppData\\Local\\Continuum\\anaconda3\\lib\\site-packages\\sksurv\\ensemble\\survival_loss.py:80: RuntimeWarning: invalid value encountered in greater\n",
      "  mask = (pred_time > 0) | y['event']\n",
      "C:\\Users\\DEPAGRA\\AppData\\Local\\Continuum\\anaconda3\\lib\\site-packages\\sksurv\\ensemble\\survival_loss.py:93: RuntimeWarning: invalid value encountered in subtract\n",
      "  pred_time = y['time'] - y_pred.ravel()\n",
      "C:\\Users\\DEPAGRA\\AppData\\Local\\Continuum\\anaconda3\\lib\\site-packages\\sksurv\\ensemble\\survival_loss.py:94: RuntimeWarning: invalid value encountered in greater\n",
      "  mask = (pred_time > 0) | y['event']\n",
      "C:\\Users\\DEPAGRA\\AppData\\Local\\Continuum\\anaconda3\\lib\\site-packages\\sksurv\\ensemble\\boosting.py:745: RuntimeWarning: divide by zero encountered in log\n",
      "  time = numpy.log(time)\n",
      "C:\\Users\\DEPAGRA\\AppData\\Local\\Continuum\\anaconda3\\lib\\site-packages\\sksurv\\ensemble\\survival_loss.py:79: RuntimeWarning: invalid value encountered in subtract\n",
      "  pred_time = y['time'] - y_pred.ravel()\n",
      "C:\\Users\\DEPAGRA\\AppData\\Local\\Continuum\\anaconda3\\lib\\site-packages\\sksurv\\ensemble\\survival_loss.py:80: RuntimeWarning: invalid value encountered in greater\n",
      "  mask = (pred_time > 0) | y['event']\n",
      "C:\\Users\\DEPAGRA\\AppData\\Local\\Continuum\\anaconda3\\lib\\site-packages\\sksurv\\ensemble\\survival_loss.py:93: RuntimeWarning: invalid value encountered in subtract\n",
      "  pred_time = y['time'] - y_pred.ravel()\n",
      "C:\\Users\\DEPAGRA\\AppData\\Local\\Continuum\\anaconda3\\lib\\site-packages\\sksurv\\ensemble\\survival_loss.py:94: RuntimeWarning: invalid value encountered in greater\n",
      "  mask = (pred_time > 0) | y['event']\n",
      "C:\\Users\\DEPAGRA\\AppData\\Local\\Continuum\\anaconda3\\lib\\site-packages\\sksurv\\ensemble\\boosting.py:745: RuntimeWarning: divide by zero encountered in log\n",
      "  time = numpy.log(time)\n",
      "C:\\Users\\DEPAGRA\\AppData\\Local\\Continuum\\anaconda3\\lib\\site-packages\\sksurv\\ensemble\\survival_loss.py:79: RuntimeWarning: invalid value encountered in subtract\n",
      "  pred_time = y['time'] - y_pred.ravel()\n",
      "C:\\Users\\DEPAGRA\\AppData\\Local\\Continuum\\anaconda3\\lib\\site-packages\\sksurv\\ensemble\\survival_loss.py:80: RuntimeWarning: invalid value encountered in greater\n",
      "  mask = (pred_time > 0) | y['event']\n",
      "C:\\Users\\DEPAGRA\\AppData\\Local\\Continuum\\anaconda3\\lib\\site-packages\\sksurv\\ensemble\\survival_loss.py:93: RuntimeWarning: invalid value encountered in subtract\n",
      "  pred_time = y['time'] - y_pred.ravel()\n",
      "C:\\Users\\DEPAGRA\\AppData\\Local\\Continuum\\anaconda3\\lib\\site-packages\\sksurv\\ensemble\\survival_loss.py:94: RuntimeWarning: invalid value encountered in greater\n",
      "  mask = (pred_time > 0) | y['event']\n",
      "C:\\Users\\DEPAGRA\\AppData\\Local\\Continuum\\anaconda3\\lib\\site-packages\\sksurv\\ensemble\\boosting.py:745: RuntimeWarning: divide by zero encountered in log\n",
      "  time = numpy.log(time)\n",
      "C:\\Users\\DEPAGRA\\AppData\\Local\\Continuum\\anaconda3\\lib\\site-packages\\sksurv\\ensemble\\survival_loss.py:79: RuntimeWarning: invalid value encountered in subtract\n",
      "  pred_time = y['time'] - y_pred.ravel()\n",
      "C:\\Users\\DEPAGRA\\AppData\\Local\\Continuum\\anaconda3\\lib\\site-packages\\sksurv\\ensemble\\survival_loss.py:80: RuntimeWarning: invalid value encountered in greater\n",
      "  mask = (pred_time > 0) | y['event']\n",
      "C:\\Users\\DEPAGRA\\AppData\\Local\\Continuum\\anaconda3\\lib\\site-packages\\sksurv\\ensemble\\survival_loss.py:93: RuntimeWarning: invalid value encountered in subtract\n",
      "  pred_time = y['time'] - y_pred.ravel()\n",
      "C:\\Users\\DEPAGRA\\AppData\\Local\\Continuum\\anaconda3\\lib\\site-packages\\sksurv\\ensemble\\survival_loss.py:94: RuntimeWarning: invalid value encountered in greater\n",
      "  mask = (pred_time > 0) | y['event']\n",
      "C:\\Users\\DEPAGRA\\AppData\\Local\\Continuum\\anaconda3\\lib\\site-packages\\sksurv\\ensemble\\boosting.py:745: RuntimeWarning: divide by zero encountered in log\n",
      "  time = numpy.log(time)\n",
      "C:\\Users\\DEPAGRA\\AppData\\Local\\Continuum\\anaconda3\\lib\\site-packages\\sksurv\\ensemble\\survival_loss.py:79: RuntimeWarning: invalid value encountered in subtract\n",
      "  pred_time = y['time'] - y_pred.ravel()\n",
      "C:\\Users\\DEPAGRA\\AppData\\Local\\Continuum\\anaconda3\\lib\\site-packages\\sksurv\\ensemble\\survival_loss.py:80: RuntimeWarning: invalid value encountered in greater\n",
      "  mask = (pred_time > 0) | y['event']\n",
      "C:\\Users\\DEPAGRA\\AppData\\Local\\Continuum\\anaconda3\\lib\\site-packages\\sksurv\\ensemble\\survival_loss.py:93: RuntimeWarning: invalid value encountered in subtract\n",
      "  pred_time = y['time'] - y_pred.ravel()\n",
      "C:\\Users\\DEPAGRA\\AppData\\Local\\Continuum\\anaconda3\\lib\\site-packages\\sksurv\\ensemble\\survival_loss.py:94: RuntimeWarning: invalid value encountered in greater\n",
      "  mask = (pred_time > 0) | y['event']\n",
      "C:\\Users\\DEPAGRA\\AppData\\Local\\Continuum\\anaconda3\\lib\\site-packages\\sksurv\\ensemble\\boosting.py:745: RuntimeWarning: divide by zero encountered in log\n",
      "  time = numpy.log(time)\n",
      "C:\\Users\\DEPAGRA\\AppData\\Local\\Continuum\\anaconda3\\lib\\site-packages\\sksurv\\ensemble\\survival_loss.py:79: RuntimeWarning: invalid value encountered in subtract\n",
      "  pred_time = y['time'] - y_pred.ravel()\n",
      "C:\\Users\\DEPAGRA\\AppData\\Local\\Continuum\\anaconda3\\lib\\site-packages\\sksurv\\ensemble\\survival_loss.py:80: RuntimeWarning: invalid value encountered in greater\n",
      "  mask = (pred_time > 0) | y['event']\n",
      "C:\\Users\\DEPAGRA\\AppData\\Local\\Continuum\\anaconda3\\lib\\site-packages\\sksurv\\ensemble\\survival_loss.py:93: RuntimeWarning: invalid value encountered in subtract\n",
      "  pred_time = y['time'] - y_pred.ravel()\n",
      "C:\\Users\\DEPAGRA\\AppData\\Local\\Continuum\\anaconda3\\lib\\site-packages\\sksurv\\ensemble\\survival_loss.py:94: RuntimeWarning: invalid value encountered in greater\n",
      "  mask = (pred_time > 0) | y['event']\n",
      "C:\\Users\\DEPAGRA\\AppData\\Local\\Continuum\\anaconda3\\lib\\site-packages\\sksurv\\ensemble\\boosting.py:745: RuntimeWarning: divide by zero encountered in log\n",
      "  time = numpy.log(time)\n"
     ]
    },
    {
     "name": "stderr",
     "output_type": "stream",
     "text": [
      "C:\\Users\\DEPAGRA\\AppData\\Local\\Continuum\\anaconda3\\lib\\site-packages\\sksurv\\ensemble\\survival_loss.py:79: RuntimeWarning: invalid value encountered in subtract\n",
      "  pred_time = y['time'] - y_pred.ravel()\n",
      "C:\\Users\\DEPAGRA\\AppData\\Local\\Continuum\\anaconda3\\lib\\site-packages\\sksurv\\ensemble\\survival_loss.py:80: RuntimeWarning: invalid value encountered in greater\n",
      "  mask = (pred_time > 0) | y['event']\n",
      "C:\\Users\\DEPAGRA\\AppData\\Local\\Continuum\\anaconda3\\lib\\site-packages\\sksurv\\ensemble\\survival_loss.py:93: RuntimeWarning: invalid value encountered in subtract\n",
      "  pred_time = y['time'] - y_pred.ravel()\n",
      "C:\\Users\\DEPAGRA\\AppData\\Local\\Continuum\\anaconda3\\lib\\site-packages\\sksurv\\ensemble\\survival_loss.py:94: RuntimeWarning: invalid value encountered in greater\n",
      "  mask = (pred_time > 0) | y['event']\n",
      "C:\\Users\\DEPAGRA\\AppData\\Local\\Continuum\\anaconda3\\lib\\site-packages\\sksurv\\ensemble\\boosting.py:745: RuntimeWarning: divide by zero encountered in log\n",
      "  time = numpy.log(time)\n",
      "C:\\Users\\DEPAGRA\\AppData\\Local\\Continuum\\anaconda3\\lib\\site-packages\\sksurv\\ensemble\\survival_loss.py:79: RuntimeWarning: invalid value encountered in subtract\n",
      "  pred_time = y['time'] - y_pred.ravel()\n",
      "C:\\Users\\DEPAGRA\\AppData\\Local\\Continuum\\anaconda3\\lib\\site-packages\\sksurv\\ensemble\\survival_loss.py:80: RuntimeWarning: invalid value encountered in greater\n",
      "  mask = (pred_time > 0) | y['event']\n",
      "C:\\Users\\DEPAGRA\\AppData\\Local\\Continuum\\anaconda3\\lib\\site-packages\\sksurv\\ensemble\\survival_loss.py:93: RuntimeWarning: invalid value encountered in subtract\n",
      "  pred_time = y['time'] - y_pred.ravel()\n",
      "C:\\Users\\DEPAGRA\\AppData\\Local\\Continuum\\anaconda3\\lib\\site-packages\\sksurv\\ensemble\\survival_loss.py:94: RuntimeWarning: invalid value encountered in greater\n",
      "  mask = (pred_time > 0) | y['event']\n",
      "C:\\Users\\DEPAGRA\\AppData\\Local\\Continuum\\anaconda3\\lib\\site-packages\\sksurv\\ensemble\\boosting.py:745: RuntimeWarning: divide by zero encountered in log\n",
      "  time = numpy.log(time)\n",
      "C:\\Users\\DEPAGRA\\AppData\\Local\\Continuum\\anaconda3\\lib\\site-packages\\sksurv\\ensemble\\survival_loss.py:79: RuntimeWarning: invalid value encountered in subtract\n",
      "  pred_time = y['time'] - y_pred.ravel()\n",
      "C:\\Users\\DEPAGRA\\AppData\\Local\\Continuum\\anaconda3\\lib\\site-packages\\sksurv\\ensemble\\survival_loss.py:80: RuntimeWarning: invalid value encountered in greater\n",
      "  mask = (pred_time > 0) | y['event']\n",
      "C:\\Users\\DEPAGRA\\AppData\\Local\\Continuum\\anaconda3\\lib\\site-packages\\sksurv\\ensemble\\survival_loss.py:93: RuntimeWarning: invalid value encountered in subtract\n",
      "  pred_time = y['time'] - y_pred.ravel()\n",
      "C:\\Users\\DEPAGRA\\AppData\\Local\\Continuum\\anaconda3\\lib\\site-packages\\sksurv\\ensemble\\survival_loss.py:94: RuntimeWarning: invalid value encountered in greater\n",
      "  mask = (pred_time > 0) | y['event']\n",
      "C:\\Users\\DEPAGRA\\AppData\\Local\\Continuum\\anaconda3\\lib\\site-packages\\sksurv\\ensemble\\boosting.py:745: RuntimeWarning: divide by zero encountered in log\n",
      "  time = numpy.log(time)\n",
      "C:\\Users\\DEPAGRA\\AppData\\Local\\Continuum\\anaconda3\\lib\\site-packages\\sksurv\\ensemble\\survival_loss.py:79: RuntimeWarning: invalid value encountered in subtract\n",
      "  pred_time = y['time'] - y_pred.ravel()\n",
      "C:\\Users\\DEPAGRA\\AppData\\Local\\Continuum\\anaconda3\\lib\\site-packages\\sksurv\\ensemble\\survival_loss.py:80: RuntimeWarning: invalid value encountered in greater\n",
      "  mask = (pred_time > 0) | y['event']\n",
      "C:\\Users\\DEPAGRA\\AppData\\Local\\Continuum\\anaconda3\\lib\\site-packages\\sksurv\\ensemble\\survival_loss.py:93: RuntimeWarning: invalid value encountered in subtract\n",
      "  pred_time = y['time'] - y_pred.ravel()\n",
      "C:\\Users\\DEPAGRA\\AppData\\Local\\Continuum\\anaconda3\\lib\\site-packages\\sksurv\\ensemble\\survival_loss.py:94: RuntimeWarning: invalid value encountered in greater\n",
      "  mask = (pred_time > 0) | y['event']\n",
      "C:\\Users\\DEPAGRA\\AppData\\Local\\Continuum\\anaconda3\\lib\\site-packages\\sksurv\\ensemble\\boosting.py:745: RuntimeWarning: divide by zero encountered in log\n",
      "  time = numpy.log(time)\n",
      "C:\\Users\\DEPAGRA\\AppData\\Local\\Continuum\\anaconda3\\lib\\site-packages\\sksurv\\ensemble\\survival_loss.py:79: RuntimeWarning: invalid value encountered in subtract\n",
      "  pred_time = y['time'] - y_pred.ravel()\n",
      "C:\\Users\\DEPAGRA\\AppData\\Local\\Continuum\\anaconda3\\lib\\site-packages\\sksurv\\ensemble\\survival_loss.py:80: RuntimeWarning: invalid value encountered in greater\n",
      "  mask = (pred_time > 0) | y['event']\n",
      "C:\\Users\\DEPAGRA\\AppData\\Local\\Continuum\\anaconda3\\lib\\site-packages\\sksurv\\ensemble\\survival_loss.py:93: RuntimeWarning: invalid value encountered in subtract\n",
      "  pred_time = y['time'] - y_pred.ravel()\n",
      "C:\\Users\\DEPAGRA\\AppData\\Local\\Continuum\\anaconda3\\lib\\site-packages\\sksurv\\ensemble\\survival_loss.py:94: RuntimeWarning: invalid value encountered in greater\n",
      "  mask = (pred_time > 0) | y['event']\n",
      "C:\\Users\\DEPAGRA\\AppData\\Local\\Continuum\\anaconda3\\lib\\site-packages\\sksurv\\ensemble\\boosting.py:745: RuntimeWarning: divide by zero encountered in log\n",
      "  time = numpy.log(time)\n",
      "C:\\Users\\DEPAGRA\\AppData\\Local\\Continuum\\anaconda3\\lib\\site-packages\\sksurv\\ensemble\\survival_loss.py:79: RuntimeWarning: invalid value encountered in subtract\n",
      "  pred_time = y['time'] - y_pred.ravel()\n",
      "C:\\Users\\DEPAGRA\\AppData\\Local\\Continuum\\anaconda3\\lib\\site-packages\\sksurv\\ensemble\\survival_loss.py:80: RuntimeWarning: invalid value encountered in greater\n",
      "  mask = (pred_time > 0) | y['event']\n",
      "C:\\Users\\DEPAGRA\\AppData\\Local\\Continuum\\anaconda3\\lib\\site-packages\\sksurv\\ensemble\\survival_loss.py:93: RuntimeWarning: invalid value encountered in subtract\n",
      "  pred_time = y['time'] - y_pred.ravel()\n",
      "C:\\Users\\DEPAGRA\\AppData\\Local\\Continuum\\anaconda3\\lib\\site-packages\\sksurv\\ensemble\\survival_loss.py:94: RuntimeWarning: invalid value encountered in greater\n",
      "  mask = (pred_time > 0) | y['event']\n",
      "C:\\Users\\DEPAGRA\\AppData\\Local\\Continuum\\anaconda3\\lib\\site-packages\\sksurv\\ensemble\\boosting.py:745: RuntimeWarning: divide by zero encountered in log\n",
      "  time = numpy.log(time)\n",
      "C:\\Users\\DEPAGRA\\AppData\\Local\\Continuum\\anaconda3\\lib\\site-packages\\sksurv\\ensemble\\survival_loss.py:79: RuntimeWarning: invalid value encountered in subtract\n",
      "  pred_time = y['time'] - y_pred.ravel()\n",
      "C:\\Users\\DEPAGRA\\AppData\\Local\\Continuum\\anaconda3\\lib\\site-packages\\sksurv\\ensemble\\survival_loss.py:80: RuntimeWarning: invalid value encountered in greater\n",
      "  mask = (pred_time > 0) | y['event']\n",
      "C:\\Users\\DEPAGRA\\AppData\\Local\\Continuum\\anaconda3\\lib\\site-packages\\sksurv\\ensemble\\survival_loss.py:93: RuntimeWarning: invalid value encountered in subtract\n",
      "  pred_time = y['time'] - y_pred.ravel()\n",
      "C:\\Users\\DEPAGRA\\AppData\\Local\\Continuum\\anaconda3\\lib\\site-packages\\sksurv\\ensemble\\survival_loss.py:94: RuntimeWarning: invalid value encountered in greater\n",
      "  mask = (pred_time > 0) | y['event']\n",
      "C:\\Users\\DEPAGRA\\AppData\\Local\\Continuum\\anaconda3\\lib\\site-packages\\sksurv\\ensemble\\boosting.py:745: RuntimeWarning: divide by zero encountered in log\n",
      "  time = numpy.log(time)\n",
      "C:\\Users\\DEPAGRA\\AppData\\Local\\Continuum\\anaconda3\\lib\\site-packages\\sksurv\\ensemble\\survival_loss.py:79: RuntimeWarning: invalid value encountered in subtract\n",
      "  pred_time = y['time'] - y_pred.ravel()\n",
      "C:\\Users\\DEPAGRA\\AppData\\Local\\Continuum\\anaconda3\\lib\\site-packages\\sksurv\\ensemble\\survival_loss.py:80: RuntimeWarning: invalid value encountered in greater\n",
      "  mask = (pred_time > 0) | y['event']\n",
      "C:\\Users\\DEPAGRA\\AppData\\Local\\Continuum\\anaconda3\\lib\\site-packages\\sksurv\\ensemble\\survival_loss.py:93: RuntimeWarning: invalid value encountered in subtract\n",
      "  pred_time = y['time'] - y_pred.ravel()\n",
      "C:\\Users\\DEPAGRA\\AppData\\Local\\Continuum\\anaconda3\\lib\\site-packages\\sksurv\\ensemble\\survival_loss.py:94: RuntimeWarning: invalid value encountered in greater\n",
      "  mask = (pred_time > 0) | y['event']\n",
      "C:\\Users\\DEPAGRA\\AppData\\Local\\Continuum\\anaconda3\\lib\\site-packages\\sksurv\\ensemble\\boosting.py:745: RuntimeWarning: divide by zero encountered in log\n",
      "  time = numpy.log(time)\n",
      "C:\\Users\\DEPAGRA\\AppData\\Local\\Continuum\\anaconda3\\lib\\site-packages\\sksurv\\ensemble\\survival_loss.py:79: RuntimeWarning: invalid value encountered in subtract\n",
      "  pred_time = y['time'] - y_pred.ravel()\n",
      "C:\\Users\\DEPAGRA\\AppData\\Local\\Continuum\\anaconda3\\lib\\site-packages\\sksurv\\ensemble\\survival_loss.py:80: RuntimeWarning: invalid value encountered in greater\n",
      "  mask = (pred_time > 0) | y['event']\n",
      "C:\\Users\\DEPAGRA\\AppData\\Local\\Continuum\\anaconda3\\lib\\site-packages\\sksurv\\ensemble\\survival_loss.py:93: RuntimeWarning: invalid value encountered in subtract\n",
      "  pred_time = y['time'] - y_pred.ravel()\n"
     ]
    },
    {
     "name": "stderr",
     "output_type": "stream",
     "text": [
      "C:\\Users\\DEPAGRA\\AppData\\Local\\Continuum\\anaconda3\\lib\\site-packages\\sksurv\\ensemble\\survival_loss.py:94: RuntimeWarning: invalid value encountered in greater\n",
      "  mask = (pred_time > 0) | y['event']\n",
      "C:\\Users\\DEPAGRA\\AppData\\Local\\Continuum\\anaconda3\\lib\\site-packages\\sksurv\\ensemble\\boosting.py:745: RuntimeWarning: divide by zero encountered in log\n",
      "  time = numpy.log(time)\n",
      "C:\\Users\\DEPAGRA\\AppData\\Local\\Continuum\\anaconda3\\lib\\site-packages\\sksurv\\ensemble\\survival_loss.py:79: RuntimeWarning: invalid value encountered in subtract\n",
      "  pred_time = y['time'] - y_pred.ravel()\n",
      "C:\\Users\\DEPAGRA\\AppData\\Local\\Continuum\\anaconda3\\lib\\site-packages\\sksurv\\ensemble\\survival_loss.py:80: RuntimeWarning: invalid value encountered in greater\n",
      "  mask = (pred_time > 0) | y['event']\n",
      "C:\\Users\\DEPAGRA\\AppData\\Local\\Continuum\\anaconda3\\lib\\site-packages\\sksurv\\ensemble\\survival_loss.py:93: RuntimeWarning: invalid value encountered in subtract\n",
      "  pred_time = y['time'] - y_pred.ravel()\n",
      "C:\\Users\\DEPAGRA\\AppData\\Local\\Continuum\\anaconda3\\lib\\site-packages\\sksurv\\ensemble\\survival_loss.py:94: RuntimeWarning: invalid value encountered in greater\n",
      "  mask = (pred_time > 0) | y['event']\n"
     ]
    },
    {
     "data": {
      "application/vnd.jupyter.widget-view+json": {
       "model_id": "",
       "version_major": 2,
       "version_minor": 0
      },
      "text/plain": [
       "HBox(children=(IntProgress(value=0, description='Parameter Loop', max=1), HTML(value='')))"
      ]
     },
     "metadata": {},
     "output_type": "display_data"
    },
    {
     "data": {
      "application/vnd.jupyter.widget-view+json": {
       "model_id": "",
       "version_major": 2,
       "version_minor": 0
      },
      "text/plain": [
       "HBox(children=(IntProgress(value=1, bar_style='info', description='CV loop', max=1), HTML(value='')))"
      ]
     },
     "metadata": {},
     "output_type": "display_data"
    },
    {
     "name": "stderr",
     "output_type": "stream",
     "text": [
      "C:\\Users\\DEPAGRA\\AppData\\Local\\Continuum\\anaconda3\\lib\\site-packages\\sksurv\\ensemble\\boosting.py:745: RuntimeWarning: divide by zero encountered in log\n",
      "  time = numpy.log(time)\n",
      "C:\\Users\\DEPAGRA\\AppData\\Local\\Continuum\\anaconda3\\lib\\site-packages\\sksurv\\ensemble\\survival_loss.py:79: RuntimeWarning: invalid value encountered in subtract\n",
      "  pred_time = y['time'] - y_pred.ravel()\n",
      "C:\\Users\\DEPAGRA\\AppData\\Local\\Continuum\\anaconda3\\lib\\site-packages\\sksurv\\ensemble\\survival_loss.py:80: RuntimeWarning: invalid value encountered in greater\n",
      "  mask = (pred_time > 0) | y['event']\n",
      "C:\\Users\\DEPAGRA\\AppData\\Local\\Continuum\\anaconda3\\lib\\site-packages\\sksurv\\ensemble\\survival_loss.py:93: RuntimeWarning: invalid value encountered in subtract\n",
      "  pred_time = y['time'] - y_pred.ravel()\n",
      "C:\\Users\\DEPAGRA\\AppData\\Local\\Continuum\\anaconda3\\lib\\site-packages\\sksurv\\ensemble\\survival_loss.py:94: RuntimeWarning: invalid value encountered in greater\n",
      "  mask = (pred_time > 0) | y['event']\n",
      "C:\\Users\\DEPAGRA\\AppData\\Local\\Continuum\\anaconda3\\lib\\site-packages\\sksurv\\ensemble\\boosting.py:745: RuntimeWarning: divide by zero encountered in log\n",
      "  time = numpy.log(time)\n",
      "C:\\Users\\DEPAGRA\\AppData\\Local\\Continuum\\anaconda3\\lib\\site-packages\\sksurv\\ensemble\\survival_loss.py:79: RuntimeWarning: invalid value encountered in subtract\n",
      "  pred_time = y['time'] - y_pred.ravel()\n",
      "C:\\Users\\DEPAGRA\\AppData\\Local\\Continuum\\anaconda3\\lib\\site-packages\\sksurv\\ensemble\\survival_loss.py:80: RuntimeWarning: invalid value encountered in greater\n",
      "  mask = (pred_time > 0) | y['event']\n",
      "C:\\Users\\DEPAGRA\\AppData\\Local\\Continuum\\anaconda3\\lib\\site-packages\\sksurv\\ensemble\\survival_loss.py:93: RuntimeWarning: invalid value encountered in subtract\n",
      "  pred_time = y['time'] - y_pred.ravel()\n",
      "C:\\Users\\DEPAGRA\\AppData\\Local\\Continuum\\anaconda3\\lib\\site-packages\\sksurv\\ensemble\\survival_loss.py:94: RuntimeWarning: invalid value encountered in greater\n",
      "  mask = (pred_time > 0) | y['event']\n",
      "C:\\Users\\DEPAGRA\\AppData\\Local\\Continuum\\anaconda3\\lib\\site-packages\\sksurv\\ensemble\\boosting.py:745: RuntimeWarning: divide by zero encountered in log\n",
      "  time = numpy.log(time)\n",
      "C:\\Users\\DEPAGRA\\AppData\\Local\\Continuum\\anaconda3\\lib\\site-packages\\sksurv\\ensemble\\survival_loss.py:79: RuntimeWarning: invalid value encountered in subtract\n",
      "  pred_time = y['time'] - y_pred.ravel()\n",
      "C:\\Users\\DEPAGRA\\AppData\\Local\\Continuum\\anaconda3\\lib\\site-packages\\sksurv\\ensemble\\survival_loss.py:80: RuntimeWarning: invalid value encountered in greater\n",
      "  mask = (pred_time > 0) | y['event']\n",
      "C:\\Users\\DEPAGRA\\AppData\\Local\\Continuum\\anaconda3\\lib\\site-packages\\sksurv\\ensemble\\survival_loss.py:93: RuntimeWarning: invalid value encountered in subtract\n",
      "  pred_time = y['time'] - y_pred.ravel()\n",
      "C:\\Users\\DEPAGRA\\AppData\\Local\\Continuum\\anaconda3\\lib\\site-packages\\sksurv\\ensemble\\survival_loss.py:94: RuntimeWarning: invalid value encountered in greater\n",
      "  mask = (pred_time > 0) | y['event']\n",
      "C:\\Users\\DEPAGRA\\AppData\\Local\\Continuum\\anaconda3\\lib\\site-packages\\sksurv\\ensemble\\boosting.py:745: RuntimeWarning: divide by zero encountered in log\n",
      "  time = numpy.log(time)\n",
      "C:\\Users\\DEPAGRA\\AppData\\Local\\Continuum\\anaconda3\\lib\\site-packages\\sksurv\\ensemble\\survival_loss.py:79: RuntimeWarning: invalid value encountered in subtract\n",
      "  pred_time = y['time'] - y_pred.ravel()\n",
      "C:\\Users\\DEPAGRA\\AppData\\Local\\Continuum\\anaconda3\\lib\\site-packages\\sksurv\\ensemble\\survival_loss.py:80: RuntimeWarning: invalid value encountered in greater\n",
      "  mask = (pred_time > 0) | y['event']\n",
      "C:\\Users\\DEPAGRA\\AppData\\Local\\Continuum\\anaconda3\\lib\\site-packages\\sksurv\\ensemble\\survival_loss.py:93: RuntimeWarning: invalid value encountered in subtract\n",
      "  pred_time = y['time'] - y_pred.ravel()\n",
      "C:\\Users\\DEPAGRA\\AppData\\Local\\Continuum\\anaconda3\\lib\\site-packages\\sksurv\\ensemble\\survival_loss.py:94: RuntimeWarning: invalid value encountered in greater\n",
      "  mask = (pred_time > 0) | y['event']\n",
      "C:\\Users\\DEPAGRA\\AppData\\Local\\Continuum\\anaconda3\\lib\\site-packages\\sksurv\\ensemble\\boosting.py:745: RuntimeWarning: divide by zero encountered in log\n",
      "  time = numpy.log(time)\n",
      "C:\\Users\\DEPAGRA\\AppData\\Local\\Continuum\\anaconda3\\lib\\site-packages\\sksurv\\ensemble\\survival_loss.py:79: RuntimeWarning: invalid value encountered in subtract\n",
      "  pred_time = y['time'] - y_pred.ravel()\n",
      "C:\\Users\\DEPAGRA\\AppData\\Local\\Continuum\\anaconda3\\lib\\site-packages\\sksurv\\ensemble\\survival_loss.py:80: RuntimeWarning: invalid value encountered in greater\n",
      "  mask = (pred_time > 0) | y['event']\n",
      "C:\\Users\\DEPAGRA\\AppData\\Local\\Continuum\\anaconda3\\lib\\site-packages\\sksurv\\ensemble\\survival_loss.py:93: RuntimeWarning: invalid value encountered in subtract\n",
      "  pred_time = y['time'] - y_pred.ravel()\n",
      "C:\\Users\\DEPAGRA\\AppData\\Local\\Continuum\\anaconda3\\lib\\site-packages\\sksurv\\ensemble\\survival_loss.py:94: RuntimeWarning: invalid value encountered in greater\n",
      "  mask = (pred_time > 0) | y['event']\n",
      "C:\\Users\\DEPAGRA\\AppData\\Local\\Continuum\\anaconda3\\lib\\site-packages\\sksurv\\ensemble\\boosting.py:745: RuntimeWarning: divide by zero encountered in log\n",
      "  time = numpy.log(time)\n",
      "C:\\Users\\DEPAGRA\\AppData\\Local\\Continuum\\anaconda3\\lib\\site-packages\\sksurv\\ensemble\\survival_loss.py:79: RuntimeWarning: invalid value encountered in subtract\n",
      "  pred_time = y['time'] - y_pred.ravel()\n",
      "C:\\Users\\DEPAGRA\\AppData\\Local\\Continuum\\anaconda3\\lib\\site-packages\\sksurv\\ensemble\\survival_loss.py:80: RuntimeWarning: invalid value encountered in greater\n",
      "  mask = (pred_time > 0) | y['event']\n",
      "C:\\Users\\DEPAGRA\\AppData\\Local\\Continuum\\anaconda3\\lib\\site-packages\\sksurv\\ensemble\\survival_loss.py:93: RuntimeWarning: invalid value encountered in subtract\n",
      "  pred_time = y['time'] - y_pred.ravel()\n",
      "C:\\Users\\DEPAGRA\\AppData\\Local\\Continuum\\anaconda3\\lib\\site-packages\\sksurv\\ensemble\\survival_loss.py:94: RuntimeWarning: invalid value encountered in greater\n",
      "  mask = (pred_time > 0) | y['event']\n",
      "C:\\Users\\DEPAGRA\\AppData\\Local\\Continuum\\anaconda3\\lib\\site-packages\\sksurv\\ensemble\\boosting.py:745: RuntimeWarning: divide by zero encountered in log\n",
      "  time = numpy.log(time)\n",
      "C:\\Users\\DEPAGRA\\AppData\\Local\\Continuum\\anaconda3\\lib\\site-packages\\sksurv\\ensemble\\survival_loss.py:79: RuntimeWarning: invalid value encountered in subtract\n",
      "  pred_time = y['time'] - y_pred.ravel()\n",
      "C:\\Users\\DEPAGRA\\AppData\\Local\\Continuum\\anaconda3\\lib\\site-packages\\sksurv\\ensemble\\survival_loss.py:80: RuntimeWarning: invalid value encountered in greater\n",
      "  mask = (pred_time > 0) | y['event']\n",
      "C:\\Users\\DEPAGRA\\AppData\\Local\\Continuum\\anaconda3\\lib\\site-packages\\sksurv\\ensemble\\survival_loss.py:93: RuntimeWarning: invalid value encountered in subtract\n",
      "  pred_time = y['time'] - y_pred.ravel()\n",
      "C:\\Users\\DEPAGRA\\AppData\\Local\\Continuum\\anaconda3\\lib\\site-packages\\sksurv\\ensemble\\survival_loss.py:94: RuntimeWarning: invalid value encountered in greater\n",
      "  mask = (pred_time > 0) | y['event']\n",
      "C:\\Users\\DEPAGRA\\AppData\\Local\\Continuum\\anaconda3\\lib\\site-packages\\sksurv\\ensemble\\boosting.py:745: RuntimeWarning: divide by zero encountered in log\n",
      "  time = numpy.log(time)\n",
      "C:\\Users\\DEPAGRA\\AppData\\Local\\Continuum\\anaconda3\\lib\\site-packages\\sksurv\\ensemble\\survival_loss.py:79: RuntimeWarning: invalid value encountered in subtract\n",
      "  pred_time = y['time'] - y_pred.ravel()\n",
      "C:\\Users\\DEPAGRA\\AppData\\Local\\Continuum\\anaconda3\\lib\\site-packages\\sksurv\\ensemble\\survival_loss.py:80: RuntimeWarning: invalid value encountered in greater\n",
      "  mask = (pred_time > 0) | y['event']\n",
      "C:\\Users\\DEPAGRA\\AppData\\Local\\Continuum\\anaconda3\\lib\\site-packages\\sksurv\\ensemble\\survival_loss.py:93: RuntimeWarning: invalid value encountered in subtract\n",
      "  pred_time = y['time'] - y_pred.ravel()\n",
      "C:\\Users\\DEPAGRA\\AppData\\Local\\Continuum\\anaconda3\\lib\\site-packages\\sksurv\\ensemble\\survival_loss.py:94: RuntimeWarning: invalid value encountered in greater\n",
      "  mask = (pred_time > 0) | y['event']\n",
      "C:\\Users\\DEPAGRA\\AppData\\Local\\Continuum\\anaconda3\\lib\\site-packages\\sksurv\\ensemble\\boosting.py:745: RuntimeWarning: divide by zero encountered in log\n",
      "  time = numpy.log(time)\n",
      "C:\\Users\\DEPAGRA\\AppData\\Local\\Continuum\\anaconda3\\lib\\site-packages\\sksurv\\ensemble\\survival_loss.py:79: RuntimeWarning: invalid value encountered in subtract\n",
      "  pred_time = y['time'] - y_pred.ravel()\n",
      "C:\\Users\\DEPAGRA\\AppData\\Local\\Continuum\\anaconda3\\lib\\site-packages\\sksurv\\ensemble\\survival_loss.py:80: RuntimeWarning: invalid value encountered in greater\n",
      "  mask = (pred_time > 0) | y['event']\n"
     ]
    },
    {
     "name": "stderr",
     "output_type": "stream",
     "text": [
      "C:\\Users\\DEPAGRA\\AppData\\Local\\Continuum\\anaconda3\\lib\\site-packages\\sksurv\\ensemble\\survival_loss.py:93: RuntimeWarning: invalid value encountered in subtract\n",
      "  pred_time = y['time'] - y_pred.ravel()\n",
      "C:\\Users\\DEPAGRA\\AppData\\Local\\Continuum\\anaconda3\\lib\\site-packages\\sksurv\\ensemble\\survival_loss.py:94: RuntimeWarning: invalid value encountered in greater\n",
      "  mask = (pred_time > 0) | y['event']\n",
      "C:\\Users\\DEPAGRA\\AppData\\Local\\Continuum\\anaconda3\\lib\\site-packages\\sksurv\\ensemble\\boosting.py:745: RuntimeWarning: divide by zero encountered in log\n",
      "  time = numpy.log(time)\n",
      "C:\\Users\\DEPAGRA\\AppData\\Local\\Continuum\\anaconda3\\lib\\site-packages\\sksurv\\ensemble\\survival_loss.py:79: RuntimeWarning: invalid value encountered in subtract\n",
      "  pred_time = y['time'] - y_pred.ravel()\n",
      "C:\\Users\\DEPAGRA\\AppData\\Local\\Continuum\\anaconda3\\lib\\site-packages\\sksurv\\ensemble\\survival_loss.py:80: RuntimeWarning: invalid value encountered in greater\n",
      "  mask = (pred_time > 0) | y['event']\n",
      "C:\\Users\\DEPAGRA\\AppData\\Local\\Continuum\\anaconda3\\lib\\site-packages\\sksurv\\ensemble\\survival_loss.py:93: RuntimeWarning: invalid value encountered in subtract\n",
      "  pred_time = y['time'] - y_pred.ravel()\n",
      "C:\\Users\\DEPAGRA\\AppData\\Local\\Continuum\\anaconda3\\lib\\site-packages\\sksurv\\ensemble\\survival_loss.py:94: RuntimeWarning: invalid value encountered in greater\n",
      "  mask = (pred_time > 0) | y['event']\n",
      "C:\\Users\\DEPAGRA\\AppData\\Local\\Continuum\\anaconda3\\lib\\site-packages\\sksurv\\ensemble\\boosting.py:745: RuntimeWarning: divide by zero encountered in log\n",
      "  time = numpy.log(time)\n",
      "C:\\Users\\DEPAGRA\\AppData\\Local\\Continuum\\anaconda3\\lib\\site-packages\\sksurv\\ensemble\\survival_loss.py:79: RuntimeWarning: invalid value encountered in subtract\n",
      "  pred_time = y['time'] - y_pred.ravel()\n",
      "C:\\Users\\DEPAGRA\\AppData\\Local\\Continuum\\anaconda3\\lib\\site-packages\\sksurv\\ensemble\\survival_loss.py:80: RuntimeWarning: invalid value encountered in greater\n",
      "  mask = (pred_time > 0) | y['event']\n",
      "C:\\Users\\DEPAGRA\\AppData\\Local\\Continuum\\anaconda3\\lib\\site-packages\\sksurv\\ensemble\\survival_loss.py:93: RuntimeWarning: invalid value encountered in subtract\n",
      "  pred_time = y['time'] - y_pred.ravel()\n",
      "C:\\Users\\DEPAGRA\\AppData\\Local\\Continuum\\anaconda3\\lib\\site-packages\\sksurv\\ensemble\\survival_loss.py:94: RuntimeWarning: invalid value encountered in greater\n",
      "  mask = (pred_time > 0) | y['event']\n",
      "C:\\Users\\DEPAGRA\\AppData\\Local\\Continuum\\anaconda3\\lib\\site-packages\\sksurv\\ensemble\\boosting.py:745: RuntimeWarning: divide by zero encountered in log\n",
      "  time = numpy.log(time)\n",
      "C:\\Users\\DEPAGRA\\AppData\\Local\\Continuum\\anaconda3\\lib\\site-packages\\sksurv\\ensemble\\survival_loss.py:79: RuntimeWarning: invalid value encountered in subtract\n",
      "  pred_time = y['time'] - y_pred.ravel()\n",
      "C:\\Users\\DEPAGRA\\AppData\\Local\\Continuum\\anaconda3\\lib\\site-packages\\sksurv\\ensemble\\survival_loss.py:80: RuntimeWarning: invalid value encountered in greater\n",
      "  mask = (pred_time > 0) | y['event']\n",
      "C:\\Users\\DEPAGRA\\AppData\\Local\\Continuum\\anaconda3\\lib\\site-packages\\sksurv\\ensemble\\survival_loss.py:93: RuntimeWarning: invalid value encountered in subtract\n",
      "  pred_time = y['time'] - y_pred.ravel()\n",
      "C:\\Users\\DEPAGRA\\AppData\\Local\\Continuum\\anaconda3\\lib\\site-packages\\sksurv\\ensemble\\survival_loss.py:94: RuntimeWarning: invalid value encountered in greater\n",
      "  mask = (pred_time > 0) | y['event']\n",
      "C:\\Users\\DEPAGRA\\AppData\\Local\\Continuum\\anaconda3\\lib\\site-packages\\sksurv\\ensemble\\boosting.py:745: RuntimeWarning: divide by zero encountered in log\n",
      "  time = numpy.log(time)\n",
      "C:\\Users\\DEPAGRA\\AppData\\Local\\Continuum\\anaconda3\\lib\\site-packages\\sksurv\\ensemble\\survival_loss.py:79: RuntimeWarning: invalid value encountered in subtract\n",
      "  pred_time = y['time'] - y_pred.ravel()\n",
      "C:\\Users\\DEPAGRA\\AppData\\Local\\Continuum\\anaconda3\\lib\\site-packages\\sksurv\\ensemble\\survival_loss.py:80: RuntimeWarning: invalid value encountered in greater\n",
      "  mask = (pred_time > 0) | y['event']\n",
      "C:\\Users\\DEPAGRA\\AppData\\Local\\Continuum\\anaconda3\\lib\\site-packages\\sksurv\\ensemble\\survival_loss.py:93: RuntimeWarning: invalid value encountered in subtract\n",
      "  pred_time = y['time'] - y_pred.ravel()\n",
      "C:\\Users\\DEPAGRA\\AppData\\Local\\Continuum\\anaconda3\\lib\\site-packages\\sksurv\\ensemble\\survival_loss.py:94: RuntimeWarning: invalid value encountered in greater\n",
      "  mask = (pred_time > 0) | y['event']\n",
      "C:\\Users\\DEPAGRA\\AppData\\Local\\Continuum\\anaconda3\\lib\\site-packages\\sksurv\\ensemble\\boosting.py:745: RuntimeWarning: divide by zero encountered in log\n",
      "  time = numpy.log(time)\n",
      "C:\\Users\\DEPAGRA\\AppData\\Local\\Continuum\\anaconda3\\lib\\site-packages\\sksurv\\ensemble\\survival_loss.py:79: RuntimeWarning: invalid value encountered in subtract\n",
      "  pred_time = y['time'] - y_pred.ravel()\n",
      "C:\\Users\\DEPAGRA\\AppData\\Local\\Continuum\\anaconda3\\lib\\site-packages\\sksurv\\ensemble\\survival_loss.py:80: RuntimeWarning: invalid value encountered in greater\n",
      "  mask = (pred_time > 0) | y['event']\n",
      "C:\\Users\\DEPAGRA\\AppData\\Local\\Continuum\\anaconda3\\lib\\site-packages\\sksurv\\ensemble\\survival_loss.py:93: RuntimeWarning: invalid value encountered in subtract\n",
      "  pred_time = y['time'] - y_pred.ravel()\n",
      "C:\\Users\\DEPAGRA\\AppData\\Local\\Continuum\\anaconda3\\lib\\site-packages\\sksurv\\ensemble\\survival_loss.py:94: RuntimeWarning: invalid value encountered in greater\n",
      "  mask = (pred_time > 0) | y['event']\n",
      "C:\\Users\\DEPAGRA\\AppData\\Local\\Continuum\\anaconda3\\lib\\site-packages\\sksurv\\ensemble\\boosting.py:745: RuntimeWarning: divide by zero encountered in log\n",
      "  time = numpy.log(time)\n",
      "C:\\Users\\DEPAGRA\\AppData\\Local\\Continuum\\anaconda3\\lib\\site-packages\\sksurv\\ensemble\\survival_loss.py:79: RuntimeWarning: invalid value encountered in subtract\n",
      "  pred_time = y['time'] - y_pred.ravel()\n",
      "C:\\Users\\DEPAGRA\\AppData\\Local\\Continuum\\anaconda3\\lib\\site-packages\\sksurv\\ensemble\\survival_loss.py:80: RuntimeWarning: invalid value encountered in greater\n",
      "  mask = (pred_time > 0) | y['event']\n",
      "C:\\Users\\DEPAGRA\\AppData\\Local\\Continuum\\anaconda3\\lib\\site-packages\\sksurv\\ensemble\\survival_loss.py:93: RuntimeWarning: invalid value encountered in subtract\n",
      "  pred_time = y['time'] - y_pred.ravel()\n",
      "C:\\Users\\DEPAGRA\\AppData\\Local\\Continuum\\anaconda3\\lib\\site-packages\\sksurv\\ensemble\\survival_loss.py:94: RuntimeWarning: invalid value encountered in greater\n",
      "  mask = (pred_time > 0) | y['event']\n",
      "C:\\Users\\DEPAGRA\\AppData\\Local\\Continuum\\anaconda3\\lib\\site-packages\\sksurv\\ensemble\\boosting.py:745: RuntimeWarning: divide by zero encountered in log\n",
      "  time = numpy.log(time)\n",
      "C:\\Users\\DEPAGRA\\AppData\\Local\\Continuum\\anaconda3\\lib\\site-packages\\sksurv\\ensemble\\survival_loss.py:79: RuntimeWarning: invalid value encountered in subtract\n",
      "  pred_time = y['time'] - y_pred.ravel()\n",
      "C:\\Users\\DEPAGRA\\AppData\\Local\\Continuum\\anaconda3\\lib\\site-packages\\sksurv\\ensemble\\survival_loss.py:80: RuntimeWarning: invalid value encountered in greater\n",
      "  mask = (pred_time > 0) | y['event']\n",
      "C:\\Users\\DEPAGRA\\AppData\\Local\\Continuum\\anaconda3\\lib\\site-packages\\sksurv\\ensemble\\survival_loss.py:93: RuntimeWarning: invalid value encountered in subtract\n",
      "  pred_time = y['time'] - y_pred.ravel()\n",
      "C:\\Users\\DEPAGRA\\AppData\\Local\\Continuum\\anaconda3\\lib\\site-packages\\sksurv\\ensemble\\survival_loss.py:94: RuntimeWarning: invalid value encountered in greater\n",
      "  mask = (pred_time > 0) | y['event']\n",
      "C:\\Users\\DEPAGRA\\AppData\\Local\\Continuum\\anaconda3\\lib\\site-packages\\sksurv\\ensemble\\boosting.py:745: RuntimeWarning: divide by zero encountered in log\n",
      "  time = numpy.log(time)\n",
      "C:\\Users\\DEPAGRA\\AppData\\Local\\Continuum\\anaconda3\\lib\\site-packages\\sksurv\\ensemble\\survival_loss.py:79: RuntimeWarning: invalid value encountered in subtract\n",
      "  pred_time = y['time'] - y_pred.ravel()\n",
      "C:\\Users\\DEPAGRA\\AppData\\Local\\Continuum\\anaconda3\\lib\\site-packages\\sksurv\\ensemble\\survival_loss.py:80: RuntimeWarning: invalid value encountered in greater\n",
      "  mask = (pred_time > 0) | y['event']\n",
      "C:\\Users\\DEPAGRA\\AppData\\Local\\Continuum\\anaconda3\\lib\\site-packages\\sksurv\\ensemble\\survival_loss.py:93: RuntimeWarning: invalid value encountered in subtract\n",
      "  pred_time = y['time'] - y_pred.ravel()\n",
      "C:\\Users\\DEPAGRA\\AppData\\Local\\Continuum\\anaconda3\\lib\\site-packages\\sksurv\\ensemble\\survival_loss.py:94: RuntimeWarning: invalid value encountered in greater\n",
      "  mask = (pred_time > 0) | y['event']\n",
      "C:\\Users\\DEPAGRA\\AppData\\Local\\Continuum\\anaconda3\\lib\\site-packages\\sksurv\\ensemble\\boosting.py:745: RuntimeWarning: divide by zero encountered in log\n",
      "  time = numpy.log(time)\n"
     ]
    },
    {
     "name": "stderr",
     "output_type": "stream",
     "text": [
      "C:\\Users\\DEPAGRA\\AppData\\Local\\Continuum\\anaconda3\\lib\\site-packages\\sksurv\\ensemble\\survival_loss.py:79: RuntimeWarning: invalid value encountered in subtract\n",
      "  pred_time = y['time'] - y_pred.ravel()\n",
      "C:\\Users\\DEPAGRA\\AppData\\Local\\Continuum\\anaconda3\\lib\\site-packages\\sksurv\\ensemble\\survival_loss.py:80: RuntimeWarning: invalid value encountered in greater\n",
      "  mask = (pred_time > 0) | y['event']\n",
      "C:\\Users\\DEPAGRA\\AppData\\Local\\Continuum\\anaconda3\\lib\\site-packages\\sksurv\\ensemble\\survival_loss.py:93: RuntimeWarning: invalid value encountered in subtract\n",
      "  pred_time = y['time'] - y_pred.ravel()\n",
      "C:\\Users\\DEPAGRA\\AppData\\Local\\Continuum\\anaconda3\\lib\\site-packages\\sksurv\\ensemble\\survival_loss.py:94: RuntimeWarning: invalid value encountered in greater\n",
      "  mask = (pred_time > 0) | y['event']\n",
      "C:\\Users\\DEPAGRA\\AppData\\Local\\Continuum\\anaconda3\\lib\\site-packages\\sksurv\\ensemble\\boosting.py:745: RuntimeWarning: divide by zero encountered in log\n",
      "  time = numpy.log(time)\n",
      "C:\\Users\\DEPAGRA\\AppData\\Local\\Continuum\\anaconda3\\lib\\site-packages\\sksurv\\ensemble\\survival_loss.py:79: RuntimeWarning: invalid value encountered in subtract\n",
      "  pred_time = y['time'] - y_pred.ravel()\n",
      "C:\\Users\\DEPAGRA\\AppData\\Local\\Continuum\\anaconda3\\lib\\site-packages\\sksurv\\ensemble\\survival_loss.py:80: RuntimeWarning: invalid value encountered in greater\n",
      "  mask = (pred_time > 0) | y['event']\n",
      "C:\\Users\\DEPAGRA\\AppData\\Local\\Continuum\\anaconda3\\lib\\site-packages\\sksurv\\ensemble\\survival_loss.py:93: RuntimeWarning: invalid value encountered in subtract\n",
      "  pred_time = y['time'] - y_pred.ravel()\n",
      "C:\\Users\\DEPAGRA\\AppData\\Local\\Continuum\\anaconda3\\lib\\site-packages\\sksurv\\ensemble\\survival_loss.py:94: RuntimeWarning: invalid value encountered in greater\n",
      "  mask = (pred_time > 0) | y['event']\n",
      "C:\\Users\\DEPAGRA\\AppData\\Local\\Continuum\\anaconda3\\lib\\site-packages\\sksurv\\ensemble\\boosting.py:745: RuntimeWarning: divide by zero encountered in log\n",
      "  time = numpy.log(time)\n",
      "C:\\Users\\DEPAGRA\\AppData\\Local\\Continuum\\anaconda3\\lib\\site-packages\\sksurv\\ensemble\\survival_loss.py:79: RuntimeWarning: invalid value encountered in subtract\n",
      "  pred_time = y['time'] - y_pred.ravel()\n",
      "C:\\Users\\DEPAGRA\\AppData\\Local\\Continuum\\anaconda3\\lib\\site-packages\\sksurv\\ensemble\\survival_loss.py:80: RuntimeWarning: invalid value encountered in greater\n",
      "  mask = (pred_time > 0) | y['event']\n",
      "C:\\Users\\DEPAGRA\\AppData\\Local\\Continuum\\anaconda3\\lib\\site-packages\\sksurv\\ensemble\\survival_loss.py:93: RuntimeWarning: invalid value encountered in subtract\n",
      "  pred_time = y['time'] - y_pred.ravel()\n",
      "C:\\Users\\DEPAGRA\\AppData\\Local\\Continuum\\anaconda3\\lib\\site-packages\\sksurv\\ensemble\\survival_loss.py:94: RuntimeWarning: invalid value encountered in greater\n",
      "  mask = (pred_time > 0) | y['event']\n",
      "C:\\Users\\DEPAGRA\\AppData\\Local\\Continuum\\anaconda3\\lib\\site-packages\\sksurv\\ensemble\\boosting.py:745: RuntimeWarning: divide by zero encountered in log\n",
      "  time = numpy.log(time)\n",
      "C:\\Users\\DEPAGRA\\AppData\\Local\\Continuum\\anaconda3\\lib\\site-packages\\sksurv\\ensemble\\survival_loss.py:79: RuntimeWarning: invalid value encountered in subtract\n",
      "  pred_time = y['time'] - y_pred.ravel()\n",
      "C:\\Users\\DEPAGRA\\AppData\\Local\\Continuum\\anaconda3\\lib\\site-packages\\sksurv\\ensemble\\survival_loss.py:80: RuntimeWarning: invalid value encountered in greater\n",
      "  mask = (pred_time > 0) | y['event']\n",
      "C:\\Users\\DEPAGRA\\AppData\\Local\\Continuum\\anaconda3\\lib\\site-packages\\sksurv\\ensemble\\survival_loss.py:93: RuntimeWarning: invalid value encountered in subtract\n",
      "  pred_time = y['time'] - y_pred.ravel()\n",
      "C:\\Users\\DEPAGRA\\AppData\\Local\\Continuum\\anaconda3\\lib\\site-packages\\sksurv\\ensemble\\survival_loss.py:94: RuntimeWarning: invalid value encountered in greater\n",
      "  mask = (pred_time > 0) | y['event']\n",
      "C:\\Users\\DEPAGRA\\AppData\\Local\\Continuum\\anaconda3\\lib\\site-packages\\sksurv\\ensemble\\boosting.py:745: RuntimeWarning: divide by zero encountered in log\n",
      "  time = numpy.log(time)\n",
      "C:\\Users\\DEPAGRA\\AppData\\Local\\Continuum\\anaconda3\\lib\\site-packages\\sksurv\\ensemble\\survival_loss.py:79: RuntimeWarning: invalid value encountered in subtract\n",
      "  pred_time = y['time'] - y_pred.ravel()\n",
      "C:\\Users\\DEPAGRA\\AppData\\Local\\Continuum\\anaconda3\\lib\\site-packages\\sksurv\\ensemble\\survival_loss.py:80: RuntimeWarning: invalid value encountered in greater\n",
      "  mask = (pred_time > 0) | y['event']\n",
      "C:\\Users\\DEPAGRA\\AppData\\Local\\Continuum\\anaconda3\\lib\\site-packages\\sksurv\\ensemble\\survival_loss.py:93: RuntimeWarning: invalid value encountered in subtract\n",
      "  pred_time = y['time'] - y_pred.ravel()\n",
      "C:\\Users\\DEPAGRA\\AppData\\Local\\Continuum\\anaconda3\\lib\\site-packages\\sksurv\\ensemble\\survival_loss.py:94: RuntimeWarning: invalid value encountered in greater\n",
      "  mask = (pred_time > 0) | y['event']\n",
      "C:\\Users\\DEPAGRA\\AppData\\Local\\Continuum\\anaconda3\\lib\\site-packages\\sksurv\\ensemble\\boosting.py:745: RuntimeWarning: divide by zero encountered in log\n",
      "  time = numpy.log(time)\n",
      "C:\\Users\\DEPAGRA\\AppData\\Local\\Continuum\\anaconda3\\lib\\site-packages\\sksurv\\ensemble\\survival_loss.py:79: RuntimeWarning: invalid value encountered in subtract\n",
      "  pred_time = y['time'] - y_pred.ravel()\n",
      "C:\\Users\\DEPAGRA\\AppData\\Local\\Continuum\\anaconda3\\lib\\site-packages\\sksurv\\ensemble\\survival_loss.py:80: RuntimeWarning: invalid value encountered in greater\n",
      "  mask = (pred_time > 0) | y['event']\n",
      "C:\\Users\\DEPAGRA\\AppData\\Local\\Continuum\\anaconda3\\lib\\site-packages\\sksurv\\ensemble\\survival_loss.py:93: RuntimeWarning: invalid value encountered in subtract\n",
      "  pred_time = y['time'] - y_pred.ravel()\n",
      "C:\\Users\\DEPAGRA\\AppData\\Local\\Continuum\\anaconda3\\lib\\site-packages\\sksurv\\ensemble\\survival_loss.py:94: RuntimeWarning: invalid value encountered in greater\n",
      "  mask = (pred_time > 0) | y['event']\n",
      "C:\\Users\\DEPAGRA\\AppData\\Local\\Continuum\\anaconda3\\lib\\site-packages\\sksurv\\ensemble\\boosting.py:745: RuntimeWarning: divide by zero encountered in log\n",
      "  time = numpy.log(time)\n",
      "C:\\Users\\DEPAGRA\\AppData\\Local\\Continuum\\anaconda3\\lib\\site-packages\\sksurv\\ensemble\\survival_loss.py:79: RuntimeWarning: invalid value encountered in subtract\n",
      "  pred_time = y['time'] - y_pred.ravel()\n",
      "C:\\Users\\DEPAGRA\\AppData\\Local\\Continuum\\anaconda3\\lib\\site-packages\\sksurv\\ensemble\\survival_loss.py:80: RuntimeWarning: invalid value encountered in greater\n",
      "  mask = (pred_time > 0) | y['event']\n",
      "C:\\Users\\DEPAGRA\\AppData\\Local\\Continuum\\anaconda3\\lib\\site-packages\\sksurv\\ensemble\\survival_loss.py:93: RuntimeWarning: invalid value encountered in subtract\n",
      "  pred_time = y['time'] - y_pred.ravel()\n",
      "C:\\Users\\DEPAGRA\\AppData\\Local\\Continuum\\anaconda3\\lib\\site-packages\\sksurv\\ensemble\\survival_loss.py:94: RuntimeWarning: invalid value encountered in greater\n",
      "  mask = (pred_time > 0) | y['event']\n",
      "C:\\Users\\DEPAGRA\\AppData\\Local\\Continuum\\anaconda3\\lib\\site-packages\\sksurv\\ensemble\\boosting.py:745: RuntimeWarning: divide by zero encountered in log\n",
      "  time = numpy.log(time)\n",
      "C:\\Users\\DEPAGRA\\AppData\\Local\\Continuum\\anaconda3\\lib\\site-packages\\sksurv\\ensemble\\survival_loss.py:79: RuntimeWarning: invalid value encountered in subtract\n",
      "  pred_time = y['time'] - y_pred.ravel()\n",
      "C:\\Users\\DEPAGRA\\AppData\\Local\\Continuum\\anaconda3\\lib\\site-packages\\sksurv\\ensemble\\survival_loss.py:80: RuntimeWarning: invalid value encountered in greater\n",
      "  mask = (pred_time > 0) | y['event']\n",
      "C:\\Users\\DEPAGRA\\AppData\\Local\\Continuum\\anaconda3\\lib\\site-packages\\sksurv\\ensemble\\survival_loss.py:93: RuntimeWarning: invalid value encountered in subtract\n",
      "  pred_time = y['time'] - y_pred.ravel()\n",
      "C:\\Users\\DEPAGRA\\AppData\\Local\\Continuum\\anaconda3\\lib\\site-packages\\sksurv\\ensemble\\survival_loss.py:94: RuntimeWarning: invalid value encountered in greater\n",
      "  mask = (pred_time > 0) | y['event']\n",
      "C:\\Users\\DEPAGRA\\AppData\\Local\\Continuum\\anaconda3\\lib\\site-packages\\sksurv\\ensemble\\boosting.py:745: RuntimeWarning: divide by zero encountered in log\n",
      "  time = numpy.log(time)\n",
      "C:\\Users\\DEPAGRA\\AppData\\Local\\Continuum\\anaconda3\\lib\\site-packages\\sksurv\\ensemble\\survival_loss.py:79: RuntimeWarning: invalid value encountered in subtract\n",
      "  pred_time = y['time'] - y_pred.ravel()\n",
      "C:\\Users\\DEPAGRA\\AppData\\Local\\Continuum\\anaconda3\\lib\\site-packages\\sksurv\\ensemble\\survival_loss.py:80: RuntimeWarning: invalid value encountered in greater\n",
      "  mask = (pred_time > 0) | y['event']\n",
      "C:\\Users\\DEPAGRA\\AppData\\Local\\Continuum\\anaconda3\\lib\\site-packages\\sksurv\\ensemble\\survival_loss.py:93: RuntimeWarning: invalid value encountered in subtract\n",
      "  pred_time = y['time'] - y_pred.ravel()\n"
     ]
    },
    {
     "name": "stderr",
     "output_type": "stream",
     "text": [
      "C:\\Users\\DEPAGRA\\AppData\\Local\\Continuum\\anaconda3\\lib\\site-packages\\sksurv\\ensemble\\survival_loss.py:94: RuntimeWarning: invalid value encountered in greater\n",
      "  mask = (pred_time > 0) | y['event']\n",
      "C:\\Users\\DEPAGRA\\AppData\\Local\\Continuum\\anaconda3\\lib\\site-packages\\sksurv\\ensemble\\boosting.py:745: RuntimeWarning: divide by zero encountered in log\n",
      "  time = numpy.log(time)\n",
      "C:\\Users\\DEPAGRA\\AppData\\Local\\Continuum\\anaconda3\\lib\\site-packages\\sksurv\\ensemble\\survival_loss.py:79: RuntimeWarning: invalid value encountered in subtract\n",
      "  pred_time = y['time'] - y_pred.ravel()\n",
      "C:\\Users\\DEPAGRA\\AppData\\Local\\Continuum\\anaconda3\\lib\\site-packages\\sksurv\\ensemble\\survival_loss.py:80: RuntimeWarning: invalid value encountered in greater\n",
      "  mask = (pred_time > 0) | y['event']\n",
      "C:\\Users\\DEPAGRA\\AppData\\Local\\Continuum\\anaconda3\\lib\\site-packages\\sksurv\\ensemble\\survival_loss.py:93: RuntimeWarning: invalid value encountered in subtract\n",
      "  pred_time = y['time'] - y_pred.ravel()\n",
      "C:\\Users\\DEPAGRA\\AppData\\Local\\Continuum\\anaconda3\\lib\\site-packages\\sksurv\\ensemble\\survival_loss.py:94: RuntimeWarning: invalid value encountered in greater\n",
      "  mask = (pred_time > 0) | y['event']\n",
      "C:\\Users\\DEPAGRA\\AppData\\Local\\Continuum\\anaconda3\\lib\\site-packages\\sksurv\\ensemble\\boosting.py:745: RuntimeWarning: divide by zero encountered in log\n",
      "  time = numpy.log(time)\n",
      "C:\\Users\\DEPAGRA\\AppData\\Local\\Continuum\\anaconda3\\lib\\site-packages\\sksurv\\ensemble\\survival_loss.py:79: RuntimeWarning: invalid value encountered in subtract\n",
      "  pred_time = y['time'] - y_pred.ravel()\n",
      "C:\\Users\\DEPAGRA\\AppData\\Local\\Continuum\\anaconda3\\lib\\site-packages\\sksurv\\ensemble\\survival_loss.py:80: RuntimeWarning: invalid value encountered in greater\n",
      "  mask = (pred_time > 0) | y['event']\n",
      "C:\\Users\\DEPAGRA\\AppData\\Local\\Continuum\\anaconda3\\lib\\site-packages\\sksurv\\ensemble\\survival_loss.py:93: RuntimeWarning: invalid value encountered in subtract\n",
      "  pred_time = y['time'] - y_pred.ravel()\n",
      "C:\\Users\\DEPAGRA\\AppData\\Local\\Continuum\\anaconda3\\lib\\site-packages\\sksurv\\ensemble\\survival_loss.py:94: RuntimeWarning: invalid value encountered in greater\n",
      "  mask = (pred_time > 0) | y['event']\n",
      "C:\\Users\\DEPAGRA\\AppData\\Local\\Continuum\\anaconda3\\lib\\site-packages\\sksurv\\ensemble\\boosting.py:745: RuntimeWarning: divide by zero encountered in log\n",
      "  time = numpy.log(time)\n",
      "C:\\Users\\DEPAGRA\\AppData\\Local\\Continuum\\anaconda3\\lib\\site-packages\\sksurv\\ensemble\\survival_loss.py:79: RuntimeWarning: invalid value encountered in subtract\n",
      "  pred_time = y['time'] - y_pred.ravel()\n",
      "C:\\Users\\DEPAGRA\\AppData\\Local\\Continuum\\anaconda3\\lib\\site-packages\\sksurv\\ensemble\\survival_loss.py:80: RuntimeWarning: invalid value encountered in greater\n",
      "  mask = (pred_time > 0) | y['event']\n",
      "C:\\Users\\DEPAGRA\\AppData\\Local\\Continuum\\anaconda3\\lib\\site-packages\\sksurv\\ensemble\\survival_loss.py:93: RuntimeWarning: invalid value encountered in subtract\n",
      "  pred_time = y['time'] - y_pred.ravel()\n",
      "C:\\Users\\DEPAGRA\\AppData\\Local\\Continuum\\anaconda3\\lib\\site-packages\\sksurv\\ensemble\\survival_loss.py:94: RuntimeWarning: invalid value encountered in greater\n",
      "  mask = (pred_time > 0) | y['event']\n",
      "C:\\Users\\DEPAGRA\\AppData\\Local\\Continuum\\anaconda3\\lib\\site-packages\\sksurv\\ensemble\\boosting.py:745: RuntimeWarning: divide by zero encountered in log\n",
      "  time = numpy.log(time)\n",
      "C:\\Users\\DEPAGRA\\AppData\\Local\\Continuum\\anaconda3\\lib\\site-packages\\sksurv\\ensemble\\survival_loss.py:79: RuntimeWarning: invalid value encountered in subtract\n",
      "  pred_time = y['time'] - y_pred.ravel()\n",
      "C:\\Users\\DEPAGRA\\AppData\\Local\\Continuum\\anaconda3\\lib\\site-packages\\sksurv\\ensemble\\survival_loss.py:80: RuntimeWarning: invalid value encountered in greater\n",
      "  mask = (pred_time > 0) | y['event']\n",
      "C:\\Users\\DEPAGRA\\AppData\\Local\\Continuum\\anaconda3\\lib\\site-packages\\sksurv\\ensemble\\survival_loss.py:93: RuntimeWarning: invalid value encountered in subtract\n",
      "  pred_time = y['time'] - y_pred.ravel()\n",
      "C:\\Users\\DEPAGRA\\AppData\\Local\\Continuum\\anaconda3\\lib\\site-packages\\sksurv\\ensemble\\survival_loss.py:94: RuntimeWarning: invalid value encountered in greater\n",
      "  mask = (pred_time > 0) | y['event']\n",
      "C:\\Users\\DEPAGRA\\AppData\\Local\\Continuum\\anaconda3\\lib\\site-packages\\sksurv\\ensemble\\boosting.py:745: RuntimeWarning: divide by zero encountered in log\n",
      "  time = numpy.log(time)\n",
      "C:\\Users\\DEPAGRA\\AppData\\Local\\Continuum\\anaconda3\\lib\\site-packages\\sksurv\\ensemble\\survival_loss.py:79: RuntimeWarning: invalid value encountered in subtract\n",
      "  pred_time = y['time'] - y_pred.ravel()\n",
      "C:\\Users\\DEPAGRA\\AppData\\Local\\Continuum\\anaconda3\\lib\\site-packages\\sksurv\\ensemble\\survival_loss.py:80: RuntimeWarning: invalid value encountered in greater\n",
      "  mask = (pred_time > 0) | y['event']\n",
      "C:\\Users\\DEPAGRA\\AppData\\Local\\Continuum\\anaconda3\\lib\\site-packages\\sksurv\\ensemble\\survival_loss.py:93: RuntimeWarning: invalid value encountered in subtract\n",
      "  pred_time = y['time'] - y_pred.ravel()\n",
      "C:\\Users\\DEPAGRA\\AppData\\Local\\Continuum\\anaconda3\\lib\\site-packages\\sksurv\\ensemble\\survival_loss.py:94: RuntimeWarning: invalid value encountered in greater\n",
      "  mask = (pred_time > 0) | y['event']\n",
      "C:\\Users\\DEPAGRA\\AppData\\Local\\Continuum\\anaconda3\\lib\\site-packages\\sksurv\\ensemble\\boosting.py:745: RuntimeWarning: divide by zero encountered in log\n",
      "  time = numpy.log(time)\n",
      "C:\\Users\\DEPAGRA\\AppData\\Local\\Continuum\\anaconda3\\lib\\site-packages\\sksurv\\ensemble\\survival_loss.py:79: RuntimeWarning: invalid value encountered in subtract\n",
      "  pred_time = y['time'] - y_pred.ravel()\n",
      "C:\\Users\\DEPAGRA\\AppData\\Local\\Continuum\\anaconda3\\lib\\site-packages\\sksurv\\ensemble\\survival_loss.py:80: RuntimeWarning: invalid value encountered in greater\n",
      "  mask = (pred_time > 0) | y['event']\n",
      "C:\\Users\\DEPAGRA\\AppData\\Local\\Continuum\\anaconda3\\lib\\site-packages\\sksurv\\ensemble\\survival_loss.py:93: RuntimeWarning: invalid value encountered in subtract\n",
      "  pred_time = y['time'] - y_pred.ravel()\n",
      "C:\\Users\\DEPAGRA\\AppData\\Local\\Continuum\\anaconda3\\lib\\site-packages\\sksurv\\ensemble\\survival_loss.py:94: RuntimeWarning: invalid value encountered in greater\n",
      "  mask = (pred_time > 0) | y['event']\n",
      "C:\\Users\\DEPAGRA\\AppData\\Local\\Continuum\\anaconda3\\lib\\site-packages\\sksurv\\ensemble\\boosting.py:745: RuntimeWarning: divide by zero encountered in log\n",
      "  time = numpy.log(time)\n",
      "C:\\Users\\DEPAGRA\\AppData\\Local\\Continuum\\anaconda3\\lib\\site-packages\\sksurv\\ensemble\\survival_loss.py:79: RuntimeWarning: invalid value encountered in subtract\n",
      "  pred_time = y['time'] - y_pred.ravel()\n",
      "C:\\Users\\DEPAGRA\\AppData\\Local\\Continuum\\anaconda3\\lib\\site-packages\\sksurv\\ensemble\\survival_loss.py:80: RuntimeWarning: invalid value encountered in greater\n",
      "  mask = (pred_time > 0) | y['event']\n",
      "C:\\Users\\DEPAGRA\\AppData\\Local\\Continuum\\anaconda3\\lib\\site-packages\\sksurv\\ensemble\\survival_loss.py:93: RuntimeWarning: invalid value encountered in subtract\n",
      "  pred_time = y['time'] - y_pred.ravel()\n",
      "C:\\Users\\DEPAGRA\\AppData\\Local\\Continuum\\anaconda3\\lib\\site-packages\\sksurv\\ensemble\\survival_loss.py:94: RuntimeWarning: invalid value encountered in greater\n",
      "  mask = (pred_time > 0) | y['event']\n",
      "C:\\Users\\DEPAGRA\\AppData\\Local\\Continuum\\anaconda3\\lib\\site-packages\\sksurv\\ensemble\\boosting.py:745: RuntimeWarning: divide by zero encountered in log\n",
      "  time = numpy.log(time)\n",
      "C:\\Users\\DEPAGRA\\AppData\\Local\\Continuum\\anaconda3\\lib\\site-packages\\sksurv\\ensemble\\survival_loss.py:79: RuntimeWarning: invalid value encountered in subtract\n",
      "  pred_time = y['time'] - y_pred.ravel()\n",
      "C:\\Users\\DEPAGRA\\AppData\\Local\\Continuum\\anaconda3\\lib\\site-packages\\sksurv\\ensemble\\survival_loss.py:80: RuntimeWarning: invalid value encountered in greater\n",
      "  mask = (pred_time > 0) | y['event']\n",
      "C:\\Users\\DEPAGRA\\AppData\\Local\\Continuum\\anaconda3\\lib\\site-packages\\sksurv\\ensemble\\survival_loss.py:93: RuntimeWarning: invalid value encountered in subtract\n",
      "  pred_time = y['time'] - y_pred.ravel()\n",
      "C:\\Users\\DEPAGRA\\AppData\\Local\\Continuum\\anaconda3\\lib\\site-packages\\sksurv\\ensemble\\survival_loss.py:94: RuntimeWarning: invalid value encountered in greater\n",
      "  mask = (pred_time > 0) | y['event']\n",
      "C:\\Users\\DEPAGRA\\AppData\\Local\\Continuum\\anaconda3\\lib\\site-packages\\sksurv\\ensemble\\boosting.py:745: RuntimeWarning: divide by zero encountered in log\n",
      "  time = numpy.log(time)\n",
      "C:\\Users\\DEPAGRA\\AppData\\Local\\Continuum\\anaconda3\\lib\\site-packages\\sksurv\\ensemble\\survival_loss.py:79: RuntimeWarning: invalid value encountered in subtract\n",
      "  pred_time = y['time'] - y_pred.ravel()\n"
     ]
    },
    {
     "name": "stderr",
     "output_type": "stream",
     "text": [
      "C:\\Users\\DEPAGRA\\AppData\\Local\\Continuum\\anaconda3\\lib\\site-packages\\sksurv\\ensemble\\survival_loss.py:80: RuntimeWarning: invalid value encountered in greater\n",
      "  mask = (pred_time > 0) | y['event']\n",
      "C:\\Users\\DEPAGRA\\AppData\\Local\\Continuum\\anaconda3\\lib\\site-packages\\sksurv\\ensemble\\survival_loss.py:93: RuntimeWarning: invalid value encountered in subtract\n",
      "  pred_time = y['time'] - y_pred.ravel()\n",
      "C:\\Users\\DEPAGRA\\AppData\\Local\\Continuum\\anaconda3\\lib\\site-packages\\sksurv\\ensemble\\survival_loss.py:94: RuntimeWarning: invalid value encountered in greater\n",
      "  mask = (pred_time > 0) | y['event']\n",
      "C:\\Users\\DEPAGRA\\AppData\\Local\\Continuum\\anaconda3\\lib\\site-packages\\sksurv\\ensemble\\boosting.py:745: RuntimeWarning: divide by zero encountered in log\n",
      "  time = numpy.log(time)\n",
      "C:\\Users\\DEPAGRA\\AppData\\Local\\Continuum\\anaconda3\\lib\\site-packages\\sksurv\\ensemble\\survival_loss.py:79: RuntimeWarning: invalid value encountered in subtract\n",
      "  pred_time = y['time'] - y_pred.ravel()\n",
      "C:\\Users\\DEPAGRA\\AppData\\Local\\Continuum\\anaconda3\\lib\\site-packages\\sksurv\\ensemble\\survival_loss.py:80: RuntimeWarning: invalid value encountered in greater\n",
      "  mask = (pred_time > 0) | y['event']\n",
      "C:\\Users\\DEPAGRA\\AppData\\Local\\Continuum\\anaconda3\\lib\\site-packages\\sksurv\\ensemble\\survival_loss.py:93: RuntimeWarning: invalid value encountered in subtract\n",
      "  pred_time = y['time'] - y_pred.ravel()\n",
      "C:\\Users\\DEPAGRA\\AppData\\Local\\Continuum\\anaconda3\\lib\\site-packages\\sksurv\\ensemble\\survival_loss.py:94: RuntimeWarning: invalid value encountered in greater\n",
      "  mask = (pred_time > 0) | y['event']\n",
      "C:\\Users\\DEPAGRA\\AppData\\Local\\Continuum\\anaconda3\\lib\\site-packages\\sksurv\\ensemble\\boosting.py:745: RuntimeWarning: divide by zero encountered in log\n",
      "  time = numpy.log(time)\n",
      "C:\\Users\\DEPAGRA\\AppData\\Local\\Continuum\\anaconda3\\lib\\site-packages\\sksurv\\ensemble\\survival_loss.py:79: RuntimeWarning: invalid value encountered in subtract\n",
      "  pred_time = y['time'] - y_pred.ravel()\n",
      "C:\\Users\\DEPAGRA\\AppData\\Local\\Continuum\\anaconda3\\lib\\site-packages\\sksurv\\ensemble\\survival_loss.py:80: RuntimeWarning: invalid value encountered in greater\n",
      "  mask = (pred_time > 0) | y['event']\n",
      "C:\\Users\\DEPAGRA\\AppData\\Local\\Continuum\\anaconda3\\lib\\site-packages\\sksurv\\ensemble\\survival_loss.py:93: RuntimeWarning: invalid value encountered in subtract\n",
      "  pred_time = y['time'] - y_pred.ravel()\n",
      "C:\\Users\\DEPAGRA\\AppData\\Local\\Continuum\\anaconda3\\lib\\site-packages\\sksurv\\ensemble\\survival_loss.py:94: RuntimeWarning: invalid value encountered in greater\n",
      "  mask = (pred_time > 0) | y['event']\n",
      "C:\\Users\\DEPAGRA\\AppData\\Local\\Continuum\\anaconda3\\lib\\site-packages\\sksurv\\ensemble\\boosting.py:745: RuntimeWarning: divide by zero encountered in log\n",
      "  time = numpy.log(time)\n",
      "C:\\Users\\DEPAGRA\\AppData\\Local\\Continuum\\anaconda3\\lib\\site-packages\\sksurv\\ensemble\\survival_loss.py:79: RuntimeWarning: invalid value encountered in subtract\n",
      "  pred_time = y['time'] - y_pred.ravel()\n",
      "C:\\Users\\DEPAGRA\\AppData\\Local\\Continuum\\anaconda3\\lib\\site-packages\\sksurv\\ensemble\\survival_loss.py:80: RuntimeWarning: invalid value encountered in greater\n",
      "  mask = (pred_time > 0) | y['event']\n",
      "C:\\Users\\DEPAGRA\\AppData\\Local\\Continuum\\anaconda3\\lib\\site-packages\\sksurv\\ensemble\\survival_loss.py:93: RuntimeWarning: invalid value encountered in subtract\n",
      "  pred_time = y['time'] - y_pred.ravel()\n",
      "C:\\Users\\DEPAGRA\\AppData\\Local\\Continuum\\anaconda3\\lib\\site-packages\\sksurv\\ensemble\\survival_loss.py:94: RuntimeWarning: invalid value encountered in greater\n",
      "  mask = (pred_time > 0) | y['event']\n",
      "C:\\Users\\DEPAGRA\\AppData\\Local\\Continuum\\anaconda3\\lib\\site-packages\\sksurv\\ensemble\\boosting.py:745: RuntimeWarning: divide by zero encountered in log\n",
      "  time = numpy.log(time)\n",
      "C:\\Users\\DEPAGRA\\AppData\\Local\\Continuum\\anaconda3\\lib\\site-packages\\sksurv\\ensemble\\survival_loss.py:79: RuntimeWarning: invalid value encountered in subtract\n",
      "  pred_time = y['time'] - y_pred.ravel()\n",
      "C:\\Users\\DEPAGRA\\AppData\\Local\\Continuum\\anaconda3\\lib\\site-packages\\sksurv\\ensemble\\survival_loss.py:80: RuntimeWarning: invalid value encountered in greater\n",
      "  mask = (pred_time > 0) | y['event']\n",
      "C:\\Users\\DEPAGRA\\AppData\\Local\\Continuum\\anaconda3\\lib\\site-packages\\sksurv\\ensemble\\survival_loss.py:93: RuntimeWarning: invalid value encountered in subtract\n",
      "  pred_time = y['time'] - y_pred.ravel()\n",
      "C:\\Users\\DEPAGRA\\AppData\\Local\\Continuum\\anaconda3\\lib\\site-packages\\sksurv\\ensemble\\survival_loss.py:94: RuntimeWarning: invalid value encountered in greater\n",
      "  mask = (pred_time > 0) | y['event']\n",
      "C:\\Users\\DEPAGRA\\AppData\\Local\\Continuum\\anaconda3\\lib\\site-packages\\sksurv\\ensemble\\boosting.py:745: RuntimeWarning: divide by zero encountered in log\n",
      "  time = numpy.log(time)\n",
      "C:\\Users\\DEPAGRA\\AppData\\Local\\Continuum\\anaconda3\\lib\\site-packages\\sksurv\\ensemble\\survival_loss.py:79: RuntimeWarning: invalid value encountered in subtract\n",
      "  pred_time = y['time'] - y_pred.ravel()\n",
      "C:\\Users\\DEPAGRA\\AppData\\Local\\Continuum\\anaconda3\\lib\\site-packages\\sksurv\\ensemble\\survival_loss.py:80: RuntimeWarning: invalid value encountered in greater\n",
      "  mask = (pred_time > 0) | y['event']\n",
      "C:\\Users\\DEPAGRA\\AppData\\Local\\Continuum\\anaconda3\\lib\\site-packages\\sksurv\\ensemble\\survival_loss.py:93: RuntimeWarning: invalid value encountered in subtract\n",
      "  pred_time = y['time'] - y_pred.ravel()\n",
      "C:\\Users\\DEPAGRA\\AppData\\Local\\Continuum\\anaconda3\\lib\\site-packages\\sksurv\\ensemble\\survival_loss.py:94: RuntimeWarning: invalid value encountered in greater\n",
      "  mask = (pred_time > 0) | y['event']\n",
      "C:\\Users\\DEPAGRA\\AppData\\Local\\Continuum\\anaconda3\\lib\\site-packages\\sksurv\\ensemble\\boosting.py:745: RuntimeWarning: divide by zero encountered in log\n",
      "  time = numpy.log(time)\n",
      "C:\\Users\\DEPAGRA\\AppData\\Local\\Continuum\\anaconda3\\lib\\site-packages\\sksurv\\ensemble\\survival_loss.py:79: RuntimeWarning: invalid value encountered in subtract\n",
      "  pred_time = y['time'] - y_pred.ravel()\n",
      "C:\\Users\\DEPAGRA\\AppData\\Local\\Continuum\\anaconda3\\lib\\site-packages\\sksurv\\ensemble\\survival_loss.py:80: RuntimeWarning: invalid value encountered in greater\n",
      "  mask = (pred_time > 0) | y['event']\n",
      "C:\\Users\\DEPAGRA\\AppData\\Local\\Continuum\\anaconda3\\lib\\site-packages\\sksurv\\ensemble\\survival_loss.py:93: RuntimeWarning: invalid value encountered in subtract\n",
      "  pred_time = y['time'] - y_pred.ravel()\n",
      "C:\\Users\\DEPAGRA\\AppData\\Local\\Continuum\\anaconda3\\lib\\site-packages\\sksurv\\ensemble\\survival_loss.py:94: RuntimeWarning: invalid value encountered in greater\n",
      "  mask = (pred_time > 0) | y['event']\n",
      "C:\\Users\\DEPAGRA\\AppData\\Local\\Continuum\\anaconda3\\lib\\site-packages\\sksurv\\ensemble\\boosting.py:745: RuntimeWarning: divide by zero encountered in log\n",
      "  time = numpy.log(time)\n",
      "C:\\Users\\DEPAGRA\\AppData\\Local\\Continuum\\anaconda3\\lib\\site-packages\\sksurv\\ensemble\\survival_loss.py:79: RuntimeWarning: invalid value encountered in subtract\n",
      "  pred_time = y['time'] - y_pred.ravel()\n",
      "C:\\Users\\DEPAGRA\\AppData\\Local\\Continuum\\anaconda3\\lib\\site-packages\\sksurv\\ensemble\\survival_loss.py:80: RuntimeWarning: invalid value encountered in greater\n",
      "  mask = (pred_time > 0) | y['event']\n",
      "C:\\Users\\DEPAGRA\\AppData\\Local\\Continuum\\anaconda3\\lib\\site-packages\\sksurv\\ensemble\\survival_loss.py:93: RuntimeWarning: invalid value encountered in subtract\n",
      "  pred_time = y['time'] - y_pred.ravel()\n",
      "C:\\Users\\DEPAGRA\\AppData\\Local\\Continuum\\anaconda3\\lib\\site-packages\\sksurv\\ensemble\\survival_loss.py:94: RuntimeWarning: invalid value encountered in greater\n",
      "  mask = (pred_time > 0) | y['event']\n",
      "C:\\Users\\DEPAGRA\\AppData\\Local\\Continuum\\anaconda3\\lib\\site-packages\\sksurv\\ensemble\\boosting.py:745: RuntimeWarning: divide by zero encountered in log\n",
      "  time = numpy.log(time)\n",
      "C:\\Users\\DEPAGRA\\AppData\\Local\\Continuum\\anaconda3\\lib\\site-packages\\sksurv\\ensemble\\survival_loss.py:79: RuntimeWarning: invalid value encountered in subtract\n",
      "  pred_time = y['time'] - y_pred.ravel()\n",
      "C:\\Users\\DEPAGRA\\AppData\\Local\\Continuum\\anaconda3\\lib\\site-packages\\sksurv\\ensemble\\survival_loss.py:80: RuntimeWarning: invalid value encountered in greater\n",
      "  mask = (pred_time > 0) | y['event']\n",
      "C:\\Users\\DEPAGRA\\AppData\\Local\\Continuum\\anaconda3\\lib\\site-packages\\sksurv\\ensemble\\survival_loss.py:93: RuntimeWarning: invalid value encountered in subtract\n",
      "  pred_time = y['time'] - y_pred.ravel()\n",
      "C:\\Users\\DEPAGRA\\AppData\\Local\\Continuum\\anaconda3\\lib\\site-packages\\sksurv\\ensemble\\survival_loss.py:94: RuntimeWarning: invalid value encountered in greater\n",
      "  mask = (pred_time > 0) | y['event']\n"
     ]
    },
    {
     "name": "stderr",
     "output_type": "stream",
     "text": [
      "C:\\Users\\DEPAGRA\\AppData\\Local\\Continuum\\anaconda3\\lib\\site-packages\\sksurv\\ensemble\\boosting.py:745: RuntimeWarning: divide by zero encountered in log\n",
      "  time = numpy.log(time)\n",
      "C:\\Users\\DEPAGRA\\AppData\\Local\\Continuum\\anaconda3\\lib\\site-packages\\sksurv\\ensemble\\survival_loss.py:79: RuntimeWarning: invalid value encountered in subtract\n",
      "  pred_time = y['time'] - y_pred.ravel()\n",
      "C:\\Users\\DEPAGRA\\AppData\\Local\\Continuum\\anaconda3\\lib\\site-packages\\sksurv\\ensemble\\survival_loss.py:80: RuntimeWarning: invalid value encountered in greater\n",
      "  mask = (pred_time > 0) | y['event']\n",
      "C:\\Users\\DEPAGRA\\AppData\\Local\\Continuum\\anaconda3\\lib\\site-packages\\sksurv\\ensemble\\survival_loss.py:93: RuntimeWarning: invalid value encountered in subtract\n",
      "  pred_time = y['time'] - y_pred.ravel()\n",
      "C:\\Users\\DEPAGRA\\AppData\\Local\\Continuum\\anaconda3\\lib\\site-packages\\sksurv\\ensemble\\survival_loss.py:94: RuntimeWarning: invalid value encountered in greater\n",
      "  mask = (pred_time > 0) | y['event']\n",
      "C:\\Users\\DEPAGRA\\AppData\\Local\\Continuum\\anaconda3\\lib\\site-packages\\sksurv\\ensemble\\boosting.py:745: RuntimeWarning: divide by zero encountered in log\n",
      "  time = numpy.log(time)\n",
      "C:\\Users\\DEPAGRA\\AppData\\Local\\Continuum\\anaconda3\\lib\\site-packages\\sksurv\\ensemble\\survival_loss.py:79: RuntimeWarning: invalid value encountered in subtract\n",
      "  pred_time = y['time'] - y_pred.ravel()\n",
      "C:\\Users\\DEPAGRA\\AppData\\Local\\Continuum\\anaconda3\\lib\\site-packages\\sksurv\\ensemble\\survival_loss.py:80: RuntimeWarning: invalid value encountered in greater\n",
      "  mask = (pred_time > 0) | y['event']\n",
      "C:\\Users\\DEPAGRA\\AppData\\Local\\Continuum\\anaconda3\\lib\\site-packages\\sksurv\\ensemble\\survival_loss.py:93: RuntimeWarning: invalid value encountered in subtract\n",
      "  pred_time = y['time'] - y_pred.ravel()\n",
      "C:\\Users\\DEPAGRA\\AppData\\Local\\Continuum\\anaconda3\\lib\\site-packages\\sksurv\\ensemble\\survival_loss.py:94: RuntimeWarning: invalid value encountered in greater\n",
      "  mask = (pred_time > 0) | y['event']\n",
      "C:\\Users\\DEPAGRA\\AppData\\Local\\Continuum\\anaconda3\\lib\\site-packages\\sksurv\\ensemble\\boosting.py:745: RuntimeWarning: divide by zero encountered in log\n",
      "  time = numpy.log(time)\n",
      "C:\\Users\\DEPAGRA\\AppData\\Local\\Continuum\\anaconda3\\lib\\site-packages\\sksurv\\ensemble\\survival_loss.py:79: RuntimeWarning: invalid value encountered in subtract\n",
      "  pred_time = y['time'] - y_pred.ravel()\n",
      "C:\\Users\\DEPAGRA\\AppData\\Local\\Continuum\\anaconda3\\lib\\site-packages\\sksurv\\ensemble\\survival_loss.py:80: RuntimeWarning: invalid value encountered in greater\n",
      "  mask = (pred_time > 0) | y['event']\n",
      "C:\\Users\\DEPAGRA\\AppData\\Local\\Continuum\\anaconda3\\lib\\site-packages\\sksurv\\ensemble\\survival_loss.py:93: RuntimeWarning: invalid value encountered in subtract\n",
      "  pred_time = y['time'] - y_pred.ravel()\n",
      "C:\\Users\\DEPAGRA\\AppData\\Local\\Continuum\\anaconda3\\lib\\site-packages\\sksurv\\ensemble\\survival_loss.py:94: RuntimeWarning: invalid value encountered in greater\n",
      "  mask = (pred_time > 0) | y['event']\n",
      "C:\\Users\\DEPAGRA\\AppData\\Local\\Continuum\\anaconda3\\lib\\site-packages\\sksurv\\ensemble\\boosting.py:745: RuntimeWarning: divide by zero encountered in log\n",
      "  time = numpy.log(time)\n",
      "C:\\Users\\DEPAGRA\\AppData\\Local\\Continuum\\anaconda3\\lib\\site-packages\\sksurv\\ensemble\\survival_loss.py:79: RuntimeWarning: invalid value encountered in subtract\n",
      "  pred_time = y['time'] - y_pred.ravel()\n",
      "C:\\Users\\DEPAGRA\\AppData\\Local\\Continuum\\anaconda3\\lib\\site-packages\\sksurv\\ensemble\\survival_loss.py:80: RuntimeWarning: invalid value encountered in greater\n",
      "  mask = (pred_time > 0) | y['event']\n",
      "C:\\Users\\DEPAGRA\\AppData\\Local\\Continuum\\anaconda3\\lib\\site-packages\\sksurv\\ensemble\\survival_loss.py:93: RuntimeWarning: invalid value encountered in subtract\n",
      "  pred_time = y['time'] - y_pred.ravel()\n",
      "C:\\Users\\DEPAGRA\\AppData\\Local\\Continuum\\anaconda3\\lib\\site-packages\\sksurv\\ensemble\\survival_loss.py:94: RuntimeWarning: invalid value encountered in greater\n",
      "  mask = (pred_time > 0) | y['event']\n",
      "C:\\Users\\DEPAGRA\\AppData\\Local\\Continuum\\anaconda3\\lib\\site-packages\\sksurv\\ensemble\\boosting.py:745: RuntimeWarning: divide by zero encountered in log\n",
      "  time = numpy.log(time)\n",
      "C:\\Users\\DEPAGRA\\AppData\\Local\\Continuum\\anaconda3\\lib\\site-packages\\sksurv\\ensemble\\survival_loss.py:79: RuntimeWarning: invalid value encountered in subtract\n",
      "  pred_time = y['time'] - y_pred.ravel()\n",
      "C:\\Users\\DEPAGRA\\AppData\\Local\\Continuum\\anaconda3\\lib\\site-packages\\sksurv\\ensemble\\survival_loss.py:80: RuntimeWarning: invalid value encountered in greater\n",
      "  mask = (pred_time > 0) | y['event']\n",
      "C:\\Users\\DEPAGRA\\AppData\\Local\\Continuum\\anaconda3\\lib\\site-packages\\sksurv\\ensemble\\survival_loss.py:93: RuntimeWarning: invalid value encountered in subtract\n",
      "  pred_time = y['time'] - y_pred.ravel()\n",
      "C:\\Users\\DEPAGRA\\AppData\\Local\\Continuum\\anaconda3\\lib\\site-packages\\sksurv\\ensemble\\survival_loss.py:94: RuntimeWarning: invalid value encountered in greater\n",
      "  mask = (pred_time > 0) | y['event']\n",
      "C:\\Users\\DEPAGRA\\AppData\\Local\\Continuum\\anaconda3\\lib\\site-packages\\sksurv\\ensemble\\boosting.py:745: RuntimeWarning: divide by zero encountered in log\n",
      "  time = numpy.log(time)\n",
      "C:\\Users\\DEPAGRA\\AppData\\Local\\Continuum\\anaconda3\\lib\\site-packages\\sksurv\\ensemble\\survival_loss.py:79: RuntimeWarning: invalid value encountered in subtract\n",
      "  pred_time = y['time'] - y_pred.ravel()\n",
      "C:\\Users\\DEPAGRA\\AppData\\Local\\Continuum\\anaconda3\\lib\\site-packages\\sksurv\\ensemble\\survival_loss.py:80: RuntimeWarning: invalid value encountered in greater\n",
      "  mask = (pred_time > 0) | y['event']\n",
      "C:\\Users\\DEPAGRA\\AppData\\Local\\Continuum\\anaconda3\\lib\\site-packages\\sksurv\\ensemble\\survival_loss.py:93: RuntimeWarning: invalid value encountered in subtract\n",
      "  pred_time = y['time'] - y_pred.ravel()\n",
      "C:\\Users\\DEPAGRA\\AppData\\Local\\Continuum\\anaconda3\\lib\\site-packages\\sksurv\\ensemble\\survival_loss.py:94: RuntimeWarning: invalid value encountered in greater\n",
      "  mask = (pred_time > 0) | y['event']\n",
      "C:\\Users\\DEPAGRA\\AppData\\Local\\Continuum\\anaconda3\\lib\\site-packages\\sksurv\\ensemble\\boosting.py:745: RuntimeWarning: divide by zero encountered in log\n",
      "  time = numpy.log(time)\n",
      "C:\\Users\\DEPAGRA\\AppData\\Local\\Continuum\\anaconda3\\lib\\site-packages\\sksurv\\ensemble\\survival_loss.py:79: RuntimeWarning: invalid value encountered in subtract\n",
      "  pred_time = y['time'] - y_pred.ravel()\n",
      "C:\\Users\\DEPAGRA\\AppData\\Local\\Continuum\\anaconda3\\lib\\site-packages\\sksurv\\ensemble\\survival_loss.py:80: RuntimeWarning: invalid value encountered in greater\n",
      "  mask = (pred_time > 0) | y['event']\n",
      "C:\\Users\\DEPAGRA\\AppData\\Local\\Continuum\\anaconda3\\lib\\site-packages\\sksurv\\ensemble\\survival_loss.py:93: RuntimeWarning: invalid value encountered in subtract\n",
      "  pred_time = y['time'] - y_pred.ravel()\n",
      "C:\\Users\\DEPAGRA\\AppData\\Local\\Continuum\\anaconda3\\lib\\site-packages\\sksurv\\ensemble\\survival_loss.py:94: RuntimeWarning: invalid value encountered in greater\n",
      "  mask = (pred_time > 0) | y['event']\n",
      "C:\\Users\\DEPAGRA\\AppData\\Local\\Continuum\\anaconda3\\lib\\site-packages\\sksurv\\ensemble\\boosting.py:745: RuntimeWarning: divide by zero encountered in log\n",
      "  time = numpy.log(time)\n",
      "C:\\Users\\DEPAGRA\\AppData\\Local\\Continuum\\anaconda3\\lib\\site-packages\\sksurv\\ensemble\\survival_loss.py:79: RuntimeWarning: invalid value encountered in subtract\n",
      "  pred_time = y['time'] - y_pred.ravel()\n",
      "C:\\Users\\DEPAGRA\\AppData\\Local\\Continuum\\anaconda3\\lib\\site-packages\\sksurv\\ensemble\\survival_loss.py:80: RuntimeWarning: invalid value encountered in greater\n",
      "  mask = (pred_time > 0) | y['event']\n",
      "C:\\Users\\DEPAGRA\\AppData\\Local\\Continuum\\anaconda3\\lib\\site-packages\\sksurv\\ensemble\\survival_loss.py:93: RuntimeWarning: invalid value encountered in subtract\n",
      "  pred_time = y['time'] - y_pred.ravel()\n",
      "C:\\Users\\DEPAGRA\\AppData\\Local\\Continuum\\anaconda3\\lib\\site-packages\\sksurv\\ensemble\\survival_loss.py:94: RuntimeWarning: invalid value encountered in greater\n",
      "  mask = (pred_time > 0) | y['event']\n",
      "C:\\Users\\DEPAGRA\\AppData\\Local\\Continuum\\anaconda3\\lib\\site-packages\\sksurv\\ensemble\\boosting.py:745: RuntimeWarning: divide by zero encountered in log\n",
      "  time = numpy.log(time)\n",
      "C:\\Users\\DEPAGRA\\AppData\\Local\\Continuum\\anaconda3\\lib\\site-packages\\sksurv\\ensemble\\survival_loss.py:79: RuntimeWarning: invalid value encountered in subtract\n",
      "  pred_time = y['time'] - y_pred.ravel()\n",
      "C:\\Users\\DEPAGRA\\AppData\\Local\\Continuum\\anaconda3\\lib\\site-packages\\sksurv\\ensemble\\survival_loss.py:80: RuntimeWarning: invalid value encountered in greater\n",
      "  mask = (pred_time > 0) | y['event']\n"
     ]
    },
    {
     "name": "stderr",
     "output_type": "stream",
     "text": [
      "C:\\Users\\DEPAGRA\\AppData\\Local\\Continuum\\anaconda3\\lib\\site-packages\\sksurv\\ensemble\\survival_loss.py:93: RuntimeWarning: invalid value encountered in subtract\n",
      "  pred_time = y['time'] - y_pred.ravel()\n",
      "C:\\Users\\DEPAGRA\\AppData\\Local\\Continuum\\anaconda3\\lib\\site-packages\\sksurv\\ensemble\\survival_loss.py:94: RuntimeWarning: invalid value encountered in greater\n",
      "  mask = (pred_time > 0) | y['event']\n",
      "C:\\Users\\DEPAGRA\\AppData\\Local\\Continuum\\anaconda3\\lib\\site-packages\\sksurv\\ensemble\\boosting.py:745: RuntimeWarning: divide by zero encountered in log\n",
      "  time = numpy.log(time)\n",
      "C:\\Users\\DEPAGRA\\AppData\\Local\\Continuum\\anaconda3\\lib\\site-packages\\sksurv\\ensemble\\survival_loss.py:79: RuntimeWarning: invalid value encountered in subtract\n",
      "  pred_time = y['time'] - y_pred.ravel()\n",
      "C:\\Users\\DEPAGRA\\AppData\\Local\\Continuum\\anaconda3\\lib\\site-packages\\sksurv\\ensemble\\survival_loss.py:80: RuntimeWarning: invalid value encountered in greater\n",
      "  mask = (pred_time > 0) | y['event']\n",
      "C:\\Users\\DEPAGRA\\AppData\\Local\\Continuum\\anaconda3\\lib\\site-packages\\sksurv\\ensemble\\survival_loss.py:93: RuntimeWarning: invalid value encountered in subtract\n",
      "  pred_time = y['time'] - y_pred.ravel()\n",
      "C:\\Users\\DEPAGRA\\AppData\\Local\\Continuum\\anaconda3\\lib\\site-packages\\sksurv\\ensemble\\survival_loss.py:94: RuntimeWarning: invalid value encountered in greater\n",
      "  mask = (pred_time > 0) | y['event']\n",
      "C:\\Users\\DEPAGRA\\AppData\\Local\\Continuum\\anaconda3\\lib\\site-packages\\sksurv\\ensemble\\boosting.py:745: RuntimeWarning: divide by zero encountered in log\n",
      "  time = numpy.log(time)\n",
      "C:\\Users\\DEPAGRA\\AppData\\Local\\Continuum\\anaconda3\\lib\\site-packages\\sksurv\\ensemble\\survival_loss.py:79: RuntimeWarning: invalid value encountered in subtract\n",
      "  pred_time = y['time'] - y_pred.ravel()\n",
      "C:\\Users\\DEPAGRA\\AppData\\Local\\Continuum\\anaconda3\\lib\\site-packages\\sksurv\\ensemble\\survival_loss.py:80: RuntimeWarning: invalid value encountered in greater\n",
      "  mask = (pred_time > 0) | y['event']\n",
      "C:\\Users\\DEPAGRA\\AppData\\Local\\Continuum\\anaconda3\\lib\\site-packages\\sksurv\\ensemble\\survival_loss.py:93: RuntimeWarning: invalid value encountered in subtract\n",
      "  pred_time = y['time'] - y_pred.ravel()\n",
      "C:\\Users\\DEPAGRA\\AppData\\Local\\Continuum\\anaconda3\\lib\\site-packages\\sksurv\\ensemble\\survival_loss.py:94: RuntimeWarning: invalid value encountered in greater\n",
      "  mask = (pred_time > 0) | y['event']\n",
      "C:\\Users\\DEPAGRA\\AppData\\Local\\Continuum\\anaconda3\\lib\\site-packages\\sksurv\\ensemble\\boosting.py:745: RuntimeWarning: divide by zero encountered in log\n",
      "  time = numpy.log(time)\n",
      "C:\\Users\\DEPAGRA\\AppData\\Local\\Continuum\\anaconda3\\lib\\site-packages\\sksurv\\ensemble\\survival_loss.py:79: RuntimeWarning: invalid value encountered in subtract\n",
      "  pred_time = y['time'] - y_pred.ravel()\n",
      "C:\\Users\\DEPAGRA\\AppData\\Local\\Continuum\\anaconda3\\lib\\site-packages\\sksurv\\ensemble\\survival_loss.py:80: RuntimeWarning: invalid value encountered in greater\n",
      "  mask = (pred_time > 0) | y['event']\n",
      "C:\\Users\\DEPAGRA\\AppData\\Local\\Continuum\\anaconda3\\lib\\site-packages\\sksurv\\ensemble\\survival_loss.py:93: RuntimeWarning: invalid value encountered in subtract\n",
      "  pred_time = y['time'] - y_pred.ravel()\n",
      "C:\\Users\\DEPAGRA\\AppData\\Local\\Continuum\\anaconda3\\lib\\site-packages\\sksurv\\ensemble\\survival_loss.py:94: RuntimeWarning: invalid value encountered in greater\n",
      "  mask = (pred_time > 0) | y['event']\n",
      "C:\\Users\\DEPAGRA\\AppData\\Local\\Continuum\\anaconda3\\lib\\site-packages\\sksurv\\ensemble\\boosting.py:745: RuntimeWarning: divide by zero encountered in log\n",
      "  time = numpy.log(time)\n",
      "C:\\Users\\DEPAGRA\\AppData\\Local\\Continuum\\anaconda3\\lib\\site-packages\\sksurv\\ensemble\\survival_loss.py:79: RuntimeWarning: invalid value encountered in subtract\n",
      "  pred_time = y['time'] - y_pred.ravel()\n",
      "C:\\Users\\DEPAGRA\\AppData\\Local\\Continuum\\anaconda3\\lib\\site-packages\\sksurv\\ensemble\\survival_loss.py:80: RuntimeWarning: invalid value encountered in greater\n",
      "  mask = (pred_time > 0) | y['event']\n",
      "C:\\Users\\DEPAGRA\\AppData\\Local\\Continuum\\anaconda3\\lib\\site-packages\\sksurv\\ensemble\\survival_loss.py:93: RuntimeWarning: invalid value encountered in subtract\n",
      "  pred_time = y['time'] - y_pred.ravel()\n",
      "C:\\Users\\DEPAGRA\\AppData\\Local\\Continuum\\anaconda3\\lib\\site-packages\\sksurv\\ensemble\\survival_loss.py:94: RuntimeWarning: invalid value encountered in greater\n",
      "  mask = (pred_time > 0) | y['event']\n",
      "C:\\Users\\DEPAGRA\\AppData\\Local\\Continuum\\anaconda3\\lib\\site-packages\\sksurv\\ensemble\\boosting.py:745: RuntimeWarning: divide by zero encountered in log\n",
      "  time = numpy.log(time)\n",
      "C:\\Users\\DEPAGRA\\AppData\\Local\\Continuum\\anaconda3\\lib\\site-packages\\sksurv\\ensemble\\survival_loss.py:79: RuntimeWarning: invalid value encountered in subtract\n",
      "  pred_time = y['time'] - y_pred.ravel()\n",
      "C:\\Users\\DEPAGRA\\AppData\\Local\\Continuum\\anaconda3\\lib\\site-packages\\sksurv\\ensemble\\survival_loss.py:80: RuntimeWarning: invalid value encountered in greater\n",
      "  mask = (pred_time > 0) | y['event']\n",
      "C:\\Users\\DEPAGRA\\AppData\\Local\\Continuum\\anaconda3\\lib\\site-packages\\sksurv\\ensemble\\survival_loss.py:93: RuntimeWarning: invalid value encountered in subtract\n",
      "  pred_time = y['time'] - y_pred.ravel()\n",
      "C:\\Users\\DEPAGRA\\AppData\\Local\\Continuum\\anaconda3\\lib\\site-packages\\sksurv\\ensemble\\survival_loss.py:94: RuntimeWarning: invalid value encountered in greater\n",
      "  mask = (pred_time > 0) | y['event']\n",
      "C:\\Users\\DEPAGRA\\AppData\\Local\\Continuum\\anaconda3\\lib\\site-packages\\sksurv\\ensemble\\boosting.py:745: RuntimeWarning: divide by zero encountered in log\n",
      "  time = numpy.log(time)\n",
      "C:\\Users\\DEPAGRA\\AppData\\Local\\Continuum\\anaconda3\\lib\\site-packages\\sksurv\\ensemble\\survival_loss.py:79: RuntimeWarning: invalid value encountered in subtract\n",
      "  pred_time = y['time'] - y_pred.ravel()\n",
      "C:\\Users\\DEPAGRA\\AppData\\Local\\Continuum\\anaconda3\\lib\\site-packages\\sksurv\\ensemble\\survival_loss.py:80: RuntimeWarning: invalid value encountered in greater\n",
      "  mask = (pred_time > 0) | y['event']\n",
      "C:\\Users\\DEPAGRA\\AppData\\Local\\Continuum\\anaconda3\\lib\\site-packages\\sksurv\\ensemble\\survival_loss.py:93: RuntimeWarning: invalid value encountered in subtract\n",
      "  pred_time = y['time'] - y_pred.ravel()\n",
      "C:\\Users\\DEPAGRA\\AppData\\Local\\Continuum\\anaconda3\\lib\\site-packages\\sksurv\\ensemble\\survival_loss.py:94: RuntimeWarning: invalid value encountered in greater\n",
      "  mask = (pred_time > 0) | y['event']\n",
      "C:\\Users\\DEPAGRA\\AppData\\Local\\Continuum\\anaconda3\\lib\\site-packages\\sksurv\\ensemble\\boosting.py:745: RuntimeWarning: divide by zero encountered in log\n",
      "  time = numpy.log(time)\n",
      "C:\\Users\\DEPAGRA\\AppData\\Local\\Continuum\\anaconda3\\lib\\site-packages\\sksurv\\ensemble\\survival_loss.py:79: RuntimeWarning: invalid value encountered in subtract\n",
      "  pred_time = y['time'] - y_pred.ravel()\n",
      "C:\\Users\\DEPAGRA\\AppData\\Local\\Continuum\\anaconda3\\lib\\site-packages\\sksurv\\ensemble\\survival_loss.py:80: RuntimeWarning: invalid value encountered in greater\n",
      "  mask = (pred_time > 0) | y['event']\n",
      "C:\\Users\\DEPAGRA\\AppData\\Local\\Continuum\\anaconda3\\lib\\site-packages\\sksurv\\ensemble\\survival_loss.py:93: RuntimeWarning: invalid value encountered in subtract\n",
      "  pred_time = y['time'] - y_pred.ravel()\n",
      "C:\\Users\\DEPAGRA\\AppData\\Local\\Continuum\\anaconda3\\lib\\site-packages\\sksurv\\ensemble\\survival_loss.py:94: RuntimeWarning: invalid value encountered in greater\n",
      "  mask = (pred_time > 0) | y['event']\n",
      "C:\\Users\\DEPAGRA\\AppData\\Local\\Continuum\\anaconda3\\lib\\site-packages\\sksurv\\ensemble\\boosting.py:745: RuntimeWarning: divide by zero encountered in log\n",
      "  time = numpy.log(time)\n",
      "C:\\Users\\DEPAGRA\\AppData\\Local\\Continuum\\anaconda3\\lib\\site-packages\\sksurv\\ensemble\\survival_loss.py:79: RuntimeWarning: invalid value encountered in subtract\n",
      "  pred_time = y['time'] - y_pred.ravel()\n",
      "C:\\Users\\DEPAGRA\\AppData\\Local\\Continuum\\anaconda3\\lib\\site-packages\\sksurv\\ensemble\\survival_loss.py:80: RuntimeWarning: invalid value encountered in greater\n",
      "  mask = (pred_time > 0) | y['event']\n",
      "C:\\Users\\DEPAGRA\\AppData\\Local\\Continuum\\anaconda3\\lib\\site-packages\\sksurv\\ensemble\\survival_loss.py:93: RuntimeWarning: invalid value encountered in subtract\n",
      "  pred_time = y['time'] - y_pred.ravel()\n",
      "C:\\Users\\DEPAGRA\\AppData\\Local\\Continuum\\anaconda3\\lib\\site-packages\\sksurv\\ensemble\\survival_loss.py:94: RuntimeWarning: invalid value encountered in greater\n",
      "  mask = (pred_time > 0) | y['event']\n",
      "C:\\Users\\DEPAGRA\\AppData\\Local\\Continuum\\anaconda3\\lib\\site-packages\\sksurv\\ensemble\\boosting.py:745: RuntimeWarning: divide by zero encountered in log\n",
      "  time = numpy.log(time)\n"
     ]
    },
    {
     "name": "stderr",
     "output_type": "stream",
     "text": [
      "C:\\Users\\DEPAGRA\\AppData\\Local\\Continuum\\anaconda3\\lib\\site-packages\\sksurv\\ensemble\\survival_loss.py:79: RuntimeWarning: invalid value encountered in subtract\n",
      "  pred_time = y['time'] - y_pred.ravel()\n",
      "C:\\Users\\DEPAGRA\\AppData\\Local\\Continuum\\anaconda3\\lib\\site-packages\\sksurv\\ensemble\\survival_loss.py:80: RuntimeWarning: invalid value encountered in greater\n",
      "  mask = (pred_time > 0) | y['event']\n",
      "C:\\Users\\DEPAGRA\\AppData\\Local\\Continuum\\anaconda3\\lib\\site-packages\\sksurv\\ensemble\\survival_loss.py:93: RuntimeWarning: invalid value encountered in subtract\n",
      "  pred_time = y['time'] - y_pred.ravel()\n",
      "C:\\Users\\DEPAGRA\\AppData\\Local\\Continuum\\anaconda3\\lib\\site-packages\\sksurv\\ensemble\\survival_loss.py:94: RuntimeWarning: invalid value encountered in greater\n",
      "  mask = (pred_time > 0) | y['event']\n",
      "C:\\Users\\DEPAGRA\\AppData\\Local\\Continuum\\anaconda3\\lib\\site-packages\\sksurv\\ensemble\\boosting.py:745: RuntimeWarning: divide by zero encountered in log\n",
      "  time = numpy.log(time)\n",
      "C:\\Users\\DEPAGRA\\AppData\\Local\\Continuum\\anaconda3\\lib\\site-packages\\sksurv\\ensemble\\survival_loss.py:79: RuntimeWarning: invalid value encountered in subtract\n",
      "  pred_time = y['time'] - y_pred.ravel()\n",
      "C:\\Users\\DEPAGRA\\AppData\\Local\\Continuum\\anaconda3\\lib\\site-packages\\sksurv\\ensemble\\survival_loss.py:80: RuntimeWarning: invalid value encountered in greater\n",
      "  mask = (pred_time > 0) | y['event']\n",
      "C:\\Users\\DEPAGRA\\AppData\\Local\\Continuum\\anaconda3\\lib\\site-packages\\sksurv\\ensemble\\survival_loss.py:93: RuntimeWarning: invalid value encountered in subtract\n",
      "  pred_time = y['time'] - y_pred.ravel()\n",
      "C:\\Users\\DEPAGRA\\AppData\\Local\\Continuum\\anaconda3\\lib\\site-packages\\sksurv\\ensemble\\survival_loss.py:94: RuntimeWarning: invalid value encountered in greater\n",
      "  mask = (pred_time > 0) | y['event']\n",
      "C:\\Users\\DEPAGRA\\AppData\\Local\\Continuum\\anaconda3\\lib\\site-packages\\sksurv\\ensemble\\boosting.py:745: RuntimeWarning: divide by zero encountered in log\n",
      "  time = numpy.log(time)\n",
      "C:\\Users\\DEPAGRA\\AppData\\Local\\Continuum\\anaconda3\\lib\\site-packages\\sksurv\\ensemble\\survival_loss.py:79: RuntimeWarning: invalid value encountered in subtract\n",
      "  pred_time = y['time'] - y_pred.ravel()\n",
      "C:\\Users\\DEPAGRA\\AppData\\Local\\Continuum\\anaconda3\\lib\\site-packages\\sksurv\\ensemble\\survival_loss.py:80: RuntimeWarning: invalid value encountered in greater\n",
      "  mask = (pred_time > 0) | y['event']\n",
      "C:\\Users\\DEPAGRA\\AppData\\Local\\Continuum\\anaconda3\\lib\\site-packages\\sksurv\\ensemble\\survival_loss.py:93: RuntimeWarning: invalid value encountered in subtract\n",
      "  pred_time = y['time'] - y_pred.ravel()\n",
      "C:\\Users\\DEPAGRA\\AppData\\Local\\Continuum\\anaconda3\\lib\\site-packages\\sksurv\\ensemble\\survival_loss.py:94: RuntimeWarning: invalid value encountered in greater\n",
      "  mask = (pred_time > 0) | y['event']\n",
      "C:\\Users\\DEPAGRA\\AppData\\Local\\Continuum\\anaconda3\\lib\\site-packages\\sksurv\\ensemble\\boosting.py:745: RuntimeWarning: divide by zero encountered in log\n",
      "  time = numpy.log(time)\n",
      "C:\\Users\\DEPAGRA\\AppData\\Local\\Continuum\\anaconda3\\lib\\site-packages\\sksurv\\ensemble\\survival_loss.py:79: RuntimeWarning: invalid value encountered in subtract\n",
      "  pred_time = y['time'] - y_pred.ravel()\n",
      "C:\\Users\\DEPAGRA\\AppData\\Local\\Continuum\\anaconda3\\lib\\site-packages\\sksurv\\ensemble\\survival_loss.py:80: RuntimeWarning: invalid value encountered in greater\n",
      "  mask = (pred_time > 0) | y['event']\n",
      "C:\\Users\\DEPAGRA\\AppData\\Local\\Continuum\\anaconda3\\lib\\site-packages\\sksurv\\ensemble\\survival_loss.py:93: RuntimeWarning: invalid value encountered in subtract\n",
      "  pred_time = y['time'] - y_pred.ravel()\n",
      "C:\\Users\\DEPAGRA\\AppData\\Local\\Continuum\\anaconda3\\lib\\site-packages\\sksurv\\ensemble\\survival_loss.py:94: RuntimeWarning: invalid value encountered in greater\n",
      "  mask = (pred_time > 0) | y['event']\n",
      "C:\\Users\\DEPAGRA\\AppData\\Local\\Continuum\\anaconda3\\lib\\site-packages\\sksurv\\ensemble\\boosting.py:745: RuntimeWarning: divide by zero encountered in log\n",
      "  time = numpy.log(time)\n",
      "C:\\Users\\DEPAGRA\\AppData\\Local\\Continuum\\anaconda3\\lib\\site-packages\\sksurv\\ensemble\\survival_loss.py:79: RuntimeWarning: invalid value encountered in subtract\n",
      "  pred_time = y['time'] - y_pred.ravel()\n",
      "C:\\Users\\DEPAGRA\\AppData\\Local\\Continuum\\anaconda3\\lib\\site-packages\\sksurv\\ensemble\\survival_loss.py:80: RuntimeWarning: invalid value encountered in greater\n",
      "  mask = (pred_time > 0) | y['event']\n",
      "C:\\Users\\DEPAGRA\\AppData\\Local\\Continuum\\anaconda3\\lib\\site-packages\\sksurv\\ensemble\\survival_loss.py:93: RuntimeWarning: invalid value encountered in subtract\n",
      "  pred_time = y['time'] - y_pred.ravel()\n",
      "C:\\Users\\DEPAGRA\\AppData\\Local\\Continuum\\anaconda3\\lib\\site-packages\\sksurv\\ensemble\\survival_loss.py:94: RuntimeWarning: invalid value encountered in greater\n",
      "  mask = (pred_time > 0) | y['event']\n",
      "C:\\Users\\DEPAGRA\\AppData\\Local\\Continuum\\anaconda3\\lib\\site-packages\\sksurv\\ensemble\\boosting.py:745: RuntimeWarning: divide by zero encountered in log\n",
      "  time = numpy.log(time)\n",
      "C:\\Users\\DEPAGRA\\AppData\\Local\\Continuum\\anaconda3\\lib\\site-packages\\sksurv\\ensemble\\survival_loss.py:79: RuntimeWarning: invalid value encountered in subtract\n",
      "  pred_time = y['time'] - y_pred.ravel()\n",
      "C:\\Users\\DEPAGRA\\AppData\\Local\\Continuum\\anaconda3\\lib\\site-packages\\sksurv\\ensemble\\survival_loss.py:80: RuntimeWarning: invalid value encountered in greater\n",
      "  mask = (pred_time > 0) | y['event']\n",
      "C:\\Users\\DEPAGRA\\AppData\\Local\\Continuum\\anaconda3\\lib\\site-packages\\sksurv\\ensemble\\survival_loss.py:93: RuntimeWarning: invalid value encountered in subtract\n",
      "  pred_time = y['time'] - y_pred.ravel()\n",
      "C:\\Users\\DEPAGRA\\AppData\\Local\\Continuum\\anaconda3\\lib\\site-packages\\sksurv\\ensemble\\survival_loss.py:94: RuntimeWarning: invalid value encountered in greater\n",
      "  mask = (pred_time > 0) | y['event']\n",
      "C:\\Users\\DEPAGRA\\AppData\\Local\\Continuum\\anaconda3\\lib\\site-packages\\sksurv\\ensemble\\boosting.py:745: RuntimeWarning: divide by zero encountered in log\n",
      "  time = numpy.log(time)\n",
      "C:\\Users\\DEPAGRA\\AppData\\Local\\Continuum\\anaconda3\\lib\\site-packages\\sksurv\\ensemble\\survival_loss.py:79: RuntimeWarning: invalid value encountered in subtract\n",
      "  pred_time = y['time'] - y_pred.ravel()\n",
      "C:\\Users\\DEPAGRA\\AppData\\Local\\Continuum\\anaconda3\\lib\\site-packages\\sksurv\\ensemble\\survival_loss.py:80: RuntimeWarning: invalid value encountered in greater\n",
      "  mask = (pred_time > 0) | y['event']\n",
      "C:\\Users\\DEPAGRA\\AppData\\Local\\Continuum\\anaconda3\\lib\\site-packages\\sksurv\\ensemble\\survival_loss.py:93: RuntimeWarning: invalid value encountered in subtract\n",
      "  pred_time = y['time'] - y_pred.ravel()\n",
      "C:\\Users\\DEPAGRA\\AppData\\Local\\Continuum\\anaconda3\\lib\\site-packages\\sksurv\\ensemble\\survival_loss.py:94: RuntimeWarning: invalid value encountered in greater\n",
      "  mask = (pred_time > 0) | y['event']\n",
      "C:\\Users\\DEPAGRA\\AppData\\Local\\Continuum\\anaconda3\\lib\\site-packages\\sksurv\\ensemble\\boosting.py:745: RuntimeWarning: divide by zero encountered in log\n",
      "  time = numpy.log(time)\n",
      "C:\\Users\\DEPAGRA\\AppData\\Local\\Continuum\\anaconda3\\lib\\site-packages\\sksurv\\ensemble\\survival_loss.py:79: RuntimeWarning: invalid value encountered in subtract\n",
      "  pred_time = y['time'] - y_pred.ravel()\n",
      "C:\\Users\\DEPAGRA\\AppData\\Local\\Continuum\\anaconda3\\lib\\site-packages\\sksurv\\ensemble\\survival_loss.py:80: RuntimeWarning: invalid value encountered in greater\n",
      "  mask = (pred_time > 0) | y['event']\n",
      "C:\\Users\\DEPAGRA\\AppData\\Local\\Continuum\\anaconda3\\lib\\site-packages\\sksurv\\ensemble\\survival_loss.py:93: RuntimeWarning: invalid value encountered in subtract\n",
      "  pred_time = y['time'] - y_pred.ravel()\n",
      "C:\\Users\\DEPAGRA\\AppData\\Local\\Continuum\\anaconda3\\lib\\site-packages\\sksurv\\ensemble\\survival_loss.py:94: RuntimeWarning: invalid value encountered in greater\n",
      "  mask = (pred_time > 0) | y['event']\n"
     ]
    },
    {
     "name": "stdout",
     "output_type": "stream",
     "text": [
      "\n"
     ]
    }
   ],
   "source": [
    "# -*- coding: utf-8 -*-\n",
    "\"\"\"\n",
    "Created on Thu Jan 31 11:28:58 2019\n",
    "\n",
    "@author: DEPAGRA\n",
    "\"\"\"\n",
    "import os\n",
    "import libdtw as lib\n",
    "from tqdm import tqdm, tqdm_notebook\n",
    "import pickle\n",
    "import pandas as pd\n",
    "import numpy as np\n",
    "import matplotlib.pyplot as plt\n",
    "import matplotlib\n",
    "from sksurv.ensemble import GradientBoostingSurvivalAnalysis\n",
    "from sklearn.linear_model import LinearRegression\n",
    "from sklearn.model_selection import GridSearchCV, ParameterGrid\n",
    "from sklearn.tree import DecisionTreeRegressor\n",
    "from sklearn.ensemble import RandomForestRegressor\n",
    "from copy import deepcopy\n",
    "import multiprocessing\n",
    "from joblib import Parallel, delayed\n",
    "from collections import defaultdict\n",
    "import ast\n",
    "\n",
    "data = lib.load_data(100)\n",
    "step_pattern = 'symmetricP2'\n",
    "\n",
    "D = lib.Dtw(data)\n",
    "\n",
    "with open('dtwObjOptWeights16AllFeats.pickle', 'rb') as f:\n",
    "    D_weights = pickle.load(f)\n",
    "D.data['feat_weights'] = D_weights\n",
    "\n",
    "try:\n",
    "    with open('data/all_sub100_%s.pickle'%step_pattern, 'rb') as f:\n",
    "        D.data_open_ended['warp_dist'] = pickle.load(f)\n",
    "except OSError as ex:\n",
    "    for _id in tqdm(D.data['queriesID']):\n",
    "        D.call_dtw(_id, step_pattern=step_pattern, n_jobs=1, open_ended=True, all_sub_seq=True)\n",
    "\n",
    "    with open('data/all_sub100_%s.pickle'%step_pattern, 'wb') as f:\n",
    "        pickle.dump(D.data_open_ended['warp_dist'], f, protocol=pickle.HIGHEST_PROTOCOL)\n",
    "\n",
    "class Estimator:\n",
    "    \n",
    "    def __init__(self, dtw_obj=D, regressor=LinearRegression(), loss='coxph', learning_rate=0.1, n_estimators=100, max_depth=3, subsample=1.0, random_state=42):\n",
    "        self.regressor = regressor\n",
    "        self.loss = loss\n",
    "        self.learning_rate = learning_rate\n",
    "        self.n_estimators = n_estimators\n",
    "        self.max_depth = max_depth\n",
    "        self.subsample = subsample\n",
    "        self.random_state = random_state\n",
    "        \n",
    "        \n",
    "        self.dtw_obj = dtw_obj\n",
    "        \n",
    "    def fit(self, x_train, y_train):\n",
    "        self.model = GradientBoostingSurvivalAnalysis(loss=self.loss,\n",
    "                                                 learning_rate = self.learning_rate,\n",
    "                                                 n_estimators=self.n_estimators,\n",
    "                                                 max_depth=self.max_depth,\n",
    "                                                 subsample=self.subsample,\n",
    "                                                 random_state = self.random_state)\n",
    "        \n",
    "        self.x_train = x_train\n",
    "        self.y_train = y_train\n",
    "        \n",
    "        self.model.fit(self.x_train, self.y_train)\n",
    "        \n",
    "        self.data_set = pd.concat([self.x_train, pd.Series(data=self.y_train['time_remaining'], index=self.x_train.index, name='time_remaining')], axis=1, sort = False)\n",
    "        self.data_set['risk'] = self.model.predict(self.x_train)\n",
    "        \n",
    "        return self\n",
    "    \n",
    "    def predict(self, new_x):\n",
    "        x_new = pd.DataFrame(deepcopy(new_x))\n",
    "        x_new['risk'] = self.model.predict(x_new)\n",
    "        query_id = list(x_new.index)[0]\n",
    "        x_length = len(self.dtw_obj.data['queries'][query_id][0]['values'])\n",
    "        x_new['time_remaining'] = x_length -x_new['length']\n",
    "        \n",
    "        self.data_set_extd = pd.concat([self.data_set, x_new], axis = 0, sort = False)\n",
    "        self.data_set_extd.sort_values(by='risk', ascending=False, inplace=True)\n",
    "\n",
    "        locations = self.data_set_extd.index.get_loc(query_id)\n",
    "        \n",
    "        locs = list()\n",
    "        if type(locations) == slice:\n",
    "            start, stop = locations.start, locations.stop\n",
    "            locs.extend([loc for loc in np.arange(start, stop)])\n",
    "        elif type(locations) == int or type(locations) == np.int64:\n",
    "            locs = [locations]\n",
    "        elif type(locations) == np.ndarray:\n",
    "            locs = np.arange(len(locations))[locations]\n",
    "        else:\n",
    "            print('ERROR')\n",
    "            print(type(locations))\n",
    "            locs = []\n",
    "                    \n",
    "        t_left = self.data_set_extd['time_remaining']\n",
    "        ests = list()\n",
    "        \n",
    "        for loc in locs:\n",
    "#            print(locs)\n",
    "#            print([x for x, y in zip(np.arange(len(t_left)), t_left.values)])\n",
    "            xy = [(x,y) for (x, y) in zip(np.arange(len(t_left)), t_left.values) if x != loc]\n",
    "            x = np.array([x[0] for x in xy]).reshape(-1,1)\n",
    "            y = np.array([x[1] for x in xy])\n",
    "            \n",
    "            reg = self.regressor.fit(X=x, y=y)\n",
    "            ests.append(reg.predict(loc)[0])\n",
    "            \n",
    "        return np.array(ests)\n",
    "    \n",
    "    def score(self, x_test, y_test):\n",
    "        y_pred = self.predict(x_test)\n",
    "        return np.mean(np.abs(y_pred - y_test['time_remaining']))\n",
    "    \n",
    "    def get_params(self, deep=True):\n",
    "        return {'dtw_obj': self.dtw_obj,\n",
    "                'regressor': self.regressor,\n",
    "                'loss': self.loss,\n",
    "                'learning_rate': self.learning_rate,\n",
    "                'n_estimators': self.n_estimators,\n",
    "                'max_depth': self.max_depth,\n",
    "                'subsample': self.subsample}\n",
    "\n",
    "    def set_params(self, parameters):\n",
    "        for parameter, value in parameters.items():\n",
    "            setattr(self, parameter, value)\n",
    "\n",
    "            \n",
    "def cv_splitter(data_set):\n",
    "    for query_id in data_set.index.unique():\n",
    "        train_id = data_set.loc[data_set.index != query_id, :].index\n",
    "        test_id = data_set.loc[data_set.index == query_id, :].index\n",
    "        \n",
    "        train_loc = list()\n",
    "        for _id in train_id.unique():\n",
    "            locs = data_set.index.get_loc(_id)\n",
    "            if type(locs) == slice:\n",
    "                start, stop = locs.start, locs.stop\n",
    "                train_loc.extend([[loc] for loc in np.arange(start, stop)])\n",
    "            elif type(locs) == int or type(locs) == np.int64:\n",
    "                train_loc.append([locs])\n",
    "            else: print('\\n', locs, type(locs))\n",
    "       \n",
    "        if type(data_set.index.get_loc(query_id)) == slice:\n",
    "            locs = data_set.index.get_loc(query_id)\n",
    "            start, stop = locs.start, locs.stop\n",
    "            test_loc = [[loc] for loc in np.arange(start, stop)]\n",
    "        elif type(data_set.index.get_loc(query_id)) == int or type(data_set.index.get_loc(query_id)) == np.int64:\n",
    "            test_loc = [data_set.index.get_loc(query_id)]\n",
    "        else: print('ERROR 2')\n",
    "        \n",
    "        yield((train_id.unique(), test_id.unique(), train_loc, test_loc))\n",
    "        \n",
    "def build_structured_array(data_set):\n",
    "    output = list()\n",
    "    for idx, row in data_set.iterrows():\n",
    "        survival_time = row['true_length'] - row['length']\n",
    "        output.append((True, survival_time))\n",
    "    res = np.array(output, dtype = [('status', bool), ('time_remaining', 'f8')])\n",
    "    return res\n",
    "\n",
    "def generate_dataset_xy(t_ref, D):\n",
    "    data_set = list()\n",
    "\n",
    "    for _id, warp_dist in D.data_open_ended['warp_dist'].items():\n",
    "        mapped_points = list(filter(lambda x: x[0]==t_ref, warp_dist))\n",
    "        for (i, j, d) in mapped_points:\n",
    "            data_point = {'DTW_distance': d,\n",
    "                          'length': j + 1,\n",
    "                          'query_id' : _id,\n",
    "                          'true_length': len(data[_id][0]['values'])}\n",
    "            data_set.append(data_point)\n",
    "        \n",
    "    data_set = pd.DataFrame(data_set)\n",
    "    data_set.index = data_set['query_id']\n",
    "    \n",
    "    data_y = build_structured_array(data_set)\n",
    "    data_set.drop(columns = ['query_id', 'true_length'], inplace = True)\n",
    "\n",
    "    for _id, row in data_set.iterrows():\n",
    "        batch = D.data['queries'][_id]\n",
    "        length = int(row['length'])\n",
    "        for pv in batch:\n",
    "            data_set.at[_id, pv['name']] = pv['values'][length - 1]\n",
    "    \n",
    "    return (data_set, data_y)\n",
    "\n",
    "def GridSearch(estimator, dtw_obj, param_grid, n_jobs, cv_splitter=cv_splitter):\n",
    "    params_iter = ParameterGrid(param_grid)\n",
    "    ref_len = len(dtw_obj.data['reference'][0]['values'])\n",
    "    \n",
    "    score_t = list()\n",
    "    for t in tqdm_notebook(np.arange(0, ref_len, 1), desc='Time loop'):\n",
    "        try:\n",
    "            with open('cv/%s.pickle'%t, 'rb') as f:\n",
    "                score_params = pickle.load(f)\n",
    "\n",
    "        except OSError as ex:\n",
    "            \n",
    "            data_x, data_y = generate_dataset_xy(t, dtw_obj)\n",
    "            score_params = list()\n",
    "            for parameters in tqdm_notebook(params_iter, desc='Parameter Loop', leave=False):\n",
    "                estimator.set_params(parameters)\n",
    "                score_cv = list()\n",
    "                for train_id, test_id, train_loc, test_loc in tqdm_notebook(cv_splitter(data_x), desc='CV loop', leave=False):\n",
    "                    x_train = data_x.loc[train_id, :]\n",
    "                    #print(x_train.shape)\n",
    "                    y_train = np.array(np.concatenate([data_y[idx] for idx in train_loc], axis=0), dtype = [('status', bool), ('time_remaining', 'f8')])\n",
    "                    #print(y_train.shape, '\\n')\n",
    "\n",
    "                    x_test = data_x.loc[test_id, :]\n",
    "                    y_test_raw = [data_y[idx] for idx in test_loc]\n",
    "\n",
    "                    y_test = np.concatenate(y_test_raw, axis=0) if len(y_test_raw)>1 else y_test_raw\n",
    "                    y_test = np.array(y_test, dtype = [('status', bool), ('time_remaining', 'f8')])\n",
    "\n",
    "                    estimator.fit(x_train, y_train)\n",
    "\n",
    "                    score = estimator.score(x_test, y_test)\n",
    "                    score_cv.append(score)\n",
    "\n",
    "                score_params.append((parameters, t, np.mean(score_cv)))\n",
    "            with open('cv/%s.pickle'%t, 'wb') as f:\n",
    "                pickle.dump(score_params, f, protocol=pickle.HIGHEST_PROTOCOL)\n",
    "\n",
    "        score_t.append(score_params)\n",
    "        \n",
    "    return score_t\n",
    "                \n",
    "lr = LinearRegression()\n",
    "tr = DecisionTreeRegressor()\n",
    "rf = RandomForestRegressor()\n",
    "param_grid = {'regressor': [rf], \n",
    "              'loss': ['squared'],\n",
    "              'learning_rate': [0.01],\n",
    "              'n_estimators': [200],\n",
    "              'max_depth': [10],\n",
    "              'subsample': [0.5]}\n",
    "\n",
    "estimator = Estimator(dtw_obj=D)\n",
    "\n",
    "scores = GridSearch(estimator=estimator, dtw_obj=D, param_grid=param_grid, n_jobs=1, cv_splitter=cv_splitter)\n",
    "\n",
    "#%%\n",
    "score_dict = dict()\n",
    "for fn in sorted(os.listdir('cv/'), key = lambda x: int(x.split('.')[0]), reverse = False):\n",
    "    with open('cv/%s'%fn, 'rb') as f:\n",
    "        single_score = pickle.load(f)\n",
    "    for triple in single_score:\n",
    "        par = str(sorted(triple[0].items()))\n",
    "        t = triple[1]\n",
    "        avg_score = triple[2]\n",
    "        if par in score_dict:\n",
    "            score_dict[par].append(avg_score)\n",
    "        else:\n",
    "            score_dict[par] = [avg_score]\n",
    "#%%\n",
    "params = list(score_dict.keys())\n",
    "colors = ['blue', 'green', 'orange', 'red']\n",
    "avg_naive = 26.19700124947938"
   ]
  },
  {
   "cell_type": "code",
   "execution_count": 5,
   "metadata": {},
   "outputs": [
    {
     "data": {
      "text/plain": [
       "415"
      ]
     },
     "execution_count": 5,
     "metadata": {},
     "output_type": "execute_result"
    }
   ],
   "source": [
    "avg_naive_smart = list()\n",
    "for t in np.arange(1, 416):\n",
    "    t_naive = list()\n",
    "    for _id in D.data['queriesID']:\n",
    "        length = len(D.data['queries'][_id][0]['values'])\n",
    "        if length > t:\n",
    "            t_naive.append(length)\n",
    "        else: pass\n",
    "    avg_naive_smart.append(np.mean(t_naive))\n",
    "    \n",
    "avg_naive_smart = np.array(avg_naive_smart)\n",
    "len(avg_naive_smart)"
   ]
  },
  {
   "cell_type": "code",
   "execution_count": 9,
   "metadata": {},
   "outputs": [
    {
     "data": {
      "application/vnd.jupyter.widget-view+json": {
       "model_id": "3f9cfc8ac8be4c5983c76114a2dc68c8",
       "version_major": 2,
       "version_minor": 0
      },
      "text/plain": [
       "HBox(children=(IntProgress(value=0, description='Time loop', max=415), HTML(value='')))"
      ]
     },
     "metadata": {},
     "output_type": "display_data"
    },
    {
     "name": "stdout",
     "output_type": "stream",
     "text": [
      "\n"
     ]
    },
    {
     "data": {
      "image/png": "[encoded data removed]",
      "text/plain": [
       "<Figure size 432x288 with 1 Axes>"
      ]
     },
     "metadata": {},
     "output_type": "display_data"
    },
    {
     "name": "stdout",
     "output_type": "stream",
     "text": [
      "[('learning_rate', 0.01), ('loss', 'squared'), ('max_depth', 10), ('n_estimators', 200), ('regressor', RandomForestRegressor(bootstrap=True, criterion='mse', max_depth=None,\n",
      "           max_features='auto', max_leaf_nodes=None,\n",
      "           min_impurity_decrease=0.0, min_impurity_split=None,\n",
      "           min_samples_leaf=1, min_samples_split=2,\n",
      "           min_weight_fraction_leaf=0.0, n_estimators=10, n_jobs=1,\n",
      "           oob_score=False, random_state=None, verbose=0, warm_start=False)), ('subsample', 0.5)]\n",
      "Minute by minute (whole reference duration): 0.829\n",
      "Minute by minute (after 1 hours): 0.828\n",
      "Minute by minute (after 2 hours): 0.858\n",
      "Minute by minute (after 3 hours): 0.945\n",
      "Minute by minute (after 4 hours): 0.977\n",
      "Minute by minute (after 5 hours): 1.000\n",
      "Minute by minute (after 6 hours): 1.000\n"
     ]
    }
   ],
   "source": [
    "# -*- coding: utf-8 -*-\n",
    "\"\"\"\n",
    "Created on Thu Jan 31 11:28:58 2019\n",
    "\n",
    "@author: DEPAGRA\n",
    "\"\"\"\n",
    "import os\n",
    "import libdtw as lib\n",
    "from tqdm import tqdm, tqdm_notebook\n",
    "import pickle\n",
    "import pandas as pd\n",
    "import numpy as np\n",
    "import matplotlib.pyplot as plt\n",
    "import matplotlib\n",
    "from sksurv.ensemble import GradientBoostingSurvivalAnalysis\n",
    "from sklearn.linear_model import LinearRegression\n",
    "from sklearn.model_selection import GridSearchCV, ParameterGrid\n",
    "from sklearn.tree import DecisionTreeRegressor\n",
    "from copy import deepcopy\n",
    "import multiprocessing\n",
    "from joblib import Parallel, delayed\n",
    "from collections import defaultdict\n",
    "import ast\n",
    "\n",
    "data = lib.load_data(100)\n",
    "step_pattern = 'symmetricP2'\n",
    "\n",
    "D = lib.Dtw(data)\n",
    "\n",
    "with open('dtwObjOptWeights16AllFeats.pickle', 'rb') as f:\n",
    "    D_weights = pickle.load(f)\n",
    "D.data['feat_weights'] = D_weights\n",
    "\n",
    "try:\n",
    "    with open('data/all_sub100_%s.pickle'%step_pattern, 'rb') as f:\n",
    "        D.data_open_ended['warp_dist'] = pickle.load(f)\n",
    "except OSError as ex:\n",
    "    for _id in tqdm(D.data['queriesID']):\n",
    "        D.call_dtw(_id, step_pattern=step_pattern, n_jobs=1, open_ended=True, all_sub_seq=True)\n",
    "\n",
    "    with open('data/all_sub100_%s.pickle'%step_pattern, 'wb') as f:\n",
    "        pickle.dump(D.data_open_ended['warp_dist'], f, protocol=pickle.HIGHEST_PROTOCOL)\n",
    "\n",
    "class Estimator:\n",
    "    \n",
    "    def __init__(self, dtw_obj=D, regressor=LinearRegression(), loss='coxph', learning_rate=0.1, n_estimators=100, max_depth=3, subsample=1.0, random_state=42):\n",
    "        self.regressor = regressor\n",
    "        self.loss = loss\n",
    "        self.learning_rate = learning_rate\n",
    "        self.n_estimators = n_estimators\n",
    "        self.max_depth = max_depth\n",
    "        self.subsample = subsample\n",
    "        self.random_state = random_state\n",
    "        \n",
    "        \n",
    "        self.dtw_obj = dtw_obj\n",
    "        \n",
    "    def fit(self, x_train, y_train):\n",
    "        self.model = GradientBoostingSurvivalAnalysis(loss=self.loss,\n",
    "                                                 learning_rate = self.learning_rate,\n",
    "                                                 n_estimators=self.n_estimators,\n",
    "                                                 max_depth=self.max_depth,\n",
    "                                                 subsample=self.subsample,\n",
    "                                                 random_state = self.random_state)\n",
    "        \n",
    "        self.x_train = x_train\n",
    "        self.y_train = y_train\n",
    "        \n",
    "        self.model.fit(self.x_train, self.y_train)\n",
    "        \n",
    "        self.data_set = pd.concat([self.x_train, pd.Series(data=self.y_train['time_remaining'], index=self.x_train.index, name='time_remaining')], axis=1, sort = False)\n",
    "        self.data_set['risk'] = self.model.predict(self.x_train)\n",
    "        \n",
    "        return self\n",
    "    \n",
    "    def predict(self, new_x):\n",
    "        x_new = pd.DataFrame(deepcopy(new_x))\n",
    "        x_new['risk'] = self.model.predict(x_new)\n",
    "        query_id = list(x_new.index)[0]\n",
    "        x_length = len(self.dtw_obj.data['queries'][query_id][0]['values'])\n",
    "        x_new['time_remaining'] = x_length -x_new['length']\n",
    "        \n",
    "        self.data_set_extd = pd.concat([self.data_set, x_new], axis = 0, sort = False)\n",
    "        self.data_set_extd.sort_values(by='risk', ascending=False, inplace=True)\n",
    "\n",
    "        locations = self.data_set_extd.index.get_loc(query_id)\n",
    "        \n",
    "        locs = list()\n",
    "        if type(locations) == slice:\n",
    "            start, stop = locations.start, locations.stop\n",
    "            locs.extend([loc for loc in np.arange(start, stop)])\n",
    "        elif type(locations) == int or type(locations) == np.int64:\n",
    "            locs = [locations]\n",
    "        elif type(locations) == np.ndarray:\n",
    "            locs = np.arange(len(locations))[locations]\n",
    "        else:\n",
    "            print('ERROR')\n",
    "            print(type(locations))\n",
    "            locs = []\n",
    "                    \n",
    "        t_left = self.data_set_extd['time_remaining']\n",
    "        ests = list()\n",
    "        \n",
    "        for loc in locs:\n",
    "#            print(locs)\n",
    "#            print([x for x, y in zip(np.arange(len(t_left)), t_left.values)])\n",
    "            xy = [(x,y) for (x, y) in zip(np.arange(len(t_left)), t_left.values) if x != loc]\n",
    "            x = np.array([x[0] for x in xy]).reshape(-1,1)\n",
    "            y = np.array([x[1] for x in xy])\n",
    "            \n",
    "            reg = self.regressor.fit(X=x, y=y)\n",
    "            ests.append(reg.predict(loc)[0])\n",
    "            \n",
    "        return np.array(ests)\n",
    "    \n",
    "    def score(self, x_test, y_test):\n",
    "        y_pred = self.predict(x_test)\n",
    "        return np.mean(np.abs(y_pred - y_test['time_remaining']))\n",
    "    \n",
    "    def get_params(self, deep=True):\n",
    "        return {'dtw_obj': self.dtw_obj,\n",
    "                'regressor': self.regressor,\n",
    "                'loss': self.loss,\n",
    "                'learning_rate': self.learning_rate,\n",
    "                'n_estimators': self.n_estimators,\n",
    "                'max_depth': self.max_depth,\n",
    "                'subsample': self.subsample}\n",
    "\n",
    "    def set_params(self, parameters):\n",
    "        for parameter, value in parameters.items():\n",
    "            setattr(self, parameter, value)\n",
    "\n",
    "            \n",
    "def cv_splitter(data_set):\n",
    "    for query_id in data_set.index.unique():\n",
    "        train_id = data_set.loc[data_set.index != query_id, :].index\n",
    "        test_id = data_set.loc[data_set.index == query_id, :].index\n",
    "        \n",
    "        train_loc = list()\n",
    "        for _id in train_id.unique():\n",
    "            locs = data_set.index.get_loc(_id)\n",
    "            if type(locs) == slice:\n",
    "                start, stop = locs.start, locs.stop\n",
    "                train_loc.extend([[loc] for loc in np.arange(start, stop)])\n",
    "            elif type(locs) == int or type(locs) == np.int64:\n",
    "                train_loc.append([locs])\n",
    "            else: print('\\n', locs, type(locs))\n",
    "       \n",
    "        if type(data_set.index.get_loc(query_id)) == slice:\n",
    "            locs = data_set.index.get_loc(query_id)\n",
    "            start, stop = locs.start, locs.stop\n",
    "            test_loc = [[loc] for loc in np.arange(start, stop)]\n",
    "        elif type(data_set.index.get_loc(query_id)) == int or type(data_set.index.get_loc(query_id)) == np.int64:\n",
    "            test_loc = [data_set.index.get_loc(query_id)]\n",
    "        else: print('ERROR 2')\n",
    "        \n",
    "        yield((train_id.unique(), test_id.unique(), train_loc, test_loc))\n",
    "        \n",
    "def build_structured_array(data_set):\n",
    "    output = list()\n",
    "    for idx, row in data_set.iterrows():\n",
    "        survival_time = row['true_length'] - row['length']\n",
    "        output.append((True, survival_time))\n",
    "    res = np.array(output, dtype = [('status', bool), ('time_remaining', 'f8')])\n",
    "    return res\n",
    "\n",
    "def generate_dataset_xy(t_ref, D):\n",
    "    data_set = list()\n",
    "\n",
    "    for _id, warp_dist in D.data_open_ended['warp_dist'].items():\n",
    "        mapped_points = list(filter(lambda x: x[0]==t_ref, warp_dist))\n",
    "        for (i, j, d) in mapped_points:\n",
    "            data_point = {'DTW_distance': d,\n",
    "                          'length': j + 1,\n",
    "                          'query_id' : _id,\n",
    "                          'true_length': len(data[_id][0]['values'])}\n",
    "            data_set.append(data_point)\n",
    "        \n",
    "    data_set = pd.DataFrame(data_set)\n",
    "    data_set.index = data_set['query_id']\n",
    "    \n",
    "    data_y = build_structured_array(data_set)\n",
    "    data_set.drop(columns = ['query_id', 'true_length'], inplace = True)\n",
    "\n",
    "    for _id, row in data_set.iterrows():\n",
    "        batch = D.data['queries'][_id]\n",
    "        length = int(row['length'])\n",
    "        for pv in batch:\n",
    "            data_set.at[_id, pv['name']] = pv['values'][length - 1]\n",
    "    \n",
    "    return (data_set, data_y)\n",
    "\n",
    "def GridSearch(estimator, dtw_obj, param_grid, n_jobs, cv_splitter=cv_splitter):\n",
    "    params_iter = ParameterGrid(param_grid)\n",
    "    ref_len = len(dtw_obj.data['reference'][0]['values'])\n",
    "    \n",
    "    score_t = list()\n",
    "    for t in tqdm_notebook(np.arange(0, ref_len, 1), desc='Time loop'):\n",
    "        try:\n",
    "            with open('cv/%s.pickle'%t, 'rb') as f:\n",
    "                score_params = pickle.load(f)\n",
    "\n",
    "        except OSError as ex:\n",
    "            \n",
    "            data_x, data_y = generate_dataset_xy(t, dtw_obj)\n",
    "            score_params = list()\n",
    "            for parameters in tqdm_notebook(params_iter, desc='Parameter Loop', leave=False):\n",
    "                estimator.set_params(parameters)\n",
    "                score_cv = list()\n",
    "                for train_id, test_id, train_loc, test_loc in tqdm_notebook(cv_splitter(data_x), desc='CV loop', leave=False):\n",
    "                    x_train = data_x.loc[train_id, :]\n",
    "                    #print(x_train.shape)\n",
    "                    y_train = np.array(np.concatenate([data_y[idx] for idx in train_loc], axis=0), dtype = [('status', bool), ('time_remaining', 'f8')])\n",
    "                    #print(y_train.shape, '\\n')\n",
    "\n",
    "                    x_test = data_x.loc[test_id, :]\n",
    "                    y_test_raw = [data_y[idx] for idx in test_loc]\n",
    "\n",
    "                    y_test = np.concatenate(y_test_raw, axis=0) if len(y_test_raw)>1 else y_test_raw\n",
    "                    y_test = np.array(y_test, dtype = [('status', bool), ('time_remaining', 'f8')])\n",
    "\n",
    "                    estimator.fit(x_train, y_train)\n",
    "\n",
    "                    score = estimator.score(x_test, y_test)\n",
    "                    score_cv.append(score)\n",
    "\n",
    "                score_params.append((parameters, t, np.mean(score_cv)))\n",
    "            with open('cv/%s.pickle'%t, 'wb') as f:\n",
    "                pickle.dump(score_params, f, protocol=pickle.HIGHEST_PROTOCOL)\n",
    "\n",
    "        score_t.append(score_params)\n",
    "        \n",
    "    return score_t\n",
    "                \n",
    "lr = LinearRegression()\n",
    "tr = DecisionTreeRegressor()\n",
    "param_grid = {'regressor': [tr], \n",
    "              'loss': ['squared'],\n",
    "              'learning_rate': [0.01],\n",
    "              'n_estimators': [200],\n",
    "              'max_depth': [10],\n",
    "              'subsample': [0.5]}\n",
    "\n",
    "estimator = Estimator(dtw_obj=D)\n",
    "\n",
    "scores = GridSearch(estimator=estimator, dtw_obj=D, param_grid=param_grid, n_jobs=1, cv_splitter=cv_splitter)\n",
    "\n",
    "#%%\n",
    "score_dict = dict()\n",
    "for fn in sorted(os.listdir('cv/'), key = lambda x: int(x.split('.')[0]), reverse = False):\n",
    "    with open('cv/%s'%fn, 'rb') as f:\n",
    "        single_score = pickle.load(f)\n",
    "    for triple in single_score:\n",
    "        par = str(sorted(triple[0].items()))\n",
    "        t = triple[1]\n",
    "        avg_score = triple[2]\n",
    "        if par in score_dict:\n",
    "            score_dict[par].append(avg_score)\n",
    "        else:\n",
    "            score_dict[par] = [avg_score]\n",
    "#%%\n",
    "params = list(score_dict.keys())\n",
    "colors = ['blue', 'green', 'orange', 'red']\n",
    "avg_naive = 26.19700124947938\n",
    "\n",
    "plt.figure()\n",
    "plt.plot(pd.Series(score_dict[params[0]]).rolling(10).mean().fillna(method = 'bfill'), label = '%d - %0.3f'%(0, np.mean(score_dict[params[0]])))\n",
    "plt.hlines(np.mean(score_dict[params[0]]), 0, 414, color = 'blue')\n",
    "plt.hlines(avg_naive, 0, 414, color = 'black', label = 'Avg Naive')\n",
    "plt.legend()\n",
    "plt.show()\n",
    "\n",
    "print(params[0])\n",
    "\n",
    "print('Minute by minute (whole reference duration): %0.3f'%np.mean(np.array(score_dict[params[0]]) < avg_naive))\n",
    "for i in np.arange(60, 415,60):\n",
    "    print('Minute by minute (after %d hours): %0.3f'%(i/60, np.mean(np.array(score_dict[params[0]])[i:] < avg_naive)))\n",
    "#print('10 Minutes Moving Average: %0.3f'%np.mean(pd.Series(score_dict[params[31]]).rolling(10).mean().fillna(method = 'bfill').values < avg_naive))\n",
    "#%%\n",
    "\n",
    "\n"
   ]
  }
 ],
 "metadata": {
  "kernelspec": {
   "display_name": "Python 3",
   "language": "python",
   "name": "python3"
  },
  "language_info": {
   "codemirror_mode": {
    "name": "ipython",
    "version": 3
   },
   "file_extension": ".py",
   "mimetype": "text/x-python",
   "name": "python",
   "nbconvert_exporter": "python",
   "pygments_lexer": "ipython3",
   "version": "3.6.5"
  }
 },
 "nbformat": 4,
 "nbformat_minor": 2
}
