{
 "cells": [
  {
   "cell_type": "code",
   "execution_count": 19,
   "metadata": {},
   "outputs": [],
   "source": [
    "import pickle\n",
    "from pprint import pprint\n",
    "\n",
    "with open('5080.pickle', \"rb\") as handle:\n",
    "    jsonData=pickle.load(handle)"
   ]
  },
  {
   "cell_type": "code",
   "execution_count": 20,
   "metadata": {},
   "outputs": [
    {
     "name": "stdout",
     "output_type": "stream",
     "text": [
      "dict_keys(['BatchId', 'BatSTimeAC', 'BatETimeAC', 'Units'])\n"
     ]
    }
   ],
   "source": [
    "pprint(jsonData.keys())"
   ]
  },
  {
   "cell_type": "code",
   "execution_count": 23,
   "metadata": {},
   "outputs": [
    {
     "name": "stdout",
     "output_type": "stream",
     "text": [
      "dict_keys(['TagName'])\n"
     ]
    }
   ],
   "source": [
    "pprint(jsonData['Units']['1']['Operations']['1.7']['PVs'][\"ba_ErguU\"].keys())"
   ]
  },
  {
   "cell_type": "code",
   "execution_count": 26,
   "metadata": {},
   "outputs": [
    {
     "name": "stdout",
     "output_type": "stream",
     "text": [
      "ba_FQ2Qyx\n",
      "ba_FQADMQfb0z\n",
      "ba_FQYXdr6Q0\n",
      "ba_FQNOJG\n",
      "ba_FQnZKYLSO02xLf\n",
      "ba_FQ68FvvUHzgUeA\n",
      "ba_FQfXW5EZxRg3\n",
      "ba_PYQtZYPJC2Ghw\n",
      "ba_FCobtZJfb5TG\n",
      "ba_FIhgSwHD\n",
      "ba_F8szer\n",
      "ba_FC3BnZ\n",
      "ba_FmYOrhonkk\n",
      "ba_FCZRM8lDxm9\n",
      "ba_FCTDbXyiQC7\n",
      "ba_PLAu1m2\n",
      "ba_PCPUSq5ah\n",
      "ba_SinhbKA\n",
      "ba_TC06nRC\n",
      "ba_TCyNE8Mdv\n",
      "ba_Fl7pvjqC\n",
      "ba_FCgrPs\n",
      "ba_FC9ME50lj\n",
      "ba_FCbhlHzOOkhs5\n",
      "ba_FCgU7jKgA2ureK\n",
      "ba_FCMidwB6QVLn\n",
      "ba_FC7TgkJodnV6\n",
      "ba_ErguU\n",
      "ba_F0zhz6e\n",
      "ba_PCGd0srEZp\n",
      "ba_PCLAMr1nuoSiAr\n",
      "ba_PCSTgdwK3V\n",
      "ba_FCZgiqD5fodPXYJ\n",
      "ba_FC2mSh7aqR37Ye\n",
      "ba_TCxXXPBmWNldwyD\n",
      "ba_TCzWpXo\n",
      "ba_TCfg3Yxn\n",
      "ba_TCkwAse0bopy8zp6\n",
      "ba_FCTwxOzL8Ow7fX\n",
      "ba_FCJTGzlWjneoKMY6G\n",
      "ba_FC9VnTk6\n",
      "ba_FCDvhG4\n",
      "ba_FCfTMuJZwI\n",
      "ba_FCgkgqssVyJO\n",
      "ba_FQWfHc7j\n",
      "ba_NCfTJTbFt2\n",
      "ba_TDZyHMh1UZ\n",
      "ba_TDZV2zDOrmiYP\n",
      "ba_FQT7dzM2wq51Z3JW\n",
      "ba_FQh8rKXE0\n",
      "ba_FQ1kbQwOUVlR\n",
      "ba_FQraEXT\n",
      "ba_FQlpPE\n",
      "ba_FQC6tzztBV4DeXemfp\n",
      "ba_FQrej6GJ5vPvJ\n",
      "ba_TZv9w2dOu\n",
      "ba_TZIm086h\n",
      "ba_TZHx41ABpBbhN\n",
      "ba_TZWZNzFFdHb\n",
      "ba_FCHDU0E38R9su4E\n",
      "ba_PCqRL4yvS3bClutA\n",
      "ba_TCOP0V4Rcn\n",
      "ba_TClpO5\n",
      "ba_TCyNE8Mdv\n",
      "ba_Fl7pvjqC\n",
      "ba_TDZyHMh1UZ\n",
      "ba_FQVzNY\n",
      "ba_TZWZNzFFdHb\n"
     ]
    }
   ],
   "source": [
    "for unit in map(str, range(1,5)):\n",
    "    for ope in jsonData['Units'][unit]['Operations'].keys():\n",
    "        for key, item in jsonData['Units'][unit]['Operations'][ope]['PVs'].items():\n",
    "            if len(item) > 1:\n",
    "                print(key)"
   ]
  }
 ],
 "metadata": {
  "kernelspec": {
   "display_name": "Python 3",
   "language": "python",
   "name": "python3"
  },
  "language_info": {
   "codemirror_mode": {
    "name": "ipython",
    "version": 3
   },
   "file_extension": ".py",
   "mimetype": "text/x-python",
   "name": "python",
   "nbconvert_exporter": "python",
   "pygments_lexer": "ipython3",
   "version": "3.6.5"
  }
 },
 "nbformat": 4,
 "nbformat_minor": 2
}
