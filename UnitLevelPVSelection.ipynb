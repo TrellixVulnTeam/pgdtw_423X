{
 "cells": [
  {
   "cell_type": "code",
   "execution_count": 1,
   "metadata": {},
   "outputs": [
    {
     "name": "stdout",
     "output_type": "stream",
     "text": [
      "de-w-5000701.crc.de.abb.com\n"
     ]
    }
   ],
   "source": [
    "%matplotlib inline\n",
    "from DTWpg import *\n",
    "import requests\n",
    "import pandas as pd\n",
    "import matplotlib.pyplot as plt\n",
    "import io\n",
    "import json\n",
    "from influxdb import DataFrameClient\n",
    "import re\n",
    "from pprint import pprint\n",
    "from datetime import datetime\n",
    "import os\n",
    "from joblib import Parallel, delayed\n",
    "import multiprocessing\n",
    "import copy\n",
    "from IPython.display import clear_output\n",
    "import time\n",
    "\n",
    "import random\n",
    "\n",
    "import numpy as np\n",
    "from collections import defaultdict\n",
    "\n",
    "import matplotlib\n",
    "import numpy as np\n",
    "import math\n",
    "\n",
    "from influxdb import DataFrameClient\n",
    "from influxdb.exceptions import InfluxDBClientError, InfluxDBServerError\n",
    "from os import getenv\n",
    "import pymssql\n",
    "import pandas as pd\n",
    "\n",
    "from datetime import datetime\n",
    "import pickle\n",
    "\n",
    "from sklearn.cross_decomposition import PLSRegression\n",
    "from scipy.special import erfinv\n",
    "from scipy.stats import f\n",
    "##influx\n",
    "client = DataFrameClient('de-w-5000701.crc.de.abb.com', 8086, '', '', 'batch_pv_offline')\n",
    "\n",
    "##mssql\n",
    "server = \"de-w-5000701.crc.de.abb.com\"\n",
    "print(server)\n",
    "user = \"sa\"\n",
    "password = \"Q1w2e3r4t5\"\n",
    "conn = pymssql.connect(server, user, password, \"BATCH_INSIGHT_DEMO\")\n",
    "get_pv_to_unit_url=\"http://de-w-5000701.crc.de.abb.com:9090/api/BatchTrend/\"\n",
    "valuedict={}\n",
    "\n",
    "labels = pd.read_csv(\"labels-20180507-cleaned.csv\", header = None, delimiter=\"\\t\")\n",
    "labelsAnonym = labels.loc[(labels[2] == \"TAG/TAG_NAME\") & ((labels[1].str.contains(\"^ba_\")) | (labels[0].str.contains(\"^ba_\"))), 0:1]"
   ]
  },
  {
   "cell_type": "markdown",
   "metadata": {},
   "source": [
    "`pvWvaluesOpe` is a dictionary containing the list of valid PVs (PVs containing values) for each operation in each unit of each batch.\n",
    "`pvInBatch` aggregates the information in `pvWvaluesOpe` at the batch level."
   ]
  },
  {
   "cell_type": "code",
   "execution_count": 2,
   "metadata": {},
   "outputs": [],
   "source": [
    "pvWvaluesOpe = defaultdict(lambda : defaultdict(lambda : defaultdict(list)))\n",
    "pvInBatch = defaultdict(list)\n",
    "for filename in os.listdir(\"recipe421/\"):\n",
    "    if filename.endswith(\".pickle\"):\n",
    "        BatchId = int(filename.split(\".\")[0])\n",
    "        with open(\"recipe421/{}.pickle\".format(BatchId), \"rb\") as infile:\n",
    "            batchData = pickle.load(infile)\n",
    "        for unit in map(str, range(1,5)):\n",
    "            for ope in batchData['Units'][unit]['Operations'].keys(): \n",
    "                for tagName, item in batchData['Units'][unit]['Operations'][ope]['PVs'].items():\n",
    "                    if len(item) > 1:\n",
    "                        pvWvaluesOpe[BatchId][unit][ope].append(tagName)\n",
    "                        pvInBatch[BatchId].append(tagName)\n",
    "        pvInBatch[BatchId] = list(set(pvInBatch[BatchId]))\n",
    "                #pprint(batchData['Units'][unit]['Operations'][ope]['PVs'].keys())"
   ]
  },
  {
   "cell_type": "markdown",
   "metadata": {},
   "source": [
    "Check if any batch has no valid PV."
   ]
  },
  {
   "cell_type": "code",
   "execution_count": 3,
   "metadata": {},
   "outputs": [
    {
     "data": {
      "text/plain": [
       "[5507]"
      ]
     },
     "execution_count": 3,
     "metadata": {},
     "output_type": "execute_result"
    }
   ],
   "source": [
    "noPV = list()\n",
    "for key, item in pvInBatch.items():\n",
    "    if not len(item):\n",
    "        noPV.append(key)\n",
    "noPV"
   ]
  },
  {
   "cell_type": "markdown",
   "metadata": {},
   "source": [
    "`5507` has no values for any PV, so it's better to remove any related variable."
   ]
  },
  {
   "cell_type": "code",
   "execution_count": 4,
   "metadata": {},
   "outputs": [],
   "source": [
    "#os.remove(\"recipe421/5507.pickle\")\n",
    "try: _ = pvWvaluesOpe.pop(5507)\n",
    "except: pass\n",
    "_ = pvInBatch.pop(5507)\n",
    "allIDs = list(pvInBatch.keys())"
   ]
  },
  {
   "cell_type": "markdown",
   "metadata": {},
   "source": [
    "Now I check the common PVs at batch level, comparing it to the average number ov PVs in the batches."
   ]
  },
  {
   "cell_type": "code",
   "execution_count": 5,
   "metadata": {},
   "outputs": [
    {
     "name": "stdout",
     "output_type": "stream",
     "text": [
      "Average number of PVs: 99\n",
      "Common PVs: 89\n"
     ]
    }
   ],
   "source": [
    "commonPvs = set(pvInBatch[5080])\n",
    "\n",
    "for _id, pvs in list(pvInBatch.items()):\n",
    "    setPv = set(pvs)\n",
    "    commonPvs.intersection_update(setPv)\n",
    "    if len(commonPvs)<1:\n",
    "        print(_id)\n",
    "        break\n",
    "avgPV = np.mean([len(item) for key, item in pvInBatch.items()])\n",
    "\n",
    "print(\"Average number of PVs: {:.0f}\\nCommon PVs: {}\".format(avgPV, len(commonPvs)))\n",
    "commonPvs = list(commonPvs)"
   ]
  },
  {
   "cell_type": "markdown",
   "metadata": {},
   "source": [
    "In order to have coherent data, I select only batches containing valid PVs in all the 4 units. The other batches are deleted."
   ]
  },
  {
   "cell_type": "code",
   "execution_count": 6,
   "metadata": {},
   "outputs": [],
   "source": [
    "w4units = list() # list of batches with all 4 units\n",
    "for BatchId in allIDs:\n",
    "    if len(pvWvaluesOpe[BatchId].keys()) == 4:\n",
    "           w4units.append(BatchId)\n",
    "allIDsSet = set(allIDs)\n",
    "no4units = list(allIDsSet.difference(set(w4units)))\n",
    "for _id in no4units:\n",
    "    _ = pvWvaluesOpe.pop(_id)\n",
    "    _ = pvInBatch.pop(_id)\n",
    "    \n",
    "allIDs = list(pvInBatch.keys())"
   ]
  },
  {
   "cell_type": "markdown",
   "metadata": {},
   "source": [
    "### Aggregating Data at Units level\n",
    "\n",
    "I now aggregate the data at the unit level thanks to the information in the `pvWvaluesOpe`."
   ]
  },
  {
   "cell_type": "code",
   "execution_count": 7,
   "metadata": {},
   "outputs": [],
   "source": [
    "try: os.mkdir(\"units\")\n",
    "except: pass\n",
    "unitPVsPerBatch = dict()\n",
    "\n",
    "for unit in map(str, range(1,5)):\n",
    "    unitPVsPerBatch[unit] = defaultdict(dict)\n",
    "    try: os.mkdir(\"units/{}\".format(unit))\n",
    "    except: pass\n",
    "\n",
    "for BatchId, Units in pvWvaluesOpe.items():\n",
    "    for unitId, Operations in Units.items():\n",
    "        pvs = set()\n",
    "        for opeId, pvList in Operations.items():\n",
    "            pvs= pvs.union(set(pvList))\n",
    "        pvsList = list(pvs)\n",
    "        unitPVsPerBatch[unitId][BatchId] = pvsList"
   ]
  },
  {
   "cell_type": "code",
   "execution_count": 8,
   "metadata": {},
   "outputs": [],
   "source": [
    "unitsPVs = dict()\n",
    "for unit, batch in unitPVsPerBatch.items():\n",
    "    commonPVs = set(batch[5082])\n",
    "    for BatchId, pvsList in batch.items():\n",
    "        commonPVs.intersection_update(set(pvsList))\n",
    "    unitsPVs[unit] = list(commonPVs)"
   ]
  },
  {
   "cell_type": "code",
   "execution_count": 9,
   "metadata": {},
   "outputs": [
    {
     "name": "stdout",
     "output_type": "stream",
     "text": [
      "1 94\n",
      "2 1\n",
      "3 95\n",
      "4 1\n"
     ]
    }
   ],
   "source": [
    "for unit, pvs in unitsPVs.items():\n",
    "    print(unit, len(pvs))"
   ]
  },
  {
   "cell_type": "markdown",
   "metadata": {},
   "source": [
    "Only units 1 and 3 are suitable for variables selection. Let's start with unit 1, collecting the PV values at this level"
   ]
  },
  {
   "cell_type": "code",
   "execution_count": 10,
   "metadata": {},
   "outputs": [
    {
     "data": {
      "image/png": "[encoded data removed]",
      "text/plain": [
       "<Figure size 432x288 with 1 Axes>"
      ]
     },
     "metadata": {},
     "output_type": "display_data"
    },
    {
     "data": {
      "image/png": "[encoded data removed]",
      "text/plain": [
       "<Figure size 432x288 with 1 Axes>"
      ]
     },
     "metadata": {},
     "output_type": "display_data"
    }
   ],
   "source": [
    "for unitSelect in ['1', '3']:\n",
    "\n",
    "    unitData = defaultdict(list)\n",
    "\n",
    "    if \"unit{}Data.pickle\".format(unitSelect) in os.listdir(\"units/\"):\n",
    "        with open(\"units/unit{}Data.pickle\".format(unitSelect), \"rb\") as infile:\n",
    "            unitData = pickle.load(infile)\n",
    "        plt.hist([len(item[0]['values']) for _, item in unitData.items()])\n",
    "        plt.title(\"Unit {}, Length Histogram\".format(unitSelect))\n",
    "        plt.show()\n",
    "    else:\n",
    "        print(\"Collecting Unit {}:\".format(unitSelect))\n",
    "        for BatchId in allIDs:\n",
    "            with open(\"recipe421/{}.pickle\".format(BatchId), \"rb\") as infile:\n",
    "                batch = pickle.load(infile)\n",
    "\n",
    "            start = batch['Units'][unitSelect][\"BaeSTime\"]\n",
    "            end = batch['Units'][unitSelect][\"BaeETime\"]\n",
    "            for tagName in unitsPVs[unitSelect]:\n",
    "                unitData[BatchId].append(get_pv_values(pvlist = tagName, starttime = formatTime(start), endtime = formatTime(end)))\n",
    "            print(BatchId, end = \" \")\n",
    "\n",
    "        with open(\"units/unit{}Data.pickle\".format(unitSelect), 'wb') as handle:\n",
    "            pickle.dump(unitData, handle, protocol=pickle.HIGHEST_PROTOCOL)\n",
    "        \n",
    "        plt.hist([len(item[0]['values']) for _, item in unitData.items()])\n",
    "        plt.title(\"Unit {}, Length Histogram\".format(unitSelect))\n",
    "        plt.show()"
   ]
  },
  {
   "cell_type": "markdown",
   "metadata": {},
   "source": [
    "For both units the data are quite long, this could cause an extremely long computation time to select variables. For this, I first try with a subsample of 50 batches, assessing the time to compute all the single variate distances."
   ]
  },
  {
   "cell_type": "code",
   "execution_count": 11,
   "metadata": {},
   "outputs": [],
   "source": [
    "with open(\"units/unit{}Data.pickle\".format(3), \"rb\") as infile:\n",
    "    unitData = pickle.load(infile)\n",
    "\n",
    "unit3IDs = list(unitData.keys())"
   ]
  },
  {
   "cell_type": "markdown",
   "metadata": {},
   "source": [
    "The following function performs DTW calculation on a certain set of batches. Since the distance metric and the step pattern are both symmetric, the DTW distance is symmetric so it is possible tu calculate just half of the combinations."
   ]
  },
  {
   "cell_type": "code",
   "execution_count": 51,
   "metadata": {},
   "outputs": [],
   "source": [
    "def pairDTW(BatchId, dataRaw):\n",
    "    data = copy.deepcopy(dataRaw)\n",
    "    \n",
    "    IDs = sorted([key for key in data.keys() if isinstance(key, int)])\n",
    "    \n",
    "    toPop = [_id for _id in IDs if _id < BatchId]\n",
    "    \n",
    "    if len(IDs) - len(toPop) < 2:\n",
    "        return []\n",
    "    \n",
    "    for _id in toPop:\n",
    "        try: _ = data.pop(_id)\n",
    "        except: pass\n",
    "\n",
    "    data['reference'] = BatchId\n",
    "\n",
    "    res = dtw(jsonObj = data, \n",
    "      open_ended = False,  \n",
    "      only_distance = True, \n",
    "      dist_measure = \"euclidean\",\n",
    "      scale = True,\n",
    "      low_filter = False,\n",
    "      shapeDTW = False,\n",
    "      norm_dist = True,\n",
    "      undersampling = False,\n",
    "      n_jobs = 1)\n",
    "\n",
    "    res.ApplyDTW()\n",
    "\n",
    "    out = [item[0] for key, item in res.output.items()]\n",
    "    \n",
    "    return out\n",
    "    \n",
    "    \n",
    "def allPairsDTW(dataRaw):\n",
    "    \n",
    "    num_cores = multiprocessing.cpu_count()\n",
    "    \n",
    "    IDs = sorted([key for key in dataRaw.keys() if isinstance(key, int)])\n",
    "    \n",
    "    results = Parallel(n_jobs=num_cores, verbose = 50)(delayed(pairDTW)(BatchId, dataRaw) for BatchId in IDs[:-1])\n",
    "        \n",
    "    output = list()\n",
    "    for res in results:\n",
    "        output.extend(res)\n",
    "        \n",
    "    return output\n",
    "\n",
    "def processVariable(tagName, selectedPVs, selectedIDs, df):\n",
    "    if check(df, tagName, selectedIDs):\n",
    "        return []\n",
    "    \n",
    "    selectedPVsIdx = [allPVsIdx[tagName] for tagName in selectedPVs]\n",
    "    PVsIdx = selectedPVsIdx + [allPVsIdx[tagName]]\n",
    "    data = dict()\n",
    "    \n",
    "    # missing a check if the data is already present in the data frame\n",
    "    # could be possible to implement a check only on the pv name\n",
    "    \n",
    "    \n",
    "    for _id in selectedIDs:\n",
    "        data[_id] = [unitData[_id][j] for j in PVsIdx]\n",
    "    \n",
    "    results = allPairsDTW(dataRaw=data)\n",
    "    for res in results:\n",
    "        res['PV_name'] = tagName\n",
    "    return results       \n",
    "\n",
    "def check(df, tagName, selectedIDs):\n",
    "    d = df.loc[(df['PV_name'] == tagName) & (df['refID'].isin(selectedIDs)) & (df['queryID'].isin(selectedIDs)), :]\n",
    "    return bool(len(d))"
   ]
  },
  {
   "cell_type": "code",
   "execution_count": 13,
   "metadata": {},
   "outputs": [],
   "source": [
    "sampleData = dict()\n",
    "for _id in [5082, 5083, 5084]:\n",
    "    sampleData[_id] = copy.deepcopy(unitData[_id])"
   ]
  },
  {
   "cell_type": "code",
   "execution_count": 14,
   "metadata": {},
   "outputs": [
    {
     "name": "stdout",
     "output_type": "stream",
     "text": [
      "[Parallel(n_jobs=8)]: Using backend LokyBackend with 8 concurrent workers.\n",
      "[Parallel(n_jobs=8)]: Done   1 tasks      | elapsed:    5.4s\n",
      "[Parallel(n_jobs=8)]: Done   2 out of   2 | elapsed:    7.3s remaining:    0.0s\n",
      "[Parallel(n_jobs=8)]: Done   2 out of   2 | elapsed:    7.3s finished\n"
     ]
    },
    {
     "data": {
      "text/plain": [
       "[{'refID': 5082,\n",
       "  'queryID': 5083,\n",
       "  'T_ref': 1018,\n",
       "  'T_query': 1018,\n",
       "  'DTW_dist': 4.8790905366028641e-08},\n",
       " {'refID': 5082,\n",
       "  'queryID': 5084,\n",
       "  'T_ref': 1018,\n",
       "  'T_query': 1231,\n",
       "  'DTW_dist': 1.3469566081740654},\n",
       " {'refID': 5083,\n",
       "  'queryID': 5084,\n",
       "  'T_ref': 1018,\n",
       "  'T_query': 1231,\n",
       "  'DTW_dist': 1.3469566081740654}]"
      ]
     },
     "execution_count": 14,
     "metadata": {},
     "output_type": "execute_result"
    }
   ],
   "source": [
    "allPairsDTW(sampleData)"
   ]
  },
  {
   "cell_type": "code",
   "execution_count": 15,
   "metadata": {},
   "outputs": [],
   "source": [
    "allPVsIdx = dict()\n",
    "for j in range(len(unitData[5082])):\n",
    "    tagName = unitData[5082][j]['name']\n",
    "    allPVsIdx[tagName] = j\n",
    "PVsSet = set(allPVsIdx.keys())\n",
    "selectedPVs = list()"
   ]
  },
  {
   "cell_type": "markdown",
   "metadata": {},
   "source": [
    "From a previously performed analysis I obtained the following list of informative variables."
   ]
  },
  {
   "cell_type": "code",
   "execution_count": 16,
   "metadata": {},
   "outputs": [],
   "source": [
    "informativePVs = ['ba_F8szer', 'ba_PCGd0srEZp', 'ba_FQkqszuusF7QDi', 'ba_FCHDU0E38R9su4E','ba_F0zhz6e', 'ba_FIhgSwHD', 'ba_FCsYgvPgi0N', 'ba_FC7fl4f1HT5', 'ba_FC8fHeBVpUFncPI', 'ba_F4vtJ1', 'ba_FCrBDixZDXjb', \n",
    " 'ba_PCSTgdwK3V', 'ba_FC3BnZ', 'ba_FCgrPs', 'ba_FCobtZJfb5TG', 'ba_FC2mSh7aqR37Ye', 'ba_Fl7pvjqC', 'ba_PCPUSq5ah', 'ba_FCedKru8pHF7Ae1BA6QR', 'ba_TDZV2zDOrmiYP', 'ba_FCBbekJeA7', 'ba_FQ68FvvUHzgUeA',\n",
    " 'ba_FQYXdr6Q0', 'ba_TDZyHMh1UZ', 'ba_FpxlMOAyc5', 'ba_FQWfHc7j', 'ba_TCxXXPBmWNldwyD', 'ba_PLAu1m2', 'ba_FCgU7jKgA2ureK', 'ba_TCkwAse0bopy8zp6', 'ba_FQlpPE', 'ba_FCGUglDXyPKrnk38', 'ba_SinhbKA',\n",
    " 'ba_ErguU', 'ba_FQ1kbQwOUVlR', 'ba_TCyNE8Mdv', 'ba_TZHx41ABpBbhN', 'ba_FmYOrhonkk', 'ba_PYQtZYPJC2Ghw', 'ba_TCzWpXo', 'ba_FQraEXT', 'ba_TIJSj', 'ba_TZWZNzFFdHb', 'ba_PCLAMr1nuoSiAr', 'ba_TCfg3Yxn',\n",
    " 'ba_FQh8rKXE0', 'ba_TZIm086h', 'ba_TZv9w2dOu', 'ba_FQnZKYLSO02xLf', 'ba_TC06nRC', 'ba_FQADMQfb0z', 'ba_FQC6tzztBV4DeXemfp', 'ba_FQ2Qyx', 'ba_TrWfpiPrs', 'ba_FCDvhG4', 'ba_PCG6Z9', 'ba_FQT7dzM2wq51Z3JW',\n",
    " 'ba_FC7NvzX', 'ba_FCZgiqD5fodPXYJ', 'ba_FQNOJG', 'ba_FQrej6GJ5vPvJ', 'ba_FQVzNY', 'ba_FCgMUOKxMUzgN', 'ba_FQK6C3k2v6Z', 'ba_FCywcBXpqpo', 'ba_FQfXW5EZxRg3', 'ba_TZNCmUn29mO']"
   ]
  },
  {
   "cell_type": "markdown",
   "metadata": {},
   "source": [
    "The remaining PVs can be discarded in following analysis"
   ]
  },
  {
   "cell_type": "code",
   "execution_count": 17,
   "metadata": {},
   "outputs": [],
   "source": [
    "nonInformativePVs = list(PVsSet.difference(set(informativePVs)))"
   ]
  },
  {
   "cell_type": "markdown",
   "metadata": {},
   "source": [
    "Our aim now is to iteratively select the more consistent PVs among the `informativePVs`, building a set of optimal features for a multivariate DTW.\n",
    "\n",
    "Let's explicitly find the best PV for single variate DTW.\n",
    "I have a shuffled list of batch id's, and for computational time reasons I compute DTW distance for all pairs of batches just for subgroups of 8 bathces per time.\n",
    "The information will be stored in a pandas.DataFrame and a .csv file."
   ]
  },
  {
   "cell_type": "code",
   "execution_count": 18,
   "metadata": {},
   "outputs": [],
   "source": [
    "random.seed(42)\n",
    "random.shuffle(unit3IDs)"
   ]
  },
  {
   "cell_type": "code",
   "execution_count": 19,
   "metadata": {},
   "outputs": [
    {
     "data": {
      "text/html": [
       "<div>\n",
       "<style scoped>\n",
       "    .dataframe tbody tr th:only-of-type {\n",
       "        vertical-align: middle;\n",
       "    }\n",
       "\n",
       "    .dataframe tbody tr th {\n",
       "        vertical-align: top;\n",
       "    }\n",
       "\n",
       "    .dataframe thead th {\n",
       "        text-align: right;\n",
       "    }\n",
       "</style>\n",
       "<table border=\"1\" class=\"dataframe\">\n",
       "  <thead>\n",
       "    <tr style=\"text-align: right;\">\n",
       "      <th></th>\n",
       "      <th>refID</th>\n",
       "      <th>queryID</th>\n",
       "      <th>T_ref</th>\n",
       "      <th>T_query</th>\n",
       "      <th>DTW_dist</th>\n",
       "      <th>PV_name</th>\n",
       "    </tr>\n",
       "  </thead>\n",
       "  <tbody>\n",
       "    <tr>\n",
       "      <th>0</th>\n",
       "      <td>5084</td>\n",
       "      <td>5293</td>\n",
       "      <td>1231</td>\n",
       "      <td>1611</td>\n",
       "      <td>0.000772</td>\n",
       "      <td>ba_F8szer</td>\n",
       "    </tr>\n",
       "    <tr>\n",
       "      <th>1</th>\n",
       "      <td>5084</td>\n",
       "      <td>5093</td>\n",
       "      <td>1231</td>\n",
       "      <td>1850</td>\n",
       "      <td>0.000448</td>\n",
       "      <td>ba_F8szer</td>\n",
       "    </tr>\n",
       "    <tr>\n",
       "      <th>2</th>\n",
       "      <td>5084</td>\n",
       "      <td>5225</td>\n",
       "      <td>1231</td>\n",
       "      <td>1204</td>\n",
       "      <td>0.000908</td>\n",
       "      <td>ba_F8szer</td>\n",
       "    </tr>\n",
       "    <tr>\n",
       "      <th>3</th>\n",
       "      <td>5084</td>\n",
       "      <td>5333</td>\n",
       "      <td>1231</td>\n",
       "      <td>2465</td>\n",
       "      <td>0.000640</td>\n",
       "      <td>ba_F8szer</td>\n",
       "    </tr>\n",
       "    <tr>\n",
       "      <th>4</th>\n",
       "      <td>5084</td>\n",
       "      <td>5330</td>\n",
       "      <td>1231</td>\n",
       "      <td>1916</td>\n",
       "      <td>0.000743</td>\n",
       "      <td>ba_F8szer</td>\n",
       "    </tr>\n",
       "  </tbody>\n",
       "</table>\n",
       "</div>"
      ],
      "text/plain": [
       "   refID  queryID  T_ref  T_query  DTW_dist    PV_name\n",
       "0   5084     5293   1231     1611  0.000772  ba_F8szer\n",
       "1   5084     5093   1231     1850  0.000448  ba_F8szer\n",
       "2   5084     5225   1231     1204  0.000908  ba_F8szer\n",
       "3   5084     5333   1231     2465  0.000640  ba_F8szer\n",
       "4   5084     5330   1231     1916  0.000743  ba_F8szer"
      ]
     },
     "execution_count": 19,
     "metadata": {},
     "output_type": "execute_result"
    }
   ],
   "source": [
    "try: df = pd.read_csv(\"units/selectVars/level1.csv\", header = 0)\n",
    "except: df = pd.DataFrame(columns = [\"refID\", \"queryID\", \"T_ref\", \"T_query\", \"DTW_dist\", \"PV_name\"])\n",
    "df.head()"
   ]
  },
  {
   "cell_type": "code",
   "execution_count": 20,
   "metadata": {},
   "outputs": [],
   "source": [
    "selectedPVsIdx = [allPVsIdx[tagName] for tagName in selectedPVs]"
   ]
  },
  {
   "cell_type": "code",
   "execution_count": 21,
   "metadata": {},
   "outputs": [
    {
     "data": {
      "text/plain": [
       "[5293, 5093, 5225, 5333, 5330, 5415, 5125, 5084]"
      ]
     },
     "execution_count": 21,
     "metadata": {},
     "output_type": "execute_result"
    }
   ],
   "source": [
    "iteration = 1\n",
    "K = 8 # number of batches per group\n",
    "selectedIDs = unit3IDs[(iteration-1)*K : iteration*K]\n",
    "selectedIDs"
   ]
  },
  {
   "cell_type": "code",
   "execution_count": 22,
   "metadata": {},
   "outputs": [
    {
     "name": "stdout",
     "output_type": "stream",
     "text": [
      "Done\n"
     ]
    }
   ],
   "source": [
    "J = len(informativePVs)\n",
    "j = 1\n",
    "start = time.time()\n",
    "\n",
    "for tagName in informativePVs:\n",
    "\n",
    "    print(tagName, \"{}/{}\".format(j, J))\n",
    "    j += 1\n",
    "    results = processVariable(tagName, selectedPVs, selectedIDs, df)\n",
    "    clear_output()\n",
    "    \n",
    "    if not results:\n",
    "        continue\n",
    "    df = df.append(pd.DataFrame(results), ignore_index=True, sort = False)\n",
    "print(\"Done\")"
   ]
  },
  {
   "cell_type": "code",
   "execution_count": 23,
   "metadata": {},
   "outputs": [],
   "source": [
    "df.to_csv(\"units/selectvars/level1.csv\", header = True, index = False)"
   ]
  },
  {
   "cell_type": "markdown",
   "metadata": {},
   "source": [
    "Check if the number of iterations is sufficient, otherwise select other group of batches and add data"
   ]
  },
  {
   "cell_type": "code",
   "execution_count": 24,
   "metadata": {},
   "outputs": [
    {
     "name": "stdout",
     "output_type": "stream",
     "text": [
      "More iterations needed\n"
     ]
    }
   ],
   "source": [
    "dfAgg = df.groupby(\"PV_name\").aggregate({\"DTW_dist\" : \"sum\"})\n",
    "minDist = min(dfAgg['DTW_dist'])\n",
    "candNum = len(dfAgg.loc[dfAgg['DTW_dist'] == minDist, :])\n",
    "if candNum > 1:\n",
    "    print(\"More iterations needed\")"
   ]
  },
  {
   "cell_type": "code",
   "execution_count": 34,
   "metadata": {},
   "outputs": [],
   "source": [
    "def iterationStep(iteration, level):\n",
    "    K = 8 # number of batches per group\n",
    "    selectedIDs = unit3IDs[(iteration-1)*K : iteration*K]\n",
    "    J = len(informativePVs)\n",
    "    j = 1\n",
    "    start = time.time()\n",
    "    try: df = pd.read_csv(\"units/selectVars/level{}.csv\".format(level), header = 0)\n",
    "    except: df = pd.DataFrame(columns = [\"refID\", \"queryID\", \"T_ref\", \"T_query\", \"DTW_dist\", \"PV_name\"])\n",
    "    for tagName in informativePVs:\n",
    "\n",
    "        print(tagName, \"{}/{}\".format(j, J))\n",
    "        j += 1\n",
    "        if tagName not in selectedPVs:\n",
    "            results = processVariable(tagName, selectedPVs, selectedIDs, df)\n",
    "            clear_output()\n",
    "\n",
    "            if not results:\n",
    "                continue\n",
    "            df = df.append(pd.DataFrame(results), ignore_index=True, sort = False)\n",
    "            df.to_csv(\"units/selectvars/level{}.csv\".format(level), header = True, index = False)\n",
    "    \n",
    "    print(\"Done\")\n",
    "    dfAgg = df.groupby(\"PV_name\").aggregate({\"DTW_dist\" : \"sum\"})\n",
    "    minDist = min(dfAgg['DTW_dist'])\n",
    "    candNum = len(dfAgg.loc[dfAgg['DTW_dist'] == minDist, :])\n",
    "    if candNum > 1:\n",
    "        print(\"More iterations needed, min distance: {:.04f}, number of candidates: {}\".format(minDist, candNum))\n",
    "    return candNum == 1"
   ]
  },
  {
   "cell_type": "code",
   "execution_count": 45,
   "metadata": {},
   "outputs": [],
   "source": [
    "def iterationStep(iteration, level):\n",
    "    K = 8 # number of batches per group\n",
    "    selectedIDs = unit3IDs[(iteration-1)*K : iteration*K]\n",
    "    J = len(PVsToConsider)\n",
    "    j = 1\n",
    "    start = time.time()\n",
    "    try: df = pd.read_csv(\"units/selectVars/level{}.csv\".format(level), header = 0)\n",
    "    except: df = pd.DataFrame(columns = [\"refID\", \"queryID\", \"T_ref\", \"T_query\", \"DTW_dist\", \"PV_name\"])\n",
    "    for tagName in PVsToConsider:\n",
    "\n",
    "        print(tagName, \"{}/{}\".format(j, J))\n",
    "        j += 1\n",
    "        if tagName not in selectedPVs:\n",
    "            results = processVariable(tagName, selectedPVs, selectedIDs, df)\n",
    "            clear_output()\n",
    "\n",
    "            if not results:\n",
    "                continue\n",
    "            df = df.append(pd.DataFrame(results), ignore_index=True, sort = False)\n",
    "            df.to_csv(\"units/selectvars/level{}.csv\".format(level), header = True, index = False)\n",
    "    \n",
    "    print(\"Done\")\n",
    "    dfAgg = df.groupby(\"PV_name\").aggregate({\"DTW_dist\" : \"sum\"})\n",
    "    minDist = min(dfAgg['DTW_dist'])\n",
    "    candNum = len(dfAgg.loc[dfAgg['DTW_dist'] == minDist, :])\n",
    "    if candNum > 1:\n",
    "        print(\"More iterations needed, min distance: {:.04f}, number of candidates: {}\".format(minDist, candNum))\n",
    "    return candNum == 1"
   ]
  },
  {
   "cell_type": "code",
   "execution_count": 26,
   "metadata": {},
   "outputs": [
    {
     "name": "stdout",
     "output_type": "stream",
     "text": [
      "Done\n",
      "More iterations needed, min distance: 0.0000, number of candidates: 3\n"
     ]
    },
    {
     "data": {
      "text/plain": [
       "False"
      ]
     },
     "execution_count": 26,
     "metadata": {},
     "output_type": "execute_result"
    }
   ],
   "source": [
    "iterationStep(iteration = 2, level = 1)"
   ]
  },
  {
   "cell_type": "code",
   "execution_count": 27,
   "metadata": {},
   "outputs": [
    {
     "name": "stdout",
     "output_type": "stream",
     "text": [
      "Done\n",
      "More iterations needed, min distance: 0.0000, number of candidates: 3\n"
     ]
    },
    {
     "data": {
      "text/plain": [
       "False"
      ]
     },
     "execution_count": 27,
     "metadata": {},
     "output_type": "execute_result"
    }
   ],
   "source": [
    "iterationStep(iteration = 3, level = 1)"
   ]
  },
  {
   "cell_type": "code",
   "execution_count": 32,
   "metadata": {},
   "outputs": [
    {
     "name": "stdout",
     "output_type": "stream",
     "text": [
      "Done\n",
      "More iterations needed, min distance: 0.0000, number of candidates: 2\n"
     ]
    },
    {
     "data": {
      "text/plain": [
       "False"
      ]
     },
     "execution_count": 32,
     "metadata": {},
     "output_type": "execute_result"
    }
   ],
   "source": [
    "iterationStep(iteration = 4, level = 1)"
   ]
  },
  {
   "cell_type": "code",
   "execution_count": 30,
   "metadata": {},
   "outputs": [
    {
     "name": "stdout",
     "output_type": "stream",
     "text": [
      "Done\n",
      "More iterations needed, min distance: 0.0000, number of candidates: 2\n"
     ]
    },
    {
     "data": {
      "text/plain": [
       "False"
      ]
     },
     "execution_count": 30,
     "metadata": {},
     "output_type": "execute_result"
    }
   ],
   "source": [
    "iterationStep(iteration = 5, level = 1)"
   ]
  },
  {
   "cell_type": "code",
   "execution_count": 33,
   "metadata": {},
   "outputs": [
    {
     "name": "stdout",
     "output_type": "stream",
     "text": [
      "Done\n",
      "More iterations needed, min distance: 0.0000, number of candidates: 2\n"
     ]
    },
    {
     "data": {
      "text/plain": [
       "False"
      ]
     },
     "execution_count": 33,
     "metadata": {},
     "output_type": "execute_result"
    }
   ],
   "source": [
    "iterationStep(iteration = 6, level = 1)"
   ]
  },
  {
   "cell_type": "code",
   "execution_count": 41,
   "metadata": {},
   "outputs": [],
   "source": [
    "PVsToConsider = list(dfAgg.sort_values(by=\"DTW_dist\", ascending=True).index)[:30]\n",
    "#os.system('shutdown -s -t 0')"
   ]
  },
  {
   "cell_type": "code",
   "execution_count": 46,
   "metadata": {},
   "outputs": [
    {
     "name": "stdout",
     "output_type": "stream",
     "text": [
      "Done\n",
      "More iterations needed, min distance: 0.0000, number of candidates: 2\n"
     ]
    },
    {
     "data": {
      "text/plain": [
       "False"
      ]
     },
     "execution_count": 46,
     "metadata": {},
     "output_type": "execute_result"
    }
   ],
   "source": [
    "iterationStep(iteration = 7, level = 1)"
   ]
  },
  {
   "cell_type": "code",
   "execution_count": 47,
   "metadata": {},
   "outputs": [
    {
     "name": "stdout",
     "output_type": "stream",
     "text": [
      "Done\n",
      "More iterations needed, min distance: 0.0000, number of candidates: 2\n"
     ]
    },
    {
     "data": {
      "text/plain": [
       "False"
      ]
     },
     "execution_count": 47,
     "metadata": {},
     "output_type": "execute_result"
    }
   ],
   "source": [
    "PVsToConsider = list(dfAgg.sort_values(by=\"DTW_dist\", ascending=True).index)[:10]\n",
    "iterationStep(iteration = 8, level = 1)"
   ]
  },
  {
   "cell_type": "code",
   "execution_count": 48,
   "metadata": {},
   "outputs": [
    {
     "data": {
      "text/html": [
       "<div>\n",
       "<style scoped>\n",
       "    .dataframe tbody tr th:only-of-type {\n",
       "        vertical-align: middle;\n",
       "    }\n",
       "\n",
       "    .dataframe tbody tr th {\n",
       "        vertical-align: top;\n",
       "    }\n",
       "\n",
       "    .dataframe thead th {\n",
       "        text-align: right;\n",
       "    }\n",
       "</style>\n",
       "<table border=\"1\" class=\"dataframe\">\n",
       "  <thead>\n",
       "    <tr style=\"text-align: right;\">\n",
       "      <th></th>\n",
       "      <th>DTW_dist</th>\n",
       "    </tr>\n",
       "    <tr>\n",
       "      <th>PV_name</th>\n",
       "      <th></th>\n",
       "    </tr>\n",
       "  </thead>\n",
       "  <tbody>\n",
       "    <tr>\n",
       "      <th>ba_FCsYgvPgi0N</th>\n",
       "      <td>0.000000</td>\n",
       "    </tr>\n",
       "    <tr>\n",
       "      <th>ba_FpxlMOAyc5</th>\n",
       "      <td>0.000000</td>\n",
       "    </tr>\n",
       "    <tr>\n",
       "      <th>ba_FC2mSh7aqR37Ye</th>\n",
       "      <td>0.000000</td>\n",
       "    </tr>\n",
       "    <tr>\n",
       "      <th>ba_PCGd0srEZp</th>\n",
       "      <td>0.018013</td>\n",
       "    </tr>\n",
       "    <tr>\n",
       "      <th>ba_F8szer</th>\n",
       "      <td>0.025634</td>\n",
       "    </tr>\n",
       "    <tr>\n",
       "      <th>ba_FQkqszuusF7QDi</th>\n",
       "      <td>0.029448</td>\n",
       "    </tr>\n",
       "    <tr>\n",
       "      <th>ba_FQlpPE</th>\n",
       "      <td>0.048665</td>\n",
       "    </tr>\n",
       "    <tr>\n",
       "      <th>ba_F0zhz6e</th>\n",
       "      <td>0.159588</td>\n",
       "    </tr>\n",
       "    <tr>\n",
       "      <th>ba_FIhgSwHD</th>\n",
       "      <td>0.162321</td>\n",
       "    </tr>\n",
       "    <tr>\n",
       "      <th>ba_FCrBDixZDXjb</th>\n",
       "      <td>0.194985</td>\n",
       "    </tr>\n",
       "    <tr>\n",
       "      <th>ba_FC8fHeBVpUFncPI</th>\n",
       "      <td>0.199346</td>\n",
       "    </tr>\n",
       "  </tbody>\n",
       "</table>\n",
       "</div>"
      ],
      "text/plain": [
       "                    DTW_dist\n",
       "PV_name                     \n",
       "ba_FCsYgvPgi0N      0.000000\n",
       "ba_FpxlMOAyc5       0.000000\n",
       "ba_FC2mSh7aqR37Ye   0.000000\n",
       "ba_PCGd0srEZp       0.018013\n",
       "ba_F8szer           0.025634\n",
       "ba_FQkqszuusF7QDi   0.029448\n",
       "ba_FQlpPE           0.048665\n",
       "ba_F0zhz6e          0.159588\n",
       "ba_FIhgSwHD         0.162321\n",
       "ba_FCrBDixZDXjb     0.194985\n",
       "ba_FC8fHeBVpUFncPI  0.199346"
      ]
     },
     "execution_count": 48,
     "metadata": {},
     "output_type": "execute_result"
    }
   ],
   "source": [
    "dfAgg.sort_values(by=\"DTW_dist\", ascending=True).head(11)"
   ]
  },
  {
   "cell_type": "code",
   "execution_count": 49,
   "metadata": {},
   "outputs": [
    {
     "name": "stdout",
     "output_type": "stream",
     "text": [
      "Done\n",
      "More iterations needed, min distance: 0.0000, number of candidates: 2\n"
     ]
    },
    {
     "data": {
      "text/plain": [
       "False"
      ]
     },
     "execution_count": 49,
     "metadata": {},
     "output_type": "execute_result"
    }
   ],
   "source": [
    "PVsToConsider = list(dfAgg.sort_values(by=\"DTW_dist\", ascending=True).index)[:5]\n",
    "iterationStep(iteration = 9, level = 1)"
   ]
  },
  {
   "cell_type": "code",
   "execution_count": 52,
   "metadata": {},
   "outputs": [
    {
     "name": "stdout",
     "output_type": "stream",
     "text": [
      "Done\n"
     ]
    }
   ],
   "source": [
    "PVsToConsider = list(dfAgg.sort_values(by=\"DTW_dist\", ascending=True).index)[:3]\n",
    "oneCandidate = False\n",
    "iteration = 9\n",
    "while not oneCandidate:\n",
    "    iteration += 1\n",
    "    oneCandidate = iterationStep(iteration = iteration, level = 1)\n",
    "    "
   ]
  },
  {
   "cell_type": "markdown",
   "metadata": {},
   "source": [
    "Iterations for level 1: 14"
   ]
  },
  {
   "cell_type": "code",
   "execution_count": 54,
   "metadata": {},
   "outputs": [
    {
     "data": {
      "text/plain": [
       "['ba_FCsYgvPgi0N']"
      ]
     },
     "execution_count": 54,
     "metadata": {},
     "output_type": "execute_result"
    }
   ],
   "source": [
    "selectedPVs.append(dfAgg.sort_values(by=\"DTW_dist\", ascending=True).index[0])\n",
    "selectedPVs"
   ]
  },
  {
   "cell_type": "markdown",
   "metadata": {},
   "source": [
    "## Level 2"
   ]
  },
  {
   "cell_type": "code",
   "execution_count": 55,
   "metadata": {},
   "outputs": [
    {
     "data": {
      "text/html": [
       "<div>\n",
       "<style scoped>\n",
       "    .dataframe tbody tr th:only-of-type {\n",
       "        vertical-align: middle;\n",
       "    }\n",
       "\n",
       "    .dataframe tbody tr th {\n",
       "        vertical-align: top;\n",
       "    }\n",
       "\n",
       "    .dataframe thead th {\n",
       "        text-align: right;\n",
       "    }\n",
       "</style>\n",
       "<table border=\"1\" class=\"dataframe\">\n",
       "  <thead>\n",
       "    <tr style=\"text-align: right;\">\n",
       "      <th></th>\n",
       "      <th>refID</th>\n",
       "      <th>queryID</th>\n",
       "      <th>T_ref</th>\n",
       "      <th>T_query</th>\n",
       "      <th>DTW_dist</th>\n",
       "      <th>PV_name</th>\n",
       "    </tr>\n",
       "  </thead>\n",
       "  <tbody>\n",
       "  </tbody>\n",
       "</table>\n",
       "</div>"
      ],
      "text/plain": [
       "Empty DataFrame\n",
       "Columns: [refID, queryID, T_ref, T_query, DTW_dist, PV_name]\n",
       "Index: []"
      ]
     },
     "execution_count": 55,
     "metadata": {},
     "output_type": "execute_result"
    }
   ],
   "source": [
    "try: df = pd.read_csv(\"units/selectVars/level2.csv\", header = 0)\n",
    "except: df = pd.DataFrame(columns = [\"refID\", \"queryID\", \"T_ref\", \"T_query\", \"DTW_dist\", \"PV_name\"])\n",
    "df.head()"
   ]
  },
  {
   "cell_type": "code",
   "execution_count": 57,
   "metadata": {},
   "outputs": [
    {
     "name": "stdout",
     "output_type": "stream",
     "text": [
      "Done\n",
      "More iterations needed, min distance: 0.0000, number of candidates: 4\n"
     ]
    },
    {
     "data": {
      "text/plain": [
       "False"
      ]
     },
     "execution_count": 57,
     "metadata": {},
     "output_type": "execute_result"
    }
   ],
   "source": [
    "PVsToConsider = informativePVs\n",
    "iterationStep(iteration = 1, level = 2)"
   ]
  }
 ],
 "metadata": {
  "kernelspec": {
   "display_name": "Python 3",
   "language": "python",
   "name": "python3"
  },
  "language_info": {
   "codemirror_mode": {
    "name": "ipython",
    "version": 3
   },
   "file_extension": ".py",
   "mimetype": "text/x-python",
   "name": "python",
   "nbconvert_exporter": "python",
   "pygments_lexer": "ipython3",
   "version": "3.6.5"
  }
 },
 "nbformat": 4,
 "nbformat_minor": 2
}
