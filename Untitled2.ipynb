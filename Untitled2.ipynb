{
 "cells": [
  {
   "cell_type": "code",
   "execution_count": 8,
   "metadata": {},
   "outputs": [],
   "source": [
    "import pickle\n",
    "import copy\n",
    "import numpy as np"
   ]
  },
  {
   "cell_type": "code",
   "execution_count": 2,
   "metadata": {},
   "outputs": [],
   "source": [
    "with open(\"dataAll.pickle\", \"rb\") as infile:\n",
    "    dataAll = pickle.load(infile)"
   ]
  },
  {
   "cell_type": "code",
   "execution_count": 3,
   "metadata": {},
   "outputs": [],
   "source": [
    "IDs = ['5153', '5300', '5250', '5342', '5214', '5242', '5341', '5245', '5269', '5426', '5154', '5207', '5284', '5297', '5158', '5376', '5259', '5350', '5412', '5264', '5299', '5367', '5282', '5210', '5263', '5358', '5251', '5110', '5186', '5303', '5349', '5352', '5374', '5457', '5322', '5147', '5325', '5351', '5375', '5213', '5323', '5354', '5156', '5310', '5347', '5180', '5379', '5415', '5472', '5149']"
   ]
  },
  {
   "cell_type": "code",
   "execution_count": 5,
   "metadata": {},
   "outputs": [],
   "source": [
    "data = dict()\n",
    "for _id, item in dataAll.items():\n",
    "    if _id in IDs:\n",
    "        data[_id] = copy.copy(item)"
   ]
  },
  {
   "cell_type": "code",
   "execution_count": 9,
   "metadata": {},
   "outputs": [
    {
     "data": {
      "text/plain": [
       "dict_keys(['5110', '5147', '5149', '5153', '5154', '5156', '5158', '5180', '5186', '5207', '5210', '5213', '5214', '5242', '5245', '5250', '5251', '5259', '5263', '5264', '5269', '5282', '5284', '5297', '5299', '5300', '5303', '5310', '5322', '5323', '5325', '5341', '5342', '5347', '5349', '5350', '5351', '5352', '5354', '5358', '5367', '5374', '5375', '5376', '5379', '5412', '5415', '5426', '5457', '5472'])"
      ]
     },
     "execution_count": 9,
     "metadata": {},
     "output_type": "execute_result"
    }
   ],
   "source": [
    "data.keys()"
   ]
  },
  {
   "cell_type": "code",
   "execution_count": null,
   "metadata": {},
   "outputs": [],
   "source": []
  }
 ],
 "metadata": {
  "kernelspec": {
   "display_name": "Python 3",
   "language": "python",
   "name": "python3"
  },
  "language_info": {
   "codemirror_mode": {
    "name": "ipython",
    "version": 3
   },
   "file_extension": ".py",
   "mimetype": "text/x-python",
   "name": "python",
   "nbconvert_exporter": "python",
   "pygments_lexer": "ipython3",
   "version": "3.6.5"
  }
 },
 "nbformat": 4,
 "nbformat_minor": 2
}
