{
 "cells": [
  {
   "cell_type": "code",
   "execution_count": 2,
   "metadata": {},
   "outputs": [],
   "source": [
    "%matplotlib inline\n",
    "import json\n",
    "import requests\n",
    "import time\n",
    "import random\n",
    "import matplotlib.pyplot as plt\n",
    "import matplotlib.patches as mpatches\n",
    "import numpy as np\n",
    "import pickle\n",
    "import copy\n",
    "from collections import defaultdict, Counter\n",
    "import os\n",
    "from mlxtend.preprocessing import TransactionEncoder\n",
    "from mlxtend.frequent_patterns import apriori\n",
    "import pandas as pd\n",
    "import copy\n",
    "from sklearn.preprocessing import MinMaxScaler\n",
    "from IPython.display import clear_output"
   ]
  },
  {
   "cell_type": "code",
   "execution_count": 3,
   "metadata": {},
   "outputs": [],
   "source": [
    "url = \"http://localhost:51016/api/DTWNew\""
   ]
  },
  {
   "cell_type": "code",
   "execution_count": 4,
   "metadata": {},
   "outputs": [],
   "source": [
    "with open(\"units/unit3Data.pickle\", \"rb\") as infile:\n",
    "    dataRaw = pickle.load(infile)"
   ]
  },
  {
   "cell_type": "markdown",
   "metadata": {},
   "source": [
    "## Operation 3.26"
   ]
  },
  {
   "cell_type": "code",
   "execution_count": 8,
   "metadata": {},
   "outputs": [],
   "source": [
    "ope = \"3.26\"\n",
    "dataAll = defaultdict(list)\n",
    "\n",
    "batchFiles = [filename for filename in os.listdir(\"recipe421/\") if filename.endswith(\".pickle\")]\n",
    "try:\n",
    "    with open(\"dataAll.pickle\", \"rb\") as infile:\n",
    "        dataAll = pickle.load(infile)\n",
    "except:\n",
    "    for filename in batchFiles:\n",
    "        batchId = filename[:4]\n",
    "        with open(\"recipe421/{}\".format(filename), \"rb\") as infile:\n",
    "            batchData = pickle.load(infile)\n",
    "        for tagName, pv in batchData['Units']['3']['Operations'][ope]['PVs'].items():\n",
    "            if len(pv) > 1:\n",
    "                pv['name'] = pv['TagName']\n",
    "                _ = pv.pop('TagName')\n",
    "                dataAll[batchId].append(pv)\n",
    "        #print(len(dataAll[batchId]), end = \" \")\n",
    "    with open(\"dataAll.pickle\", \"wb\") as handle:\n",
    "        pickle.dump(dataAll, handle, protocol=pickle.HIGHEST_PROTOCOL)"
   ]
  },
  {
   "cell_type": "code",
   "execution_count": 9,
   "metadata": {},
   "outputs": [
    {
     "data": {
      "image/png": "[encoded data removed]",
      "text/plain": [
       "<Figure size 432x288 with 1 Axes>"
      ]
     },
     "metadata": {},
     "output_type": "display_data"
    }
   ],
   "source": [
    "opeLen = list()\n",
    "pvDataset = list()\n",
    "for _id, pvs in dataAll.items():\n",
    "    opeLen.append((len(pvs[0]['values']), _id))\n",
    "    pvList = list()\n",
    "    for pv in pvs:\n",
    "        pvList.append(pv['name'])\n",
    "    pvDataset.append(pvList)\n",
    "plt.hist([l for l, _id in opeLen], bins=50)\n",
    "plt.show()"
   ]
  },
  {
   "cell_type": "code",
   "execution_count": 11,
   "metadata": {},
   "outputs": [
    {
     "name": "stdout",
     "output_type": "stream",
     "text": [
      "Min: 146\n",
      "Max: 1661\n",
      "Median: 415.0\n",
      "Mean: 452.32\n"
     ]
    }
   ],
   "source": [
    "print(\"Min: {}\\nMax: {}\\nMedian: {}\\nMean: {:.02f}\".format(min([l for l, _id in opeLen]), max([l for l, _id in opeLen]), np.median([l for l, _id in opeLen]), np.mean([l for l, _id in opeLen])))"
   ]
  },
  {
   "cell_type": "markdown",
   "metadata": {},
   "source": [
    "I should focus only on \"good\" batches. As suggested by Martin, I take batches (operations in this case) with a length close to the median value of the whole set."
   ]
  },
  {
   "cell_type": "code",
   "execution_count": 12,
   "metadata": {},
   "outputs": [
    {
     "data": {
      "image/png": "[encoded data removed]",
      "text/plain": [
       "<Figure size 432x288 with 1 Axes>"
      ]
     },
     "metadata": {},
     "output_type": "display_data"
    }
   ],
   "source": [
    "medLen = np.median([l for l, _id in opeLen])\n",
    "\n",
    "# Select the N=50 closest to the median bacthes\n",
    "# center around the median\n",
    "centered = [(abs(l-medLen), _id) for l, _id in opeLen]\n",
    "selected = sorted(centered)[:50]\n",
    "plt.hist([l for l, _id in opeLen if _id in [ID for d, ID in selected]], bins = 20)\n",
    "plt.show()"
   ]
  },
  {
   "cell_type": "markdown",
   "metadata": {},
   "source": [
    "Using frequent itemset mining to get a large number of PVs common to many batches"
   ]
  },
  {
   "cell_type": "code",
   "execution_count": 13,
   "metadata": {},
   "outputs": [
    {
     "data": {
      "text/html": [
       "<div>\n",
       "<style scoped>\n",
       "    .dataframe tbody tr th:only-of-type {\n",
       "        vertical-align: middle;\n",
       "    }\n",
       "\n",
       "    .dataframe tbody tr th {\n",
       "        vertical-align: top;\n",
       "    }\n",
       "\n",
       "    .dataframe thead th {\n",
       "        text-align: right;\n",
       "    }\n",
       "</style>\n",
       "<table border=\"1\" class=\"dataframe\">\n",
       "  <thead>\n",
       "    <tr style=\"text-align: right;\">\n",
       "      <th></th>\n",
       "      <th>ba_ErguU</th>\n",
       "      <th>ba_F0zhz6e</th>\n",
       "      <th>ba_F4vtJ1</th>\n",
       "      <th>ba_F8szer</th>\n",
       "      <th>ba_FC1QXXKX5Gx</th>\n",
       "      <th>ba_FC2ctjhXa5mu</th>\n",
       "      <th>ba_FC2mSh7aqR37Ye</th>\n",
       "      <th>ba_FC3BnZ</th>\n",
       "      <th>ba_FC7NvzX</th>\n",
       "      <th>ba_FC7TgkJodnV6</th>\n",
       "      <th>...</th>\n",
       "      <th>ba_TCzWpXo</th>\n",
       "      <th>ba_TDZV2zDOrmiYP</th>\n",
       "      <th>ba_TDZyHMh1UZ</th>\n",
       "      <th>ba_TIJSj</th>\n",
       "      <th>ba_TZHx41ABpBbhN</th>\n",
       "      <th>ba_TZIm086h</th>\n",
       "      <th>ba_TZNCmUn29mO</th>\n",
       "      <th>ba_TZWZNzFFdHb</th>\n",
       "      <th>ba_TZv9w2dOu</th>\n",
       "      <th>ba_TrWfpiPrs</th>\n",
       "    </tr>\n",
       "  </thead>\n",
       "  <tbody>\n",
       "    <tr>\n",
       "      <th>0</th>\n",
       "      <td>True</td>\n",
       "      <td>True</td>\n",
       "      <td>True</td>\n",
       "      <td>True</td>\n",
       "      <td>True</td>\n",
       "      <td>True</td>\n",
       "      <td>True</td>\n",
       "      <td>True</td>\n",
       "      <td>True</td>\n",
       "      <td>True</td>\n",
       "      <td>...</td>\n",
       "      <td>True</td>\n",
       "      <td>True</td>\n",
       "      <td>True</td>\n",
       "      <td>True</td>\n",
       "      <td>True</td>\n",
       "      <td>True</td>\n",
       "      <td>True</td>\n",
       "      <td>True</td>\n",
       "      <td>True</td>\n",
       "      <td>True</td>\n",
       "    </tr>\n",
       "    <tr>\n",
       "      <th>1</th>\n",
       "      <td>True</td>\n",
       "      <td>True</td>\n",
       "      <td>True</td>\n",
       "      <td>True</td>\n",
       "      <td>True</td>\n",
       "      <td>True</td>\n",
       "      <td>True</td>\n",
       "      <td>True</td>\n",
       "      <td>False</td>\n",
       "      <td>True</td>\n",
       "      <td>...</td>\n",
       "      <td>True</td>\n",
       "      <td>True</td>\n",
       "      <td>True</td>\n",
       "      <td>True</td>\n",
       "      <td>True</td>\n",
       "      <td>True</td>\n",
       "      <td>True</td>\n",
       "      <td>True</td>\n",
       "      <td>True</td>\n",
       "      <td>True</td>\n",
       "    </tr>\n",
       "    <tr>\n",
       "      <th>2</th>\n",
       "      <td>True</td>\n",
       "      <td>True</td>\n",
       "      <td>True</td>\n",
       "      <td>True</td>\n",
       "      <td>True</td>\n",
       "      <td>True</td>\n",
       "      <td>True</td>\n",
       "      <td>True</td>\n",
       "      <td>False</td>\n",
       "      <td>True</td>\n",
       "      <td>...</td>\n",
       "      <td>True</td>\n",
       "      <td>True</td>\n",
       "      <td>True</td>\n",
       "      <td>True</td>\n",
       "      <td>True</td>\n",
       "      <td>True</td>\n",
       "      <td>True</td>\n",
       "      <td>True</td>\n",
       "      <td>True</td>\n",
       "      <td>True</td>\n",
       "    </tr>\n",
       "    <tr>\n",
       "      <th>3</th>\n",
       "      <td>True</td>\n",
       "      <td>True</td>\n",
       "      <td>True</td>\n",
       "      <td>True</td>\n",
       "      <td>True</td>\n",
       "      <td>True</td>\n",
       "      <td>True</td>\n",
       "      <td>True</td>\n",
       "      <td>True</td>\n",
       "      <td>True</td>\n",
       "      <td>...</td>\n",
       "      <td>True</td>\n",
       "      <td>True</td>\n",
       "      <td>True</td>\n",
       "      <td>True</td>\n",
       "      <td>True</td>\n",
       "      <td>True</td>\n",
       "      <td>True</td>\n",
       "      <td>True</td>\n",
       "      <td>True</td>\n",
       "      <td>True</td>\n",
       "    </tr>\n",
       "    <tr>\n",
       "      <th>4</th>\n",
       "      <td>True</td>\n",
       "      <td>True</td>\n",
       "      <td>True</td>\n",
       "      <td>True</td>\n",
       "      <td>True</td>\n",
       "      <td>True</td>\n",
       "      <td>True</td>\n",
       "      <td>True</td>\n",
       "      <td>True</td>\n",
       "      <td>True</td>\n",
       "      <td>...</td>\n",
       "      <td>True</td>\n",
       "      <td>True</td>\n",
       "      <td>True</td>\n",
       "      <td>True</td>\n",
       "      <td>True</td>\n",
       "      <td>True</td>\n",
       "      <td>False</td>\n",
       "      <td>True</td>\n",
       "      <td>True</td>\n",
       "      <td>True</td>\n",
       "    </tr>\n",
       "  </tbody>\n",
       "</table>\n",
       "<p>5 rows × 99 columns</p>\n",
       "</div>"
      ],
      "text/plain": [
       "   ba_ErguU  ba_F0zhz6e  ba_F4vtJ1  ba_F8szer  ba_FC1QXXKX5Gx  \\\n",
       "0      True        True       True       True            True   \n",
       "1      True        True       True       True            True   \n",
       "2      True        True       True       True            True   \n",
       "3      True        True       True       True            True   \n",
       "4      True        True       True       True            True   \n",
       "\n",
       "   ba_FC2ctjhXa5mu  ba_FC2mSh7aqR37Ye  ba_FC3BnZ  ba_FC7NvzX  ba_FC7TgkJodnV6  \\\n",
       "0             True               True       True        True             True   \n",
       "1             True               True       True       False             True   \n",
       "2             True               True       True       False             True   \n",
       "3             True               True       True        True             True   \n",
       "4             True               True       True        True             True   \n",
       "\n",
       "       ...       ba_TCzWpXo  ba_TDZV2zDOrmiYP  ba_TDZyHMh1UZ  ba_TIJSj  \\\n",
       "0      ...             True              True           True      True   \n",
       "1      ...             True              True           True      True   \n",
       "2      ...             True              True           True      True   \n",
       "3      ...             True              True           True      True   \n",
       "4      ...             True              True           True      True   \n",
       "\n",
       "   ba_TZHx41ABpBbhN  ba_TZIm086h  ba_TZNCmUn29mO  ba_TZWZNzFFdHb  \\\n",
       "0              True         True            True            True   \n",
       "1              True         True            True            True   \n",
       "2              True         True            True            True   \n",
       "3              True         True            True            True   \n",
       "4              True         True           False            True   \n",
       "\n",
       "   ba_TZv9w2dOu  ba_TrWfpiPrs  \n",
       "0          True          True  \n",
       "1          True          True  \n",
       "2          True          True  \n",
       "3          True          True  \n",
       "4          True          True  \n",
       "\n",
       "[5 rows x 99 columns]"
      ]
     },
     "execution_count": 13,
     "metadata": {},
     "output_type": "execute_result"
    }
   ],
   "source": [
    "te = TransactionEncoder()\n",
    "te_ary = te.fit(pvDataset).transform(pvDataset)\n",
    "df = pd.DataFrame(te_ary, columns=te.columns_)\n",
    "df.head()"
   ]
  },
  {
   "cell_type": "code",
   "execution_count": 14,
   "metadata": {},
   "outputs": [
    {
     "data": {
      "text/plain": [
       "ba_FCedKru8pHF7Ae1BA6QR    337\n",
       "ba_FCBbekJeA7              337\n",
       "ba_FC8fHeBVpUFncPI         384\n",
       "ba_PfrAayv8                385\n",
       "ba_FCFGHiEU9Kn             386\n",
       "ba_FC7NvzX                 387\n",
       "ba_NCfTJTbFt2              390\n",
       "ba_FQPDzN                  394\n",
       "ba_TZNCmUn29mO             399\n",
       "ba_FQzW6y6rTYXYjvZvlM      406\n",
       "dtype: int64"
      ]
     },
     "execution_count": 14,
     "metadata": {},
     "output_type": "execute_result"
    }
   ],
   "source": [
    "df.sum(axis=0).sort_values().head(10)"
   ]
  },
  {
   "cell_type": "markdown",
   "metadata": {},
   "source": [
    "I will select only the batches with all the 99 PVs."
   ]
  },
  {
   "cell_type": "code",
   "execution_count": 15,
   "metadata": {},
   "outputs": [
    {
     "name": "stdout",
     "output_type": "stream",
     "text": [
      "294\n"
     ]
    }
   ],
   "source": [
    "IDs = list(dataAll.keys())\n",
    "for _id in IDs:\n",
    "    L = len(dataAll[_id])\n",
    "    if L != 99:\n",
    "        dataAll.pop(_id)\n",
    "print(len(dataAll))"
   ]
  },
  {
   "cell_type": "code",
   "execution_count": 16,
   "metadata": {},
   "outputs": [
    {
     "name": "stdout",
     "output_type": "stream",
     "text": [
      "50\n",
      "dict_keys(['5153', '5300', '5250', '5342', '5214', '5242', '5341', '5245', '5269', '5426', '5154', '5207', '5284', '5297', '5158', '5376', '5259', '5350', '5412', '5264', '5299', '5367', '5282', '5210', '5263', '5358', '5251', '5110', '5186', '5303', '5349', '5352', '5374', '5457', '5322', '5147', '5325', '5351', '5375', '5213', '5323', '5354', '5156', '5310', '5347', '5180', '5379', '5415', '5472', '5149'])\n"
     ]
    }
   ],
   "source": [
    "data = dict()\n",
    "for d, _id in selected:\n",
    "    data[_id] = copy.copy(dataAll[_id])\n",
    "print(len(data))\n",
    "print(data.keys())"
   ]
  },
  {
   "cell_type": "markdown",
   "metadata": {},
   "source": [
    "### Single variate"
   ]
  },
  {
   "cell_type": "code",
   "execution_count": 17,
   "metadata": {},
   "outputs": [
    {
     "data": {
      "text/plain": [
       "'5153'"
      ]
     },
     "execution_count": 17,
     "metadata": {},
     "output_type": "execute_result"
    }
   ],
   "source": [
    "data['reference'] = selected[0][1]\n",
    "data['reference']\n",
    "#_ = data.pop('5091') # problems, yet to understand"
   ]
  },
  {
   "cell_type": "code",
   "execution_count": 18,
   "metadata": {},
   "outputs": [],
   "source": [
    "pvNames = [(pv['name'], j) for pv, j in zip(data[data['reference']], range(len(data[data['reference']])))]    "
   ]
  },
  {
   "cell_type": "code",
   "execution_count": 19,
   "metadata": {},
   "outputs": [
    {
     "name": "stdout",
     "output_type": "stream",
     "text": [
      "[0, 6, 7, 8, 9, 10, 16, 17, 20, 22, 23, 33, 34, 35, 36, 37, 38, 39, 40, 43, 48, 49, 50, 51, 55, 56, 57, 58, 59, 62, 63, 64, 65, 68, 75, 76, 78, 79, 80, 85, 86, 87, 88, 89, 90, 91, 92, 93, 94, 95, 97, 98] 52\n"
     ]
    }
   ],
   "source": [
    "PVsDict = {j: pv['name'] for j, pv in zip(range(len(data['5153'])), data['5153'])}\n",
    "constPVs = []\n",
    "for j in PVsDict.keys():\n",
    "    zeroVar = True\n",
    "    for _id, pvs in data.items():\n",
    "        if _id != \"reference\":\n",
    "            var = np.var(pvs[j]['values'])\n",
    "            if var > 1e-6:\n",
    "                zeroVar = False\n",
    "    if zeroVar:\n",
    "        constPVs.append(j)\n",
    "print(constPVs, len(constPVs))\n"
   ]
  },
  {
   "cell_type": "code",
   "execution_count": 20,
   "metadata": {},
   "outputs": [
    {
     "data": {
      "text/plain": [
       "{1: 'ba_FQ2Qyx',\n",
       " 2: 'ba_FQADMQfb0z',\n",
       " 3: 'ba_FQYXdr6Q0',\n",
       " 4: 'ba_FQNOJG',\n",
       " 5: 'ba_FQnZKYLSO02xLf',\n",
       " 11: 'ba_FCobtZJfb5TG',\n",
       " 12: 'ba_FC7fl4f1HT5',\n",
       " 13: 'ba_FCywcBXpqpo',\n",
       " 14: 'ba_FC7NvzX',\n",
       " 15: 'ba_FIhgSwHD',\n",
       " 18: 'ba_FC3BnZ',\n",
       " 19: 'ba_FCFGHiEU9Kn',\n",
       " 21: 'ba_FmYOrhonkk',\n",
       " 24: 'ba_PLAu1m2',\n",
       " 25: 'ba_PCPUSq5ah',\n",
       " 26: 'ba_SinhbKA',\n",
       " 27: 'ba_TIJSj',\n",
       " 28: 'ba_TrWfpiPrs',\n",
       " 29: 'ba_TC06nRC',\n",
       " 30: 'ba_TCyNE8Mdv',\n",
       " 31: 'ba_TZNCmUn29mO',\n",
       " 32: 'ba_Fl7pvjqC',\n",
       " 41: 'ba_ErguU',\n",
       " 42: 'ba_FpxlMOAyc5',\n",
       " 44: 'ba_PCGd0srEZp',\n",
       " 45: 'ba_PCLAMr1nuoSiAr',\n",
       " 46: 'ba_PCSTgdwK3V',\n",
       " 47: 'ba_PCG6Z9',\n",
       " 52: 'ba_TCzWpXo',\n",
       " 53: 'ba_TCfg3Yxn',\n",
       " 54: 'ba_TCkwAse0bopy8zp6',\n",
       " 60: 'ba_FCGUglDXyPKrnk38',\n",
       " 61: 'ba_FCDvhG4',\n",
       " 66: 'ba_TDZyHMh1UZ',\n",
       " 67: 'ba_TDZV2zDOrmiYP',\n",
       " 69: 'ba_PfrAayv8',\n",
       " 70: 'ba_FQT7dzM2wq51Z3JW',\n",
       " 71: 'ba_FQh8rKXE0',\n",
       " 72: 'ba_FQ1kbQwOUVlR',\n",
       " 73: 'ba_FQraEXT',\n",
       " 74: 'ba_FQVzNY',\n",
       " 77: 'ba_FQC6tzztBV4DeXemfp',\n",
       " 81: 'ba_TZv9w2dOu',\n",
       " 82: 'ba_TZIm086h',\n",
       " 83: 'ba_TZHx41ABpBbhN',\n",
       " 84: 'ba_TZWZNzFFdHb',\n",
       " 96: 'ba_PCqRL4yvS3bClutA'}"
      ]
     },
     "execution_count": 20,
     "metadata": {},
     "output_type": "execute_result"
    }
   ],
   "source": [
    "for j in constPVs:\n",
    "    _ = PVsDict.pop(j)\n",
    "PVsDict"
   ]
  },
  {
   "cell_type": "code",
   "execution_count": 21,
   "metadata": {},
   "outputs": [],
   "source": [
    "def filterPVs(data, pvSet):\n",
    "    out = defaultdict(list)\n",
    "    for key, item in data.items():\n",
    "        if key != 'reference':\n",
    "            for idx in pvSet:\n",
    "                out[key].append(item[idx])\n",
    "\n",
    "    return out"
   ]
  },
  {
   "cell_type": "code",
   "execution_count": 22,
   "metadata": {},
   "outputs": [],
   "source": [
    "def pairwiseDist(refBatch, queryBatch):\n",
    "    dist = 0\n",
    "    scale = MinMaxScaler()\n",
    "    for name, pv in refBatch.items():\n",
    "        x = scale.fit_transform(X=np.array(pv['values']).reshape(-1,1))\n",
    "        y = scale.fit_transform(X=np.array(queryBatch[name]['values']).reshape(-1,1))\n",
    "        dist += np.linalg.norm(x-y, ord=2)\n",
    "    return np.sqrt(dist)"
   ]
  },
  {
   "cell_type": "code",
   "execution_count": 23,
   "metadata": {},
   "outputs": [],
   "source": [
    "def groupProcess(dataRaw, pvs, refId):\n",
    "    # filter pvs\n",
    "    output = list()\n",
    "    data = filterPVs(dataRaw, pvs)\n",
    "    data['reference'] = refId\n",
    "    \n",
    "    batchIds = [key for key in data.keys() if key != 'reference' and key!= refId]\n",
    "    \n",
    "    # align bacthes\n",
    "    ok = False\n",
    "    while not ok:\n",
    "        try:\n",
    "            result = json.loads(requests.post(url,json=json.dumps(data)).text)\n",
    "            ok = True\n",
    "        except:\n",
    "            time.sleep(1)\n",
    "    \n",
    "    #compute distance and save results\n",
    "    refBatch = result[refId]\n",
    "    res = {\"refId\" : refId,\n",
    "          \"queryId\": 0,\n",
    "          \"DTW_dist\": 0,\n",
    "          \"PVs\": pvs}\n",
    "    for _id in batchIds:\n",
    "        try:\n",
    "            queryBatch = result[_id]\n",
    "            res['queryId'] = _id\n",
    "            res['DTW_dist'] = pairwiseDist(refBatch, queryBatch)\n",
    "        except:\n",
    "            res['queryId'] = _id\n",
    "            res['DTW_dist'] = np.nan\n",
    "        output.append(copy.deepcopy(res))\n",
    "    \n",
    "    return output"
   ]
  },
  {
   "cell_type": "code",
   "execution_count": 24,
   "metadata": {},
   "outputs": [],
   "source": [
    "def analysis(refId, data, pvs, groupSize):\n",
    "    # group ids\n",
    "    \n",
    "    data['reference'] = refId\n",
    "    keys = [key for key in data.keys() if key != 'reference' and key != refId]\n",
    "\n",
    "    groupIds = [keys[i*groupSize:(i+1)*groupSize] for i in range(0,len(keys)//groupSize+1)]\n",
    "    L = len(groupIds)\n",
    "    for group in groupIds:\n",
    "        print(L, end = \" \")\n",
    "        L -= 1\n",
    "        dataGroup = dict()\n",
    "        dataGroup[refId] = copy.copy(data[refId])\n",
    "        dataGroup['reference'] = refId\n",
    "        for _id in group:\n",
    "            dataGroup[_id] = data[_id]\n",
    "            \n",
    "        for pvIds in pvs:\n",
    "            yield groupProcess(dataGroup, pvIds, refId)"
   ]
  },
  {
   "cell_type": "raw",
   "metadata": {},
   "source": [
    "df = pd.DataFrame()\n",
    "start = time.time()\n",
    "refId = \"5153\"\n",
    "\n",
    "for res in analysis(refId, data, [[i] for i in PVsDict.keys()], groupSize=3):\n",
    "    df = df.append(pd.DataFrame(res), ignore_index=True)\n",
    "print(\"\\nElapsed {:.0f} seconds\".format(time.time() - start))\n",
    "\n",
    "df.to_csv(\"operation3_26/Operation3_26Univariate{}.csv\".format(refId), header = True, index = False)"
   ]
  },
  {
   "cell_type": "raw",
   "metadata": {},
   "source": [
    "df = pd.DataFrame()\n",
    "start = time.time()\n",
    "\n",
    "\n",
    "for res in analysis(refId, data, [[i] for i in PVsDict.keys()], groupSize=8):\n",
    "    df = df.append(pd.DataFrame(res), ignore_index=True)\n",
    "print(\"\\nElapsed {:.0f} seconds\".format(time.time() - start))\n",
    "\n",
    "df.to_csv(\"operation3_26/Operation3_26Univariate{}.csv\".format(refId), header = True, index = False)"
   ]
  },
  {
   "cell_type": "raw",
   "metadata": {},
   "source": [
    "df = pd.DataFrame()\n",
    "start = time.time()\n",
    "\n",
    "\n",
    "for res in analysis(refId, data, [[i] for i in PVsDict.keys()], groupSize=25):\n",
    "    df = df.append(pd.DataFrame(res), ignore_index=True)\n",
    "print(\"\\nElapsed {:.0f} seconds\".format(time.time() - start))\n",
    "\n",
    "df.to_csv(\"operation3_26/Operation3_26Univariate{}.csv\".format(refId), header = True, index = False)"
   ]
  },
  {
   "cell_type": "raw",
   "metadata": {},
   "source": [
    "df = pd.DataFrame()\n",
    "start = time.time()\n",
    "\n",
    "\n",
    "for res in analysis(refId, data, [[i] for i in PVsDict.keys()], groupSize=50):\n",
    "    df = df.append(pd.DataFrame(res), ignore_index=True)\n",
    "print(\"\\nElapsed {:.0f} seconds\".format(time.time() - start))\n",
    "\n",
    "df.to_csv(\"operation3_26/Operation3_26Univariate{}.csv\".format(refId), header = True, index = False)"
   ]
  },
  {
   "cell_type": "code",
   "execution_count": 29,
   "metadata": {},
   "outputs": [
    {
     "name": "stdout",
     "output_type": "stream",
     "text": [
      "Done\n"
     ]
    }
   ],
   "source": [
    "ids = [key for key in data.keys() if key != 'reference']\n",
    "L = len(ids)\n",
    "for refId in ids:\n",
    "    if \"Operation3_26Univariate{}.csv\".format(refId) not in os.listdir(\"operation3_26/univariate\"):\n",
    "        df = pd.DataFrame()\n",
    "        #start = time.time()\n",
    "        \n",
    "        for res in analysis(refId, data, [[i] for i in PVsDict.keys()], groupSize=25):\n",
    "            df = df.append(pd.DataFrame(res), ignore_index=True)\n",
    "        #print(\"Elapsed {:.0f} seconds\".format(time.time() - start), end = \"\")\n",
    "        print(\"\")\n",
    "    \n",
    "        df.to_csv(\"operation3_26/univariate/Operation3_26Univariate{}.csv\".format(refId), header = True, index = False)\n",
    "    print(L)\n",
    "    L -= 1\n",
    "clear_output()\n",
    "print(\"Done\")\n",
    "    "
   ]
  },
  {
   "cell_type": "markdown",
   "metadata": {},
   "source": [
    "Now that we have all the pairwise distances, we can check for every reference, which is the best PV (smallest distance). \n"
   ]
  },
  {
   "cell_type": "code",
   "execution_count": 31,
   "metadata": {},
   "outputs": [
    {
     "name": "stdout",
     "output_type": "stream",
     "text": [
      "Counter({'[9]': 27, '[53]': 18, '[52]': 4, '[12]': 1})\n"
     ]
    }
   ],
   "source": [
    "firstChoice = list()\n",
    "for file in os.listdir(\"operation3_26/univariate/\"):\n",
    "    if file.endswith(\".csv\"):\n",
    "        df = pd.read_csv(\"operation3_26/univariate/{}\".format(file), header = 0)\n",
    "        df = df.groupby(by=\"PVs\").aggregate({\"DTW_dist\" : \"sum\"})\n",
    "        df.sort_values(by=\"DTW_dist\", ascending= True, inplace= True)\n",
    "        firstChoice.append(df.index[0])\n",
    "print(Counter(firstChoice))"
   ]
  },
  {
   "cell_type": "code",
   "execution_count": 32,
   "metadata": {},
   "outputs": [],
   "source": [
    "selectedPVs = [9]"
   ]
  },
  {
   "cell_type": "code",
   "execution_count": 33,
   "metadata": {},
   "outputs": [
    {
     "name": "stdout",
     "output_type": "stream",
     "text": [
      "Done\n"
     ]
    }
   ],
   "source": [
    "ids = [key for key in data.keys() if key != 'reference']\n",
    "L = len(ids)\n",
    "for refId in ids:\n",
    "    print(L)\n",
    "    if \"Operation3_26_{}.csv\".format(refId) not in os.listdir(\"operation3_26/bivariate/\"):\n",
    "        df = pd.DataFrame()\n",
    "        #start = time.time()\n",
    "        \n",
    "        for res in analysis(refId, data, [selectedPVs + [i] for i in PVsDict.keys() if i not in selectedPVs], groupSize=25):\n",
    "            df = df.append(pd.DataFrame(res), ignore_index=True)\n",
    "        #print(\"Elapsed {:.0f} seconds\".format(time.time() - start), end = \"\")\n",
    "        print(\"\")\n",
    "    \n",
    "        df.to_csv(\"operation3_26/bivariate/Operation3_26_{}.csv\".format(refId), header = True, index = False)\n",
    "    L -= 1\n",
    "clear_output()\n",
    "print(\"Done\")"
   ]
  },
  {
   "cell_type": "code",
   "execution_count": 34,
   "metadata": {},
   "outputs": [
    {
     "name": "stdout",
     "output_type": "stream",
     "text": [
      "Counter({'[9, 53]': 33, '[9, 52]': 16, '[9, 12]': 1})\n"
     ]
    }
   ],
   "source": [
    "firstChoice = list()\n",
    "for file in os.listdir(\"operation3_26/bivariate/\"):\n",
    "    if file.endswith(\".csv\"):\n",
    "        df = pd.read_csv(\"operation3_26/bivariate/{}\".format(file), header = 0)\n",
    "        df = df.groupby(by=\"PVs\").aggregate({\"DTW_dist\" : \"sum\"})\n",
    "        df.sort_values(by=\"DTW_dist\", ascending= True, inplace= True)\n",
    "        firstChoice.append(df.index[0])\n",
    "print(Counter(firstChoice))"
   ]
  },
  {
   "cell_type": "code",
   "execution_count": 35,
   "metadata": {},
   "outputs": [],
   "source": [
    "c = Counter(firstChoice)"
   ]
  },
  {
   "cell_type": "code",
   "execution_count": 36,
   "metadata": {},
   "outputs": [
    {
     "data": {
      "text/plain": [
       "[9, 53]"
      ]
     },
     "execution_count": 36,
     "metadata": {},
     "output_type": "execute_result"
    }
   ],
   "source": [
    "selectedPVs.append(53)\n",
    "selectedPVs"
   ]
  },
  {
   "cell_type": "code",
   "execution_count": 37,
   "metadata": {},
   "outputs": [],
   "source": [
    "def oneMorePV(selectedPVs, folder):\n",
    "    ids = [key for key in data.keys() if key != 'reference']\n",
    "    L = len(ids)\n",
    "    \n",
    "    try : os.mkdir(\"operation3_26/{}\".format(folder))\n",
    "    except: pass\n",
    "    \n",
    "    for refId in ids:\n",
    "        print(L)\n",
    "        if \"Operation3_26_{}.csv\".format(refId) not in os.listdir(\"operation3_26/{}/\".format(folder)):\n",
    "            df = pd.DataFrame()\n",
    "            #start = time.time()\n",
    "\n",
    "            for res in analysis(refId, data, [selectedPVs + [i] for i in PVsDict.keys() if i not in selectedPVs], groupSize=25):\n",
    "                df = df.append(pd.DataFrame(res), ignore_index=True)\n",
    "            #print(\"Elapsed {:.0f} seconds\".format(time.time() - start), end = \"\")\n",
    "            print(\"\")\n",
    "\n",
    "            df.to_csv(\"operation3_26/{}/Operation3_26_{}.csv\".format(folder, refId), header = True, index = False)\n",
    "        L -= 1\n",
    "        if L%10 == 0: clear_output()\n",
    "    clear_output()\n",
    "    print(\"Done\")"
   ]
  },
  {
   "cell_type": "code",
   "execution_count": 38,
   "metadata": {},
   "outputs": [
    {
     "name": "stdout",
     "output_type": "stream",
     "text": [
      "Counter({'[9, 53, 52]': 45, '[9, 53, 96]': 4, '[9, 53, 44]': 1})\n"
     ]
    }
   ],
   "source": [
    "#_ = oneMorePV(selectedPVs, \"3variate\")\n",
    "\n",
    "firstChoice = list()\n",
    "for file in os.listdir(\"operation3_26/3variate/\"):\n",
    "    if file.endswith(\".csv\"):\n",
    "        df = pd.read_csv(\"operation3_26/3variate/{}\".format(file), header = 0)\n",
    "        df = df.groupby(by=\"PVs\").aggregate({\"DTW_dist\" : \"sum\"})\n",
    "        df.sort_values(by=\"DTW_dist\", ascending= True, inplace= True)\n",
    "        firstChoice.append(df.index[0])\n",
    "print(Counter(firstChoice))"
   ]
  },
  {
   "cell_type": "code",
   "execution_count": 39,
   "metadata": {},
   "outputs": [
    {
     "data": {
      "text/plain": [
       "[9, 53, 52]"
      ]
     },
     "execution_count": 39,
     "metadata": {},
     "output_type": "execute_result"
    }
   ],
   "source": [
    "selectedPVs.append(52)\n",
    "selectedPVs"
   ]
  },
  {
   "cell_type": "code",
   "execution_count": 40,
   "metadata": {},
   "outputs": [
    {
     "name": "stdout",
     "output_type": "stream",
     "text": [
      "Done\n",
      "Counter({'[9, 53, 52, 12]': 43, '[9, 53, 52, 96]': 5, '[9, 53, 52, 44]': 1, '[9, 53, 52, 70]': 1})\n"
     ]
    }
   ],
   "source": [
    "folder = \"4variate\"\n",
    "_ = oneMorePV(selectedPVs, folder)\n",
    "\n",
    "firstChoice = list()\n",
    "for file in os.listdir(\"operation3_26/{}/\".format(folder)):\n",
    "    if file.endswith(\".csv\"):\n",
    "        df = pd.read_csv(\"operation3_26/{}/{}\".format(folder, file), header = 0)\n",
    "        df = df.groupby(by=\"PVs\").aggregate({\"DTW_dist\" : \"sum\"})\n",
    "        df.sort_values(by=\"DTW_dist\", ascending= True, inplace= True)\n",
    "        firstChoice.append(df.index[0])\n",
    "print(Counter(firstChoice))"
   ]
  },
  {
   "cell_type": "code",
   "execution_count": 41,
   "metadata": {},
   "outputs": [
    {
     "data": {
      "text/plain": [
       "[9, 53, 52, 12]"
      ]
     },
     "execution_count": 41,
     "metadata": {},
     "output_type": "execute_result"
    }
   ],
   "source": [
    "selectedPVs.append(12)\n",
    "selectedPVs"
   ]
  },
  {
   "cell_type": "code",
   "execution_count": 42,
   "metadata": {},
   "outputs": [
    {
     "name": "stdout",
     "output_type": "stream",
     "text": [
      "Done\n",
      "Counter({'[9, 53, 52, 12, 42]': 44, '[9, 53, 52, 12, 96]': 4, '[9, 53, 52, 12, 44]': 2})\n"
     ]
    }
   ],
   "source": [
    "folder = \"5variate\"\n",
    "_ = oneMorePV(selectedPVs, folder)\n",
    "\n",
    "firstChoice = list()\n",
    "for file in os.listdir(\"operation3_26/{}/\".format(folder)):\n",
    "    if file.endswith(\".csv\"):\n",
    "        df = pd.read_csv(\"operation3_26/{}/{}\".format(folder, file), header = 0)\n",
    "        df = df.groupby(by=\"PVs\").aggregate({\"DTW_dist\" : \"sum\"})\n",
    "        df.sort_values(by=\"DTW_dist\", ascending= True, inplace= True)\n",
    "        firstChoice.append(df.index[0])\n",
    "print(Counter(firstChoice))"
   ]
  },
  {
   "cell_type": "code",
   "execution_count": 43,
   "metadata": {},
   "outputs": [
    {
     "data": {
      "text/plain": [
       "[9, 53, 52, 12, 42]"
      ]
     },
     "execution_count": 43,
     "metadata": {},
     "output_type": "execute_result"
    }
   ],
   "source": [
    "selectedPVs.append(42)\n",
    "selectedPVs"
   ]
  },
  {
   "cell_type": "code",
   "execution_count": 44,
   "metadata": {},
   "outputs": [
    {
     "name": "stdout",
     "output_type": "stream",
     "text": [
      "Done\n",
      "Counter({'[9, 53, 52, 12, 42, 96]': 47, '[9, 53, 52, 12, 42, 44]': 2, '[9, 53, 52, 12, 42, 2]': 1})\n"
     ]
    }
   ],
   "source": [
    "folder = \"6variate\"\n",
    "_ = oneMorePV(selectedPVs, folder)\n",
    "\n",
    "firstChoice = list()\n",
    "for file in os.listdir(\"operation3_26/{}/\".format(folder)):\n",
    "    if file.endswith(\".csv\"):\n",
    "        df = pd.read_csv(\"operation3_26/{}/{}\".format(folder, file), header = 0)\n",
    "        df = df.groupby(by=\"PVs\").aggregate({\"DTW_dist\" : \"sum\"})\n",
    "        df.sort_values(by=\"DTW_dist\", ascending= True, inplace= True)\n",
    "        firstChoice.append(df.index[0])\n",
    "print(Counter(firstChoice))"
   ]
  },
  {
   "cell_type": "code",
   "execution_count": 45,
   "metadata": {},
   "outputs": [
    {
     "data": {
      "text/plain": [
       "[9, 53, 52, 12, 42, 96]"
      ]
     },
     "execution_count": 45,
     "metadata": {},
     "output_type": "execute_result"
    }
   ],
   "source": [
    "selectedPVs.append(96)\n",
    "selectedPVs"
   ]
  },
  {
   "cell_type": "code",
   "execution_count": null,
   "metadata": {},
   "outputs": [],
   "source": [
    "folder = \"7variate\"\n",
    "_ = oneMorePV(selectedPVs, folder)\n",
    "\n",
    "firstChoice = list()\n",
    "for file in os.listdir(\"operation3_26/{}/\".format(folder)):\n",
    "    if file.endswith(\".csv\"):\n",
    "        df = pd.read_csv(\"operation3_26/{}/{}\".format(folder, file), header = 0)\n",
    "        df = df.groupby(by=\"PVs\").aggregate({\"DTW_dist\" : \"sum\"})\n",
    "        df.sort_values(by=\"DTW_dist\", ascending= True, inplace= True)\n",
    "        firstChoice.append(df.index[0])\n",
    "print(Counter(firstChoice))"
   ]
  },
  {
   "cell_type": "code",
   "execution_count": 47,
   "metadata": {},
   "outputs": [
    {
     "data": {
      "text/plain": [
       "dict_keys([1, 2, 3, 4, 5, 11, 12, 13, 14, 15, 18, 19, 21, 24, 25, 26, 27, 28, 29, 30, 31, 32, 41, 42, 44, 45, 46, 47, 52, 53, 54, 60, 61, 66, 67, 69, 70, 71, 72, 73, 74, 77, 81, 82, 83, 84, 96])"
      ]
     },
     "execution_count": 47,
     "metadata": {},
     "output_type": "execute_result"
    }
   ],
   "source": [
    "PVsDict.keys()"
   ]
  },
  {
   "cell_type": "raw",
   "metadata": {},
   "source": [
    "time.sleep(5)\n",
    "os.system('shutdown -s -t 0')"
   ]
  }
 ],
 "metadata": {
  "kernelspec": {
   "display_name": "Python 3",
   "language": "python",
   "name": "python3"
  },
  "language_info": {
   "codemirror_mode": {
    "name": "ipython",
    "version": 3
   },
   "file_extension": ".py",
   "mimetype": "text/x-python",
   "name": "python",
   "nbconvert_exporter": "python",
   "pygments_lexer": "ipython3",
   "version": "3.6.5"
  }
 },
 "nbformat": 4,
 "nbformat_minor": 2
}
