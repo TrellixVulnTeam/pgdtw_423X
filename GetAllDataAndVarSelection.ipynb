{
 "cells": [
  {
   "cell_type": "markdown",
   "metadata": {},
   "source": [
    "# DATA ACCESS"
   ]
  },
  {
   "cell_type": "code",
   "execution_count": 1,
   "metadata": {},
   "outputs": [
    {
     "name": "stdout",
     "output_type": "stream",
     "text": [
      "de-w-5000701.crc.de.abb.com\n"
     ]
    }
   ],
   "source": [
    "%matplotlib inline\n",
    "from DTWpg import *\n",
    "import requests\n",
    "import pandas as pd\n",
    "import matplotlib.pyplot as plt\n",
    "import io\n",
    "import json\n",
    "from influxdb import DataFrameClient\n",
    "import re\n",
    "from pprint import pprint\n",
    "from datetime import datetime\n",
    "import os\n",
    "from joblib import Parallel, delayed\n",
    "import multiprocessing\n",
    "import copy\n",
    "from IPython.display import clear_output\n",
    "import time\n",
    "\n",
    "import random\n",
    "\n",
    "import numpy as np\n",
    "from collections import defaultdict\n",
    "\n",
    "import matplotlib\n",
    "import numpy as np\n",
    "import math\n",
    "\n",
    "from influxdb import DataFrameClient\n",
    "from influxdb.exceptions import InfluxDBClientError, InfluxDBServerError\n",
    "from os import getenv\n",
    "import pymssql\n",
    "import pandas as pd\n",
    "\n",
    "from datetime import datetime\n",
    "import pickle\n",
    "\n",
    "from sklearn.cross_decomposition import PLSRegression\n",
    "from scipy.special import erfinv\n",
    "from scipy.stats import f\n",
    "##influx\n",
    "client = DataFrameClient('de-w-5000701.crc.de.abb.com', 8086, '', '', 'batch_pv_offline')\n",
    "\n",
    "##mssql\n",
    "server = \"de-w-5000701.crc.de.abb.com\"\n",
    "print(server)\n",
    "user = \"sa\"\n",
    "password = \"Q1w2e3r4t5\"\n",
    "conn = pymssql.connect(server, user, password, \"BATCH_INSIGHT_DEMO\")\n",
    "get_pv_to_unit_url=\"http://de-w-5000701.crc.de.abb.com:9090/api/BatchTrend/\"\n",
    "valuedict={}\n",
    "\n",
    "labels = pd.read_csv(\"labels-20180507-cleaned.csv\", header = None, delimiter=\"\\t\")\n",
    "labelsAnonym = labels.loc[(labels[2] == \"TAG/TAG_NAME\") & ((labels[1].str.contains(\"^ba_\")) | (labels[0].str.contains(\"^ba_\"))), 0:1]\n",
    "\n",
    "random.seed(42)\n",
    "state = random.getstate()"
   ]
  },
  {
   "cell_type": "markdown",
   "metadata": {},
   "source": [
    "The `get_pv_values()` function returns the values of a certain PV (`pvlist`) in a specified timeframe [`starttime`, `endtime`] in the database __batch_pv_basf_offline.autogen__. "
   ]
  },
  {
   "cell_type": "code",
   "execution_count": 2,
   "metadata": {},
   "outputs": [],
   "source": [
    "def get_pv_values(pvlist, starttime, endtime):\n",
    "\n",
    "    query = \"SELECT min(\\\"value\\\") as \\\"value\\\" FROM \\\"batch_pv_basf_offline\\\".\\\"autogen\\\".\\\"\" + pvlist + \"\\\" WHERE time >= \\'\" + starttime + \"\\' AND time <= \\'\" + endtime + \"\\' GROUP BY time(60s, 60s) FILL(previous)\"\n",
    "\n",
    "    run_step_pvs = None\n",
    "    \n",
    "    try:\n",
    "        run_step_pvs = client.query(query)\n",
    "    except Exception as e:\n",
    "        print(e)\n",
    "        print(\"error in get pv values in general utilities\")\n",
    "\n",
    "    valframe = {}\n",
    "\n",
    "    if run_step_pvs is not None:\n",
    "        valframe[\"start\"] = starttime\n",
    "        valframe[\"end\"] = endtime\n",
    "        valframe[\"name\"] = pvlist\n",
    "        if not len(run_step_pvs.keys()):\n",
    "            return None\n",
    "        for key in run_step_pvs.keys():\n",
    "\n",
    "            pvtable = run_step_pvs[key]\n",
    "#             pvtable = pvtable.interpolate(limit=10)\n",
    "            pvtable= pvtable.dropna(how='all',axis=1)\n",
    "            \n",
    "            pvtable= pvtable.astype(float)\n",
    "            pvtable = pvtable.interpolate(method='values')\n",
    "            pvtable = pvtable.fillna(method='backfill')\n",
    "            \n",
    "#             nunique = pvtable.apply(pd.Series.nunique)\n",
    "#             cols_to_drop = nunique[nunique == 1].index\n",
    "#             pvtable=pvtable.drop(cols_to_drop,axis=1)\n",
    "            \n",
    "            ls=[]\n",
    "            if len(list(pvtable)):\n",
    "                ls = pvtable.value.values.tolist()\n",
    "\n",
    "            if not ls or not len(ls):\n",
    "                return None\n",
    "            valframe[\"values\"]= ls\n",
    "        return valframe\n",
    "    return None"
   ]
  },
  {
   "cell_type": "markdown",
   "metadata": {},
   "source": [
    "`formatTime()` makes the time stamp collected from the metadata repository suitable to be used in the query to the database. "
   ]
  },
  {
   "cell_type": "code",
   "execution_count": 3,
   "metadata": {},
   "outputs": [],
   "source": [
    "def formatTime(time):\n",
    "    return datetime.strptime(time,\"%Y-%m-%dT%H:%M:%S.%f%z\").strftime(\"%Y-%m-%d %H:%M:%S\")"
   ]
  },
  {
   "cell_type": "code",
   "execution_count": 4,
   "metadata": {},
   "outputs": [
    {
     "data": {
      "text/html": [
       "<div>\n",
       "<style scoped>\n",
       "    .dataframe tbody tr th:only-of-type {\n",
       "        vertical-align: middle;\n",
       "    }\n",
       "\n",
       "    .dataframe tbody tr th {\n",
       "        vertical-align: top;\n",
       "    }\n",
       "\n",
       "    .dataframe thead th {\n",
       "        text-align: right;\n",
       "    }\n",
       "</style>\n",
       "<table border=\"1\" class=\"dataframe\">\n",
       "  <thead>\n",
       "    <tr style=\"text-align: right;\">\n",
       "      <th></th>\n",
       "      <th>BatBatch</th>\n",
       "      <th>BatDcsName</th>\n",
       "      <th>BatDuration</th>\n",
       "      <th>BatETimeAC</th>\n",
       "      <th>BatEndTimeModelPhase</th>\n",
       "      <th>BatEquipment</th>\n",
       "      <th>BatLabelIds</th>\n",
       "      <th>BatLabels</th>\n",
       "      <th>BatMaterial</th>\n",
       "      <th>BatSTimeAC</th>\n",
       "      <th>BatStartTimeModelPhase</th>\n",
       "      <th>BatchId</th>\n",
       "    </tr>\n",
       "  </thead>\n",
       "  <tbody>\n",
       "    <tr>\n",
       "      <th>0</th>\n",
       "      <td>37425</td>\n",
       "      <td>37425</td>\n",
       "      <td>179237</td>\n",
       "      <td>2014-11-15T01:49:52.000+0000</td>\n",
       "      <td>0001-01-01T00:00:00</td>\n",
       "      <td>[UNIT_18, UNIT_01, UNIT_1A, UNIT_10]</td>\n",
       "      <td>[2, 34, 3, 4, 5]</td>\n",
       "      <td>[{'BlaDesc': 'Batch Abbruch Produkt muss in di...</td>\n",
       "      <td>[{'BmaSapNo': '', 'BmaMatName': 'Sok.PM 10i', ...</td>\n",
       "      <td>2014-11-13T00:02:35.000+0000</td>\n",
       "      <td>0001-01-01T00:00:00</td>\n",
       "      <td>5080</td>\n",
       "    </tr>\n",
       "    <tr>\n",
       "      <th>1</th>\n",
       "      <td>37437</td>\n",
       "      <td>37437</td>\n",
       "      <td>213746</td>\n",
       "      <td>2014-11-16T00:59:44.000+0000</td>\n",
       "      <td>0001-01-01T00:00:00</td>\n",
       "      <td>[UNIT_18, UNIT_01, UNIT_1A, UNIT_10]</td>\n",
       "      <td>[1, 34]</td>\n",
       "      <td>[{'BlaDesc': 'Batch Abbruch kein Produkt', 'Bl...</td>\n",
       "      <td>[{'BmaSapNo': '', 'BmaMatName': 'Sok.PM 10i', ...</td>\n",
       "      <td>2014-11-13T13:37:18.000+0000</td>\n",
       "      <td>0001-01-01T00:00:00</td>\n",
       "      <td>5081</td>\n",
       "    </tr>\n",
       "    <tr>\n",
       "      <th>2</th>\n",
       "      <td>37445</td>\n",
       "      <td>37445</td>\n",
       "      <td>142948</td>\n",
       "      <td>2014-11-16T17:56:19.000+0000</td>\n",
       "      <td>0001-01-01T00:00:00</td>\n",
       "      <td>[UNIT_18, UNIT_01, UNIT_1A, UNIT_10]</td>\n",
       "      <td>[]</td>\n",
       "      <td>[]</td>\n",
       "      <td>[{'BmaSapNo': '', 'BmaMatName': 'Sok.PM 10i', ...</td>\n",
       "      <td>2014-11-15T02:13:51.000+0000</td>\n",
       "      <td>0001-01-01T00:00:00</td>\n",
       "      <td>5082</td>\n",
       "    </tr>\n",
       "    <tr>\n",
       "      <th>3</th>\n",
       "      <td>37445</td>\n",
       "      <td>37445</td>\n",
       "      <td>142948</td>\n",
       "      <td>2014-11-16T17:56:19.000+0000</td>\n",
       "      <td>0001-01-01T00:00:00</td>\n",
       "      <td>[UNIT_18, UNIT_01, UNIT_1A, UNIT_10]</td>\n",
       "      <td>[]</td>\n",
       "      <td>[]</td>\n",
       "      <td>[{'BmaSapNo': '', 'BmaMatName': 'Sok.PM 10i', ...</td>\n",
       "      <td>2014-11-15T02:13:51.000+0000</td>\n",
       "      <td>0001-01-01T00:00:00</td>\n",
       "      <td>5083</td>\n",
       "    </tr>\n",
       "    <tr>\n",
       "      <th>4</th>\n",
       "      <td>37469</td>\n",
       "      <td>37469</td>\n",
       "      <td>169008</td>\n",
       "      <td>2014-11-18T17:24:37.000+0000</td>\n",
       "      <td>0001-01-01T00:00:00</td>\n",
       "      <td>[UNIT_18, UNIT_01, UNIT_1A, UNIT_10]</td>\n",
       "      <td>[6, 11]</td>\n",
       "      <td>[{'BlaDesc': 'Batch nahe Optimum', 'BlaGroup':...</td>\n",
       "      <td>[{'BmaSapNo': '', 'BmaMatName': 'Sok.PM 10i', ...</td>\n",
       "      <td>2014-11-16T18:27:49.000+0000</td>\n",
       "      <td>0001-01-01T00:00:00</td>\n",
       "      <td>5084</td>\n",
       "    </tr>\n",
       "  </tbody>\n",
       "</table>\n",
       "</div>"
      ],
      "text/plain": [
       "   BatBatch  BatDcsName  BatDuration                    BatETimeAC  \\\n",
       "0     37425       37425       179237  2014-11-15T01:49:52.000+0000   \n",
       "1     37437       37437       213746  2014-11-16T00:59:44.000+0000   \n",
       "2     37445       37445       142948  2014-11-16T17:56:19.000+0000   \n",
       "3     37445       37445       142948  2014-11-16T17:56:19.000+0000   \n",
       "4     37469       37469       169008  2014-11-18T17:24:37.000+0000   \n",
       "\n",
       "  BatEndTimeModelPhase                          BatEquipment  \\\n",
       "0  0001-01-01T00:00:00  [UNIT_18, UNIT_01, UNIT_1A, UNIT_10]   \n",
       "1  0001-01-01T00:00:00  [UNIT_18, UNIT_01, UNIT_1A, UNIT_10]   \n",
       "2  0001-01-01T00:00:00  [UNIT_18, UNIT_01, UNIT_1A, UNIT_10]   \n",
       "3  0001-01-01T00:00:00  [UNIT_18, UNIT_01, UNIT_1A, UNIT_10]   \n",
       "4  0001-01-01T00:00:00  [UNIT_18, UNIT_01, UNIT_1A, UNIT_10]   \n",
       "\n",
       "        BatLabelIds                                          BatLabels  \\\n",
       "0  [2, 34, 3, 4, 5]  [{'BlaDesc': 'Batch Abbruch Produkt muss in di...   \n",
       "1           [1, 34]  [{'BlaDesc': 'Batch Abbruch kein Produkt', 'Bl...   \n",
       "2                []                                                 []   \n",
       "3                []                                                 []   \n",
       "4           [6, 11]  [{'BlaDesc': 'Batch nahe Optimum', 'BlaGroup':...   \n",
       "\n",
       "                                         BatMaterial  \\\n",
       "0  [{'BmaSapNo': '', 'BmaMatName': 'Sok.PM 10i', ...   \n",
       "1  [{'BmaSapNo': '', 'BmaMatName': 'Sok.PM 10i', ...   \n",
       "2  [{'BmaSapNo': '', 'BmaMatName': 'Sok.PM 10i', ...   \n",
       "3  [{'BmaSapNo': '', 'BmaMatName': 'Sok.PM 10i', ...   \n",
       "4  [{'BmaSapNo': '', 'BmaMatName': 'Sok.PM 10i', ...   \n",
       "\n",
       "                     BatSTimeAC BatStartTimeModelPhase  BatchId  \n",
       "0  2014-11-13T00:02:35.000+0000    0001-01-01T00:00:00     5080  \n",
       "1  2014-11-13T13:37:18.000+0000    0001-01-01T00:00:00     5081  \n",
       "2  2014-11-15T02:13:51.000+0000    0001-01-01T00:00:00     5082  \n",
       "3  2014-11-15T02:13:51.000+0000    0001-01-01T00:00:00     5083  \n",
       "4  2014-11-16T18:27:49.000+0000    0001-01-01T00:00:00     5084  "
      ]
     },
     "execution_count": 4,
     "metadata": {},
     "output_type": "execute_result"
    }
   ],
   "source": [
    "# Information we get for every batch run in recipe 421\n",
    "# - BatchId\n",
    "# - BatSTimeAC\n",
    "# - BatETimeAC\n",
    "\n",
    "get_all_batches_to_recipe_url=\"http://de-w-5000701.crc.de.abb.com:9090/api/batchinfo/421\"\n",
    "\n",
    "urlData = requests.get(get_all_batches_to_recipe_url).text\n",
    "allBatch = pd.read_json(urlData)\n",
    "allBatch.head()"
   ]
  },
  {
   "cell_type": "markdown",
   "metadata": {},
   "source": [
    "The table above is a list of all the batches (428) contained in the 421 recipe."
   ]
  },
  {
   "cell_type": "code",
   "execution_count": 5,
   "metadata": {},
   "outputs": [
    {
     "name": "stdout",
     "output_type": "stream",
     "text": [
      "Number of Batches: 428\n"
     ]
    },
    {
     "data": {
      "text/plain": [
       "{'BatchId': 5080,\n",
       " 'BatSTimeAC': '2014-11-13T00:02:35.000+0000',\n",
       " 'BatETimeAC': '2014-11-15T01:49:52.000+0000',\n",
       " 'Units': {}}"
      ]
     },
     "execution_count": 5,
     "metadata": {},
     "output_type": "execute_result"
    }
   ],
   "source": [
    "# Start creating the data structure to contain all data.\n",
    "\n",
    "recipe421 = dict()\n",
    "for index, row in allBatch.iterrows():\n",
    "    recipe421[row['BatchId']] = {'BatchId': row['BatchId'],\n",
    "                                'BatSTimeAC': row['BatSTimeAC'],\n",
    "                                'BatETimeAC': row['BatETimeAC'],\n",
    "                                'Units': dict()}\n",
    "print(\"Number of Batches: {}\".format(len(recipe421)))\n",
    "recipe421[5080]"
   ]
  },
  {
   "cell_type": "markdown",
   "metadata": {},
   "source": [
    "The essential information we get from the table above is the list of all batches' IDs along with start and end time ov every batch. This data is collected in the `recipe421` dictionary, whose keys are the batches' IDs and values are dictionary structured as shown above"
   ]
  },
  {
   "cell_type": "code",
   "execution_count": 6,
   "metadata": {},
   "outputs": [
    {
     "data": {
      "text/html": [
       "<div>\n",
       "<style scoped>\n",
       "    .dataframe tbody tr th:only-of-type {\n",
       "        vertical-align: middle;\n",
       "    }\n",
       "\n",
       "    .dataframe tbody tr th {\n",
       "        vertical-align: top;\n",
       "    }\n",
       "\n",
       "    .dataframe thead th {\n",
       "        text-align: right;\n",
       "    }\n",
       "</style>\n",
       "<table border=\"1\" class=\"dataframe\">\n",
       "  <thead>\n",
       "    <tr style=\"text-align: right;\">\n",
       "      <th></th>\n",
       "      <th>BaeBaeId</th>\n",
       "      <th>BaeBatId</th>\n",
       "      <th>BaeETime</th>\n",
       "      <th>BaeETimeUtc</th>\n",
       "      <th>BaeId</th>\n",
       "      <th>BaeLoopCount</th>\n",
       "      <th>BaeName</th>\n",
       "      <th>BaeNode</th>\n",
       "      <th>BaeSTime</th>\n",
       "      <th>BaeSTimeUtc</th>\n",
       "      <th>BalBatch21Level</th>\n",
       "      <th>BalName</th>\n",
       "    </tr>\n",
       "  </thead>\n",
       "  <tbody>\n",
       "    <tr>\n",
       "      <th>0</th>\n",
       "      <td>1281657</td>\n",
       "      <td>5081</td>\n",
       "      <td>2014-11-13T15:45:25.000+0000</td>\n",
       "      <td>2014-11-13T14:45:25.000+0000</td>\n",
       "      <td>1281664</td>\n",
       "      <td>1</td>\n",
       "      <td>Ruehrer-Ein</td>\n",
       "      <td>1.9</td>\n",
       "      <td>2014-11-13T15:45:07.000+0000</td>\n",
       "      <td>2014-11-13T14:45:07.000+0000</td>\n",
       "      <td>3</td>\n",
       "      <td>OPERATION</td>\n",
       "    </tr>\n",
       "    <tr>\n",
       "      <th>1</th>\n",
       "      <td>1281679</td>\n",
       "      <td>5081</td>\n",
       "      <td>2014-11-15T03:12:00.000+0000</td>\n",
       "      <td>2014-11-15T02:12:00.000+0000</td>\n",
       "      <td>1281680</td>\n",
       "      <td>1</td>\n",
       "      <td>TEMPGWX</td>\n",
       "      <td>1.20.1</td>\n",
       "      <td>2014-11-15T03:12:00.000+0000</td>\n",
       "      <td>2014-11-15T02:12:00.000+0000</td>\n",
       "      <td>4</td>\n",
       "      <td>PHASE</td>\n",
       "    </tr>\n",
       "    <tr>\n",
       "      <th>2</th>\n",
       "      <td>1281657</td>\n",
       "      <td>5081</td>\n",
       "      <td>2014-11-13T15:53:15.000+0000</td>\n",
       "      <td>2014-11-13T14:53:15.000+0000</td>\n",
       "      <td>1281696</td>\n",
       "      <td>1</td>\n",
       "      <td>TEMPREGEL</td>\n",
       "      <td>1.38</td>\n",
       "      <td>2014-11-13T15:45:25.000+0000</td>\n",
       "      <td>2014-11-13T14:45:25.000+0000</td>\n",
       "      <td>3</td>\n",
       "      <td>OPERATION</td>\n",
       "    </tr>\n",
       "    <tr>\n",
       "      <th>3</th>\n",
       "      <td>1281711</td>\n",
       "      <td>5081</td>\n",
       "      <td>2014-11-14T16:54:00.000+0000</td>\n",
       "      <td>2014-11-14T15:54:00.000+0000</td>\n",
       "      <td>1281712</td>\n",
       "      <td>1</td>\n",
       "      <td>WARTENX</td>\n",
       "      <td>1.44.1</td>\n",
       "      <td>2014-11-14T15:54:00.000+0000</td>\n",
       "      <td>2014-11-14T14:54:00.000+0000</td>\n",
       "      <td>4</td>\n",
       "      <td>PHASE</td>\n",
       "    </tr>\n",
       "    <tr>\n",
       "      <th>4</th>\n",
       "      <td>1281727</td>\n",
       "      <td>5081</td>\n",
       "      <td>2014-11-13T15:45:00.000+0000</td>\n",
       "      <td>2014-11-13T14:45:00.000+0000</td>\n",
       "      <td>1281728</td>\n",
       "      <td>1</td>\n",
       "      <td>BRUEDAUX</td>\n",
       "      <td>1.54.1</td>\n",
       "      <td>2014-11-13T15:45:00.000+0000</td>\n",
       "      <td>2014-11-13T14:45:00.000+0000</td>\n",
       "      <td>4</td>\n",
       "      <td>PHASE</td>\n",
       "    </tr>\n",
       "  </tbody>\n",
       "</table>\n",
       "</div>"
      ],
      "text/plain": [
       "   BaeBaeId  BaeBatId                      BaeETime  \\\n",
       "0   1281657      5081  2014-11-13T15:45:25.000+0000   \n",
       "1   1281679      5081  2014-11-15T03:12:00.000+0000   \n",
       "2   1281657      5081  2014-11-13T15:53:15.000+0000   \n",
       "3   1281711      5081  2014-11-14T16:54:00.000+0000   \n",
       "4   1281727      5081  2014-11-13T15:45:00.000+0000   \n",
       "\n",
       "                    BaeETimeUtc    BaeId  BaeLoopCount      BaeName BaeNode  \\\n",
       "0  2014-11-13T14:45:25.000+0000  1281664             1  Ruehrer-Ein     1.9   \n",
       "1  2014-11-15T02:12:00.000+0000  1281680             1      TEMPGWX  1.20.1   \n",
       "2  2014-11-13T14:53:15.000+0000  1281696             1    TEMPREGEL    1.38   \n",
       "3  2014-11-14T15:54:00.000+0000  1281712             1      WARTENX  1.44.1   \n",
       "4  2014-11-13T14:45:00.000+0000  1281728             1     BRUEDAUX  1.54.1   \n",
       "\n",
       "                       BaeSTime                   BaeSTimeUtc  \\\n",
       "0  2014-11-13T15:45:07.000+0000  2014-11-13T14:45:07.000+0000   \n",
       "1  2014-11-15T03:12:00.000+0000  2014-11-15T02:12:00.000+0000   \n",
       "2  2014-11-13T15:45:25.000+0000  2014-11-13T14:45:25.000+0000   \n",
       "3  2014-11-14T15:54:00.000+0000  2014-11-14T14:54:00.000+0000   \n",
       "4  2014-11-13T15:45:00.000+0000  2014-11-13T14:45:00.000+0000   \n",
       "\n",
       "   BalBatch21Level    BalName  \n",
       "0                3  OPERATION  \n",
       "1                4      PHASE  \n",
       "2                3  OPERATION  \n",
       "3                4      PHASE  \n",
       "4                4      PHASE  "
      ]
     },
     "execution_count": 6,
     "metadata": {},
     "output_type": "execute_result"
    }
   ],
   "source": [
    "url=\"http://de-w-5000701.crc.de.abb.com:9090/api/BatchElements/{}/\"\n",
    "urlData = requests.get(url.format(5081)).text\n",
    "rawData = pd.read_json(urlData)\n",
    "rawData.head()"
   ]
  },
  {
   "cell_type": "markdown",
   "metadata": {},
   "source": [
    "Given a batch's ID, the table above shows:\n",
    "* __BaeBaeId__: ID of the element, required to get information about the PVs referring to such element (could be Unit, Operation or Phase)\n",
    "* __BaeSTime/BaeETime__: Start and end time (Local)\n",
    "* __BaeSTimeUtc/BaeETimeUtc__: Start and end time (Universal)\n",
    "* __BaeNode__: Three level identifier of an element (Unit.Operation.Phase)\n",
    "* __BalBatch21Level__: Numeric equivalent of level (1: Unit Recipe, 2: Unit, 3: Operation, 4: Phase)"
   ]
  },
  {
   "cell_type": "code",
   "execution_count": 7,
   "metadata": {},
   "outputs": [
    {
     "data": {
      "text/html": [
       "<div>\n",
       "<style scoped>\n",
       "    .dataframe tbody tr th:only-of-type {\n",
       "        vertical-align: middle;\n",
       "    }\n",
       "\n",
       "    .dataframe tbody tr th {\n",
       "        vertical-align: top;\n",
       "    }\n",
       "\n",
       "    .dataframe thead th {\n",
       "        text-align: right;\n",
       "    }\n",
       "</style>\n",
       "<table border=\"1\" class=\"dataframe\">\n",
       "  <thead>\n",
       "    <tr style=\"text-align: right;\">\n",
       "      <th></th>\n",
       "      <th>TagAlias</th>\n",
       "      <th>TagDataType</th>\n",
       "      <th>TagDesc</th>\n",
       "      <th>TagEqpDcsName</th>\n",
       "      <th>TagHistoryId</th>\n",
       "      <th>TagId</th>\n",
       "      <th>TagName</th>\n",
       "      <th>TagScaleBegin</th>\n",
       "      <th>TagScaleEnd</th>\n",
       "      <th>TagUMO</th>\n",
       "    </tr>\n",
       "  </thead>\n",
       "  <tbody>\n",
       "    <tr>\n",
       "      <th>0</th>\n",
       "      <td></td>\n",
       "      <td>FLOAT</td>\n",
       "      <td></td>\n",
       "      <td>UNIT_10</td>\n",
       "      <td>11043</td>\n",
       "      <td>150000</td>\n",
       "      <td>ba_E20161</td>\n",
       "      <td>0</td>\n",
       "      <td>100</td>\n",
       "      <td>kg</td>\n",
       "    </tr>\n",
       "    <tr>\n",
       "      <th>1</th>\n",
       "      <td></td>\n",
       "      <td>FLOAT</td>\n",
       "      <td></td>\n",
       "      <td>UNIT_10</td>\n",
       "      <td>11044</td>\n",
       "      <td>150001</td>\n",
       "      <td>ba_F20103B</td>\n",
       "      <td>0</td>\n",
       "      <td>100</td>\n",
       "      <td>°C</td>\n",
       "    </tr>\n",
       "    <tr>\n",
       "      <th>2</th>\n",
       "      <td></td>\n",
       "      <td>FLOAT</td>\n",
       "      <td></td>\n",
       "      <td>UNIT_10</td>\n",
       "      <td>11015</td>\n",
       "      <td>150002</td>\n",
       "      <td>ba_F20107A</td>\n",
       "      <td>0</td>\n",
       "      <td>100</td>\n",
       "      <td>kg</td>\n",
       "    </tr>\n",
       "    <tr>\n",
       "      <th>3</th>\n",
       "      <td></td>\n",
       "      <td>FLOAT</td>\n",
       "      <td></td>\n",
       "      <td>UNIT_10</td>\n",
       "      <td>11045</td>\n",
       "      <td>150003</td>\n",
       "      <td>ba_F20107B</td>\n",
       "      <td>0</td>\n",
       "      <td>100</td>\n",
       "      <td>°C</td>\n",
       "    </tr>\n",
       "    <tr>\n",
       "      <th>4</th>\n",
       "      <td></td>\n",
       "      <td>FLOAT</td>\n",
       "      <td></td>\n",
       "      <td>UNIT_10</td>\n",
       "      <td>11016</td>\n",
       "      <td>150004</td>\n",
       "      <td>ba_F20107C</td>\n",
       "      <td>0</td>\n",
       "      <td>100</td>\n",
       "      <td>bar</td>\n",
       "    </tr>\n",
       "  </tbody>\n",
       "</table>\n",
       "</div>"
      ],
      "text/plain": [
       "  TagAlias TagDataType TagDesc TagEqpDcsName  TagHistoryId   TagId  \\\n",
       "0                FLOAT               UNIT_10         11043  150000   \n",
       "1                FLOAT               UNIT_10         11044  150001   \n",
       "2                FLOAT               UNIT_10         11015  150002   \n",
       "3                FLOAT               UNIT_10         11045  150003   \n",
       "4                FLOAT               UNIT_10         11016  150004   \n",
       "\n",
       "      TagName TagScaleBegin TagScaleEnd TagUMO  \n",
       "0   ba_E20161             0         100     kg  \n",
       "1  ba_F20103B             0         100     °C  \n",
       "2  ba_F20107A             0         100     kg  \n",
       "3  ba_F20107B             0         100     °C  \n",
       "4  ba_F20107C             0         100    bar  "
      ]
     },
     "execution_count": 7,
     "metadata": {},
     "output_type": "execute_result"
    }
   ],
   "source": [
    "get_pv_to_unit_url=\"http://de-w-5000701.crc.de.abb.com:9090/api/BatchTrend/{}\"\n",
    "urlPvData = requests.get(get_pv_to_unit_url.format(1281671)).text\n",
    "pvdata = json.loads(urlPvData)\n",
    "pvframe = pd.DataFrame(pvdata)\n",
    "pvframe.head()"
   ]
  },
  {
   "cell_type": "markdown",
   "metadata": {},
   "source": [
    "Given an element's ID, the table above shows the names (__TagName__) of the PVs related to the specified element. \\\\\n",
    "I now download all the data contained in the database for the 421 recipe. Every batch is stored in a separate file, named `batchID.pickle`, in the `recipe421` folder"
   ]
  },
  {
   "cell_type": "code",
   "execution_count": 8,
   "metadata": {},
   "outputs": [
    {
     "name": "stdout",
     "output_type": "stream",
     "text": [
      "1\n"
     ]
    }
   ],
   "source": [
    "try:\n",
    "    os.mkdir(\"recipe421/\")\n",
    "except:\n",
    "    pass\n",
    "if \"5080.pickle\" in os.listdir(\"recipe421/\"):\n",
    "    print(1)\n",
    "else: print(0)"
   ]
  },
  {
   "cell_type": "code",
   "execution_count": 9,
   "metadata": {},
   "outputs": [
    {
     "name": "stdout",
     "output_type": "stream",
     "text": [
      "Number of batches: 428\n"
     ]
    }
   ],
   "source": [
    "url=\"http://de-w-5000701.crc.de.abb.com:9090/api/BatchElements/{}/\"\n",
    "get_pv_to_unit_url=\"http://de-w-5000701.crc.de.abb.com:9090/api/BatchTrend/{}\"\n",
    "allIDs = list(recipe421.keys()) \n",
    "print(\"Number of batches: {}\".format(len(allIDs)))\n",
    "random.shuffle(allIDs) \n",
    "    "
   ]
  },
  {
   "cell_type": "code",
   "execution_count": 10,
   "metadata": {},
   "outputs": [],
   "source": [
    "def getBatch(BatchId):\n",
    "    #print(BatchId, end = \" \")\n",
    "    if \"{}.pickle\".format(BatchId) in os.listdir(\"recipe421/\"):\n",
    "        return\n",
    "    else:\n",
    "        with open('recipe421/{}.pickle'.format(BatchId), 'wb') as handle:\n",
    "            urlData = requests.get(url.format(BatchId)).text\n",
    "            rawData = pd.read_json(urlData)\n",
    "\n",
    "            for index, row in rawData.loc[rawData['BalBatch21Level'] == 2].iterrows():           # Units level information\n",
    "                recipe421[BatchId]['Units'][row['BaeNode']] = {'BaeName' : row['BaeName'],\n",
    "                                                              'BaeNode' : row['BaeNode'],\n",
    "                                                              'BaeSTime': row['BaeSTime'],\n",
    "                                                              'BaeETime' : row['BaeETime'],\n",
    "                                                              'Operations' : dict(), \n",
    "                                                              'PVs' : dict()}\n",
    "\n",
    "                urlPvData = requests.get(get_pv_to_unit_url.format(row['BaeBaeId'])).text\n",
    "                pvdata = json.loads(urlPvData)\n",
    "                pvframe = pd.DataFrame(pvdata)\n",
    "\n",
    "                for idx, rowPv in pvframe.iterrows():\n",
    "                    tagName = labelsAnonym.loc[labels[1] == rowPv['TagName'], 0].values[0]\n",
    "                    try:\n",
    "                        pvDict = get_pv_values(tagName, formatTime(row['BaeSTime']), formatTime(row['BaeETime']))\n",
    "                        recipe421[BatchId]['Units'][row['BaeNode']]['PVs'][tagName] = {\"TagName\": tagName,\n",
    "                                                                                            \"start\": pvDict['start'],\n",
    "                                                                                            \"end\": pvDict['end'],\n",
    "                                                                                            \"values\": pvDict['values']}    \n",
    "                    except:\n",
    "                        recipe421[BatchId]['Units'][row['BaeNode']]['PVs'][tagName] = {\"TagName\": tagName}\n",
    "\n",
    "\n",
    "            for node in map(str, [1,2,3,4]):             \n",
    "                r = re.compile(node + \"\\.\\d{1,2}\")\n",
    "                for index1, row in rawData.loc[(rawData['BalBatch21Level'] == 3) & (rawData.BaeNode.str.contains(node + \"\\.\\d{1,2}\")), :].iterrows():        # Operations level information\n",
    "                    i, j = r.search(row['BaeNode']).span()\n",
    "                    node_name = row['BaeNode'][i:j]\n",
    "                    recipe421[BatchId]['Units'][node]['Operations'][node_name] = {'BaeName': row['BaeName'],\n",
    "                                                                                  'BaeNode': node_name,\n",
    "                                                                                  'BaeSTime': row['BaeSTime'],\n",
    "                                                                                  'BaeETime' : row['BaeETime'],\n",
    "                                                                                  'Phases' : dict(),\n",
    "                                                                                  'PVs': dict()}\n",
    "\n",
    "                    urlPvData = requests.get(get_pv_to_unit_url.format(row['BaeBaeId'])).text\n",
    "                    pvdata = json.loads(urlPvData)\n",
    "                    pvframe = pd.DataFrame(pvdata)\n",
    "\n",
    "                    for idx, rowPv in pvframe.iterrows():\n",
    "                        tagName = labelsAnonym.loc[labels[1] == rowPv['TagName'], 0].values[0]\n",
    "                        try:\n",
    "\n",
    "                            pvDict = get_pv_values(tagName, formatTime(row['BaeSTime']), formatTime(row['BaeETime']))\n",
    "                            recipe421[BatchId]['Units'][node]['Operations'][node_name]['PVs'][tagName] = {\"TagName\": tagName,\n",
    "                                                                                                                \"start\": pvDict['start'],\n",
    "                                                                                                                \"end\": pvDict['end'],\n",
    "                                                                                                                \"values\": pvDict['values']}\n",
    "\n",
    "\n",
    "                        except:\n",
    "                            recipe421[BatchId]['Units'][node]['Operations'][node_name]['PVs'][tagName] = {\"TagName\": tagName}\n",
    "\n",
    "\n",
    "                    r2 = re.compile(node_name + \"\\.\\d{1,2}\")\n",
    "                    for index2, row in rawData.loc[(rawData['BalBatch21Level'] == 4) & (rawData.BaeNode.str.contains(node_name + \"\\.\\d{1,2}\")), :].iterrows():         # Phases level information\n",
    "                        l, m = r2.search(row['BaeNode']).span() \n",
    "                        node_name2 = row['BaeNode'][l:m]\n",
    "                        recipe421[BatchId]['Units'][node]['Operations'][node_name]['Phases'][node_name2] = {'BaeName': row['BaeName'],\n",
    "                                                                                                          'BaeNode': node_name2,\n",
    "                                                                                                          'BaeSTime': row['BaeSTime'],\n",
    "                                                                                                          'BaeETime' : row['BaeETime'],\n",
    "                                                                                                          'PVs' : dict()}\n",
    "                        urlPvData = requests.get(get_pv_to_unit_url.format(row['BaeBaeId'])).text\n",
    "                        pvdata = json.loads(urlPvData)\n",
    "                        pvframe = pd.DataFrame(pvdata)\n",
    "                        for idx, rowPv in pvframe.iterrows():\n",
    "                            tagName = labelsAnonym.loc[labels[1] == rowPv['TagName'], 0].values[0]\n",
    "                            try:\n",
    "                                pvDict = get_pv_values(tagName, formatTime(row['BaeSTime']), formatTime(row['BaeETime']))\n",
    "                                recipe421[BatchId]['Units'][node]['Operations'][node_name]['Phases'][node_name2]['PVs'][tagName] = {\"TagName\": tagName,\n",
    "                                                                                                                    \"start\": pvDict['start'],\n",
    "                                                                                                                    \"end\": pvDict['end'],\n",
    "                                                                                                                    \"values\": pvDict['values']}\n",
    "                            except:\n",
    "                                recipe421[BatchId]['Units'][node]['Operations'][node_name]['Phases'][node_name2]['PVs'][tagName] = {\"TagName\": tagName}\n",
    "\n",
    "            pickle.dump(recipe421[BatchId], handle, protocol=pickle.HIGHEST_PROTOCOL)\n",
    "            #print(\"Done\", end = \"\\t\")"
   ]
  },
  {
   "cell_type": "markdown",
   "metadata": {},
   "source": [
    "Every batch's file is organized in levels: \n",
    "* Batch\n",
    "* Units\n",
    "* Operations\n",
    "* Phases\n",
    "\n",
    "For the Batch level, we have as information the ID, start and end time.\n",
    "\n",
    "For every sub level, we have the ID of the node's element, start and end time, the PVs related to the element and than the sub-elements."
   ]
  },
  {
   "cell_type": "code",
   "execution_count": 11,
   "metadata": {},
   "outputs": [
    {
     "name": "stderr",
     "output_type": "stream",
     "text": [
      "[Parallel(n_jobs=8)]: Using backend LokyBackend with 8 concurrent workers.\n",
      "[Parallel(n_jobs=8)]: Done  34 tasks      | elapsed:    3.0s\n",
      "[Parallel(n_jobs=8)]: Done 428 out of 428 | elapsed:    3.1s finished\n"
     ]
    }
   ],
   "source": [
    "num_cores = multiprocessing.cpu_count()\n",
    "_ = Parallel(n_jobs=num_cores, verbose=1)(delayed(getBatch)(BatchId) for BatchId in allIDs)"
   ]
  },
  {
   "cell_type": "markdown",
   "metadata": {},
   "source": [
    "With the code above, we downloaded all the available data from the database.\n",
    "We now have to check, for each batch, what are the PVs for which we have available data. We can do this at each operational level, also checking that the data are all long the same.\n",
    "First things first\n",
    "\n",
    "#### Check PVs with value\n",
    "\n",
    "`pvWvaluesOpe` is a dictionary containing the list of valid PVs (PVs containing values) for each operation in each unit of each batch.\n",
    "`pvInBatch` aggregates the information in `pvWvaluesOpe` at the batch level. "
   ]
  },
  {
   "cell_type": "code",
   "execution_count": 12,
   "metadata": {},
   "outputs": [],
   "source": [
    "pvWvaluesOpe = defaultdict(lambda : defaultdict(lambda : defaultdict(list)))\n",
    "pvInBatch = defaultdict(list)\n",
    "for filename in os.listdir(\"recipe421/\"):\n",
    "    if filename.endswith(\".pickle\"):\n",
    "        BatchId = int(filename.split(\".\")[0])\n",
    "        with open(\"recipe421/{}.pickle\".format(BatchId), \"rb\") as infile:\n",
    "            batchData = pickle.load(infile)\n",
    "        for unit in map(str, range(1,5)):\n",
    "            for ope in batchData['Units'][unit]['Operations'].keys(): \n",
    "                for tagName, item in batchData['Units'][unit]['Operations'][ope]['PVs'].items():\n",
    "                    if len(item) > 1:\n",
    "                        pvWvaluesOpe[BatchId][unit][ope].append(tagName)\n",
    "                        pvInBatch[BatchId].append(tagName)\n",
    "        pvInBatch[BatchId] = list(set(pvInBatch[BatchId]))\n",
    "                #pprint(batchData['Units'][unit]['Operations'][ope]['PVs'].keys())"
   ]
  },
  {
   "cell_type": "markdown",
   "metadata": {},
   "source": [
    "Check if any batch has no valid PV."
   ]
  },
  {
   "cell_type": "code",
   "execution_count": 13,
   "metadata": {},
   "outputs": [
    {
     "data": {
      "text/plain": [
       "[5507]"
      ]
     },
     "execution_count": 13,
     "metadata": {},
     "output_type": "execute_result"
    }
   ],
   "source": [
    "noPV = list()\n",
    "for key, item in pvInBatch.items():\n",
    "    if not len(item):\n",
    "        noPV.append(key)\n",
    "noPV"
   ]
  },
  {
   "cell_type": "markdown",
   "metadata": {},
   "source": [
    "`5507` has no values for any PV, so it's better to remove any related file and variable."
   ]
  },
  {
   "cell_type": "code",
   "execution_count": 14,
   "metadata": {},
   "outputs": [],
   "source": [
    "#os.remove(\"recipe421/5507.pickle\")\n",
    "try: _ = pvWvaluesOpe.pop(5507)\n",
    "except: pass\n",
    "_ = pvInBatch.pop(5507)\n",
    "allIDs = list(pvInBatch.keys())"
   ]
  },
  {
   "cell_type": "markdown",
   "metadata": {},
   "source": [
    "Now I check the common PVs at batch level, comparing it to the average number ov PVs in the batches."
   ]
  },
  {
   "cell_type": "code",
   "execution_count": 15,
   "metadata": {},
   "outputs": [
    {
     "name": "stdout",
     "output_type": "stream",
     "text": [
      "Average number of PVs: 99\n",
      "Common PVs: 89\n"
     ]
    }
   ],
   "source": [
    "commonPvs = set(pvInBatch[5080])\n",
    "\n",
    "for _id, pvs in list(pvInBatch.items()):\n",
    "    setPv = set(pvs)\n",
    "    commonPvs.intersection_update(setPv)\n",
    "    if len(commonPvs)<1:\n",
    "        print(_id)\n",
    "        break\n",
    "avgPV = np.mean([len(item) for key, item in pvInBatch.items()])\n",
    "\n",
    "print(\"Average number of PVs: {:.0f}\\nCommon PVs: {}\".format(avgPV, len(commonPvs)))\n",
    "commonPvs = list(commonPvs)"
   ]
  },
  {
   "cell_type": "markdown",
   "metadata": {},
   "source": [
    "In order to have coherent data, I select only batches containing valid PVs in all the 4 units. The other batches are deleted."
   ]
  },
  {
   "cell_type": "code",
   "execution_count": 16,
   "metadata": {},
   "outputs": [],
   "source": [
    "w4units = list() # list of batches with all 4 units\n",
    "for BatchId in allIDs:\n",
    "    if len(pvWvaluesOpe[BatchId].keys()) == 4:\n",
    "           w4units.append(BatchId)\n",
    "allIDsSet = set(allIDs)\n",
    "no4units = list(allIDsSet.difference(set(w4units)))\n",
    "for _id in no4units:\n",
    "    _ = pvWvaluesOpe.pop(_id)\n",
    "    _ = pvInBatch.pop(_id)"
   ]
  },
  {
   "cell_type": "markdown",
   "metadata": {},
   "source": [
    "To perform analysis at the batch level, I create the batchData file, contatining for every batch the PV values of the PV in common to all batches."
   ]
  },
  {
   "cell_type": "code",
   "execution_count": 17,
   "metadata": {},
   "outputs": [],
   "source": [
    "allIDs = list(pvInBatch.keys())\n",
    "batchData = defaultdict(list)\n",
    "\n",
    "try: \n",
    "    with open(\"batchData.pickle\", \"rb\") as infile:\n",
    "        batchData = pickle.load(infile)\n",
    "except Exception as e:\n",
    "    print(e)\n",
    "    print(\"Collecting Batches:\")\n",
    "    for BatchId in allIDs:\n",
    "        \n",
    "        with open(\"recipe421/{}.pickle\".format(BatchId), \"rb\") as infile:\n",
    "            batch = pickle.load(infile)\n",
    "        start = batch[\"BatSTimeAC\"]\n",
    "        end = batch[\"BatETimeAC\"]\n",
    "        for tagName in commonPvs:\n",
    "            batchData[BatchId].append(get_pv_values(pvlist = tagName, starttime = formatTime(start), endtime = formatTime(end)))\n",
    "        print(BatchId, end = \" \")\n",
    "\n",
    "    \n",
    "    with open('batchData.pickle', 'wb') as handle:\n",
    "        pickle.dump(batchData, handle, protocol=pickle.HIGHEST_PROTOCOL)"
   ]
  },
  {
   "cell_type": "markdown",
   "metadata": {},
   "source": [
    "### Aggregating Data at Units level\n",
    "\n",
    "I now aggregate the data at the unit level thanks to the information in the `pvWvaluesOpe`."
   ]
  },
  {
   "cell_type": "code",
   "execution_count": 18,
   "metadata": {},
   "outputs": [],
   "source": [
    "try: os.mkdir(\"units\")\n",
    "except: pass\n",
    "unitPVsPerBatch = dict()\n",
    "\n",
    "for unit in map(str, range(1,5)):\n",
    "    unitPVsPerBatch[unit] = defaultdict(dict)\n",
    "    try: os.mkdir(\"units/{}\".format(unit))\n",
    "    except: pass\n",
    "\n",
    "for BatchId, Units in pvWvaluesOpe.items():\n",
    "    for unitId, Operations in Units.items():\n",
    "        pvs = set()\n",
    "        for opeId, pvList in Operations.items():\n",
    "            pvs= pvs.union(set(pvList))\n",
    "        pvsList = list(pvs)\n",
    "        unitPVsPerBatch[unitId][BatchId] = pvsList"
   ]
  },
  {
   "cell_type": "code",
   "execution_count": 19,
   "metadata": {},
   "outputs": [],
   "source": [
    "unitsPVs = dict()\n",
    "for unit, batch in unitPVsPerBatch.items():\n",
    "    commonPVs = set(batch[5082])\n",
    "    for BatchId, pvsList in batch.items():\n",
    "        commonPVs.intersection_update(set(pvsList))\n",
    "    unitsPVs[unit] = list(commonPVs)"
   ]
  },
  {
   "cell_type": "code",
   "execution_count": 20,
   "metadata": {},
   "outputs": [
    {
     "name": "stdout",
     "output_type": "stream",
     "text": [
      "1 94\n",
      "2 1\n",
      "3 95\n",
      "4 1\n"
     ]
    }
   ],
   "source": [
    "for unit, pvs in unitsPVs.items():\n",
    "    print(unit, len(pvs))"
   ]
  },
  {
   "cell_type": "markdown",
   "metadata": {},
   "source": [
    "Only units 1 and 3 are suitable for variables selection. Let's start with unit 1, collecting the PV values at this level"
   ]
  },
  {
   "cell_type": "code",
   "execution_count": 21,
   "metadata": {},
   "outputs": [
    {
     "data": {
      "image/png": "[encoded data removed]",
      "text/plain": [
       "<Figure size 432x288 with 1 Axes>"
      ]
     },
     "metadata": {},
     "output_type": "display_data"
    },
    {
     "data": {
      "image/png": "[encoded data removed]",
      "text/plain": [
       "<Figure size 432x288 with 1 Axes>"
      ]
     },
     "metadata": {},
     "output_type": "display_data"
    }
   ],
   "source": [
    "for unitSelect in ['1', '3']:\n",
    "\n",
    "    unitData = defaultdict(list)\n",
    "\n",
    "    if \"unit{}Data.pickle\".format(unitSelect) in os.listdir(\"units/\"):\n",
    "        with open(\"units/unit{}Data.pickle\".format(unitSelect), \"rb\") as infile:\n",
    "            unitData = pickle.load(infile)\n",
    "        plt.hist([len(item[0]['values']) for _, item in unitData.items()])\n",
    "        plt.title(\"Unit {}, Length Histogram\".format(unitSelect))\n",
    "        plt.show()\n",
    "    else:\n",
    "        print(\"Collecting Unit {}:\".format(unitSelect))\n",
    "        for BatchId in allIDs:\n",
    "            with open(\"recipe421/{}.pickle\".format(BatchId), \"rb\") as infile:\n",
    "                batch = pickle.load(infile)\n",
    "\n",
    "            start = batch['Units'][unitSelect][\"BaeSTime\"]\n",
    "            end = batch['Units'][unitSelect][\"BaeETime\"]\n",
    "            for tagName in unitsPVs[unitSelect]:\n",
    "                unitData[BatchId].append(get_pv_values(pvlist = tagName, starttime = formatTime(start), endtime = formatTime(end)))\n",
    "            print(BatchId, end = \" \")\n",
    "\n",
    "        with open(\"units/unit{}Data.pickle\".format(unitSelect), 'wb') as handle:\n",
    "            pickle.dump(unitData, handle, protocol=pickle.HIGHEST_PROTOCOL)\n",
    "        \n",
    "        plt.hist([len(item[0]['values']) for _, item in unitData.items()])\n",
    "        plt.title(\"Unit {}, Length Histogram\".format(unitSelect))\n",
    "        plt.show()"
   ]
  },
  {
   "cell_type": "markdown",
   "metadata": {},
   "source": [
    "For both units the data are quite long, this could cause an extremely long computation time to select variables. For this, I first try with a subsample of 50 batches, assessing the time to compute all the single variate distances."
   ]
  },
  {
   "cell_type": "code",
   "execution_count": 22,
   "metadata": {},
   "outputs": [],
   "source": [
    "with open(\"units/unit{}Data.pickle\".format(3), \"rb\") as infile:\n",
    "    unitData = pickle.load(infile)\n",
    "\n",
    "unit3IDs = list(unitData.keys())\n",
    "\n",
    "random.setstate(state)\n",
    "random.shuffle(unit3IDs)"
   ]
  },
  {
   "cell_type": "markdown",
   "metadata": {},
   "source": [
    "The following function performs DTW calculation on a certain set of batches. Since the distance metric and the step pattern are both symmetric, the DTW distance is symmetric so it is possible tu calculate just half of the combinations."
   ]
  },
  {
   "cell_type": "code",
   "execution_count": 23,
   "metadata": {},
   "outputs": [],
   "source": [
    "# Parallel algorithm\n",
    "def processBatch(BatchId, unitData, tagName, unit):\n",
    "    if \"{}.csv\".format(BatchId) in os.listdir(\"units/selectVars/{}/{}/\".format(unit, tagName)):\n",
    "        return\n",
    "    else:\n",
    "        unitDataSV = copy.deepcopy(unitData)\n",
    "\n",
    "        IDs = sorted([key for key in unitDataSV.keys() if isinstance(key, int)])\n",
    "        toPop = [_id for _id in IDs if _id < BatchId]\n",
    "        if len(IDs) - len(toPop) < 2:\n",
    "            return\n",
    "\n",
    "        for _id in toPop:\n",
    "            _ = unitDataSV.pop(_id) \n",
    "\n",
    "        unitDataSV['reference'] = BatchId\n",
    "\n",
    "        res = dtw(jsonObj = unitDataSV, \n",
    "          open_ended = False, \n",
    "          all_subseq = False, \n",
    "          only_distance = True, \n",
    "          dist_measure = \"euclidean\",\n",
    "          scale = True,\n",
    "          low_filter = False,\n",
    "          shapeDTW = False,\n",
    "          shape_descriptor = \"raw\",\n",
    "          n_points_shape = 61,\n",
    "          norm_dist = True,\n",
    "          undersampling = False,\n",
    "          undersampling_factor = 1,\n",
    "          n_jobs = 1)\n",
    "\n",
    "        res.ApplyDTW()\n",
    "\n",
    "        results = [item[0] for key, item in res.output.items()]\n",
    "        df = pd.DataFrame(results)\n",
    "        df.to_csv(\"units/selectVars/{}/{}/{}.csv\".format(unit, tagName, BatchId), index = False)\n",
    "    return"
   ]
  },
  {
   "cell_type": "code",
   "execution_count": 24,
   "metadata": {},
   "outputs": [],
   "source": [
    "unit = '3'\n",
    "J = len(unitsPVs[unit])\n",
    "try:\n",
    "    os.mkdir(\"units/selectVars/{}\".format(unit))\n",
    "except: pass\n",
    "PVdict = dict()\n",
    "for j in range(J):\n",
    "    tagName = unitData[5082][j]['name']\n",
    "    PVdict[tagName] = j"
   ]
  },
  {
   "cell_type": "code",
   "execution_count": 25,
   "metadata": {},
   "outputs": [
    {
     "name": "stdout",
     "output_type": "stream",
     "text": [
      "Total elapsed time for 8 Batches, 95 Variable(s): 0 seconds\n"
     ]
    }
   ],
   "source": [
    "num_jobs = multiprocessing.cpu_count()\n",
    "K = 8\n",
    "\n",
    "J = len(unitsPVs[unit])\n",
    "selectedIDs = sorted(unit3IDs[:K])\n",
    "    \n",
    "start = time.time()\n",
    "\n",
    "for j in range(J):\n",
    "    clear_output()\n",
    "    unitDataSV = dict()\n",
    "\n",
    "    for _id in selectedIDs:\n",
    "        unitDataSV[_id] = [unitData[_id][j]]\n",
    "        tagName = unitData[_id][j]['name']\n",
    "    PVdict[tagName] = j\n",
    "    try:\n",
    "        os.mkdir(\"units/selectVars/{}/{}\".format(unit, tagName))\n",
    "    except:\n",
    "        pass\n",
    "    \n",
    "    print(tagName, j+1)\n",
    "\n",
    "    IDsToDo = [_id for _id in selectedIDs[:-1] if \"{}.csv\".format(_id) not in os.listdir(\"units/selectVars/{}/{}/\".format(unit, tagName))]\n",
    "    if len(IDsToDo) == 1:\n",
    "        processBatch(IDsToDo[0], unitDataSV, tagName, unit)\n",
    "    if not len(IDsToDo):\n",
    "        pass\n",
    "    else:\n",
    "        _ = Parallel(n_jobs=num_jobs, verbose = 50)(delayed(processBatch)(BatchId, unitDataSV, tagName, unit) \n",
    "                                                for BatchId in [_id for _id in selectedIDs[:-1] if \"{}.csv\".format(_id) not in os.listdir(\"units/selectVars/{}/{}/\".format(unit, tagName))])\n",
    "\n",
    "clear_output()\n",
    "\n",
    "print(\"Total elapsed time for {} Batches, {} Variable(s): {:.0f} seconds\".format(K, J, time.time() - start))"
   ]
  },
  {
   "cell_type": "markdown",
   "metadata": {},
   "source": [
    "Next step is to sum all the distances for each variable, the one with the smallest total distance will be considered the most stable and will be selected. We also have to store this total distance for future variable selection"
   ]
  },
  {
   "cell_type": "code",
   "execution_count": 26,
   "metadata": {},
   "outputs": [
    {
     "name": "stdout",
     "output_type": "stream",
     "text": [
      "(0.0, 'ba_FC1QXXKX5Gx', 56) (0.0, 'ba_FC2ctjhXa5mu', 11) (0.0, 'ba_FC2mSh7aqR37Ye', 22) (0.0, 'ba_FC7TgkJodnV6', 82) (0.0, 'ba_FC9ME50lj', 36) (0.0, 'ba_FC9VnTk6', 28) (0.0, 'ba_FCHDU0E38R9su4E', 42) (0.0, 'ba_FCHf358e123AU', 21) (0.0, 'ba_FCJTGzlWjneoKMY6G', 86) (0.0, 'ba_FCMidwB6QVLn', 0) (0.0, 'ba_FCO5zQuMrAt', 77) (0.0, 'ba_FCPLwZp2hAH5lu', 91) (0.0, 'ba_FCTDbXyiQC7', 78) (0.0, 'ba_FCTwxOzL8Ow7fX', 55) (0.0, 'ba_FCVA5QsiiOXe4', 35) (0.0, 'ba_FCYrQ4PQs8TfgOEW', 46) (0.0, 'ba_FCZRM8lDxm9', 60) (0.0, 'ba_FCZwV34eH', 13) (0.0, 'ba_FCbhlHzOOkhs5', 52) (0.0, 'ba_FCc9YS2tP', 62) (0.0, 'ba_FCfTMuJZwI', 51) (0.0, 'ba_FCgkgqssVyJO', 74) (0.0, 'ba_FCxuvEtxfRbcCa', 17) (0.0, 'ba_FCzdTgwTGIt', 19) (0.0, 'ba_FQPDzN', 40) (0.0, 'ba_FQRSOHyE21rZOXsKhJE', 81) (0.0, 'ba_FQrej6GJ5vPvJ', 39) (0.0, 'ba_FQvnd0yXKAbL5X', 26) (0.0, 'ba_FpxlMOAyc5', 33) (0.0, 'ba_PCqRL4yvS3bClutA', 66) (0.0, 'ba_TCOP0V4Rcn', 48) (0.0, 'ba_TClpO5', 61) (0.009524965489748263, 'ba_PCGd0srEZp', 76) (0.013924492635723032, 'ba_FQkqszuusF7QDi', 50) (0.01741574727564904, 'ba_F8szer', 59) (0.022484933834305425, 'ba_FQlpPE', 15) (0.05424849380257319, 'ba_F0zhz6e', 84) (0.05472039707193263, 'ba_FIhgSwHD', 83) (0.061791296847798854, 'ba_FC8fHeBVpUFncPI', 4) (0.0849573161152044, 'ba_PCSTgdwK3V', 65) (0.08765613357446791, 'ba_FQraEXT', 25) (0.10158611087169633, 'ba_F4vtJ1', 31) (0.10817966292019485, 'ba_FCrBDixZDXjb', 72) (0.12353108548660141, 'ba_FCsYgvPgi0N', 80) (0.1533650857876657, 'ba_FCobtZJfb5TG', 49) (0.17912867646325167, 'ba_FC3BnZ', 7) (0.23375324345817228, 'ba_FCgrPs', 90) (0.32647567179331244, 'ba_Fl7pvjqC', 73) (0.372578344271279, 'ba_TDZyHMh1UZ', 27) (0.37457933263376364, 'ba_TDZV2zDOrmiYP', 38) (0.38060959656933535, 'ba_FCGUglDXyPKrnk38', 3) (0.39556868844889015, 'ba_FQ68FvvUHzgUeA', 87) (0.40158764275525455, 'ba_PCPUSq5ah', 5) (0.41693089049737686, 'ba_FCedKru8pHF7Ae1BA6QR', 47) (0.4745552505168978, 'ba_FQWfHc7j', 70) (0.5325326804248521, 'ba_FQYXdr6Q0', 79) (0.5459648451094561, 'ba_FCBbekJeA7', 43) (0.5685334025576672, 'ba_FCgU7jKgA2ureK', 1) (0.5821167154550618, 'ba_FQ2Qyx', 20) (0.669895170278847, 'ba_PYQtZYPJC2Ghw', 2) (0.6938082100611919, 'ba_FC7fl4f1HT5', 67) (0.7444925693110732, 'ba_SinhbKA', 71) (0.7795895262287017, 'ba_TCkwAse0bopy8zp6', 57) (0.801598413664156, 'ba_PLAu1m2', 93) (0.8137081180091368, 'ba_ErguU', 8) (1.0396703532189213, 'ba_FmYOrhonkk', 53) (1.1791808382849382, 'ba_PCLAMr1nuoSiAr', 32) (1.3216262996451569, 'ba_TIJSj', 69) (1.3376561145008536, 'ba_TCyNE8Mdv', 24) (1.4217168971594998, 'ba_TZWZNzFFdHb', 54) (1.438068256957519, 'ba_TZHx41ABpBbhN', 16) (1.7022564312615054, 'ba_TCzWpXo', 10) (1.7026940765943763, 'ba_TCfg3Yxn', 30) (1.743862232841887, 'ba_TCxXXPBmWNldwyD', 34) (1.763904519685736, 'ba_FQnZKYLSO02xLf', 68) (1.9556525320737188, 'ba_TC06nRC', 6) (2.0498364814622483, 'ba_TZv9w2dOu', 37) (2.1559332297340563, 'ba_TZIm086h', 89) (2.4597570196034333, 'ba_FCDvhG4', 64) (2.485532169886712, 'ba_FCZgiqD5fodPXYJ', 41) (2.7748110206797123, 'ba_FQC6tzztBV4DeXemfp', 88) (2.8165927326397613, 'ba_FQADMQfb0z', 94) (2.8814512653595417, 'ba_TrWfpiPrs', 14) (3.5054916826521243, 'ba_PCG6Z9', 45) (3.553181236891967, 'ba_FCgMUOKxMUzgN', 23) (3.855495544065627, 'ba_FQNOJG', 12) (4.173476366528382, 'ba_FQ1kbQwOUVlR', 29) (4.583214545346969, 'ba_FQh8rKXE0', 75) (5.789842106437666, 'ba_FQK6C3k2v6Z', 92) (5.9041873973050985, 'ba_FC7NvzX', 18) (6.593397495777363, 'ba_FQT7dzM2wq51Z3JW', 63) (7.452451915524782, 'ba_FQVzNY', 85) (8.162701565097365, 'ba_FCywcBXpqpo', 58) (8.454717421052369, 'ba_FQfXW5EZxRg3', 44) (10.187246662819543, 'ba_TZNCmUn29mO', 9)\n"
     ]
    }
   ],
   "source": [
    "pvDist = list()\n",
    "for filenamePV in os.listdir(\"units/selectVars/{}/\".format(unit)):\n",
    "    dist = 0\n",
    "    for filenameDTW in os.listdir(\"units/selectVars/{}/{}\".format(unit, filenamePV)):\n",
    "        try:\n",
    "            df = pd.read_csv(\"units/selectVars/{}/{}/{}\".format(unit, filenamePV, filenameDTW), header = 0)\n",
    "            dist += sum(df.DTW_dist)\n",
    "        except: pass\n",
    "    pvDist.append((dist, filenamePV, PVdict[filenamePV]))\n",
    "pvDist = sorted(pvDist)\n",
    "print(*pvDist)"
   ]
  },
  {
   "cell_type": "markdown",
   "metadata": {},
   "source": [
    "Many total distance are 0. This suggests that there are variables with a costant value, and so these are non-informative variables. Those should be removed from the data. "
   ]
  },
  {
   "cell_type": "code",
   "execution_count": 27,
   "metadata": {},
   "outputs": [
    {
     "data": {
      "text/plain": [
       "21"
      ]
     },
     "execution_count": 27,
     "metadata": {},
     "output_type": "execute_result"
    }
   ],
   "source": [
    "PVtoRemove = list()\n",
    "for j in range(J):\n",
    "    var = 0.0\n",
    "    for _id, pvs in unitData.items():\n",
    "        var = max(var, np.var(pvs[j]['values']))\n",
    "    if var <= 1e-6:\n",
    "        PVtoRemove.append((pvs[j]['name'], j))\n",
    "len(PVtoRemove)"
   ]
  },
  {
   "cell_type": "markdown",
   "metadata": {},
   "source": [
    "There are 21 non-informative (constant) variables. These have to be removed from the data."
   ]
  },
  {
   "cell_type": "code",
   "execution_count": 28,
   "metadata": {},
   "outputs": [
    {
     "data": {
      "text/plain": [
       "74"
      ]
     },
     "execution_count": 28,
     "metadata": {},
     "output_type": "execute_result"
    }
   ],
   "source": [
    "unitDataNew = dict()\n",
    "for _id, pvs in unitData.items():\n",
    "    unitDataNew[_id] = [pvs[j] for j in range(J) if j not in [k for name, k in PVtoRemove]]\n",
    "len(unitDataNew[5082])"
   ]
  },
  {
   "cell_type": "markdown",
   "metadata": {},
   "source": [
    "It's possible to discard the computation performed for that 21 variables:"
   ]
  },
  {
   "cell_type": "raw",
   "metadata": {},
   "source": [
    "import shutil\n",
    "\n",
    "for tagName in [name for name, k in PVtoRemove]:\n",
    "    try:\n",
    "        shutil.rmtree(\"units/selectVars/{}/{}\".format(unit, tagName))\n",
    "    except: pass"
   ]
  },
  {
   "cell_type": "code",
   "execution_count": 29,
   "metadata": {},
   "outputs": [
    {
     "data": {
      "text/plain": [
       "74"
      ]
     },
     "execution_count": 29,
     "metadata": {},
     "output_type": "execute_result"
    }
   ],
   "source": [
    "for pv, j in PVtoRemove:\n",
    "    _ = PVdict.pop(pv)\n",
    "len(PVdict.keys())"
   ]
  },
  {
   "cell_type": "markdown",
   "metadata": {},
   "source": [
    "We can now continue the analysis as before."
   ]
  },
  {
   "cell_type": "code",
   "execution_count": 30,
   "metadata": {},
   "outputs": [
    {
     "name": "stdout",
     "output_type": "stream",
     "text": [
      "[(0.0, 'ba_FC2ctjhXa5mu', 11), (0.0, 'ba_FC2mSh7aqR37Ye', 22), (0.0, 'ba_FCHDU0E38R9su4E', 42), (0.0, 'ba_FCTwxOzL8Ow7fX', 55), (0.0, 'ba_FCVA5QsiiOXe4', 35), (0.0, 'ba_FCZwV34eH', 13), (0.0, 'ba_FQPDzN', 40), (0.0, 'ba_FQrej6GJ5vPvJ', 39), (0.0, 'ba_FpxlMOAyc5', 33), (0.0, 'ba_PCqRL4yvS3bClutA', 66), (0.0, 'ba_TClpO5', 61), (0.009524965489748263, 'ba_PCGd0srEZp', 76), (0.013924492635723032, 'ba_FQkqszuusF7QDi', 50), (0.01741574727564904, 'ba_F8szer', 59), (0.022484933834305425, 'ba_FQlpPE', 15), (0.05424849380257319, 'ba_F0zhz6e', 84), (0.05472039707193263, 'ba_FIhgSwHD', 83), (0.061791296847798854, 'ba_FC8fHeBVpUFncPI', 4), (0.0849573161152044, 'ba_PCSTgdwK3V', 65), (0.08765613357446791, 'ba_FQraEXT', 25), (0.10158611087169633, 'ba_F4vtJ1', 31), (0.10817966292019485, 'ba_FCrBDixZDXjb', 72), (0.12353108548660141, 'ba_FCsYgvPgi0N', 80), (0.1533650857876657, 'ba_FCobtZJfb5TG', 49), (0.17912867646325167, 'ba_FC3BnZ', 7), (0.23375324345817228, 'ba_FCgrPs', 90), (0.32647567179331244, 'ba_Fl7pvjqC', 73), (0.372578344271279, 'ba_TDZyHMh1UZ', 27), (0.37457933263376364, 'ba_TDZV2zDOrmiYP', 38), (0.38060959656933535, 'ba_FCGUglDXyPKrnk38', 3), (0.39556868844889015, 'ba_FQ68FvvUHzgUeA', 87), (0.40158764275525455, 'ba_PCPUSq5ah', 5), (0.41693089049737686, 'ba_FCedKru8pHF7Ae1BA6QR', 47), (0.4745552505168978, 'ba_FQWfHc7j', 70), (0.5325326804248521, 'ba_FQYXdr6Q0', 79), (0.5459648451094561, 'ba_FCBbekJeA7', 43), (0.5685334025576672, 'ba_FCgU7jKgA2ureK', 1), (0.5821167154550618, 'ba_FQ2Qyx', 20), (0.669895170278847, 'ba_PYQtZYPJC2Ghw', 2), (0.6938082100611919, 'ba_FC7fl4f1HT5', 67), (0.7444925693110732, 'ba_SinhbKA', 71), (0.7795895262287017, 'ba_TCkwAse0bopy8zp6', 57), (0.801598413664156, 'ba_PLAu1m2', 93), (0.8137081180091368, 'ba_ErguU', 8), (1.0396703532189213, 'ba_FmYOrhonkk', 53), (1.1791808382849382, 'ba_PCLAMr1nuoSiAr', 32), (1.3216262996451569, 'ba_TIJSj', 69), (1.3376561145008536, 'ba_TCyNE8Mdv', 24), (1.4217168971594998, 'ba_TZWZNzFFdHb', 54), (1.438068256957519, 'ba_TZHx41ABpBbhN', 16), (1.7022564312615054, 'ba_TCzWpXo', 10), (1.7026940765943763, 'ba_TCfg3Yxn', 30), (1.743862232841887, 'ba_TCxXXPBmWNldwyD', 34), (1.763904519685736, 'ba_FQnZKYLSO02xLf', 68), (1.9556525320737188, 'ba_TC06nRC', 6), (2.0498364814622483, 'ba_TZv9w2dOu', 37), (2.1559332297340563, 'ba_TZIm086h', 89), (2.4597570196034333, 'ba_FCDvhG4', 64), (2.485532169886712, 'ba_FCZgiqD5fodPXYJ', 41), (2.7748110206797123, 'ba_FQC6tzztBV4DeXemfp', 88), (2.8165927326397613, 'ba_FQADMQfb0z', 94), (2.8814512653595417, 'ba_TrWfpiPrs', 14), (3.5054916826521243, 'ba_PCG6Z9', 45), (3.553181236891967, 'ba_FCgMUOKxMUzgN', 23), (3.855495544065627, 'ba_FQNOJG', 12), (4.173476366528382, 'ba_FQ1kbQwOUVlR', 29), (4.583214545346969, 'ba_FQh8rKXE0', 75), (5.789842106437666, 'ba_FQK6C3k2v6Z', 92), (5.9041873973050985, 'ba_FC7NvzX', 18), (6.593397495777363, 'ba_FQT7dzM2wq51Z3JW', 63), (7.452451915524782, 'ba_FQVzNY', 85), (8.162701565097365, 'ba_FCywcBXpqpo', 58), (8.454717421052369, 'ba_FQfXW5EZxRg3', 44), (10.187246662819543, 'ba_TZNCmUn29mO', 9)]\n"
     ]
    },
    {
     "data": {
      "text/plain": [
       "74"
      ]
     },
     "execution_count": 30,
     "metadata": {},
     "output_type": "execute_result"
    }
   ],
   "source": [
    "pvDist = list()\n",
    "PVselected = [filenamePV for filenamePV in os.listdir(\"units/selectVars/{}/\".format(unit)) if filenamePV in PVdict.keys()]\n",
    "\n",
    "for filenamePV in PVselected:\n",
    "    dist = 0\n",
    "    for filenameDTW in os.listdir(\"units/selectVars/{}/{}\".format(unit, filenamePV)):\n",
    "        try:\n",
    "            df = pd.read_csv(\"units/selectVars/{}/{}/{}\".format(unit, filenamePV, filenameDTW), header = 0)\n",
    "            dist += sum(df.DTW_dist)\n",
    "        except: pass\n",
    "    pvDist.append((dist, filenamePV, PVdict[filenamePV]))\n",
    "pvDist = sorted(pvDist)\n",
    "print(pvDist)\n",
    "len(pvDist)"
   ]
  },
  {
   "cell_type": "markdown",
   "metadata": {},
   "source": [
    "Certain variables still have zero DTW distance, but as checked before, these are not constant for all variables. It's worth to perform again the analysis and see if they appear again, choosing different batches (more data points)."
   ]
  },
  {
   "cell_type": "code",
   "execution_count": 31,
   "metadata": {},
   "outputs": [],
   "source": [
    "unit = '3-2ndRound'\n",
    "PVdict = dict()\n",
    "J = len(unitDataNew[5082])\n",
    "for j in range(J):\n",
    "    tagName = unitDataNew[5082][j]['name']\n",
    "    PVdict[tagName] = j\n",
    "random.shuffle(unit3IDs) "
   ]
  },
  {
   "cell_type": "code",
   "execution_count": null,
   "metadata": {},
   "outputs": [],
   "source": [
    "num_jobs = multiprocessing.cpu_count()\n",
    "K = 8\n",
    "try:\n",
    "    os.mkdir(\"units/selectVars/{}\".format(unit))\n",
    "except: pass\n",
    "\n",
    "\n",
    "selectedIDs = sorted(unit3IDs[:K])\n",
    "\n",
    "start = time.time()\n",
    "\n",
    "for j in range(J):\n",
    "    clear_output()\n",
    "    unitDataSV = dict()\n",
    "\n",
    "    for _id in selectedIDs:\n",
    "        unitDataSV[_id] = [unitDataNew[_id][j]]\n",
    "        tagName = unitDataNew[_id][j]['name']\n",
    "    PVdict[tagName] = j\n",
    "    try:\n",
    "        os.mkdir(\"units/selectVars/{}/{}\".format(unit, tagName))\n",
    "    except:\n",
    "        pass\n",
    "    \n",
    "    print(tagName, j+1)\n",
    "\n",
    "    IDsToDo = [_id for _id in selectedIDs[:-1] if \"{}.csv\".format(_id) not in os.listdir(\"units/selectVars/{}/{}/\".format(unit, tagName))]\n",
    "    if len(IDsToDo) == 1:\n",
    "        processBatch(IDsToDo[0], unitDataSV, tagName, unit)\n",
    "    if not len(IDsToDo):\n",
    "        pass\n",
    "    else:\n",
    "        _ = Parallel(n_jobs=num_jobs, verbose = 50)(delayed(processBatch)(BatchId, unitDataSV, tagName, unit) \n",
    "                                                for BatchId in [_id for _id in selectedIDs[:-1] if \"{}.csv\".format(_id) not in os.listdir(\"units/selectVars/{}/{}/\".format(unit, tagName))])\n",
    "\n",
    "clear_output()\n",
    "\n",
    "print(\"Total elapsed time for {} Batches, {} Variable(s): {:.0f} seconds\".format(K, J, time.time() - start))"
   ]
  },
  {
   "cell_type": "code",
   "execution_count": 33,
   "metadata": {},
   "outputs": [
    {
     "name": "stdout",
     "output_type": "stream",
     "text": [
      "[(0.0, 'ba_FC2ctjhXa5mu', 10), (0.0, 'ba_FCTwxOzL8Ow7fX', 44), (0.0, 'ba_FCVA5QsiiOXe4', 29), (0.0, 'ba_FCZwV34eH', 12), (0.0, 'ba_FQPDzN', 33), (0.0, 'ba_PCqRL4yvS3bClutA', 52), (0.0, 'ba_TClpO5', 48), (0.029619332692785112, 'ba_F8szer', 47), (0.034472307369087345, 'ba_PCGd0srEZp', 61), (0.046641942366856655, 'ba_FQkqszuusF7QDi', 41), (0.056113479132456213, 'ba_FCHDU0E38R9su4E', 35), (0.06808796353808236, 'ba_F0zhz6e', 65), (0.10209639728008604, 'ba_FIhgSwHD', 64), (0.12353108548660141, 'ba_FCsYgvPgi0N', 63), (0.2110276152698617, 'ba_FC7fl4f1HT5', 53), (0.2405253805820691, 'ba_FC8fHeBVpUFncPI', 3), (0.2580281777249569, 'ba_F4vtJ1', 25), (0.26000044454772503, 'ba_FCrBDixZDXjb', 58), (0.3183836461546509, 'ba_PCSTgdwK3V', 51), (0.6337364889816344, 'ba_FC3BnZ', 6), (0.6989137922462023, 'ba_FCgrPs', 70), (0.7353735309760395, 'ba_FCobtZJfb5TG', 40), (0.7831339557918368, 'ba_FC2mSh7aqR37Ye', 18), (0.8377498480145926, 'ba_Fl7pvjqC', 59), (0.9396776752946429, 'ba_PCPUSq5ah', 4), (1.0043753919447371, 'ba_FCedKru8pHF7Ae1BA6QR', 39), (1.009620579258733, 'ba_TDZV2zDOrmiYP', 31), (1.1557899878530868, 'ba_FCBbekJeA7', 36), (1.234034363924667, 'ba_FQ68FvvUHzgUeA', 67), (1.2966133015277144, 'ba_FQYXdr6Q0', 62), (1.3573435063763895, 'ba_TDZyHMh1UZ', 22), (1.4626669616379122, 'ba_FpxlMOAyc5', 27), (1.4870556529000665, 'ba_FQWfHc7j', 56), (1.7643738886493303, 'ba_TCxXXPBmWNldwyD', 28), (1.7701866377359943, 'ba_PLAu1m2', 72), (2.1029157621141774, 'ba_FCgU7jKgA2ureK', 0), (2.1491328880882343, 'ba_TCkwAse0bopy8zp6', 45), (2.5422493271848294, 'ba_FQlpPE', 14), (2.6189693018979994, 'ba_FCGUglDXyPKrnk38', 2), (2.8166930297727406, 'ba_SinhbKA', 57), (3.0297300652357992, 'ba_ErguU', 7), (3.086917667113616, 'ba_FQ1kbQwOUVlR', 23), (3.1182817548761212, 'ba_TCyNE8Mdv', 20), (3.1338805235426057, 'ba_TZHx41ABpBbhN', 15), (3.2751531161407517, 'ba_FmYOrhonkk', 42), (3.377534360708734, 'ba_PYQtZYPJC2Ghw', 1), (3.4831358301232447, 'ba_TCzWpXo', 9), (3.5670697621614216, 'ba_FQraEXT', 21), (3.593290984822792, 'ba_TIJSj', 55), (3.9520934792447786, 'ba_TZWZNzFFdHb', 43), (4.2435332419452365, 'ba_PCLAMr1nuoSiAr', 26), (4.254721697126255, 'ba_TCfg3Yxn', 24), (4.69240707905943, 'ba_FQh8rKXE0', 60), (4.725792366853953, 'ba_TZIm086h', 69), (5.110920009618359, 'ba_TZv9w2dOu', 30), (5.791101199653606, 'ba_FQnZKYLSO02xLf', 54), (5.797930369092638, 'ba_TC06nRC', 5), (5.818419190729281, 'ba_FQADMQfb0z', 73), (7.11553661715971, 'ba_FQC6tzztBV4DeXemfp', 68), (7.910460547150186, 'ba_FQ2Qyx', 17), (8.110634160342034, 'ba_TrWfpiPrs', 13), (8.688026191655698, 'ba_FCDvhG4', 50), (9.23369322128865, 'ba_PCG6Z9', 38), (11.21192865782783, 'ba_FQT7dzM2wq51Z3JW', 49), (11.476660446417593, 'ba_FC7NvzX', 16), (11.616316682963738, 'ba_FCZgiqD5fodPXYJ', 34), (13.362796687785252, 'ba_FQNOJG', 11), (15.344649795871796, 'ba_FQrej6GJ5vPvJ', 32), (16.709906796487164, 'ba_FQVzNY', 66), (22.932679764494672, 'ba_FCgMUOKxMUzgN', 19), (23.19635558610238, 'ba_FQK6C3k2v6Z', 71), (23.65819260791066, 'ba_FCywcBXpqpo', 46), (24.451406262659077, 'ba_FQfXW5EZxRg3', 37), (25.41242037854747, 'ba_TZNCmUn29mO', 8)]\n",
      "74\n"
     ]
    }
   ],
   "source": [
    "pvDist = list()\n",
    "for filenamePV in os.listdir(\"units/selectVars/{}/\".format(unit)):\n",
    "    dist = 0\n",
    "    for filenameDTW in os.listdir(\"units/selectVars/{}/{}\".format(unit, filenamePV)):\n",
    "        if filenameDTW.endswith(\".csv\"):\n",
    "            df = pd.read_csv(\"units/selectVars/{}/{}/{}\".format(unit, filenamePV, filenameDTW), header = 0)\n",
    "            dist += sum(df.DTW_dist)\n",
    "    pvDist.append((dist, filenamePV, PVdict[filenamePV]))\n",
    "pvDist = sorted(pvDist)\n",
    "print(pvDist)\n",
    "print(len(pvDist))"
   ]
  },
  {
   "cell_type": "markdown",
   "metadata": {},
   "source": [
    "HYPOTHESIS: PVs with DTW distance equal to 0 are non informative because they take on just few constant values, that repeat in the same order in all the batches, so the resulting dtw distance is 0. Let's check "
   ]
  },
  {
   "cell_type": "code",
   "execution_count": 34,
   "metadata": {},
   "outputs": [
    {
     "data": {
      "image/png": "[encoded data removed]",
      "text/plain": [
       "<Figure size 432x288 with 2 Axes>"
      ]
     },
     "metadata": {},
     "output_type": "display_data"
    },
    {
     "data": {
      "image/png": "[encoded data removed]",
      "text/plain": [
       "<Figure size 432x288 with 2 Axes>"
      ]
     },
     "metadata": {},
     "output_type": "display_data"
    }
   ],
   "source": [
    "for _id in unitDataNew.keys():\n",
    "    dt = unitDataNew[_id][12]['values']\n",
    "    if np.var(dt) <= 1e-6: continue\n",
    "    else:\n",
    "        fig, (ax0, ax1) = plt.subplots(1,2)\n",
    "        ax0.hist(dt)\n",
    "        ax1.plot(dt)\n",
    "        plt.show()"
   ]
  },
  {
   "cell_type": "markdown",
   "metadata": {},
   "source": [
    "Visually analyzing the distribution and trend over time of the zero DTW distance variables, I give here some reasons why I discard certain variables and not others.\n",
    "\n",
    "To discard:\n",
    "* 'ba_FC2ctjhXa5mu', 10: always constant except for a spike in one point of a single batch\n",
    "* 'ba_FCVA5QsiiOXe4', 29: always constant except for a spike in one point of a single batch\n",
    "* 'ba_FCZwV34eH', 12: non constant only in 2 batches\n",
    "* 'ba_FQPDzN', 33: non constant trend only in 1 batch\n",
    "* 'ba_TClpO5', 48: single spike in 2 batches\n",
    "\n",
    "\n",
    "Not to discard:\n",
    "* 'ba_FC2mSh7aqR37Ye', 18: presents an abnormal behaviour in one batch; in general is non constant in 3 batches\n",
    "* 'ba_FC7fl4f1HT5', 53: complex trend in many batches\n",
    "* 'ba_FCGUglDXyPKrnk38', 2: non constant trend in many batches\n",
    "* 'ba_FCHDU0E38R9su4E', 35: spikes inmany bacthes\n",
    "* 'ba_FCsYgvPgi0N', 63: relevant spikes in 4 batches\n",
    "* 'ba_FQADMQfb0z', 73: non constant trend in many batches\n",
    "* 'ba_FQC6tzztBV4DeXemfp', 68: relevant spikes in many batches\n",
    "* 'ba_FQrej6GJ5vPvJ', 32: relevant spikes in many batches\n",
    "* 'ba_FpxlMOAyc5', 27: complex trend in many batches\n",
    "* 'ba_PCqRL4yvS3bClutA', 52: relevant spikes in many batches\n",
    "* 'ba_TCxXXPBmWNldwyD', 28: non constant trend in many batches\n",
    "\n",
    "The situation should be further analysed to better select the non-informative variables. For the moment, I __DISCARD__ the five variables listed above and add data points to the others, wishing to remove the zero distance cases, since starting with a 0 baseline as distance would probably not allow further selection."
   ]
  },
  {
   "cell_type": "code",
   "execution_count": 35,
   "metadata": {},
   "outputs": [
    {
     "data": {
      "text/plain": [
       "69"
      ]
     },
     "execution_count": 35,
     "metadata": {},
     "output_type": "execute_result"
    }
   ],
   "source": [
    "PVtoRemove = [10, 29, 12, 33, 48]\n",
    "\n",
    "unitDataClean1 = dict()\n",
    "\n",
    "for _id, pvs in unitDataNew.items():\n",
    "    unitDataClean1[_id] = [pvs[j] for j in range(J) if j not in PVtoRemove]\n",
    "len(unitDataClean1[5083])"
   ]
  },
  {
   "cell_type": "raw",
   "metadata": {},
   "source": [
    "for k in PVtoRemove:\n",
    "    for dist, name, j in pvDist:\n",
    "        if j ==k:\n",
    "            try:\n",
    "                shutil.rmtree(\"units/selectVars/{}/{}\".format(unit, name))\n",
    "            except: pass\n",
    "        continue"
   ]
  },
  {
   "cell_type": "code",
   "execution_count": 36,
   "metadata": {},
   "outputs": [],
   "source": [
    "#unit = '3'\n",
    "PVdict = dict()\n",
    "num_jobs = multiprocessing.cpu_count()\n",
    "K = 8\n",
    "#unit3IDs = [5472, 5471, 5417, 5393, 5405, 5178, 5372, 5469, 5344, 5336, 5315, 5273, 5168, 5202, 5477]\n",
    "J = len(unitDataClean1[5082])\n",
    "selectedIDs = sorted(unit3IDs[K-1:2*K])\n",
    "selectedIDs\n",
    "\n",
    "start = time.time()\n",
    "for j in range(J):\n",
    "    tagName = unitDataClean1[5083][j]['name']\n",
    "    PVdict[tagName] = j"
   ]
  },
  {
   "cell_type": "code",
   "execution_count": null,
   "metadata": {},
   "outputs": [],
   "source": [
    "for j in range(J):\n",
    "    clear_output()\n",
    "    unitDataSV = dict()\n",
    "\n",
    "    for _id in selectedIDs:\n",
    "        unitDataSV[_id] = [unitDataClean1[_id][j]]\n",
    "        tagName = unitDataClean1[_id][j]['name']\n",
    "    PVdict[tagName] = j\n",
    "    try:\n",
    "        os.mkdir(\"units/selectVars/{}/{}\".format(unit, tagName))\n",
    "    except:\n",
    "        pass\n",
    "    \n",
    "    print(tagName, \"{}/{}\".format(j+1, J))\n",
    "\n",
    "    IDsToDo = [_id for _id in selectedIDs[:-1] if \"{}.csv\".format(_id) not in os.listdir(\"units/selectVars/{}/{}/\".format(unit, tagName))]\n",
    "    if len(IDsToDo) == 1:\n",
    "        processBatch(IDsToDo[0], unitDataSV, tagName, unit)\n",
    "    if not len(IDsToDo):\n",
    "        pass\n",
    "    else:\n",
    "        _ = Parallel(n_jobs=num_jobs, verbose = 50)(delayed(processBatch)(BatchId, unitDataSV, tagName, unit) \n",
    "                                                for BatchId in [_id for _id in selectedIDs[:-1] if \"{}.csv\".format(_id) not in os.listdir(\"units/selectVars/{}/{}/\".format(unit, tagName))])\n",
    "\n",
    "clear_output()\n",
    "\n",
    "print(\"Total elapsed time for {} Batches, {} Variable(s): {:.0f} seconds\".format(K, J, time.time() - start))"
   ]
  },
  {
   "cell_type": "code",
   "execution_count": 37,
   "metadata": {},
   "outputs": [
    {
     "name": "stdout",
     "output_type": "stream",
     "text": [
      "[(0.0, 'ba_FCTwxOzL8Ow7fX', 40), (0.0, 'ba_PCqRL4yvS3bClutA', 47), (0.029619332692785112, 'ba_F8szer', 43), (0.034472307369087345, 'ba_PCGd0srEZp', 56), (0.046641942366856655, 'ba_FQkqszuusF7QDi', 37), (0.056113479132456213, 'ba_FCHDU0E38R9su4E', 31), (0.06808796353808236, 'ba_F0zhz6e', 60), (0.10209639728008604, 'ba_FIhgSwHD', 59), (0.12353108548660141, 'ba_FCsYgvPgi0N', 58), (0.2110276152698617, 'ba_FC7fl4f1HT5', 48), (0.2405253805820691, 'ba_FC8fHeBVpUFncPI', 3), (0.2580281777249569, 'ba_F4vtJ1', 23), (0.26000044454772503, 'ba_FCrBDixZDXjb', 53), (0.3183836461546509, 'ba_PCSTgdwK3V', 46), (0.6337364889816344, 'ba_FC3BnZ', 6), (0.6989137922462023, 'ba_FCgrPs', 65), (0.7353735309760395, 'ba_FCobtZJfb5TG', 36), (0.7831339557918368, 'ba_FC2mSh7aqR37Ye', 16), (0.8377498480145926, 'ba_Fl7pvjqC', 54), (0.9396776752946429, 'ba_PCPUSq5ah', 4), (1.0043753919447371, 'ba_FCedKru8pHF7Ae1BA6QR', 35), (1.009620579258733, 'ba_TDZV2zDOrmiYP', 28), (1.1557899878530868, 'ba_FCBbekJeA7', 32), (1.234034363924667, 'ba_FQ68FvvUHzgUeA', 62), (1.2966133015277144, 'ba_FQYXdr6Q0', 57), (1.3573435063763895, 'ba_TDZyHMh1UZ', 20), (1.4626669616379122, 'ba_FpxlMOAyc5', 25), (1.4870556529000665, 'ba_FQWfHc7j', 51), (1.7643738886493303, 'ba_TCxXXPBmWNldwyD', 26), (1.7701866377359943, 'ba_PLAu1m2', 67), (2.1029157621141774, 'ba_FCgU7jKgA2ureK', 0), (2.1491328880882343, 'ba_TCkwAse0bopy8zp6', 41), (2.5422493271848294, 'ba_FQlpPE', 12), (2.6189693018979994, 'ba_FCGUglDXyPKrnk38', 2), (2.8166930297727406, 'ba_SinhbKA', 52), (3.0297300652357992, 'ba_ErguU', 7), (3.086917667113616, 'ba_FQ1kbQwOUVlR', 21), (3.1182817548761212, 'ba_TCyNE8Mdv', 18), (3.1338805235426057, 'ba_TZHx41ABpBbhN', 13), (3.2751531161407517, 'ba_FmYOrhonkk', 38), (3.377534360708734, 'ba_PYQtZYPJC2Ghw', 1), (3.4831358301232447, 'ba_TCzWpXo', 9), (3.5670697621614216, 'ba_FQraEXT', 19), (3.593290984822792, 'ba_TIJSj', 50), (3.9520934792447786, 'ba_TZWZNzFFdHb', 39), (4.2435332419452365, 'ba_PCLAMr1nuoSiAr', 24), (4.254721697126255, 'ba_TCfg3Yxn', 22), (4.69240707905943, 'ba_FQh8rKXE0', 55), (4.725792366853953, 'ba_TZIm086h', 64), (5.110920009618359, 'ba_TZv9w2dOu', 27), (5.791101199653606, 'ba_FQnZKYLSO02xLf', 49), (5.797930369092638, 'ba_TC06nRC', 5), (5.818419190729281, 'ba_FQADMQfb0z', 68), (7.11553661715971, 'ba_FQC6tzztBV4DeXemfp', 63), (7.910460547150186, 'ba_FQ2Qyx', 15), (8.110634160342034, 'ba_TrWfpiPrs', 11), (8.688026191655698, 'ba_FCDvhG4', 45), (9.23369322128865, 'ba_PCG6Z9', 34), (11.21192865782783, 'ba_FQT7dzM2wq51Z3JW', 44), (11.476660446417593, 'ba_FC7NvzX', 14), (11.616316682963738, 'ba_FCZgiqD5fodPXYJ', 30), (13.362796687785252, 'ba_FQNOJG', 10), (15.344649795871796, 'ba_FQrej6GJ5vPvJ', 29), (16.709906796487164, 'ba_FQVzNY', 61), (22.932679764494672, 'ba_FCgMUOKxMUzgN', 17), (23.19635558610238, 'ba_FQK6C3k2v6Z', 66), (23.65819260791066, 'ba_FCywcBXpqpo', 42), (24.451406262659077, 'ba_FQfXW5EZxRg3', 33), (25.41242037854747, 'ba_TZNCmUn29mO', 8)]\n"
     ]
    },
    {
     "data": {
      "text/plain": [
       "69"
      ]
     },
     "execution_count": 37,
     "metadata": {},
     "output_type": "execute_result"
    }
   ],
   "source": [
    "pvDist = list()\n",
    "PVselected = [filenamePV for filenamePV in os.listdir(\"units/selectVars/{}/\".format(unit)) if filenamePV in PVdict.keys()]\n",
    "\n",
    "for filenamePV in PVselected:\n",
    "    dist = 0\n",
    "    for filenameDTW in os.listdir(\"units/selectVars/{}/{}\".format(unit, filenamePV)):\n",
    "        try:\n",
    "            df = pd.read_csv(\"units/selectVars/{}/{}/{}\".format(unit, filenamePV, filenameDTW), header = 0)\n",
    "            dist += sum(df.DTW_dist)\n",
    "        except: pass\n",
    "    pvDist.append((dist, filenamePV, PVdict[filenamePV]))\n",
    "pvDist = sorted(pvDist)\n",
    "print(pvDist)\n",
    "len(pvDist)"
   ]
  },
  {
   "cell_type": "markdown",
   "metadata": {},
   "source": [
    "Still zero distance variables. Adding data points"
   ]
  },
  {
   "cell_type": "code",
   "execution_count": null,
   "metadata": {},
   "outputs": [],
   "source": [
    "#unit = '3'\n",
    "PVdict = dict()\n",
    "num_jobs = multiprocessing.cpu_count()\n",
    "K = 8\n",
    "#unit3IDs = [5472, 5471, 5417, 5393, 5405, 5178, 5372, 5469, 5344, 5336, 5315, 5273, 5168, 5202, 5477]\n",
    "J = len(unitDataClean1[5082])\n",
    "#selectedIDs = random.sample(unit3IDs, K)\n",
    "selectedIDs = sorted(selectedIDs)\n",
    "\n",
    "start = time.time()\n",
    "\n",
    "for j in range(J):\n",
    "    clear_output()\n",
    "    unitDataSV = dict()\n",
    "\n",
    "    for _id in selectedIDs:\n",
    "        unitDataSV[_id] = [unitDataClean1[_id][j]]\n",
    "        tagName = unitDataClean1[_id][j]['name']\n",
    "    PVdict[tagName] = j\n",
    "    try:\n",
    "        os.mkdir(\"units/selectVars/{}/{}\".format(unit, tagName))\n",
    "    except:\n",
    "        pass\n",
    "    \n",
    "    print(tagName, \"{}/{}\".format(j+1, J))\n",
    "\n",
    "    IDsToDo = [_id for _id in selectedIDs[:-1] if \"{}.csv\".format(_id) not in os.listdir(\"units/selectVars/{}/{}/\".format(unit, tagName))]\n",
    "    if len(IDsToDo) == 1:\n",
    "        processBatch(IDsToDo[0], unitDataSV, tagName, unit)\n",
    "    if not len(IDsToDo):\n",
    "        pass\n",
    "    else:\n",
    "        _ = Parallel(n_jobs=num_jobs, verbose = 50)(delayed(processBatch)(BatchId, unitDataSV, tagName, unit) \n",
    "                                                for BatchId in [_id for _id in selectedIDs[:-1] if \"{}.csv\".format(_id) not in os.listdir(\"units/selectVars/{}/{}/\".format(unit, tagName))])\n",
    "\n",
    "clear_output()\n",
    "\n",
    "print(\"Total elapsed time for {} Batches, {} Variable(s): {:.0f} seconds\".format(K, J, time.time() - start))"
   ]
  },
  {
   "cell_type": "code",
   "execution_count": 38,
   "metadata": {},
   "outputs": [
    {
     "name": "stdout",
     "output_type": "stream",
     "text": [
      "[(0.0, 'ba_FCTwxOzL8Ow7fX', 40), (0.0, 'ba_PCqRL4yvS3bClutA', 47), (0.029619332692785112, 'ba_F8szer', 43), (0.034472307369087345, 'ba_PCGd0srEZp', 56), (0.046641942366856655, 'ba_FQkqszuusF7QDi', 37), (0.056113479132456213, 'ba_FCHDU0E38R9su4E', 31), (0.06808796353808236, 'ba_F0zhz6e', 60), (0.10209639728008604, 'ba_FIhgSwHD', 59), (0.12353108548660141, 'ba_FCsYgvPgi0N', 58), (0.2110276152698617, 'ba_FC7fl4f1HT5', 48), (0.2405253805820691, 'ba_FC8fHeBVpUFncPI', 3), (0.2580281777249569, 'ba_F4vtJ1', 23), (0.26000044454772503, 'ba_FCrBDixZDXjb', 53), (0.3183836461546509, 'ba_PCSTgdwK3V', 46), (0.6337364889816344, 'ba_FC3BnZ', 6), (0.6989137922462023, 'ba_FCgrPs', 65), (0.7353735309760395, 'ba_FCobtZJfb5TG', 36), (0.7831339557918368, 'ba_FC2mSh7aqR37Ye', 16), (0.8377498480145926, 'ba_Fl7pvjqC', 54), (0.9396776752946429, 'ba_PCPUSq5ah', 4), (1.0043753919447371, 'ba_FCedKru8pHF7Ae1BA6QR', 35), (1.009620579258733, 'ba_TDZV2zDOrmiYP', 28), (1.1557899878530868, 'ba_FCBbekJeA7', 32), (1.234034363924667, 'ba_FQ68FvvUHzgUeA', 62), (1.2966133015277144, 'ba_FQYXdr6Q0', 57), (1.3573435063763895, 'ba_TDZyHMh1UZ', 20), (1.4626669616379122, 'ba_FpxlMOAyc5', 25), (1.4870556529000665, 'ba_FQWfHc7j', 51), (1.7643738886493303, 'ba_TCxXXPBmWNldwyD', 26), (1.7701866377359943, 'ba_PLAu1m2', 67), (2.1029157621141774, 'ba_FCgU7jKgA2ureK', 0), (2.1491328880882343, 'ba_TCkwAse0bopy8zp6', 41), (2.5422493271848294, 'ba_FQlpPE', 12), (2.6189693018979994, 'ba_FCGUglDXyPKrnk38', 2), (2.8166930297727406, 'ba_SinhbKA', 52), (3.0297300652357992, 'ba_ErguU', 7), (3.086917667113616, 'ba_FQ1kbQwOUVlR', 21), (3.1182817548761212, 'ba_TCyNE8Mdv', 18), (3.1338805235426057, 'ba_TZHx41ABpBbhN', 13), (3.2751531161407517, 'ba_FmYOrhonkk', 38), (3.377534360708734, 'ba_PYQtZYPJC2Ghw', 1), (3.4831358301232447, 'ba_TCzWpXo', 9), (3.5670697621614216, 'ba_FQraEXT', 19), (3.593290984822792, 'ba_TIJSj', 50), (3.9520934792447786, 'ba_TZWZNzFFdHb', 39), (4.2435332419452365, 'ba_PCLAMr1nuoSiAr', 24), (4.254721697126255, 'ba_TCfg3Yxn', 22), (4.69240707905943, 'ba_FQh8rKXE0', 55), (4.725792366853953, 'ba_TZIm086h', 64), (5.110920009618359, 'ba_TZv9w2dOu', 27), (5.791101199653606, 'ba_FQnZKYLSO02xLf', 49), (5.797930369092638, 'ba_TC06nRC', 5), (5.818419190729281, 'ba_FQADMQfb0z', 68), (7.11553661715971, 'ba_FQC6tzztBV4DeXemfp', 63), (7.910460547150186, 'ba_FQ2Qyx', 15), (8.110634160342034, 'ba_TrWfpiPrs', 11), (8.688026191655698, 'ba_FCDvhG4', 45), (9.23369322128865, 'ba_PCG6Z9', 34), (11.21192865782783, 'ba_FQT7dzM2wq51Z3JW', 44), (11.476660446417593, 'ba_FC7NvzX', 14), (11.616316682963738, 'ba_FCZgiqD5fodPXYJ', 30), (13.362796687785252, 'ba_FQNOJG', 10), (15.344649795871796, 'ba_FQrej6GJ5vPvJ', 29), (16.709906796487164, 'ba_FQVzNY', 61), (22.932679764494672, 'ba_FCgMUOKxMUzgN', 17), (23.19635558610238, 'ba_FQK6C3k2v6Z', 66), (23.65819260791066, 'ba_FCywcBXpqpo', 42), (24.451406262659077, 'ba_FQfXW5EZxRg3', 33), (25.41242037854747, 'ba_TZNCmUn29mO', 8)]\n"
     ]
    },
    {
     "data": {
      "text/plain": [
       "69"
      ]
     },
     "execution_count": 38,
     "metadata": {},
     "output_type": "execute_result"
    }
   ],
   "source": [
    "pvDist = list()\n",
    "PVselected = [filenamePV for filenamePV in os.listdir(\"units/selectVars/{}/\".format(unit)) if filenamePV in PVdict.keys()]\n",
    "\n",
    "for filenamePV in PVselected:\n",
    "    dist = 0\n",
    "    for filenameDTW in os.listdir(\"units/selectVars/{}/{}\".format(unit, filenamePV)):\n",
    "        try:\n",
    "            df = pd.read_csv(\"units/selectVars/{}/{}/{}\".format(unit, filenamePV, filenameDTW), header = 0)\n",
    "            dist += sum(df.DTW_dist)\n",
    "        except: pass\n",
    "    pvDist.append((dist, filenamePV, PVdict[filenamePV]))\n",
    "pvDist = sorted(pvDist)\n",
    "print(pvDist)\n",
    "len(pvDist)"
   ]
  },
  {
   "cell_type": "code",
   "execution_count": null,
   "metadata": {},
   "outputs": [],
   "source": [
    "#unit = '3'\n",
    "PVdict = dict()\n",
    "num_jobs = multiprocessing.cpu_count()\n",
    "K = 8\n",
    "#unit3IDs = [5472, 5471, 5417, 5393, 5405, 5178, 5372, 5469, 5344, 5336, 5315, 5273, 5168, 5202, 5477]\n",
    "J = len(unitDataClean1[5082])\n",
    "\n",
    "selectedIDs = sorted(random.sample(unit3IDs, K))\n",
    "\n",
    "start = time.time()\n",
    "\n",
    "for j in range(J):\n",
    "    clear_output()\n",
    "    unitDataSV = dict()\n",
    "\n",
    "    for _id in selectedIDs:\n",
    "        unitDataSV[_id] = [unitDataClean1[_id][j]]\n",
    "        tagName = unitDataClean1[_id][j]['name']\n",
    "    PVdict[tagName] = j\n",
    "    try:\n",
    "        os.mkdir(\"units/selectVars/{}/{}\".format(unit, tagName))\n",
    "    except:\n",
    "        pass\n",
    "    \n",
    "    print(tagName, \"{}/{}\".format(j+1, J))\n",
    "\n",
    "    IDsToDo = [_id for _id in selectedIDs[:-1] if \"{}.csv\".format(_id) not in os.listdir(\"units/selectVars/{}/{}/\".format(unit, tagName))]\n",
    "    if len(IDsToDo) == 1:\n",
    "        processBatch(IDsToDo[0], unitDataSV, tagName, unit)\n",
    "    if not len(IDsToDo):\n",
    "        pass\n",
    "    else:\n",
    "        _ = Parallel(n_jobs=num_jobs, verbose = 50)(delayed(processBatch)(BatchId, unitDataSV, tagName, unit) \n",
    "                                                for BatchId in [_id for _id in selectedIDs[:-1] if \"{}.csv\".format(_id) not in os.listdir(\"units/selectVars/{}/{}/\".format(unit, tagName))])\n",
    "\n",
    "clear_output()\n",
    "\n",
    "print(\"Total elapsed time for {} Batches, {} Variable(s): {:.0f} seconds\".format(K, J, time.time() - start))"
   ]
  },
  {
   "cell_type": "code",
   "execution_count": 39,
   "metadata": {},
   "outputs": [
    {
     "name": "stdout",
     "output_type": "stream",
     "text": [
      "[(0.0, 'ba_FCTwxOzL8Ow7fX', 40), (0.0, 'ba_PCqRL4yvS3bClutA', 47), (0.029619332692785112, 'ba_F8szer', 43), (0.034472307369087345, 'ba_PCGd0srEZp', 56), (0.046641942366856655, 'ba_FQkqszuusF7QDi', 37), (0.056113479132456213, 'ba_FCHDU0E38R9su4E', 31), (0.06808796353808236, 'ba_F0zhz6e', 60), (0.10209639728008604, 'ba_FIhgSwHD', 59), (0.12353108548660141, 'ba_FCsYgvPgi0N', 58), (0.2110276152698617, 'ba_FC7fl4f1HT5', 48), (0.2405253805820691, 'ba_FC8fHeBVpUFncPI', 3), (0.2580281777249569, 'ba_F4vtJ1', 23), (0.26000044454772503, 'ba_FCrBDixZDXjb', 53), (0.3183836461546509, 'ba_PCSTgdwK3V', 46), (0.6337364889816344, 'ba_FC3BnZ', 6), (0.6989137922462023, 'ba_FCgrPs', 65), (0.7353735309760395, 'ba_FCobtZJfb5TG', 36), (0.7831339557918368, 'ba_FC2mSh7aqR37Ye', 16), (0.8377498480145926, 'ba_Fl7pvjqC', 54), (0.9396776752946429, 'ba_PCPUSq5ah', 4), (1.0043753919447371, 'ba_FCedKru8pHF7Ae1BA6QR', 35), (1.009620579258733, 'ba_TDZV2zDOrmiYP', 28), (1.1557899878530868, 'ba_FCBbekJeA7', 32), (1.234034363924667, 'ba_FQ68FvvUHzgUeA', 62), (1.2966133015277144, 'ba_FQYXdr6Q0', 57), (1.3573435063763895, 'ba_TDZyHMh1UZ', 20), (1.4626669616379122, 'ba_FpxlMOAyc5', 25), (1.4870556529000665, 'ba_FQWfHc7j', 51), (1.7643738886493303, 'ba_TCxXXPBmWNldwyD', 26), (1.7701866377359943, 'ba_PLAu1m2', 67), (2.1029157621141774, 'ba_FCgU7jKgA2ureK', 0), (2.1491328880882343, 'ba_TCkwAse0bopy8zp6', 41), (2.5422493271848294, 'ba_FQlpPE', 12), (2.6189693018979994, 'ba_FCGUglDXyPKrnk38', 2), (2.8166930297727406, 'ba_SinhbKA', 52), (3.0297300652357992, 'ba_ErguU', 7), (3.086917667113616, 'ba_FQ1kbQwOUVlR', 21), (3.1182817548761212, 'ba_TCyNE8Mdv', 18), (3.1338805235426057, 'ba_TZHx41ABpBbhN', 13), (3.2751531161407517, 'ba_FmYOrhonkk', 38), (3.377534360708734, 'ba_PYQtZYPJC2Ghw', 1), (3.4831358301232447, 'ba_TCzWpXo', 9), (3.5670697621614216, 'ba_FQraEXT', 19), (3.593290984822792, 'ba_TIJSj', 50), (3.9520934792447786, 'ba_TZWZNzFFdHb', 39), (4.2435332419452365, 'ba_PCLAMr1nuoSiAr', 24), (4.254721697126255, 'ba_TCfg3Yxn', 22), (4.69240707905943, 'ba_FQh8rKXE0', 55), (4.725792366853953, 'ba_TZIm086h', 64), (5.110920009618359, 'ba_TZv9w2dOu', 27), (5.791101199653606, 'ba_FQnZKYLSO02xLf', 49), (5.797930369092638, 'ba_TC06nRC', 5), (5.818419190729281, 'ba_FQADMQfb0z', 68), (7.11553661715971, 'ba_FQC6tzztBV4DeXemfp', 63), (7.910460547150186, 'ba_FQ2Qyx', 15), (8.110634160342034, 'ba_TrWfpiPrs', 11), (8.688026191655698, 'ba_FCDvhG4', 45), (9.23369322128865, 'ba_PCG6Z9', 34), (11.21192865782783, 'ba_FQT7dzM2wq51Z3JW', 44), (11.476660446417593, 'ba_FC7NvzX', 14), (11.616316682963738, 'ba_FCZgiqD5fodPXYJ', 30), (13.362796687785252, 'ba_FQNOJG', 10), (15.344649795871796, 'ba_FQrej6GJ5vPvJ', 29), (16.709906796487164, 'ba_FQVzNY', 61), (22.932679764494672, 'ba_FCgMUOKxMUzgN', 17), (23.19635558610238, 'ba_FQK6C3k2v6Z', 66), (23.65819260791066, 'ba_FCywcBXpqpo', 42), (24.451406262659077, 'ba_FQfXW5EZxRg3', 33), (25.41242037854747, 'ba_TZNCmUn29mO', 8)]\n"
     ]
    },
    {
     "data": {
      "text/plain": [
       "69"
      ]
     },
     "execution_count": 39,
     "metadata": {},
     "output_type": "execute_result"
    }
   ],
   "source": [
    "pvDist = list()\n",
    "PVselected = [filenamePV for filenamePV in os.listdir(\"units/selectVars/{}/\".format(unit)) if filenamePV in PVdict.keys()]\n",
    "\n",
    "for filenamePV in PVselected:\n",
    "    dist = 0\n",
    "    for filenameDTW in os.listdir(\"units/selectVars/{}/{}\".format(unit, filenamePV)):\n",
    "        try:\n",
    "            df = pd.read_csv(\"units/selectVars/{}/{}/{}\".format(unit, filenamePV, filenameDTW), header = 0)\n",
    "            dist += sum(df.DTW_dist)\n",
    "        except: pass\n",
    "    pvDist.append((dist, filenamePV, PVdict[filenamePV]))\n",
    "pvDist = sorted(pvDist)\n",
    "print(pvDist)\n",
    "len(pvDist)"
   ]
  },
  {
   "cell_type": "markdown",
   "metadata": {},
   "source": [
    "The PVs 'ba_FCTwxOzL8Ow7fX' and 'ba_PCqRL4yvS3bClutA' still show 0 DTW distance. I decide to remove them from the set of PVs and proceed to bi-variate DTW, with 'ba_F8szer' as selected variable."
   ]
  },
  {
   "cell_type": "code",
   "execution_count": 40,
   "metadata": {},
   "outputs": [
    {
     "data": {
      "text/plain": [
       "67"
      ]
     },
     "execution_count": 40,
     "metadata": {},
     "output_type": "execute_result"
    }
   ],
   "source": [
    "PVtoRemove = [40, 47]\n",
    "\n",
    "unitDataClean2 = dict()\n",
    "\n",
    "for _id, pvs in unitDataClean1.items():\n",
    "    unitDataClean2[_id] = [pvs[j] for j in range(J) if j not in PVtoRemove]\n",
    "len(unitDataClean2[5083])"
   ]
  },
  {
   "cell_type": "code",
   "execution_count": 46,
   "metadata": {},
   "outputs": [
    {
     "data": {
      "text/plain": [
       "42"
      ]
     },
     "execution_count": 46,
     "metadata": {},
     "output_type": "execute_result"
    }
   ],
   "source": [
    "PVdict = dict()\n",
    "J = len(unitDataClean2[5082])\n",
    "for j in range(J):\n",
    "    tagName = unitDataClean2[5082][j]['name']\n",
    "    PVdict[tagName] = j\n",
    "bestPV = 'ba_F8szer'\n",
    "jStar = PVdict[bestPV]\n",
    "jStar"
   ]
  },
  {
   "cell_type": "code",
   "execution_count": 42,
   "metadata": {},
   "outputs": [],
   "source": [
    "def processBatch(BatchId, unitData, tagName, unit):\n",
    "    if \"{}.csv\".format(BatchId) in os.listdir(\"units/selectVars/{}/BEST{}/{}\".format(unit, bestPV, tagName)):\n",
    "        return\n",
    "    else:\n",
    "        unitDataSV = copy.deepcopy(unitData)\n",
    "\n",
    "        IDs = sorted([key for key in unitDataSV.keys() if isinstance(key, int)])\n",
    "        toPop = [_id for _id in IDs if _id < BatchId]\n",
    "        if len(IDs) - len(toPop) < 2:\n",
    "            return\n",
    "\n",
    "        for _id in toPop:\n",
    "            _ = unitDataSV.pop(_id) \n",
    "\n",
    "        unitDataSV['reference'] = BatchId\n",
    "\n",
    "        res = dtw(jsonObj = unitDataSV, \n",
    "          open_ended = False, \n",
    "          all_subseq = False, \n",
    "          only_distance = True, \n",
    "          dist_measure = \"euclidean\",\n",
    "          scale = True,\n",
    "          low_filter = False,\n",
    "          shapeDTW = False,\n",
    "          shape_descriptor = \"raw\",\n",
    "          n_points_shape = 61,\n",
    "          norm_dist = True,\n",
    "          undersampling = False,\n",
    "          undersampling_factor = 1,\n",
    "          n_jobs = 1)\n",
    "\n",
    "        res.ApplyDTW()\n",
    "\n",
    "        results = [item[0] for key, item in res.output.items()]\n",
    "        df = pd.DataFrame(results)\n",
    "        df.to_csv(\"units/selectVars/{}/BEST{}/{}/{}.csv\".format(unit,bestPV, tagName, BatchId), index = False)\n",
    "    return"
   ]
  },
  {
   "cell_type": "code",
   "execution_count": 44,
   "metadata": {},
   "outputs": [],
   "source": [
    "# Parallel algorithm\n",
    "\n",
    "unit = '3-2'\n",
    "\n",
    "num_jobs = multiprocessing.cpu_count()\n",
    "K = 8\n",
    "\n",
    "selectedIDs = sorted(unit3IDs[K:2K])\n",
    "\n",
    "try: os.mkdir(\"units/selectVars/{}/\".format(unit))\n",
    "except: pass\n",
    "    \n",
    "try: os.mkdir(\"units/selectVars/{}/BEST{}\".format(unit, bestPV))\n",
    "except: pass\n",
    "    \n",
    "start = time.time()\n",
    "for j in range(J):\n",
    "    tagName = unitDataClean2[5083][j]['name']\n",
    "    PVdict[tagName] = j\n",
    "    "
   ]
  },
  {
   "cell_type": "code",
   "execution_count": null,
   "metadata": {},
   "outputs": [],
   "source": [
    "for j in range(J):\n",
    "    if j == jStar: continue\n",
    "        \n",
    "    clear_output()\n",
    "    unitDataBV = dict()\n",
    "\n",
    "    for _id in selectedIDs:\n",
    "        unitDataBV[_id] = [unitDataClean2[_id][jStar], unitDataClean2[_id][j]]\n",
    "        tagName = unitDataClean2[_id][j]['name']\n",
    "    PVdict[tagName] = j\n",
    "    \n",
    "    print(tagName, \"{}/{}\".format(j+1, J))\n",
    "    \n",
    "    try:\n",
    "        os.mkdir(\"units/selectVars/{}/BEST{}/{}\".format(unit, bestPV, tagName))\n",
    "    except:\n",
    "        pass\n",
    "    \n",
    "    IDsToDo = [_id for _id in selectedIDs[:-1] if \"{}.csv\".format(_id) not in os.listdir(\"units/selectVars/{}/BEST{}/{}\".format(unit, bestPV, tagName))]\n",
    "    if len(IDsToDo) == 1:\n",
    "        processBatch(IDsToDo[0], unitDataBV, tagName, unit)\n",
    "    if not len(IDsToDo):\n",
    "        pass\n",
    "    \n",
    "    else:\n",
    "        _ = Parallel(n_jobs=num_jobs, verbose = 50)(delayed(processBatch)(BatchId, unitDataBV, tagName, unit) \n",
    "                                                for BatchId in [_id for _id in selectedIDs[:-1] if \"{}.csv\".format(_id) not in os.listdir(\"units/selectVars/{}/BEST{}/{}\".format(unit, bestPV, tagName))])\n",
    "\n",
    "clear_output()\n",
    "\n",
    "print(\"Total elapsed time for {} Batches, {} Variable(s): {:.0f} seconds\".format(K, J, time.time() - start))"
   ]
  },
  {
   "cell_type": "code",
   "execution_count": 47,
   "metadata": {},
   "outputs": [
    {
     "name": "stdout",
     "output_type": "stream",
     "text": [
      "[(0.005619433119274127, 'ba_FC2mSh7aqR37Ye', 16), (0.005619433119274127, 'ba_FC7fl4f1HT5', 46), (0.005619433119274127, 'ba_FCHDU0E38R9su4E', 31), (0.005619433119274127, 'ba_FCsYgvPgi0N', 56), (0.005619433119274127, 'ba_FQT7dzM2wq51Z3JW', 43), (0.005619433119274127, 'ba_FpxlMOAyc5', 25), (0.010320680208213999, 'ba_PCGd0srEZp', 54), (0.012707815287683756, 'ba_FQkqszuusF7QDi', 37), (0.027379984545159303, 'ba_F0zhz6e', 58), (0.02766629932610572, 'ba_FIhgSwHD', 57), (0.031915067072114126, 'ba_FQlpPE', 12), (0.03765463278544326, 'ba_FC8fHeBVpUFncPI', 3), (0.044628442965256046, 'ba_F4vtJ1', 23), (0.05307463083672267, 'ba_FQraEXT', 19), (0.05764341248705097, 'ba_FCrBDixZDXjb', 51), (0.0649683946364562, 'ba_PCSTgdwK3V', 45), (0.10324202658671341, 'ba_PCPUSq5ah', 4), (0.11291039276977069, 'ba_PYQtZYPJC2Ghw', 1), (0.11656693706138725, 'ba_Fl7pvjqC', 52), (0.13139246253435996, 'ba_TDZyHMh1UZ', 20), (0.1314962624975127, 'ba_TCkwAse0bopy8zp6', 40), (0.13793560201370392, 'ba_FCobtZJfb5TG', 36), (0.1450831359640795, 'ba_TDZV2zDOrmiYP', 28), (0.1533368716148001, 'ba_FCgrPs', 63), (0.16440098865255912, 'ba_FQ68FvvUHzgUeA', 60), (0.17145012903748125, 'ba_FC3BnZ', 6), (0.17718319937610424, 'ba_FCedKru8pHF7Ae1BA6QR', 35), (0.19545851063282815, 'ba_FCBbekJeA7', 32), (0.25876446857504815, 'ba_FQYXdr6Q0', 55), (0.276208166720714, 'ba_FCgU7jKgA2ureK', 0), (0.2907914575868204, 'ba_FQnZKYLSO02xLf', 47), (0.30717632871855854, 'ba_PLAu1m2', 65), (0.3574783669404935, 'ba_TCxXXPBmWNldwyD', 26), (0.4376762389309023, 'ba_FQWfHc7j', 49), (0.4460589290975836, 'ba_TCyNE8Mdv', 18), (0.4903881663919914, 'ba_TC06nRC', 5), (0.5083158515952783, 'ba_TZWZNzFFdHb', 39), (0.5126787422511394, 'ba_TZHx41ABpBbhN', 13), (0.5286835504685221, 'ba_TIJSj', 48), (0.5387627749346816, 'ba_FmYOrhonkk', 38), (0.5713972526101473, 'ba_SinhbKA', 50), (0.5782984402452744, 'ba_ErguU', 7), (0.6117475501982358, 'ba_TZv9w2dOu', 27), (0.6181906233923951, 'ba_TZIm086h', 62), (0.6229300248742226, 'ba_FQ1kbQwOUVlR', 21), (0.6642304835130433, 'ba_FCGUglDXyPKrnk38', 2), (1.1006314850428145, 'ba_PCG6Z9', 34), (1.1434374287776496, 'ba_TrWfpiPrs', 11), (1.1528301331838635, 'ba_PCLAMr1nuoSiAr', 24), (1.1577015519457772, 'ba_FQ2Qyx', 15), (1.349908074822381, 'ba_TCfg3Yxn', 22), (1.362893206842638, 'ba_TCzWpXo', 9), (1.4254410549894319, 'ba_FQh8rKXE0', 53), (1.5164941779262073, 'ba_FCDvhG4', 44), (1.9826723769385823, 'ba_FCZgiqD5fodPXYJ', 30), (2.019607362141399, 'ba_FCywcBXpqpo', 41), (2.663227232840863, 'ba_FC7NvzX', 14), (2.946955331635605, 'ba_FCgMUOKxMUzgN', 17), (2.9738995491103806, 'ba_FQK6C3k2v6Z', 64), (3.1527445955411437, 'ba_FQNOJG', 10), (3.159757099688332, 'ba_FQrej6GJ5vPvJ', 29), (3.236003408189873, 'ba_FQADMQfb0z', 66), (3.5713208154737632, 'ba_FQfXW5EZxRg3', 33), (3.6748091613475475, 'ba_FQVzNY', 59), (3.8483056062771217, 'ba_TZNCmUn29mO', 8), (4.021600325916452, 'ba_FQC6tzztBV4DeXemfp', 61)]\n"
     ]
    },
    {
     "data": {
      "text/plain": [
       "66"
      ]
     },
     "execution_count": 47,
     "metadata": {},
     "output_type": "execute_result"
    }
   ],
   "source": [
    "pvDist = list()\n",
    "PVselected = [filenamePV for filenamePV in os.listdir(\"units/selectVars/{}/BEST{}/\".format(unit, bestPV)) if filenamePV in PVdict.keys()]\n",
    "\n",
    "for filenamePV in PVselected:\n",
    "    dist = 0\n",
    "    for filenameDTW in os.listdir(\"units/selectVars/{}/BEST{}/{}\".format(unit, bestPV, filenamePV)):\n",
    "        if filenameDTW.endswith(\".csv\"):\n",
    "            df = pd.read_csv(\"units/selectVars/{}/BEST{}/{}/{}\".format(unit, bestPV, filenamePV, filenameDTW), header = 0)\n",
    "            dist += sum(df.DTW_dist)\n",
    "    pvDist.append((dist, filenamePV, PVdict[filenamePV]))\n",
    "pvDist = sorted(pvDist)\n",
    "print(pvDist)\n",
    "len(pvDist)"
   ]
  },
  {
   "cell_type": "markdown",
   "metadata": {},
   "source": [
    "Looking at the variables 'ba_FC2mSh7aqR37Ye', 'ba_FC7fl4f1HT5', 'ba_FCHDU0E38R9su4E', 'ba_FCsYgvPgi0N', 'ba_FQT7dzM2wq51Z3JW', 'ba_FpxlMOAyc5,' we see that their total distance is lower than the one for single variate dtw. We need to add more data points to isolate only one combination."
   ]
  },
  {
   "cell_type": "code",
   "execution_count": 49,
   "metadata": {},
   "outputs": [
    {
     "name": "stdout",
     "output_type": "stream",
     "text": [
      "Total elapsed time for 8 Batches, 67 Variable(s): 1121 seconds\n"
     ]
    }
   ],
   "source": [
    "selectedIDs = sorted(unit3IDs[K:2*K])\n",
    "for j in [16, 46, 31, 56, 43, 25]:\n",
    "    \n",
    "    if j == jStar: continue\n",
    "        \n",
    "    clear_output()\n",
    "    unitDataBV = dict()\n",
    "\n",
    "    for _id in selectedIDs:\n",
    "        unitDataBV[_id] = [unitDataClean2[_id][jStar], unitDataClean2[_id][j]]\n",
    "        tagName = unitDataClean2[_id][j]['name']\n",
    "    PVdict[tagName] = j\n",
    "    \n",
    "    print(tagName, \"{}/{}\".format(j+1, J))\n",
    "    \n",
    "    try:\n",
    "        os.mkdir(\"units/selectVars/{}/BEST{}/{}\".format(unit, bestPV, tagName))\n",
    "    except:\n",
    "        pass\n",
    "    \n",
    "    IDsToDo = [_id for _id in selectedIDs[:-1] if \"{}.csv\".format(_id) not in os.listdir(\"units/selectVars/{}/BEST{}/{}\".format(unit, bestPV, tagName))]\n",
    "    if len(IDsToDo) == 1:\n",
    "        processBatch(IDsToDo[0], unitDataBV, tagName, unit)\n",
    "    if not len(IDsToDo):\n",
    "        pass\n",
    "    \n",
    "    else:\n",
    "        _ = Parallel(n_jobs=num_jobs, verbose = 50)(delayed(processBatch)(BatchId, unitDataBV, tagName, unit) \n",
    "                                                for BatchId in [_id for _id in selectedIDs[:-1] if \"{}.csv\".format(_id) not in os.listdir(\"units/selectVars/{}/BEST{}/{}\".format(unit, bestPV, tagName))])\n",
    "\n",
    "clear_output()\n",
    "\n",
    "print(\"Total elapsed time for {} Batches, {} Variable(s): {:.0f} seconds\".format(K, J, time.time() - start))"
   ]
  },
  {
   "cell_type": "code",
   "execution_count": 50,
   "metadata": {},
   "outputs": [
    {
     "name": "stdout",
     "output_type": "stream",
     "text": [
      "[(0.008665640965141056, 'ba_FC2mSh7aqR37Ye', 16), (0.008665640965141056, 'ba_FCHDU0E38R9su4E', 31), (0.008665640965141056, 'ba_FCsYgvPgi0N', 56), (0.008665640965141056, 'ba_FpxlMOAyc5', 25), (0.010320680208213999, 'ba_PCGd0srEZp', 54), (0.012707815287683756, 'ba_FQkqszuusF7QDi', 37), (0.027379984545159303, 'ba_F0zhz6e', 58), (0.02766629932610572, 'ba_FIhgSwHD', 57), (0.031915067072114126, 'ba_FQlpPE', 12), (0.03765463278544326, 'ba_FC8fHeBVpUFncPI', 3), (0.044628442965256046, 'ba_F4vtJ1', 23), (0.05307463083672267, 'ba_FQraEXT', 19), (0.05764341248705097, 'ba_FCrBDixZDXjb', 51), (0.0649683946364562, 'ba_PCSTgdwK3V', 45), (0.10324202658671341, 'ba_PCPUSq5ah', 4), (0.11291039276977069, 'ba_PYQtZYPJC2Ghw', 1), (0.11656693706138725, 'ba_Fl7pvjqC', 52), (0.13139246253435996, 'ba_TDZyHMh1UZ', 20), (0.1314962624975127, 'ba_TCkwAse0bopy8zp6', 40), (0.13351903909754878, 'ba_FC7fl4f1HT5', 46), (0.13793560201370392, 'ba_FCobtZJfb5TG', 36), (0.1450831359640795, 'ba_TDZV2zDOrmiYP', 28), (0.1533368716148001, 'ba_FCgrPs', 63), (0.16440098865255912, 'ba_FQ68FvvUHzgUeA', 60), (0.17145012903748125, 'ba_FC3BnZ', 6), (0.17718319937610424, 'ba_FCedKru8pHF7Ae1BA6QR', 35), (0.19545851063282815, 'ba_FCBbekJeA7', 32), (0.25876446857504815, 'ba_FQYXdr6Q0', 55), (0.276208166720714, 'ba_FCgU7jKgA2ureK', 0), (0.2907914575868204, 'ba_FQnZKYLSO02xLf', 47), (0.30717632871855854, 'ba_PLAu1m2', 65), (0.3574783669404935, 'ba_TCxXXPBmWNldwyD', 26), (0.4376762389309023, 'ba_FQWfHc7j', 49), (0.4460589290975836, 'ba_TCyNE8Mdv', 18), (0.4903881663919914, 'ba_TC06nRC', 5), (0.5083158515952783, 'ba_TZWZNzFFdHb', 39), (0.5126787422511394, 'ba_TZHx41ABpBbhN', 13), (0.5286835504685221, 'ba_TIJSj', 48), (0.5387627749346816, 'ba_FmYOrhonkk', 38), (0.5713972526101473, 'ba_SinhbKA', 50), (0.5782984402452744, 'ba_ErguU', 7), (0.6117475501982358, 'ba_TZv9w2dOu', 27), (0.6181906233923951, 'ba_TZIm086h', 62), (0.6229300248742226, 'ba_FQ1kbQwOUVlR', 21), (0.6642304835130433, 'ba_FCGUglDXyPKrnk38', 2), (1.1006314850428145, 'ba_PCG6Z9', 34), (1.1434374287776496, 'ba_TrWfpiPrs', 11), (1.1528301331838635, 'ba_PCLAMr1nuoSiAr', 24), (1.1577015519457772, 'ba_FQ2Qyx', 15), (1.349908074822381, 'ba_TCfg3Yxn', 22), (1.362893206842638, 'ba_TCzWpXo', 9), (1.4254410549894319, 'ba_FQh8rKXE0', 53), (1.5164941779262073, 'ba_FCDvhG4', 44), (1.9826723769385823, 'ba_FCZgiqD5fodPXYJ', 30), (2.019607362141399, 'ba_FCywcBXpqpo', 41), (2.663227232840863, 'ba_FC7NvzX', 14), (2.946955331635605, 'ba_FCgMUOKxMUzgN', 17), (2.9738995491103806, 'ba_FQK6C3k2v6Z', 64), (3.1073829416278365, 'ba_FQT7dzM2wq51Z3JW', 43), (3.1527445955411437, 'ba_FQNOJG', 10), (3.159757099688332, 'ba_FQrej6GJ5vPvJ', 29), (3.236003408189873, 'ba_FQADMQfb0z', 66), (3.5713208154737632, 'ba_FQfXW5EZxRg3', 33), (3.6748091613475475, 'ba_FQVzNY', 59), (3.8483056062771217, 'ba_TZNCmUn29mO', 8), (4.021600325916452, 'ba_FQC6tzztBV4DeXemfp', 61)]\n"
     ]
    },
    {
     "data": {
      "text/plain": [
       "66"
      ]
     },
     "execution_count": 50,
     "metadata": {},
     "output_type": "execute_result"
    }
   ],
   "source": [
    "pvDist = list()\n",
    "PVselected = [filenamePV for filenamePV in os.listdir(\"units/selectVars/{}/BEST{}/\".format(unit, bestPV)) if filenamePV in PVdict.keys()]\n",
    "\n",
    "for filenamePV in PVselected:\n",
    "    dist = 0\n",
    "    for filenameDTW in os.listdir(\"units/selectVars/{}/BEST{}/{}\".format(unit, bestPV, filenamePV)):\n",
    "        if filenameDTW.endswith(\".csv\"):\n",
    "            df = pd.read_csv(\"units/selectVars/{}/BEST{}/{}/{}\".format(unit, bestPV, filenamePV, filenameDTW), header = 0)\n",
    "            dist += sum(df.DTW_dist)\n",
    "    pvDist.append((dist, filenamePV, PVdict[filenamePV]))\n",
    "pvDist = sorted(pvDist)\n",
    "print(pvDist)\n",
    "len(pvDist)"
   ]
  },
  {
   "cell_type": "code",
   "execution_count": 51,
   "metadata": {},
   "outputs": [
    {
     "name": "stdout",
     "output_type": "stream",
     "text": [
      "Total elapsed time for 8 Batches, 67 Variable(s): 1450 seconds\n"
     ]
    }
   ],
   "source": [
    "selectedIDs = sorted(unit3IDs[2*K:3*K])\n",
    "for j in [16, 31, 56, 25]:\n",
    "    \n",
    "    if j == jStar: continue\n",
    "        \n",
    "    clear_output()\n",
    "    unitDataBV = dict()\n",
    "\n",
    "    for _id in selectedIDs:\n",
    "        unitDataBV[_id] = [unitDataClean2[_id][jStar], unitDataClean2[_id][j]]\n",
    "        tagName = unitDataClean2[_id][j]['name']\n",
    "    PVdict[tagName] = j\n",
    "    \n",
    "    print(tagName, \"{}/{}\".format(j+1, J))\n",
    "    \n",
    "    try:\n",
    "        os.mkdir(\"units/selectVars/{}/BEST{}/{}\".format(unit, bestPV, tagName))\n",
    "    except:\n",
    "        pass\n",
    "    \n",
    "    IDsToDo = [_id for _id in selectedIDs[:-1] if \"{}.csv\".format(_id) not in os.listdir(\"units/selectVars/{}/BEST{}/{}\".format(unit, bestPV, tagName))]\n",
    "    if len(IDsToDo) == 1:\n",
    "        processBatch(IDsToDo[0], unitDataBV, tagName, unit)\n",
    "    if not len(IDsToDo):\n",
    "        pass\n",
    "    \n",
    "    else:\n",
    "        _ = Parallel(n_jobs=num_jobs, verbose = 50)(delayed(processBatch)(BatchId, unitDataBV, tagName, unit) \n",
    "                                                for BatchId in [_id for _id in selectedIDs[:-1] if \"{}.csv\".format(_id) not in os.listdir(\"units/selectVars/{}/BEST{}/{}\".format(unit, bestPV, tagName))])\n",
    "\n",
    "clear_output()\n",
    "\n",
    "print(\"Total elapsed time for {} Batches, {} Variable(s): {:.0f} seconds\".format(K, J, time.time() - start))"
   ]
  },
  {
   "cell_type": "code",
   "execution_count": 52,
   "metadata": {},
   "outputs": [
    {
     "name": "stdout",
     "output_type": "stream",
     "text": [
      "[(0.010320680208213999, 'ba_PCGd0srEZp', 54), (0.011835815911324835, 'ba_FCsYgvPgi0N', 56), (0.011835815911324835, 'ba_FpxlMOAyc5', 25), (0.012707815287683756, 'ba_FQkqszuusF7QDi', 37), (0.027379984545159303, 'ba_F0zhz6e', 58), (0.02766629932610572, 'ba_FIhgSwHD', 57), (0.031915067072114126, 'ba_FQlpPE', 12), (0.03765463278544326, 'ba_FC8fHeBVpUFncPI', 3), (0.044628442965256046, 'ba_F4vtJ1', 23), (0.05307463083672267, 'ba_FQraEXT', 19), (0.05764341248705097, 'ba_FCrBDixZDXjb', 51), (0.0649683946364562, 'ba_PCSTgdwK3V', 45), (0.10324202658671341, 'ba_PCPUSq5ah', 4), (0.11291039276977069, 'ba_PYQtZYPJC2Ghw', 1), (0.11656693706138725, 'ba_Fl7pvjqC', 52), (0.13139246253435996, 'ba_TDZyHMh1UZ', 20), (0.1314962624975127, 'ba_TCkwAse0bopy8zp6', 40), (0.13351903909754878, 'ba_FC7fl4f1HT5', 46), (0.13793560201370392, 'ba_FCobtZJfb5TG', 36), (0.1450831359640795, 'ba_TDZV2zDOrmiYP', 28), (0.1533368716148001, 'ba_FCgrPs', 63), (0.16440098865255912, 'ba_FQ68FvvUHzgUeA', 60), (0.17145012903748125, 'ba_FC3BnZ', 6), (0.17718319937610424, 'ba_FCedKru8pHF7Ae1BA6QR', 35), (0.19545851063282815, 'ba_FCBbekJeA7', 32), (0.20137399055236113, 'ba_FCHDU0E38R9su4E', 31), (0.25876446857504815, 'ba_FQYXdr6Q0', 55), (0.276208166720714, 'ba_FCgU7jKgA2ureK', 0), (0.2907914575868204, 'ba_FQnZKYLSO02xLf', 47), (0.30717632871855854, 'ba_PLAu1m2', 65), (0.3574783669404935, 'ba_TCxXXPBmWNldwyD', 26), (0.4376762389309023, 'ba_FQWfHc7j', 49), (0.4460589290975836, 'ba_TCyNE8Mdv', 18), (0.4903881663919914, 'ba_TC06nRC', 5), (0.5083158515952783, 'ba_TZWZNzFFdHb', 39), (0.5126787422511394, 'ba_TZHx41ABpBbhN', 13), (0.5286835504685221, 'ba_TIJSj', 48), (0.5387627749346816, 'ba_FmYOrhonkk', 38), (0.5713972526101473, 'ba_SinhbKA', 50), (0.5782984402452744, 'ba_ErguU', 7), (0.6117475501982358, 'ba_TZv9w2dOu', 27), (0.6181906233923951, 'ba_TZIm086h', 62), (0.6229300248742226, 'ba_FQ1kbQwOUVlR', 21), (0.6642304835130433, 'ba_FCGUglDXyPKrnk38', 2), (1.1006314850428145, 'ba_PCG6Z9', 34), (1.1434374287776496, 'ba_TrWfpiPrs', 11), (1.1528301331838635, 'ba_PCLAMr1nuoSiAr', 24), (1.1577015519457772, 'ba_FQ2Qyx', 15), (1.349908074822381, 'ba_TCfg3Yxn', 22), (1.362893206842638, 'ba_TCzWpXo', 9), (1.4254410549894319, 'ba_FQh8rKXE0', 53), (1.5164941779262073, 'ba_FCDvhG4', 44), (1.9826723769385823, 'ba_FCZgiqD5fodPXYJ', 30), (2.019607362141399, 'ba_FCywcBXpqpo', 41), (2.663227232840863, 'ba_FC7NvzX', 14), (2.946955331635605, 'ba_FCgMUOKxMUzgN', 17), (2.9738995491103806, 'ba_FQK6C3k2v6Z', 64), (3.1073829416278365, 'ba_FQT7dzM2wq51Z3JW', 43), (3.1527445955411437, 'ba_FQNOJG', 10), (3.159757099688332, 'ba_FQrej6GJ5vPvJ', 29), (3.236003408189873, 'ba_FQADMQfb0z', 66), (3.5713208154737632, 'ba_FQfXW5EZxRg3', 33), (3.6748091613475475, 'ba_FQVzNY', 59), (3.8483056062771217, 'ba_TZNCmUn29mO', 8), (4.021600325916452, 'ba_FQC6tzztBV4DeXemfp', 61), (4.736751189349407, 'ba_FC2mSh7aqR37Ye', 16)]\n"
     ]
    },
    {
     "data": {
      "text/plain": [
       "66"
      ]
     },
     "execution_count": 52,
     "metadata": {},
     "output_type": "execute_result"
    }
   ],
   "source": [
    "pvDist = list()\n",
    "PVselected = [filenamePV for filenamePV in os.listdir(\"units/selectVars/{}/BEST{}/\".format(unit, bestPV)) if filenamePV in PVdict.keys()]\n",
    "\n",
    "for filenamePV in PVselected:\n",
    "    dist = 0\n",
    "    for filenameDTW in os.listdir(\"units/selectVars/{}/BEST{}/{}\".format(unit, bestPV, filenamePV)):\n",
    "        if filenameDTW.endswith(\".csv\"):\n",
    "            df = pd.read_csv(\"units/selectVars/{}/BEST{}/{}/{}\".format(unit, bestPV, filenamePV, filenameDTW), header = 0)\n",
    "            dist += sum(df.DTW_dist)\n",
    "    pvDist.append((dist, filenamePV, PVdict[filenamePV]))\n",
    "pvDist = sorted(pvDist)\n",
    "print(pvDist)\n",
    "len(pvDist)"
   ]
  },
  {
   "cell_type": "code",
   "execution_count": null,
   "metadata": {},
   "outputs": [],
   "source": []
  }
 ],
 "metadata": {
  "kernelspec": {
   "display_name": "Python 3",
   "language": "python",
   "name": "python3"
  },
  "language_info": {
   "codemirror_mode": {
    "name": "ipython",
    "version": 3
   },
   "file_extension": ".py",
   "mimetype": "text/x-python",
   "name": "python",
   "nbconvert_exporter": "python",
   "pygments_lexer": "ipython3",
   "version": "3.6.5"
  }
 },
 "nbformat": 4,
 "nbformat_minor": 2
}
